{
 "cells": [
  {
   "cell_type": "markdown",
   "metadata": {},
   "source": [
    "#  类-面向对象（获取沪宁、宁沪所有站点某日所有余票数据）"
   ]
  },
  {
   "cell_type": "markdown",
   "metadata": {
    "collapsed": false
   },
   "source": [
    "```\n",
    "hu_ning = ['SHH','KNH','SZH','WXH','CZH','DYH','ZJH','NJH']\n",
    "# station_ls_comb = []\n",
    "for i in range(0,len(hu_ning)-1):\n",
    "    ls = [hu_ning[i],hu_ning[i+1]]\n",
    "#     station_ls_comb.append(ls)\n",
    "    print ls\n",
    "# print station_ls_comb\n",
    "```"
   ]
  },
  {
   "cell_type": "code",
   "execution_count": null,
   "metadata": {
    "collapsed": true
   },
   "outputs": [],
   "source": [
    "hu_ning = ['SHH','KNH','SZH','WXH','CZH','DYH','ZJH','NJH']\n",
    "ning_hu = ['NJH','ZJH','DYH','CZH','WXH','SZH','KNH','SHH']"
   ]
  },
  {
   "cell_type": "markdown",
   "metadata": {},
   "source": [
    "## 1. 进行站点之间组合"
   ]
  },
  {
   "cell_type": "markdown",
   "metadata": {},
   "source": [
    "# $C^{2}_8$   "
   ]
  },
  {
   "cell_type": "code",
   "execution_count": null,
   "metadata": {
    "collapsed": false
   },
   "outputs": [],
   "source": [
    "from itertools import combinations\n",
    "hu_ning = ['SHH','KNH','SZH','WXH','CZH','DYH','ZJH','NJH']\n",
    "com = combinations(hu_ning,2)\n",
    "for i in com:\n",
    "    print i"
   ]
  },
  {
   "cell_type": "markdown",
   "metadata": {},
   "source": [
    "## 2. 抓取特定时间所有站点数据-运行一次"
   ]
  },
  {
   "cell_type": "code",
   "execution_count": null,
   "metadata": {
    "collapsed": false
   },
   "outputs": [],
   "source": [
    "import requests\n",
    "import pandas as pd\n",
    "import json\n",
    "import arrow\n",
    "from itertools import combinations\n",
    "import warnings\n",
    "warnings.filterwarnings(\"ignore\")\n",
    "\n",
    "class HighSpeed(object):\n",
    "    def __init__(self,date,from_station,to_station):\n",
    "        self.date = date\n",
    "        self.from_station = from_station    #发车站\n",
    "        self.to_station = to_station        #到达站\n",
    "\n",
    "    \n",
    "#     url = 'https://kyfw.12306.cn/otn/lcxxcx/query?purpose_codes=ADULT\n",
    "#     &queryDate=2016-12-29&from_station=SHH&to_station=SZH'\n",
    "\n",
    "    def get_pd(self):\n",
    "        para = 'queryDate=' + self.date + '&from_station=' + self.from_station \\\n",
    "               +'&to_station=' + self.to_station\n",
    "        r = requests.get('https://kyfw.12306.cn/otn/lcxxcx/query?purpose_codes=ADULT&' + \\\n",
    "                         para, verify=False).text\n",
    "        return r\n",
    "\n",
    "    def to_csv(self):\n",
    "        js = self.get_pd()\n",
    "        js2 = json.loads(js)\n",
    "        data = js2['data']['datas']\n",
    "        df = pd.DataFrame(data)\n",
    "        df_use = df[[u'train_no',\n",
    "                u'station_train_code',\n",
    "                     u'from_station_name',\n",
    "                     u'to_station_name',\n",
    "                     u'start_time',\n",
    "                     u'swz_num',\n",
    "                     u'tz_num',\n",
    "                     u'zy_num',\n",
    "                     u'ze_num',\n",
    "                     u'wz_num',\n",
    "                     ]]\n",
    "        df_use = df_use[df_use[u'station_train_code'].str.startswith('G') | \\\n",
    "        df_use[u'station_train_code'].str.startswith('D')]\n",
    "        df_use.replace('--',0,inplace=True)\n",
    "        df_use.replace(u'无',0,inplace=True)    \n",
    "        \n",
    "        tm = arrow.now().format('HH:mm')\n",
    "        df_use['record_time'] = tm\n",
    "        \n",
    "#         df_use = df_choose[df_choose['record_time'] == df_choose['start_time']]\n",
    "      \n",
    "        df_use.to_csv('./data/' + self.date + 'TEST.csv',\n",
    "                       mode = 'a', index = False, \n",
    "                      column = False,\n",
    "                      encoding='utf-8')\n",
    "         \n",
    "if __name__ == '__main__':\n",
    "    date = '2016-12-29'    \n",
    "    hu_ning = ['SHH','KNH','SZH','WXH','CZH','DYH','ZJH','NJH']\n",
    "    com = combinations(hu_ning,2)\n",
    "    for ls in com:\n",
    "        hspeed = HighSpeed(date,ls[0],ls[1])\n",
    "        hspeed.to_csv()\n",
    "    print('finished')"
   ]
  }
 ],
 "metadata": {
  "anaconda-cloud": {},
  "kernelspec": {
   "display_name": "Python [default]",
   "language": "python",
   "name": "python2"
  },
  "language_info": {
   "codemirror_mode": {
    "name": "ipython",
    "version": 2
   },
   "file_extension": ".py",
   "mimetype": "text/x-python",
   "name": "python",
   "nbconvert_exporter": "python",
   "pygments_lexer": "ipython2",
   "version": "2.7.12"
  }
 },
 "nbformat": 4,
 "nbformat_minor": 1
}
