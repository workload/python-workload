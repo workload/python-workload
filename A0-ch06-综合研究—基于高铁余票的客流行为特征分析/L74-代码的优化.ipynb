{
 "cells": [
  {
   "cell_type": "code",
   "execution_count": null,
   "metadata": {
    "collapsed": true
   },
   "outputs": [],
   "source": []
  },
  {
   "cell_type": "markdown",
   "metadata": {},
   "source": [
    "# 1.三个代码的合并与优化"
   ]
  },
  {
   "cell_type": "markdown",
   "metadata": {
    "collapsed": true
   },
   "source": [
    "> `000tickets_plot.py` <br>\n",
    "> `001hspeed_vp.py` <br>\n",
    "> `002get_stations.py` <br>"
   ]
  },
  {
   "cell_type": "markdown",
   "metadata": {
    "collapsed": true
   },
   "source": [
    "E:\\TutoData\\cn12306"
   ]
  },
  {
   "cell_type": "markdown",
   "metadata": {},
   "source": [
    "## 某一站点一周时间内的数据可视化"
   ]
  },
  {
   "cell_type": "code",
   "execution_count": 10,
   "metadata": {
    "collapsed": false
   },
   "outputs": [],
   "source": [
    "df1=pd.DataFrame(np.random.rand(10,2),columns=['x column','y column'])\n",
    "df2=pd.DataFrame(np.random.rand(10,2),columns=['x column','y column'])\n",
    "df3=pd.DataFrame(np.random.rand(10,2),columns=['x column','y column'])\n",
    "df4=pd.DataFrame(np.random.rand(10,2),columns=['x column','y column'])"
   ]
  },
  {
   "cell_type": "code",
   "execution_count": 13,
   "metadata": {
    "collapsed": false
   },
   "outputs": [
    {
     "name": "stdout",
     "output_type": "stream",
     "text": [
      "C:/12306data/HuNing-2016-12-21.csv\n",
      "C:/12306data/HuNing-2016-12-22.csv\n",
      "C:/12306data/HuNing-2016-12-23.csv\n",
      "C:/12306data/HuNing-2016-12-24.csv\n",
      "C:/12306data/HuNing-2016-12-25.csv\n",
      "C:/12306data/HuNing-2016-12-26.csv\n",
      "C:/12306data/HuNing-2016-12-27.csv\n"
     ]
    }
   ],
   "source": [
    "for i in range(7):\n",
    "    orginal_data = 'C:/12306data/HuNing-2016-12-'+str(i+21)+'.csv'\n",
    "    print orginal_data"
   ]
  },
  {
   "cell_type": "code",
   "execution_count": 1,
   "metadata": {
    "collapsed": false
   },
   "outputs": [
    {
     "ename": "IndexError",
     "evalue": "too many indices for array",
     "output_type": "error",
     "traceback": [
      "\u001b[0;31m---------------------------------------------------------------------------\u001b[0m",
      "\u001b[0;31mIndexError\u001b[0m                                Traceback (most recent call last)",
      "\u001b[0;32m<ipython-input-1-ddbc599acdac>\u001b[0m in \u001b[0;36m<module>\u001b[0;34m()\u001b[0m\n\u001b[1;32m      3\u001b[0m \u001b[0ma\u001b[0m \u001b[1;33m=\u001b[0m \u001b[0mnumpy\u001b[0m\u001b[1;33m.\u001b[0m\u001b[0marray\u001b[0m\u001b[1;33m(\u001b[0m\u001b[1;33m[\u001b[0m\u001b[1;36m1\u001b[0m\u001b[1;33m,\u001b[0m\u001b[1;36m2\u001b[0m\u001b[1;33m]\u001b[0m\u001b[1;33m)\u001b[0m\u001b[1;33m\u001b[0m\u001b[0m\n\u001b[1;32m      4\u001b[0m \u001b[1;33m\u001b[0m\u001b[0m\n\u001b[0;32m----> 5\u001b[0;31m \u001b[0ma\u001b[0m\u001b[1;33m[\u001b[0m\u001b[1;33m:\u001b[0m\u001b[1;33m,\u001b[0m\u001b[1;36m0\u001b[0m\u001b[1;33m]\u001b[0m\u001b[1;33m\u001b[0m\u001b[0m\n\u001b[0m",
      "\u001b[0;31mIndexError\u001b[0m: too many indices for array"
     ]
    }
   ],
   "source": [
    "import numpy\n",
    "\n",
    "a = numpy.array([1,2])\n",
    "\n",
    "a[:,0]"
   ]
  },
  {
   "cell_type": "code",
   "execution_count": null,
   "metadata": {
    "collapsed": true
   },
   "outputs": [],
   "source": [
    "import numpy\n",
    "\n",
    "a = numpy.array([1,2])\n",
    "\n",
    "a[:,0]"
   ]
  },
  {
   "cell_type": "code",
   "execution_count": 12,
   "metadata": {
    "collapsed": false
   },
   "outputs": [
    {
     "data": {
      "text/plain": [
       "<matplotlib.axes._subplots.AxesSubplot at 0x794a5f0>"
      ]
     },
     "execution_count": 12,
     "metadata": {},
     "output_type": "execute_result"
    },
    {
     "data": {
      "image/png": "[encoded data removed]",
      "text/plain": [
       "<matplotlib.figure.Figure at 0xce7ea30>"
      ]
     },
     "metadata": {},
     "output_type": "display_data"
    }
   ],
   "source": [
    "fig,axes=plt.subplots(nrows=2,ncols=2)\n",
    "df1.plot(kind='scatter',x='x column',y='y column',ax=axes[0,0])\n",
    "df2.plot(kind='scatter',x='x column',y='y column',ax=axes[0,1],color='red')\n",
    "df3.plot(kind='scatter',x='x column',y='y column',ax=axes[1,0],color='green')\n",
    "df4.plot(kind='scatter',x='x column',y='y column',ax=axes[1,1],color='orange')"
   ]
  },
  {
   "cell_type": "code",
   "execution_count": null,
   "metadata": {
    "collapsed": false
   },
   "outputs": [],
   "source": [
    "# -*- coding:utf-8 -*-\n",
    "import pandas as pd\n",
    "import arrow\n",
    "import matplotlib.pyplot as plt\n",
    "import numpy as np\n",
    "%matplotlib inline\n",
    "# 关掉warnnings\n",
    "import warnings\n",
    "warnings.filterwarnings(\"ignore\")\n",
    "\n",
    "\n",
    "class DataPlot(object):\n",
    "\t\n",
    "\t# 构造函数，定义所要使用的参数\n",
    "\tdef __init__(self,orginal_data,orginal_station,station_to_plot):\n",
    "\t\tself.orginal_data = orginal_data\n",
    "\t\tself.orginal_station = orginal_station\n",
    "\t\tself.station_to_plot = station_to_plot\n",
    "\n",
    "\tdef data_to_use(self):\n",
    "\t\t# 导入数据\n",
    "\t\tdf = pd.read_csv(self.orginal_data,encoding='utf-8')\n",
    "\t\tdf.columns = [u'train_no',u'station_train_code', u'from_station_name',u'to_station_name',\n",
    "\t\t                    u'start_time',\n",
    "\t\t                    u'swz_num',\n",
    "\t\t                    u'tz_num',\n",
    "\t\t                    u'zy_num',\n",
    "\t\t                    u'ze_num',\n",
    "\t\t                    u'wz_num',\n",
    "\t\t              \t\tu'record_date',\n",
    "\t\t              \t\tu'record_time',]\n",
    "\n",
    "\t\t# 筛选出发车时间在06:00-23:00的车次\n",
    "\t\tdf2 = df[(df['start_time'].str.contains(\"0[6-9]:|1[0-9]:|2[0-3]:\"))]\n",
    "\n",
    "\t\t#增加一列，记录发车前30分钟数据\n",
    "\t\tdf2['start_time_before30m'] = df2['start_time'].apply(lambda x: arrow.get(x, 'HH:mm').replace(minutes=-30).format('HH:mm'))\n",
    "\n",
    "\t\t# 筛选出：发车前30分钟时间==记录时间\n",
    "\t\tdf3 = df2[df2['start_time_before30m'] == df2['record_time']]\n",
    "\n",
    "\t\t# 增加一列，记录出发站，到达站数据，并以列表形式存储\n",
    "\t\tdf3['from_to'] = df3['from_station_name'] + ',' +df3['to_station_name']\n",
    "\t\tdf3['from_to'] = df3['from_to'].str.split(',')\n",
    "\t\treturn df3\n",
    "\n",
    "\t\t# df3为最终筛选数据\n",
    "\t\t############################\n",
    "\n",
    "\tdef get_stations(self):\n",
    "\t\t\n",
    "\t\t#获取各车次区间情况\n",
    "\t\tdata_to_use = self.data_to_use()\n",
    "\t\tdf = pd.read_csv(self.orginal_station,encoding='utf-8')\n",
    "\t\tdf.columns=['station_name','train_no']\n",
    "\t\tdf['station_name'] = df['station_name'].apply(lambda x: x.replace(u'[',u'').replace(u']',u'').replace(' ','').split(','))\n",
    "\t\tdf['station_interval'] = df['station_name'].apply(lambda x: map(list, zip(x[:-1], x[1:])))\n",
    "\n",
    "\t\t# df_SH_NJ是沪宁所有车次相邻站点信息。\n",
    "\t\tdf_tickets_com = pd.merge(data_to_use,df,on='train_no')\n",
    "\t\tdf_tickets_com = df_tickets_com[df_tickets_com.apply(lambda x: x['from_to'] in x['station_interval'], axis=1)]\n",
    "\t\treturn df_tickets_com\n",
    "\n",
    "\tdef main(self):\n",
    "\t\t\n",
    "\t\t# 主函数，输出可供可视化的df\n",
    "\n",
    "\t\tdff = self.get_stations()\n",
    "\t\t\n",
    "\t\t# 判断区间是否是相邻区间\n",
    "\t\tdf_to = dff[dff['to_station_name'].isin(self.station_to_plot)]\n",
    "\t\tdf_from = dff[dff['from_station_name'].isin(self.station_to_plot)]\n",
    "\t\t\n",
    "\n",
    "\t\t# 计算上游区间余票数据\n",
    "\t\tdf_to['tickets_sum_to'] = df_to['swz_num']+\\\n",
    "\t\tdf_to['tz_num']+df_to['wz_num']+df_to['ze_num']+\\\n",
    "\t\tdf_to['zy_num']\n",
    "\n",
    "\t\t# 计算下游区间余票数据\n",
    "\t\tdf_from['tickets_sum_from'] = df_from['swz_num']+\\\n",
    "\t\tdf_from['tz_num']+df_from['wz_num']+df_from['ze_num']+\\\n",
    "\t\tdf_from['zy_num']\n",
    "\n",
    "\t\t# 数据融合后判断上下客情况\n",
    "\t\tdf = pd.merge(df_to,df_from, on = 'train_no')\n",
    "\t\tdf['tickets'] = df['tickets_sum_to'] - df['tickets_sum_from']\n",
    "\n",
    "\t\t# df['start_time_y'] = df['start_time_y'].\\\n",
    "\t\t# apply(lambda x: arrow.get(str(x),'YY-MM-DD HH:mm:ss').format('HH:mm'))\n",
    "\t\t\n",
    "\t\t# 导出可用数据\n",
    "\t\tdf_to_plot = df[['tickets','start_time_y']]\n",
    "\t\treturn df_to_plot\n",
    "\n",
    "if __name__ == '__main__':\n",
    "\t\n",
    "\t######## 参数集中在此 #########\n",
    "\t\n",
    "\torginal_station = './py/data/SH-NJ-train_names.csv'    #录入站点列表\n",
    "\tstation_to_plot =  [u'苏州',u'苏州北',u'苏州园区',u'苏州新区']\n",
    "\tfor i in range(21,28):\n",
    "\t\tplt.subplot(7, 1, i-20)\n",
    "\t\torginal_data = r'C:/12306data/HuNing-2016-12-'+str(i)+'.csv'\n",
    "\n",
    "\t# station_to_plot =  [u'昆山南']\n",
    "\t################################\n",
    "\n",
    "\t# 实例化类\n",
    "\t\tdata_plot = DataPlot(orginal_data,orginal_station,station_to_plot)\n",
    "\t\t\n",
    "\t\t# 传递可用数据\n",
    "\t\tdata_to_plot = data_plot.main()\n",
    "\t\t\n",
    "\t\t# 所要使用的plt样式\n",
    "\t\tplt.style.use('ggplot')\n",
    "\n",
    "\t\tdmt= data_to_plot.sort_values(by='start_time_y')\n",
    "\t\tplt.plot_date(y=dmt['tickets'], x =dmt['start_time_y'])\n",
    "\t\tplt.xlabel(u'时 间(2016-12-'+str(i)+u' 06:00—23:00)',size=10)\n",
    "\t\tplt.ylabel(u'上下客流量值（单位：人）',size=10)\n",
    "\t\tplt.title(u'苏州地区站点（上海——南京）\\n',size=10)\n",
    "\t\t# plt.show()\n",
    "\tplt.tight_layout()\n",
    "# \t\tprint('finished!')"
   ]
  },
  {
   "cell_type": "code",
   "execution_count": 5,
   "metadata": {
    "collapsed": false
   },
   "outputs": [
    {
     "name": "stdout",
     "output_type": "stream",
     "text": [
      "时 间(2016-12-21 06:00—23:00)\n"
     ]
    }
   ],
   "source": [
    "print u'时 间(2016-12-'+str(21)+u' 06:00—23:00)'"
   ]
  },
  {
   "cell_type": "code",
   "execution_count": null,
   "metadata": {
    "collapsed": true
   },
   "outputs": [],
   "source": [
    "fig, axes = plt.subplots(nrows=2, ncols=2)\n",
    "\n",
    "df1.plot(ax=axes[0,0],)\n",
    "df2.plot(ax=axes[1,0],)"
   ]
  },
  {
   "cell_type": "markdown",
   "metadata": {},
   "source": [
    "| 额外全额 | e'q'we'q'w | q'e'q'we'e'q'we |   |   |\n",
    "|----------|------------|-----------------|---|---|\n",
    "| q'we'q'w | q'we       | e'q'we          |   |   |\n",
    "| e'w'q'w  | e'w'w'q'e  | q'we'w'q        |   |   |\n",
    "| e'q'we   | q'we'q'w   | w'q'e'q'w       |   |   |\n",
    "| w'q'e'q  | e'w'q'e    | q'we'q'w        |   |   |"
   ]
  },
  {
   "cell_type": "code",
   "execution_count": null,
   "metadata": {
    "collapsed": true
   },
   "outputs": [],
   "source": []
  }
 ],
 "metadata": {
  "anaconda-cloud": {},
  "kernelspec": {
   "display_name": "Python [conda root]",
   "language": "python",
   "name": "conda-root-py"
  },
  "language_info": {
   "codemirror_mode": {
    "name": "ipython",
    "version": 2
   },
   "file_extension": ".py",
   "mimetype": "text/x-python",
   "name": "python",
   "nbconvert_exporter": "python",
   "pygments_lexer": "ipython2",
   "version": "2.7.12"
  }
 },
 "nbformat": 4,
 "nbformat_minor": 0
}
