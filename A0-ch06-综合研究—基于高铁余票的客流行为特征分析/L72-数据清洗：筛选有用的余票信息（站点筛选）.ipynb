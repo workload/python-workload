{
 "cells": [
  {
   "cell_type": "markdown",
   "metadata": {},
   "source": [
    "# 相邻区间站判断——数据筛选"
   ]
  },
  {
   "cell_type": "markdown",
   "metadata": {},
   "source": [
    "> 关键点：去判断数据是否为两个相邻站点的余票\n",
    "\n",
    "几部走：<br>\n",
    "1. 获取沪宁线所有车次的区间站列表信息。\n",
    "  - 获取车次编号；\n",
    "  - 按车次编号获取停靠站点，并生成列表。\n",
    "\n",
    "2. 区间站列表与余票数据中from_to进行比对，并最终获取有用信息"
   ]
  },
  {
   "cell_type": "markdown",
   "metadata": {},
   "source": [
    "# 1. 区间站列表信息获取"
   ]
  },
  {
   "cell_type": "markdown",
   "metadata": {
    "collapsed": true
   },
   "source": [
    "## 1.1 获取沪宁线车次"
   ]
  },
  {
   "cell_type": "code",
   "execution_count": 79,
   "metadata": {
    "collapsed": false
   },
   "outputs": [
    {
     "name": "stdout",
     "output_type": "stream",
     "text": [
      "finished\n"
     ]
    }
   ],
   "source": [
    "import requests\n",
    "import pandas as pd\n",
    "import json\n",
    "#import arrow\n",
    "import warnings\n",
    "warnings.filterwarnings(\"ignore\")\n",
    "\n",
    "def get_pd(para):\n",
    "    para = para\n",
    "    r = requests.get('https://kyfw.12306.cn/otn/lcxxcx/query?purpose_codes=ADULT&' + \\\n",
    "                     para, verify=False).text\n",
    "    return r\n",
    "\n",
    "def to_csv(js):\n",
    "    js2 = json.loads(js)\n",
    "    data = js2['data']['datas']\n",
    "    df = pd.DataFrame(data)\n",
    "    df_use = df[[u'train_no',\n",
    "            u'station_train_code',\n",
    "                 u'from_station_name',\n",
    "                 u'to_station_name',\n",
    "                 u'start_time',\n",
    "                 u'swz_num',\n",
    "                 u'tz_num',\n",
    "                 u'zy_num',\n",
    "                 u'ze_num',\n",
    "                 u'wz_num',\n",
    "                 ]]\n",
    "    df_use = df_use[df_use[u'station_train_code'].str.startswith('G') | \\\n",
    "    df_use[u'station_train_code'].str.startswith('D')]\n",
    "    df_use.replace('--',0,inplace=True)\n",
    "    df_use.replace(u'无',0,inplace=True)\n",
    "    df_use[u'train_no'].to_csv('./data/SH-NJ-train-no.csv',index=False,encoding='utf-8')\n",
    "#     df_use[u'train_no'].to_csv('./data/NJ-SH-train_no.csv',index=False,encoding='utf-8')\n",
    "    \n",
    "if __name__ == '__main__':\n",
    "    para = 'queryDate=2016-12-25&from_station=SHH&to_station=NJH'\n",
    "#     para = 'queryDate=2016-12-29&from_station=NJH&to_station=SHH'\n",
    "    js = get_pd(para)\n",
    "    to_csv(js)\n",
    "    print('finished')"
   ]
  },
  {
   "cell_type": "markdown",
   "metadata": {
    "collapsed": true
   },
   "source": [
    "## 1.2 获取各车次，站点信息"
   ]
  },
  {
   "cell_type": "markdown",
   "metadata": {
    "collapsed": true
   },
   "source": [
    "https://kyfw.12306.cn/otn/czxx/queryByTrainNo?train_no=5l000G191200&from_station_telecode=SHH&to_station_telecode=NJH&depart_date=2017-01-06"
   ]
  },
  {
   "cell_type": "code",
   "execution_count": 98,
   "metadata": {
    "collapsed": false
   },
   "outputs": [
    {
     "name": "stdout",
     "output_type": "stream",
     "text": [
      "finished\n"
     ]
    }
   ],
   "source": [
    "import requests\n",
    "import pandas as pd\n",
    "import json\n",
    "#import arrow\n",
    "import warnings\n",
    "warnings.filterwarnings(\"ignore\")\n",
    "\n",
    "\n",
    "def get_pd(para):\n",
    "    para = para\n",
    "    r = requests.get('https://kyfw.12306.cn/otn/czxx/queryByTrainNo?train_no='+para+\\\n",
    "                     '&from_station_telecode=SHH&to_station_telecode=NJH&depart_date=2016-12-25',\n",
    "                     verify=False).text\n",
    "    return r\n",
    "\n",
    "def to_csv(para,js):\n",
    "    js2 = json.loads(js)\n",
    "    data = js2['data']['data']\n",
    "    df = pd.DataFrame(data)\n",
    "    try:\n",
    "        df = df[[\"station_name\",]]\n",
    "        df_use = pd.DataFrame({'train_no':[''],'station_name':['']})\n",
    "        df_use['train_no'] = para.strip()\n",
    "        df_use['station_name'] = df_use['station_name'].apply(lambda x: df[\"station_name\"].values)\n",
    "        df_use.to_csv('./data/SH-NJ-station.csv',mode = 'a',index=False,header=False,encoding='utf-8')\n",
    "    except:\n",
    "        pass\n",
    "if __name__ == '__main__':\n",
    "    station_no_file = open('./data/SH-NJ-train-no.csv','r')\n",
    "    station_no_data = station_no_file.readlines()\n",
    "    for station_no in station_no_data:\n",
    "        js = get_pd(station_no.strip())\n",
    "        to_csv(station_no.strip(),js)\n",
    "    print('finished')"
   ]
  },
  {
   "cell_type": "markdown",
   "metadata": {},
   "source": [
    ">可用数据：<br>\n",
    ">`./data/SH-NJ-train-no.csv`"
   ]
  },
  {
   "cell_type": "markdown",
   "metadata": {},
   "source": [
    "### 读取信息"
   ]
  },
  {
   "cell_type": "code",
   "execution_count": 179,
   "metadata": {
    "collapsed": false
   },
   "outputs": [
    {
     "data": {
      "text/html": [
       "<div>\n",
       "<table border=\"1\" class=\"dataframe\">\n",
       "  <thead>\n",
       "    <tr style=\"text-align: right;\">\n",
       "      <th></th>\n",
       "      <th>[上海, 无锡, 常州, 丹阳, 镇江, 宝华山, 南京南, 马鞍山东, 当涂东, 芜湖, 弋江, 铜陵, 池州, 安庆]</th>\n",
       "      <th>55000G707270</th>\n",
       "    </tr>\n",
       "  </thead>\n",
       "  <tbody>\n",
       "    <tr>\n",
       "      <th>201</th>\n",
       "      <td>[上海虹桥, 昆山南, 苏州, 无锡, 常州, 镇江, 南京]</td>\n",
       "      <td>5l000G7128A0</td>\n",
       "    </tr>\n",
       "    <tr>\n",
       "      <th>202</th>\n",
       "      <td>[深圳北, 惠州南, 惠东, 汕尾, 潮阳, 潮汕, 诏安, 漳浦, 漳州, 厦门北, 泉州...</td>\n",
       "      <td>6i000D228207</td>\n",
       "    </tr>\n",
       "    <tr>\n",
       "      <th>203</th>\n",
       "      <td>[苍南, 鳌江, 温州南, 青田, 丽水, 缙云西, 永康南, 武义北, 义乌, 杭州东, ...</td>\n",
       "      <td>5j000G735010</td>\n",
       "    </tr>\n",
       "    <tr>\n",
       "      <th>204</th>\n",
       "      <td>[上海, 昆山南, 苏州, 无锡, 常州, 南京]</td>\n",
       "      <td>55000G7098B0</td>\n",
       "    </tr>\n",
       "    <tr>\n",
       "      <th>205</th>\n",
       "      <td>[上海, 苏州, 南京, 徐州, 郑州东, 洛阳龙门, 三门峡南, 华山北, 渭南北, 西安北]</td>\n",
       "      <td>550000D30661</td>\n",
       "    </tr>\n",
       "  </tbody>\n",
       "</table>\n",
       "</div>"
      ],
      "text/plain": [
       "    [上海, 无锡, 常州, 丹阳, 镇江, 宝华山, 南京南, 马鞍山东, 当涂东, 芜湖, 弋江, 铜陵, 池州, 安庆]  \\\n",
       "201                    [上海虹桥, 昆山南, 苏州, 无锡, 常州, 镇江, 南京]              \n",
       "202  [深圳北, 惠州南, 惠东, 汕尾, 潮阳, 潮汕, 诏安, 漳浦, 漳州, 厦门北, 泉州...              \n",
       "203  [苍南, 鳌江, 温州南, 青田, 丽水, 缙云西, 永康南, 武义北, 义乌, 杭州东, ...              \n",
       "204                          [上海, 昆山南, 苏州, 无锡, 常州, 南京]              \n",
       "205   [上海, 苏州, 南京, 徐州, 郑州东, 洛阳龙门, 三门峡南, 华山北, 渭南北, 西安北]              \n",
       "\n",
       "     55000G707270  \n",
       "201  5l000G7128A0  \n",
       "202  6i000D228207  \n",
       "203  5j000G735010  \n",
       "204  55000G7098B0  \n",
       "205  550000D30661  "
      ]
     },
     "execution_count": 179,
     "metadata": {},
     "output_type": "execute_result"
    }
   ],
   "source": [
    "df_SH_NJ = pd.read_csv('./data/SH-NJ-station.csv', encoding='utf-8')\n",
    "df_SH_NJ.tail()"
   ]
  },
  {
   "cell_type": "code",
   "execution_count": 180,
   "metadata": {
    "collapsed": false
   },
   "outputs": [
    {
     "data": {
      "text/html": [
       "<div>\n",
       "<table border=\"1\" class=\"dataframe\">\n",
       "  <thead>\n",
       "    <tr style=\"text-align: right;\">\n",
       "      <th></th>\n",
       "      <th>station_name</th>\n",
       "      <th>train_no</th>\n",
       "    </tr>\n",
       "  </thead>\n",
       "  <tbody>\n",
       "    <tr>\n",
       "      <th>202</th>\n",
       "      <td>[上海虹桥, 昆山南, 苏州, 无锡, 常州, 镇江, 南京]</td>\n",
       "      <td>5l000G7128A0</td>\n",
       "    </tr>\n",
       "    <tr>\n",
       "      <th>203</th>\n",
       "      <td>[深圳北, 惠州南, 惠东, 汕尾, 潮阳, 潮汕, 诏安, 漳浦, 漳州, 厦门北, 泉州...</td>\n",
       "      <td>6i000D228207</td>\n",
       "    </tr>\n",
       "    <tr>\n",
       "      <th>204</th>\n",
       "      <td>[苍南, 鳌江, 温州南, 青田, 丽水, 缙云西, 永康南, 武义北, 义乌, 杭州东, ...</td>\n",
       "      <td>5j000G735010</td>\n",
       "    </tr>\n",
       "    <tr>\n",
       "      <th>205</th>\n",
       "      <td>[上海, 昆山南, 苏州, 无锡, 常州, 南京]</td>\n",
       "      <td>55000G7098B0</td>\n",
       "    </tr>\n",
       "    <tr>\n",
       "      <th>206</th>\n",
       "      <td>[上海, 苏州, 南京, 徐州, 郑州东, 洛阳龙门, 三门峡南, 华山北, 渭南北, 西安北]</td>\n",
       "      <td>550000D30661</td>\n",
       "    </tr>\n",
       "  </tbody>\n",
       "</table>\n",
       "</div>"
      ],
      "text/plain": [
       "                                          station_name      train_no\n",
       "202                    [上海虹桥, 昆山南, 苏州, 无锡, 常州, 镇江, 南京]  5l000G7128A0\n",
       "203  [深圳北, 惠州南, 惠东, 汕尾, 潮阳, 潮汕, 诏安, 漳浦, 漳州, 厦门北, 泉州...  6i000D228207\n",
       "204  [苍南, 鳌江, 温州南, 青田, 丽水, 缙云西, 永康南, 武义北, 义乌, 杭州东, ...  5j000G735010\n",
       "205                          [上海, 昆山南, 苏州, 无锡, 常州, 南京]  55000G7098B0\n",
       "206   [上海, 苏州, 南京, 徐州, 郑州东, 洛阳龙门, 三门峡南, 华山北, 渭南北, 西安北]  550000D30661"
      ]
     },
     "execution_count": 180,
     "metadata": {},
     "output_type": "execute_result"
    }
   ],
   "source": [
    "df_SH_NJ = pd.read_csv('./data/SH-NJ-station.csv',names=['station_name','train_no'], encoding='utf-8')\n",
    "df_SH_NJ.tail()"
   ]
  },
  {
   "cell_type": "code",
   "execution_count": 181,
   "metadata": {
    "collapsed": false
   },
   "outputs": [
    {
     "data": {
      "text/html": [
       "<div>\n",
       "<table border=\"1\" class=\"dataframe\">\n",
       "  <thead>\n",
       "    <tr style=\"text-align: right;\">\n",
       "      <th></th>\n",
       "      <th>station_name</th>\n",
       "      <th>train_no</th>\n",
       "    </tr>\n",
       "  </thead>\n",
       "  <tbody>\n",
       "    <tr>\n",
       "      <th>202</th>\n",
       "      <td>[上海虹桥, 昆山南, 苏州, 无锡, 常州, 镇江, 南京]</td>\n",
       "      <td>5l000G7128A0</td>\n",
       "    </tr>\n",
       "  </tbody>\n",
       "</table>\n",
       "</div>"
      ],
      "text/plain": [
       "                        station_name      train_no\n",
       "202  [上海虹桥, 昆山南, 苏州, 无锡, 常州, 镇江, 南京]  5l000G7128A0"
      ]
     },
     "execution_count": 181,
     "metadata": {},
     "output_type": "execute_result"
    }
   ],
   "source": [
    "df_SH_NJ[df_SH_NJ['train_no'] == '5l000G7128A0']"
   ]
  },
  {
   "cell_type": "code",
   "execution_count": 182,
   "metadata": {
    "collapsed": false
   },
   "outputs": [
    {
     "data": {
      "text/plain": [
       "unicode"
      ]
     },
     "execution_count": 182,
     "metadata": {},
     "output_type": "execute_result"
    }
   ],
   "source": [
    "type(df_SH_NJ.iloc[201,0])"
   ]
  },
  {
   "cell_type": "markdown",
   "metadata": {},
   "source": [
    "### 添加列，进行组合"
   ]
  },
  {
   "cell_type": "code",
   "execution_count": 144,
   "metadata": {
    "collapsed": false
   },
   "outputs": [],
   "source": [
    "df_SH_NJ['station_name'] = df_SH_NJ['station_name'].apply(lambda x: \\\n",
    "                                              x.replace(u'[',u'').replace(u']',u'').replace(' ','').split(','))"
   ]
  },
  {
   "cell_type": "code",
   "execution_count": 145,
   "metadata": {
    "collapsed": false
   },
   "outputs": [
    {
     "data": {
      "text/plain": [
       "[u'\\u4e0a\\u6d77', u'\\u82cf\\u5dde', u'\\u5357\\u4eac', u'\\u5317\\u4eac\\u5357']"
      ]
     },
     "execution_count": 145,
     "metadata": {},
     "output_type": "execute_result"
    }
   ],
   "source": [
    "df_SH_NJ.iloc[201,0]"
   ]
  },
  {
   "cell_type": "code",
   "execution_count": 146,
   "metadata": {
    "collapsed": false
   },
   "outputs": [
    {
     "data": {
      "text/plain": [
       "list"
      ]
     },
     "execution_count": 146,
     "metadata": {},
     "output_type": "execute_result"
    }
   ],
   "source": [
    "type(df_SH_NJ.iloc[201,0])"
   ]
  },
  {
   "cell_type": "markdown",
   "metadata": {},
   "source": [
    "### 区间站组合"
   ]
  },
  {
   "cell_type": "markdown",
   "metadata": {},
   "source": [
    "#### 示例：将2数进行组合（zip与map函数、join方法的用法）"
   ]
  },
  {
   "cell_type": "code",
   "execution_count": null,
   "metadata": {
    "collapsed": false
   },
   "outputs": [],
   "source": [
    "seq1 = ['one0', 'one1', 'one2']\n",
    "seq2 = ['two0', 'two1', 'two2']\n",
    "zip(seq1, seq2)"
   ]
  },
  {
   "cell_type": "markdown",
   "metadata": {},
   "source": [
    "`['A0','A1', 'A2', 'A3', 'A4', 'A5', 'A6', 'A7']`<br>\n",
    "\n",
    "`['A0', 'A1', 'A2', 'A3']`<br>\n",
    "`['A4', 'A5', 'A6', 'A7']`<br>"
   ]
  },
  {
   "cell_type": "code",
   "execution_count": 22,
   "metadata": {
    "collapsed": false
   },
   "outputs": [
    {
     "data": {
      "text/plain": [
       "[['A0', 'A1'],\n",
       " ['A1', 'A2'],\n",
       " ['A2', 'A3'],\n",
       " ['A3', 'A4'],\n",
       " ['A4', 'A5'],\n",
       " ['A5', 'A6'],\n",
       " ['A6', 'A7']]"
      ]
     },
     "execution_count": 22,
     "metadata": {},
     "output_type": "execute_result"
    }
   ],
   "source": [
    "seq = ['A0','A1', 'A2', 'A3', 'A4', 'A5', 'A6', 'A7']\n",
    "com= map(list,zip(seq[:-1], seq[1:]))\n",
    "com"
   ]
  },
  {
   "cell_type": "code",
   "execution_count": 147,
   "metadata": {
    "collapsed": false
   },
   "outputs": [],
   "source": [
    "df_stations = df_SH_NJ.copy()"
   ]
  },
  {
   "cell_type": "code",
   "execution_count": 183,
   "metadata": {
    "collapsed": false
   },
   "outputs": [
    {
     "data": {
      "text/html": [
       "<div>\n",
       "<table border=\"1\" class=\"dataframe\">\n",
       "  <thead>\n",
       "    <tr style=\"text-align: right;\">\n",
       "      <th></th>\n",
       "      <th>station_name</th>\n",
       "      <th>train_no</th>\n",
       "      <th>station_interval</th>\n",
       "    </tr>\n",
       "  </thead>\n",
       "  <tbody>\n",
       "    <tr>\n",
       "      <th>202</th>\n",
       "      <td>[上海虹桥, 昆山南, 苏州, 无锡, 常州, 镇江, 南京]</td>\n",
       "      <td>5l000G7128A0</td>\n",
       "      <td>[[上海虹桥, 昆山南], [昆山南, 苏州], [苏州, 无锡], [无锡, 常州], [...</td>\n",
       "    </tr>\n",
       "    <tr>\n",
       "      <th>203</th>\n",
       "      <td>[深圳北, 惠州南, 惠东, 汕尾, 潮阳, 潮汕, 诏安, 漳浦, 漳州, 厦门北, 泉州...</td>\n",
       "      <td>6i000D228207</td>\n",
       "      <td>[[深圳北, 惠州南], [惠州南, 惠东], [惠东, 汕尾], [汕尾, 潮阳], [潮...</td>\n",
       "    </tr>\n",
       "    <tr>\n",
       "      <th>204</th>\n",
       "      <td>[苍南, 鳌江, 温州南, 青田, 丽水, 缙云西, 永康南, 武义北, 义乌, 杭州东, ...</td>\n",
       "      <td>5j000G735010</td>\n",
       "      <td>[[苍南, 鳌江], [鳌江, 温州南], [温州南, 青田], [青田, 丽水], [丽水...</td>\n",
       "    </tr>\n",
       "    <tr>\n",
       "      <th>205</th>\n",
       "      <td>[上海, 昆山南, 苏州, 无锡, 常州, 南京]</td>\n",
       "      <td>55000G7098B0</td>\n",
       "      <td>[[上海, 昆山南], [昆山南, 苏州], [苏州, 无锡], [无锡, 常州], [常州...</td>\n",
       "    </tr>\n",
       "    <tr>\n",
       "      <th>206</th>\n",
       "      <td>[上海, 苏州, 南京, 徐州, 郑州东, 洛阳龙门, 三门峡南, 华山北, 渭南北, 西安北]</td>\n",
       "      <td>550000D30661</td>\n",
       "      <td>[[上海, 苏州], [苏州, 南京], [南京, 徐州], [徐州, 郑州东], [郑州东...</td>\n",
       "    </tr>\n",
       "  </tbody>\n",
       "</table>\n",
       "</div>"
      ],
      "text/plain": [
       "                                          station_name      train_no  \\\n",
       "202                    [上海虹桥, 昆山南, 苏州, 无锡, 常州, 镇江, 南京]  5l000G7128A0   \n",
       "203  [深圳北, 惠州南, 惠东, 汕尾, 潮阳, 潮汕, 诏安, 漳浦, 漳州, 厦门北, 泉州...  6i000D228207   \n",
       "204  [苍南, 鳌江, 温州南, 青田, 丽水, 缙云西, 永康南, 武义北, 义乌, 杭州东, ...  5j000G735010   \n",
       "205                          [上海, 昆山南, 苏州, 无锡, 常州, 南京]  55000G7098B0   \n",
       "206   [上海, 苏州, 南京, 徐州, 郑州东, 洛阳龙门, 三门峡南, 华山北, 渭南北, 西安北]  550000D30661   \n",
       "\n",
       "                                      station_interval  \n",
       "202  [[上海虹桥, 昆山南], [昆山南, 苏州], [苏州, 无锡], [无锡, 常州], [...  \n",
       "203  [[深圳北, 惠州南], [惠州南, 惠东], [惠东, 汕尾], [汕尾, 潮阳], [潮...  \n",
       "204  [[苍南, 鳌江], [鳌江, 温州南], [温州南, 青田], [青田, 丽水], [丽水...  \n",
       "205  [[上海, 昆山南], [昆山南, 苏州], [苏州, 无锡], [无锡, 常州], [常州...  \n",
       "206  [[上海, 苏州], [苏州, 南京], [南京, 徐州], [徐州, 郑州东], [郑州东...  "
      ]
     },
     "execution_count": 183,
     "metadata": {},
     "output_type": "execute_result"
    }
   ],
   "source": [
    "df_stations['station_interval'] = df_stations['station_name'].apply(lambda x: map(list, zip(x[:-1], x[1:])))\n",
    "df_stations.tail()"
   ]
  },
  {
   "cell_type": "code",
   "execution_count": 184,
   "metadata": {
    "collapsed": false
   },
   "outputs": [
    {
     "data": {
      "text/plain": [
       "[[u'\\u4e0a\\u6d77', u'\\u65e0\\u9521'],\n",
       " [u'\\u65e0\\u9521', u'\\u5e38\\u5dde'],\n",
       " [u'\\u5e38\\u5dde', u'\\u4e39\\u9633'],\n",
       " [u'\\u4e39\\u9633', u'\\u9547\\u6c5f'],\n",
       " [u'\\u9547\\u6c5f', u'\\u5b9d\\u534e\\u5c71'],\n",
       " [u'\\u5b9d\\u534e\\u5c71', u'\\u5357\\u4eac\\u5357'],\n",
       " [u'\\u5357\\u4eac\\u5357', u'\\u9a6c\\u978d\\u5c71\\u4e1c'],\n",
       " [u'\\u9a6c\\u978d\\u5c71\\u4e1c', u'\\u5f53\\u6d82\\u4e1c'],\n",
       " [u'\\u5f53\\u6d82\\u4e1c', u'\\u829c\\u6e56'],\n",
       " [u'\\u829c\\u6e56', u'\\u5f0b\\u6c5f'],\n",
       " [u'\\u5f0b\\u6c5f', u'\\u94dc\\u9675'],\n",
       " [u'\\u94dc\\u9675', u'\\u6c60\\u5dde'],\n",
       " [u'\\u6c60\\u5dde', u'\\u5b89\\u5e86']]"
      ]
     },
     "execution_count": 184,
     "metadata": {},
     "output_type": "execute_result"
    }
   ],
   "source": [
    "df_stations.station_interval[0]"
   ]
  },
  {
   "cell_type": "code",
   "execution_count": 185,
   "metadata": {
    "collapsed": false
   },
   "outputs": [
    {
     "data": {
      "text/plain": [
       "list"
      ]
     },
     "execution_count": 185,
     "metadata": {},
     "output_type": "execute_result"
    }
   ],
   "source": [
    "type(df_stations['station_interval'][0][0])"
   ]
  },
  {
   "cell_type": "code",
   "execution_count": null,
   "metadata": {
    "collapsed": true
   },
   "outputs": [],
   "source": []
  },
  {
   "cell_type": "markdown",
   "metadata": {},
   "source": [
    "# 2、区间站列表与余票数据中from_to进行比对，并最终获取有用信息\n",
    "余票数据与站点区间数据比对，获取是相邻站点的余票数据信息"
   ]
  },
  {
   "cell_type": "code",
   "execution_count": 186,
   "metadata": {
    "collapsed": false
   },
   "outputs": [],
   "source": [
    "import pandas as pd\n",
    "import numpy as np\n",
    "df_tickets = pd.read_json('./data/hu_ning_ft1.json')"
   ]
  },
  {
   "cell_type": "code",
   "execution_count": 187,
   "metadata": {
    "collapsed": false
   },
   "outputs": [
    {
     "data": {
      "text/plain": [
       "2814"
      ]
     },
     "execution_count": 187,
     "metadata": {},
     "output_type": "execute_result"
    }
   ],
   "source": [
    "len(df_tickets)"
   ]
  },
  {
   "cell_type": "code",
   "execution_count": 188,
   "metadata": {
    "collapsed": false
   },
   "outputs": [
    {
     "name": "stdout",
     "output_type": "stream",
     "text": [
      "[[u'\\u4e0a\\u6d77', u'\\u65e0\\u9521'], [u'\\u65e0\\u9521', u'\\u5e38\\u5dde'], [u'\\u5e38\\u5dde', u'\\u4e39\\u9633'], [u'\\u4e39\\u9633', u'\\u9547\\u6c5f'], [u'\\u9547\\u6c5f', u'\\u5b9d\\u534e\\u5c71'], [u'\\u5b9d\\u534e\\u5c71', u'\\u5357\\u4eac\\u5357'], [u'\\u5357\\u4eac\\u5357', u'\\u9a6c\\u978d\\u5c71\\u4e1c'], [u'\\u9a6c\\u978d\\u5c71\\u4e1c', u'\\u5f53\\u6d82\\u4e1c'], [u'\\u5f53\\u6d82\\u4e1c', u'\\u829c\\u6e56'], [u'\\u829c\\u6e56', u'\\u5f0b\\u6c5f'], [u'\\u5f0b\\u6c5f', u'\\u94dc\\u9675'], [u'\\u94dc\\u9675', u'\\u6c60\\u5dde'], [u'\\u6c60\\u5dde', u'\\u5b89\\u5e86']]\n"
     ]
    }
   ],
   "source": [
    "print df_stations['station_interval'][0]"
   ]
  },
  {
   "cell_type": "code",
   "execution_count": 189,
   "metadata": {
    "collapsed": false
   },
   "outputs": [
    {
     "data": {
      "text/html": [
       "<div>\n",
       "<table border=\"1\" class=\"dataframe\">\n",
       "  <thead>\n",
       "    <tr style=\"text-align: right;\">\n",
       "      <th></th>\n",
       "      <th>from_station_name</th>\n",
       "      <th>from_to</th>\n",
       "      <th>record_date</th>\n",
       "      <th>record_time</th>\n",
       "      <th>start_time</th>\n",
       "      <th>start_time_before30m</th>\n",
       "      <th>station_train_code</th>\n",
       "      <th>swz_num</th>\n",
       "      <th>to_station_name</th>\n",
       "      <th>train_no</th>\n",
       "      <th>tz_num</th>\n",
       "      <th>wz_num</th>\n",
       "      <th>ze_num</th>\n",
       "      <th>zy_num</th>\n",
       "    </tr>\n",
       "  </thead>\n",
       "  <tbody>\n",
       "    <tr>\n",
       "      <th>2401712</th>\n",
       "      <td>上海虹桥</td>\n",
       "      <td>[上海虹桥, 昆山南]</td>\n",
       "      <td>2016-12-21</td>\n",
       "      <td>2016-12-24 20:40:00</td>\n",
       "      <td>2016-12-24 21:10:00</td>\n",
       "      <td>20:40</td>\n",
       "      <td>G7128</td>\n",
       "      <td>0</td>\n",
       "      <td>昆山南</td>\n",
       "      <td>5l000G7128A0</td>\n",
       "      <td>0</td>\n",
       "      <td>168</td>\n",
       "      <td>309</td>\n",
       "      <td>29</td>\n",
       "    </tr>\n",
       "  </tbody>\n",
       "</table>\n",
       "</div>"
      ],
      "text/plain": [
       "        from_station_name      from_to record_date         record_time  \\\n",
       "2401712              上海虹桥  [上海虹桥, 昆山南]  2016-12-21 2016-12-24 20:40:00   \n",
       "\n",
       "                 start_time start_time_before30m station_train_code  swz_num  \\\n",
       "2401712 2016-12-24 21:10:00                20:40              G7128        0   \n",
       "\n",
       "        to_station_name      train_no  tz_num  wz_num  ze_num  zy_num  \n",
       "2401712             昆山南  5l000G7128A0       0     168     309      29  "
      ]
     },
     "execution_count": 189,
     "metadata": {},
     "output_type": "execute_result"
    }
   ],
   "source": [
    "df_tickets[df_tickets['station_train_code'] == 'G7128'].head(1)"
   ]
  },
  {
   "cell_type": "code",
   "execution_count": 190,
   "metadata": {
    "collapsed": false
   },
   "outputs": [
    {
     "data": {
      "text/html": [
       "<div>\n",
       "<table border=\"1\" class=\"dataframe\">\n",
       "  <thead>\n",
       "    <tr style=\"text-align: right;\">\n",
       "      <th></th>\n",
       "      <th>from_station_name</th>\n",
       "      <th>from_to</th>\n",
       "      <th>record_date</th>\n",
       "      <th>record_time</th>\n",
       "      <th>start_time</th>\n",
       "      <th>start_time_before30m</th>\n",
       "      <th>station_train_code</th>\n",
       "      <th>swz_num</th>\n",
       "      <th>to_station_name</th>\n",
       "      <th>train_no</th>\n",
       "      <th>tz_num</th>\n",
       "      <th>wz_num</th>\n",
       "      <th>ze_num</th>\n",
       "      <th>zy_num</th>\n",
       "      <th>station_name</th>\n",
       "      <th>station_interval</th>\n",
       "    </tr>\n",
       "  </thead>\n",
       "  <tbody>\n",
       "    <tr>\n",
       "      <th>2733</th>\n",
       "      <td>上海虹桥</td>\n",
       "      <td>[上海虹桥, 昆山南]</td>\n",
       "      <td>2016-12-21</td>\n",
       "      <td>2016-12-24 20:40:00</td>\n",
       "      <td>2016-12-24 21:10:00</td>\n",
       "      <td>20:40</td>\n",
       "      <td>G7128</td>\n",
       "      <td>0</td>\n",
       "      <td>昆山南</td>\n",
       "      <td>5l000G7128A0</td>\n",
       "      <td>0</td>\n",
       "      <td>168</td>\n",
       "      <td>309</td>\n",
       "      <td>29</td>\n",
       "      <td>[上海虹桥, 昆山南, 苏州, 无锡, 常州, 镇江, 南京]</td>\n",
       "      <td>[[上海虹桥, 昆山南], [昆山南, 苏州], [苏州, 无锡], [无锡, 常州], [...</td>\n",
       "    </tr>\n",
       "    <tr>\n",
       "      <th>2734</th>\n",
       "      <td>上海虹桥</td>\n",
       "      <td>[上海虹桥, 苏州]</td>\n",
       "      <td>2016-12-21</td>\n",
       "      <td>2016-12-24 20:40:00</td>\n",
       "      <td>2016-12-24 21:10:00</td>\n",
       "      <td>20:40</td>\n",
       "      <td>G7128</td>\n",
       "      <td>0</td>\n",
       "      <td>苏州</td>\n",
       "      <td>5l000G7128A0</td>\n",
       "      <td>0</td>\n",
       "      <td>168</td>\n",
       "      <td>255</td>\n",
       "      <td>27</td>\n",
       "      <td>[上海虹桥, 昆山南, 苏州, 无锡, 常州, 镇江, 南京]</td>\n",
       "      <td>[[上海虹桥, 昆山南], [昆山南, 苏州], [苏州, 无锡], [无锡, 常州], [...</td>\n",
       "    </tr>\n",
       "    <tr>\n",
       "      <th>2735</th>\n",
       "      <td>上海虹桥</td>\n",
       "      <td>[上海虹桥, 无锡]</td>\n",
       "      <td>2016-12-21</td>\n",
       "      <td>2016-12-24 20:40:00</td>\n",
       "      <td>2016-12-24 21:10:00</td>\n",
       "      <td>20:40</td>\n",
       "      <td>G7128</td>\n",
       "      <td>0</td>\n",
       "      <td>无锡</td>\n",
       "      <td>5l000G7128A0</td>\n",
       "      <td>0</td>\n",
       "      <td>168</td>\n",
       "      <td>282</td>\n",
       "      <td>25</td>\n",
       "      <td>[上海虹桥, 昆山南, 苏州, 无锡, 常州, 镇江, 南京]</td>\n",
       "      <td>[[上海虹桥, 昆山南], [昆山南, 苏州], [苏州, 无锡], [无锡, 常州], [...</td>\n",
       "    </tr>\n",
       "    <tr>\n",
       "      <th>2736</th>\n",
       "      <td>上海虹桥</td>\n",
       "      <td>[上海虹桥, 常州]</td>\n",
       "      <td>2016-12-21</td>\n",
       "      <td>2016-12-24 20:40:00</td>\n",
       "      <td>2016-12-24 21:10:00</td>\n",
       "      <td>20:40</td>\n",
       "      <td>G7128</td>\n",
       "      <td>0</td>\n",
       "      <td>常州</td>\n",
       "      <td>5l000G7128A0</td>\n",
       "      <td>0</td>\n",
       "      <td>168</td>\n",
       "      <td>267</td>\n",
       "      <td>25</td>\n",
       "      <td>[上海虹桥, 昆山南, 苏州, 无锡, 常州, 镇江, 南京]</td>\n",
       "      <td>[[上海虹桥, 昆山南], [昆山南, 苏州], [苏州, 无锡], [无锡, 常州], [...</td>\n",
       "    </tr>\n",
       "    <tr>\n",
       "      <th>2737</th>\n",
       "      <td>上海虹桥</td>\n",
       "      <td>[上海虹桥, 镇江]</td>\n",
       "      <td>2016-12-21</td>\n",
       "      <td>2016-12-24 20:40:00</td>\n",
       "      <td>2016-12-24 21:10:00</td>\n",
       "      <td>20:40</td>\n",
       "      <td>G7128</td>\n",
       "      <td>0</td>\n",
       "      <td>镇江</td>\n",
       "      <td>5l000G7128A0</td>\n",
       "      <td>0</td>\n",
       "      <td>168</td>\n",
       "      <td>245</td>\n",
       "      <td>25</td>\n",
       "      <td>[上海虹桥, 昆山南, 苏州, 无锡, 常州, 镇江, 南京]</td>\n",
       "      <td>[[上海虹桥, 昆山南], [昆山南, 苏州], [苏州, 无锡], [无锡, 常州], [...</td>\n",
       "    </tr>\n",
       "    <tr>\n",
       "      <th>2738</th>\n",
       "      <td>上海虹桥</td>\n",
       "      <td>[上海虹桥, 南京]</td>\n",
       "      <td>2016-12-21</td>\n",
       "      <td>2016-12-24 20:40:00</td>\n",
       "      <td>2016-12-24 21:10:00</td>\n",
       "      <td>20:40</td>\n",
       "      <td>G7128</td>\n",
       "      <td>0</td>\n",
       "      <td>南京</td>\n",
       "      <td>5l000G7128A0</td>\n",
       "      <td>0</td>\n",
       "      <td>168</td>\n",
       "      <td>266</td>\n",
       "      <td>24</td>\n",
       "      <td>[上海虹桥, 昆山南, 苏州, 无锡, 常州, 镇江, 南京]</td>\n",
       "      <td>[[上海虹桥, 昆山南], [昆山南, 苏州], [苏州, 无锡], [无锡, 常州], [...</td>\n",
       "    </tr>\n",
       "    <tr>\n",
       "      <th>2739</th>\n",
       "      <td>昆山南</td>\n",
       "      <td>[昆山南, 苏州]</td>\n",
       "      <td>2016-12-21</td>\n",
       "      <td>2016-12-24 21:01:00</td>\n",
       "      <td>2016-12-24 21:31:00</td>\n",
       "      <td>21:01</td>\n",
       "      <td>G7128</td>\n",
       "      <td>0</td>\n",
       "      <td>苏州</td>\n",
       "      <td>5l000G7128A0</td>\n",
       "      <td>0</td>\n",
       "      <td>168</td>\n",
       "      <td>196</td>\n",
       "      <td>22</td>\n",
       "      <td>[上海虹桥, 昆山南, 苏州, 无锡, 常州, 镇江, 南京]</td>\n",
       "      <td>[[上海虹桥, 昆山南], [昆山南, 苏州], [苏州, 无锡], [无锡, 常州], [...</td>\n",
       "    </tr>\n",
       "    <tr>\n",
       "      <th>2740</th>\n",
       "      <td>昆山南</td>\n",
       "      <td>[昆山南, 无锡]</td>\n",
       "      <td>2016-12-21</td>\n",
       "      <td>2016-12-24 21:01:00</td>\n",
       "      <td>2016-12-24 21:31:00</td>\n",
       "      <td>21:01</td>\n",
       "      <td>G7128</td>\n",
       "      <td>0</td>\n",
       "      <td>无锡</td>\n",
       "      <td>5l000G7128A0</td>\n",
       "      <td>0</td>\n",
       "      <td>168</td>\n",
       "      <td>190</td>\n",
       "      <td>20</td>\n",
       "      <td>[上海虹桥, 昆山南, 苏州, 无锡, 常州, 镇江, 南京]</td>\n",
       "      <td>[[上海虹桥, 昆山南], [昆山南, 苏州], [苏州, 无锡], [无锡, 常州], [...</td>\n",
       "    </tr>\n",
       "    <tr>\n",
       "      <th>2741</th>\n",
       "      <td>昆山南</td>\n",
       "      <td>[昆山南, 常州]</td>\n",
       "      <td>2016-12-21</td>\n",
       "      <td>2016-12-24 21:01:00</td>\n",
       "      <td>2016-12-24 21:31:00</td>\n",
       "      <td>21:01</td>\n",
       "      <td>G7128</td>\n",
       "      <td>0</td>\n",
       "      <td>常州</td>\n",
       "      <td>5l000G7128A0</td>\n",
       "      <td>0</td>\n",
       "      <td>168</td>\n",
       "      <td>178</td>\n",
       "      <td>20</td>\n",
       "      <td>[上海虹桥, 昆山南, 苏州, 无锡, 常州, 镇江, 南京]</td>\n",
       "      <td>[[上海虹桥, 昆山南], [昆山南, 苏州], [苏州, 无锡], [无锡, 常州], [...</td>\n",
       "    </tr>\n",
       "    <tr>\n",
       "      <th>2742</th>\n",
       "      <td>昆山南</td>\n",
       "      <td>[昆山南, 镇江]</td>\n",
       "      <td>2016-12-21</td>\n",
       "      <td>2016-12-24 21:01:00</td>\n",
       "      <td>2016-12-24 21:31:00</td>\n",
       "      <td>21:01</td>\n",
       "      <td>G7128</td>\n",
       "      <td>0</td>\n",
       "      <td>镇江</td>\n",
       "      <td>5l000G7128A0</td>\n",
       "      <td>0</td>\n",
       "      <td>168</td>\n",
       "      <td>190</td>\n",
       "      <td>21</td>\n",
       "      <td>[上海虹桥, 昆山南, 苏州, 无锡, 常州, 镇江, 南京]</td>\n",
       "      <td>[[上海虹桥, 昆山南], [昆山南, 苏州], [苏州, 无锡], [无锡, 常州], [...</td>\n",
       "    </tr>\n",
       "    <tr>\n",
       "      <th>2743</th>\n",
       "      <td>昆山南</td>\n",
       "      <td>[昆山南, 南京]</td>\n",
       "      <td>2016-12-21</td>\n",
       "      <td>2016-12-24 21:01:00</td>\n",
       "      <td>2016-12-24 21:31:00</td>\n",
       "      <td>21:01</td>\n",
       "      <td>G7128</td>\n",
       "      <td>0</td>\n",
       "      <td>南京</td>\n",
       "      <td>5l000G7128A0</td>\n",
       "      <td>0</td>\n",
       "      <td>168</td>\n",
       "      <td>181</td>\n",
       "      <td>19</td>\n",
       "      <td>[上海虹桥, 昆山南, 苏州, 无锡, 常州, 镇江, 南京]</td>\n",
       "      <td>[[上海虹桥, 昆山南], [昆山南, 苏州], [苏州, 无锡], [无锡, 常州], [...</td>\n",
       "    </tr>\n",
       "    <tr>\n",
       "      <th>2744</th>\n",
       "      <td>苏州</td>\n",
       "      <td>[苏州, 无锡]</td>\n",
       "      <td>2016-12-21</td>\n",
       "      <td>2016-12-24 21:14:00</td>\n",
       "      <td>2016-12-24 21:44:00</td>\n",
       "      <td>21:14</td>\n",
       "      <td>G7128</td>\n",
       "      <td>0</td>\n",
       "      <td>无锡</td>\n",
       "      <td>5l000G7128A0</td>\n",
       "      <td>0</td>\n",
       "      <td>168</td>\n",
       "      <td>324</td>\n",
       "      <td>32</td>\n",
       "      <td>[上海虹桥, 昆山南, 苏州, 无锡, 常州, 镇江, 南京]</td>\n",
       "      <td>[[上海虹桥, 昆山南], [昆山南, 苏州], [苏州, 无锡], [无锡, 常州], [...</td>\n",
       "    </tr>\n",
       "    <tr>\n",
       "      <th>2745</th>\n",
       "      <td>苏州</td>\n",
       "      <td>[苏州, 常州]</td>\n",
       "      <td>2016-12-21</td>\n",
       "      <td>2016-12-24 21:14:00</td>\n",
       "      <td>2016-12-24 21:44:00</td>\n",
       "      <td>21:14</td>\n",
       "      <td>G7128</td>\n",
       "      <td>0</td>\n",
       "      <td>常州</td>\n",
       "      <td>5l000G7128A0</td>\n",
       "      <td>0</td>\n",
       "      <td>168</td>\n",
       "      <td>312</td>\n",
       "      <td>32</td>\n",
       "      <td>[上海虹桥, 昆山南, 苏州, 无锡, 常州, 镇江, 南京]</td>\n",
       "      <td>[[上海虹桥, 昆山南], [昆山南, 苏州], [苏州, 无锡], [无锡, 常州], [...</td>\n",
       "    </tr>\n",
       "    <tr>\n",
       "      <th>2746</th>\n",
       "      <td>苏州</td>\n",
       "      <td>[苏州, 镇江]</td>\n",
       "      <td>2016-12-21</td>\n",
       "      <td>2016-12-24 21:14:00</td>\n",
       "      <td>2016-12-24 21:44:00</td>\n",
       "      <td>21:14</td>\n",
       "      <td>G7128</td>\n",
       "      <td>0</td>\n",
       "      <td>镇江</td>\n",
       "      <td>5l000G7128A0</td>\n",
       "      <td>0</td>\n",
       "      <td>168</td>\n",
       "      <td>324</td>\n",
       "      <td>32</td>\n",
       "      <td>[上海虹桥, 昆山南, 苏州, 无锡, 常州, 镇江, 南京]</td>\n",
       "      <td>[[上海虹桥, 昆山南], [昆山南, 苏州], [苏州, 无锡], [无锡, 常州], [...</td>\n",
       "    </tr>\n",
       "    <tr>\n",
       "      <th>2747</th>\n",
       "      <td>苏州</td>\n",
       "      <td>[苏州, 南京]</td>\n",
       "      <td>2016-12-21</td>\n",
       "      <td>2016-12-24 21:14:00</td>\n",
       "      <td>2016-12-24 21:44:00</td>\n",
       "      <td>21:14</td>\n",
       "      <td>G7128</td>\n",
       "      <td>0</td>\n",
       "      <td>南京</td>\n",
       "      <td>5l000G7128A0</td>\n",
       "      <td>0</td>\n",
       "      <td>168</td>\n",
       "      <td>322</td>\n",
       "      <td>31</td>\n",
       "      <td>[上海虹桥, 昆山南, 苏州, 无锡, 常州, 镇江, 南京]</td>\n",
       "      <td>[[上海虹桥, 昆山南], [昆山南, 苏州], [苏州, 无锡], [无锡, 常州], [...</td>\n",
       "    </tr>\n",
       "    <tr>\n",
       "      <th>2748</th>\n",
       "      <td>常州</td>\n",
       "      <td>[常州, 镇江]</td>\n",
       "      <td>2016-12-21</td>\n",
       "      <td>2016-12-24 21:48:00</td>\n",
       "      <td>2016-12-24 22:18:00</td>\n",
       "      <td>21:48</td>\n",
       "      <td>G7128</td>\n",
       "      <td>0</td>\n",
       "      <td>镇江</td>\n",
       "      <td>5l000G7128A0</td>\n",
       "      <td>0</td>\n",
       "      <td>168</td>\n",
       "      <td>418</td>\n",
       "      <td>39</td>\n",
       "      <td>[上海虹桥, 昆山南, 苏州, 无锡, 常州, 镇江, 南京]</td>\n",
       "      <td>[[上海虹桥, 昆山南], [昆山南, 苏州], [苏州, 无锡], [无锡, 常州], [...</td>\n",
       "    </tr>\n",
       "    <tr>\n",
       "      <th>2749</th>\n",
       "      <td>常州</td>\n",
       "      <td>[常州, 南京]</td>\n",
       "      <td>2016-12-21</td>\n",
       "      <td>2016-12-24 21:48:00</td>\n",
       "      <td>2016-12-24 22:18:00</td>\n",
       "      <td>21:48</td>\n",
       "      <td>G7128</td>\n",
       "      <td>0</td>\n",
       "      <td>南京</td>\n",
       "      <td>5l000G7128A0</td>\n",
       "      <td>0</td>\n",
       "      <td>168</td>\n",
       "      <td>409</td>\n",
       "      <td>38</td>\n",
       "      <td>[上海虹桥, 昆山南, 苏州, 无锡, 常州, 镇江, 南京]</td>\n",
       "      <td>[[上海虹桥, 昆山南], [昆山南, 苏州], [苏州, 无锡], [无锡, 常州], [...</td>\n",
       "    </tr>\n",
       "    <tr>\n",
       "      <th>2750</th>\n",
       "      <td>镇江</td>\n",
       "      <td>[镇江, 南京]</td>\n",
       "      <td>2016-12-21</td>\n",
       "      <td>2016-12-24 22:13:00</td>\n",
       "      <td>2016-12-24 22:43:00</td>\n",
       "      <td>22:13</td>\n",
       "      <td>G7128</td>\n",
       "      <td>0</td>\n",
       "      <td>南京</td>\n",
       "      <td>5l000G7128A0</td>\n",
       "      <td>0</td>\n",
       "      <td>168</td>\n",
       "      <td>445</td>\n",
       "      <td>39</td>\n",
       "      <td>[上海虹桥, 昆山南, 苏州, 无锡, 常州, 镇江, 南京]</td>\n",
       "      <td>[[上海虹桥, 昆山南], [昆山南, 苏州], [苏州, 无锡], [无锡, 常州], [...</td>\n",
       "    </tr>\n",
       "  </tbody>\n",
       "</table>\n",
       "</div>"
      ],
      "text/plain": [
       "     from_station_name      from_to record_date         record_time  \\\n",
       "2733              上海虹桥  [上海虹桥, 昆山南]  2016-12-21 2016-12-24 20:40:00   \n",
       "2734              上海虹桥   [上海虹桥, 苏州]  2016-12-21 2016-12-24 20:40:00   \n",
       "2735              上海虹桥   [上海虹桥, 无锡]  2016-12-21 2016-12-24 20:40:00   \n",
       "2736              上海虹桥   [上海虹桥, 常州]  2016-12-21 2016-12-24 20:40:00   \n",
       "2737              上海虹桥   [上海虹桥, 镇江]  2016-12-21 2016-12-24 20:40:00   \n",
       "2738              上海虹桥   [上海虹桥, 南京]  2016-12-21 2016-12-24 20:40:00   \n",
       "2739               昆山南    [昆山南, 苏州]  2016-12-21 2016-12-24 21:01:00   \n",
       "2740               昆山南    [昆山南, 无锡]  2016-12-21 2016-12-24 21:01:00   \n",
       "2741               昆山南    [昆山南, 常州]  2016-12-21 2016-12-24 21:01:00   \n",
       "2742               昆山南    [昆山南, 镇江]  2016-12-21 2016-12-24 21:01:00   \n",
       "2743               昆山南    [昆山南, 南京]  2016-12-21 2016-12-24 21:01:00   \n",
       "2744                苏州     [苏州, 无锡]  2016-12-21 2016-12-24 21:14:00   \n",
       "2745                苏州     [苏州, 常州]  2016-12-21 2016-12-24 21:14:00   \n",
       "2746                苏州     [苏州, 镇江]  2016-12-21 2016-12-24 21:14:00   \n",
       "2747                苏州     [苏州, 南京]  2016-12-21 2016-12-24 21:14:00   \n",
       "2748                常州     [常州, 镇江]  2016-12-21 2016-12-24 21:48:00   \n",
       "2749                常州     [常州, 南京]  2016-12-21 2016-12-24 21:48:00   \n",
       "2750                镇江     [镇江, 南京]  2016-12-21 2016-12-24 22:13:00   \n",
       "\n",
       "              start_time start_time_before30m station_train_code  swz_num  \\\n",
       "2733 2016-12-24 21:10:00                20:40              G7128        0   \n",
       "2734 2016-12-24 21:10:00                20:40              G7128        0   \n",
       "2735 2016-12-24 21:10:00                20:40              G7128        0   \n",
       "2736 2016-12-24 21:10:00                20:40              G7128        0   \n",
       "2737 2016-12-24 21:10:00                20:40              G7128        0   \n",
       "2738 2016-12-24 21:10:00                20:40              G7128        0   \n",
       "2739 2016-12-24 21:31:00                21:01              G7128        0   \n",
       "2740 2016-12-24 21:31:00                21:01              G7128        0   \n",
       "2741 2016-12-24 21:31:00                21:01              G7128        0   \n",
       "2742 2016-12-24 21:31:00                21:01              G7128        0   \n",
       "2743 2016-12-24 21:31:00                21:01              G7128        0   \n",
       "2744 2016-12-24 21:44:00                21:14              G7128        0   \n",
       "2745 2016-12-24 21:44:00                21:14              G7128        0   \n",
       "2746 2016-12-24 21:44:00                21:14              G7128        0   \n",
       "2747 2016-12-24 21:44:00                21:14              G7128        0   \n",
       "2748 2016-12-24 22:18:00                21:48              G7128        0   \n",
       "2749 2016-12-24 22:18:00                21:48              G7128        0   \n",
       "2750 2016-12-24 22:43:00                22:13              G7128        0   \n",
       "\n",
       "     to_station_name      train_no  tz_num  wz_num  ze_num  zy_num  \\\n",
       "2733             昆山南  5l000G7128A0       0     168     309      29   \n",
       "2734              苏州  5l000G7128A0       0     168     255      27   \n",
       "2735              无锡  5l000G7128A0       0     168     282      25   \n",
       "2736              常州  5l000G7128A0       0     168     267      25   \n",
       "2737              镇江  5l000G7128A0       0     168     245      25   \n",
       "2738              南京  5l000G7128A0       0     168     266      24   \n",
       "2739              苏州  5l000G7128A0       0     168     196      22   \n",
       "2740              无锡  5l000G7128A0       0     168     190      20   \n",
       "2741              常州  5l000G7128A0       0     168     178      20   \n",
       "2742              镇江  5l000G7128A0       0     168     190      21   \n",
       "2743              南京  5l000G7128A0       0     168     181      19   \n",
       "2744              无锡  5l000G7128A0       0     168     324      32   \n",
       "2745              常州  5l000G7128A0       0     168     312      32   \n",
       "2746              镇江  5l000G7128A0       0     168     324      32   \n",
       "2747              南京  5l000G7128A0       0     168     322      31   \n",
       "2748              镇江  5l000G7128A0       0     168     418      39   \n",
       "2749              南京  5l000G7128A0       0     168     409      38   \n",
       "2750              南京  5l000G7128A0       0     168     445      39   \n",
       "\n",
       "                         station_name  \\\n",
       "2733  [上海虹桥, 昆山南, 苏州, 无锡, 常州, 镇江, 南京]   \n",
       "2734  [上海虹桥, 昆山南, 苏州, 无锡, 常州, 镇江, 南京]   \n",
       "2735  [上海虹桥, 昆山南, 苏州, 无锡, 常州, 镇江, 南京]   \n",
       "2736  [上海虹桥, 昆山南, 苏州, 无锡, 常州, 镇江, 南京]   \n",
       "2737  [上海虹桥, 昆山南, 苏州, 无锡, 常州, 镇江, 南京]   \n",
       "2738  [上海虹桥, 昆山南, 苏州, 无锡, 常州, 镇江, 南京]   \n",
       "2739  [上海虹桥, 昆山南, 苏州, 无锡, 常州, 镇江, 南京]   \n",
       "2740  [上海虹桥, 昆山南, 苏州, 无锡, 常州, 镇江, 南京]   \n",
       "2741  [上海虹桥, 昆山南, 苏州, 无锡, 常州, 镇江, 南京]   \n",
       "2742  [上海虹桥, 昆山南, 苏州, 无锡, 常州, 镇江, 南京]   \n",
       "2743  [上海虹桥, 昆山南, 苏州, 无锡, 常州, 镇江, 南京]   \n",
       "2744  [上海虹桥, 昆山南, 苏州, 无锡, 常州, 镇江, 南京]   \n",
       "2745  [上海虹桥, 昆山南, 苏州, 无锡, 常州, 镇江, 南京]   \n",
       "2746  [上海虹桥, 昆山南, 苏州, 无锡, 常州, 镇江, 南京]   \n",
       "2747  [上海虹桥, 昆山南, 苏州, 无锡, 常州, 镇江, 南京]   \n",
       "2748  [上海虹桥, 昆山南, 苏州, 无锡, 常州, 镇江, 南京]   \n",
       "2749  [上海虹桥, 昆山南, 苏州, 无锡, 常州, 镇江, 南京]   \n",
       "2750  [上海虹桥, 昆山南, 苏州, 无锡, 常州, 镇江, 南京]   \n",
       "\n",
       "                                       station_interval  \n",
       "2733  [[上海虹桥, 昆山南], [昆山南, 苏州], [苏州, 无锡], [无锡, 常州], [...  \n",
       "2734  [[上海虹桥, 昆山南], [昆山南, 苏州], [苏州, 无锡], [无锡, 常州], [...  \n",
       "2735  [[上海虹桥, 昆山南], [昆山南, 苏州], [苏州, 无锡], [无锡, 常州], [...  \n",
       "2736  [[上海虹桥, 昆山南], [昆山南, 苏州], [苏州, 无锡], [无锡, 常州], [...  \n",
       "2737  [[上海虹桥, 昆山南], [昆山南, 苏州], [苏州, 无锡], [无锡, 常州], [...  \n",
       "2738  [[上海虹桥, 昆山南], [昆山南, 苏州], [苏州, 无锡], [无锡, 常州], [...  \n",
       "2739  [[上海虹桥, 昆山南], [昆山南, 苏州], [苏州, 无锡], [无锡, 常州], [...  \n",
       "2740  [[上海虹桥, 昆山南], [昆山南, 苏州], [苏州, 无锡], [无锡, 常州], [...  \n",
       "2741  [[上海虹桥, 昆山南], [昆山南, 苏州], [苏州, 无锡], [无锡, 常州], [...  \n",
       "2742  [[上海虹桥, 昆山南], [昆山南, 苏州], [苏州, 无锡], [无锡, 常州], [...  \n",
       "2743  [[上海虹桥, 昆山南], [昆山南, 苏州], [苏州, 无锡], [无锡, 常州], [...  \n",
       "2744  [[上海虹桥, 昆山南], [昆山南, 苏州], [苏州, 无锡], [无锡, 常州], [...  \n",
       "2745  [[上海虹桥, 昆山南], [昆山南, 苏州], [苏州, 无锡], [无锡, 常州], [...  \n",
       "2746  [[上海虹桥, 昆山南], [昆山南, 苏州], [苏州, 无锡], [无锡, 常州], [...  \n",
       "2747  [[上海虹桥, 昆山南], [昆山南, 苏州], [苏州, 无锡], [无锡, 常州], [...  \n",
       "2748  [[上海虹桥, 昆山南], [昆山南, 苏州], [苏州, 无锡], [无锡, 常州], [...  \n",
       "2749  [[上海虹桥, 昆山南], [昆山南, 苏州], [苏州, 无锡], [无锡, 常州], [...  \n",
       "2750  [[上海虹桥, 昆山南], [昆山南, 苏州], [苏州, 无锡], [无锡, 常州], [...  "
      ]
     },
     "execution_count": 190,
     "metadata": {},
     "output_type": "execute_result"
    }
   ],
   "source": [
    "df_tickets_com = pd.merge(df_tickets,df_stations,on='train_no')\n",
    "df_tickets_com[df_tickets_com['station_train_code'] == 'G7128']"
   ]
  },
  {
   "cell_type": "markdown",
   "metadata": {},
   "source": [
    "```\n",
    "print (my_df.apply(lambda x: x.A in x.B, axis=1))\n",
    "0     True\n",
    "1    False\n",
    "2     True\n",
    "dtype: bool\n",
    "print (my_df[my_df.apply(lambda x: x.A in x.B, axis=1)])\n",
    "          A                               B\n",
    "0  [aa, ab]  [[aa, ab], [ba, bb], [bc, bd]]\n",
    "2  [bc, bd]            [[aa, ab], [bc, bd]]\n",
    "```"
   ]
  },
  {
   "cell_type": "code",
   "execution_count": 191,
   "metadata": {
    "collapsed": false
   },
   "outputs": [
    {
     "data": {
      "text/html": [
       "<div>\n",
       "<table border=\"1\" class=\"dataframe\">\n",
       "  <thead>\n",
       "    <tr style=\"text-align: right;\">\n",
       "      <th></th>\n",
       "      <th>from_station_name</th>\n",
       "      <th>from_to</th>\n",
       "      <th>record_date</th>\n",
       "      <th>record_time</th>\n",
       "      <th>start_time</th>\n",
       "      <th>start_time_before30m</th>\n",
       "      <th>station_train_code</th>\n",
       "      <th>swz_num</th>\n",
       "      <th>to_station_name</th>\n",
       "      <th>train_no</th>\n",
       "      <th>tz_num</th>\n",
       "      <th>wz_num</th>\n",
       "      <th>ze_num</th>\n",
       "      <th>zy_num</th>\n",
       "      <th>station_name</th>\n",
       "      <th>station_interval</th>\n",
       "    </tr>\n",
       "  </thead>\n",
       "  <tbody>\n",
       "    <tr>\n",
       "      <th>2771</th>\n",
       "      <td>上海</td>\n",
       "      <td>[上海, 苏州]</td>\n",
       "      <td>2016-12-21</td>\n",
       "      <td>2016-12-24 21:54:00</td>\n",
       "      <td>2016-12-24 22:24:00</td>\n",
       "      <td>21:54</td>\n",
       "      <td>D306</td>\n",
       "      <td>0</td>\n",
       "      <td>苏州</td>\n",
       "      <td>550000D30661</td>\n",
       "      <td>0</td>\n",
       "      <td>0</td>\n",
       "      <td>77</td>\n",
       "      <td>0</td>\n",
       "      <td>[上海, 苏州, 南京, 徐州, 郑州东, 洛阳龙门, 三门峡南, 华山北, 渭南北, 西安北]</td>\n",
       "      <td>[[上海, 苏州], [苏州, 南京], [南京, 徐州], [徐州, 郑州东], [郑州东...</td>\n",
       "    </tr>\n",
       "    <tr>\n",
       "      <th>2773</th>\n",
       "      <td>苏州</td>\n",
       "      <td>[苏州, 南京]</td>\n",
       "      <td>2016-12-21</td>\n",
       "      <td>2016-12-24 22:44:00</td>\n",
       "      <td>2016-12-24 23:14:00</td>\n",
       "      <td>22:44</td>\n",
       "      <td>D306</td>\n",
       "      <td>0</td>\n",
       "      <td>南京</td>\n",
       "      <td>550000D30661</td>\n",
       "      <td>0</td>\n",
       "      <td>0</td>\n",
       "      <td>4</td>\n",
       "      <td>0</td>\n",
       "      <td>[上海, 苏州, 南京, 徐州, 郑州东, 洛阳龙门, 三门峡南, 华山北, 渭南北, 西安北]</td>\n",
       "      <td>[[上海, 苏州], [苏州, 南京], [南京, 徐州], [徐州, 郑州东], [郑州东...</td>\n",
       "    </tr>\n",
       "  </tbody>\n",
       "</table>\n",
       "</div>"
      ],
      "text/plain": [
       "     from_station_name   from_to record_date         record_time  \\\n",
       "2771                上海  [上海, 苏州]  2016-12-21 2016-12-24 21:54:00   \n",
       "2773                苏州  [苏州, 南京]  2016-12-21 2016-12-24 22:44:00   \n",
       "\n",
       "              start_time start_time_before30m station_train_code  swz_num  \\\n",
       "2771 2016-12-24 22:24:00                21:54               D306        0   \n",
       "2773 2016-12-24 23:14:00                22:44               D306        0   \n",
       "\n",
       "     to_station_name      train_no  tz_num  wz_num  ze_num  zy_num  \\\n",
       "2771              苏州  550000D30661       0       0      77       0   \n",
       "2773              南京  550000D30661       0       0       4       0   \n",
       "\n",
       "                                          station_name  \\\n",
       "2771  [上海, 苏州, 南京, 徐州, 郑州东, 洛阳龙门, 三门峡南, 华山北, 渭南北, 西安北]   \n",
       "2773  [上海, 苏州, 南京, 徐州, 郑州东, 洛阳龙门, 三门峡南, 华山北, 渭南北, 西安北]   \n",
       "\n",
       "                                       station_interval  \n",
       "2771  [[上海, 苏州], [苏州, 南京], [南京, 徐州], [徐州, 郑州东], [郑州东...  \n",
       "2773  [[上海, 苏州], [苏州, 南京], [南京, 徐州], [徐州, 郑州东], [郑州东...  "
      ]
     },
     "execution_count": 191,
     "metadata": {},
     "output_type": "execute_result"
    }
   ],
   "source": [
    "df_tickets_com2 = df_tickets_com[df_tickets_com.apply(lambda x: x['from_to'] in x['station_interval'], axis=1)]\n",
    "df_tickets_com2.tail(2)"
   ]
  },
  {
   "cell_type": "code",
   "execution_count": 193,
   "metadata": {
    "collapsed": false
   },
   "outputs": [
    {
     "data": {
      "text/html": [
       "<div>\n",
       "<table border=\"1\" class=\"dataframe\">\n",
       "  <thead>\n",
       "    <tr style=\"text-align: right;\">\n",
       "      <th></th>\n",
       "      <th>from_station_name</th>\n",
       "      <th>from_to</th>\n",
       "      <th>record_date</th>\n",
       "      <th>record_time</th>\n",
       "      <th>start_time</th>\n",
       "      <th>start_time_before30m</th>\n",
       "      <th>station_train_code</th>\n",
       "      <th>swz_num</th>\n",
       "      <th>to_station_name</th>\n",
       "      <th>train_no</th>\n",
       "      <th>tz_num</th>\n",
       "      <th>wz_num</th>\n",
       "      <th>ze_num</th>\n",
       "      <th>zy_num</th>\n",
       "      <th>station_name</th>\n",
       "      <th>station_interval</th>\n",
       "    </tr>\n",
       "  </thead>\n",
       "  <tbody>\n",
       "    <tr>\n",
       "      <th>2733</th>\n",
       "      <td>上海虹桥</td>\n",
       "      <td>[上海虹桥, 昆山南]</td>\n",
       "      <td>2016-12-21</td>\n",
       "      <td>2016-12-24 20:40:00</td>\n",
       "      <td>2016-12-24 21:10:00</td>\n",
       "      <td>20:40</td>\n",
       "      <td>G7128</td>\n",
       "      <td>0</td>\n",
       "      <td>昆山南</td>\n",
       "      <td>5l000G7128A0</td>\n",
       "      <td>0</td>\n",
       "      <td>168</td>\n",
       "      <td>309</td>\n",
       "      <td>29</td>\n",
       "      <td>[上海虹桥, 昆山南, 苏州, 无锡, 常州, 镇江, 南京]</td>\n",
       "      <td>[[上海虹桥, 昆山南], [昆山南, 苏州], [苏州, 无锡], [无锡, 常州], [...</td>\n",
       "    </tr>\n",
       "    <tr>\n",
       "      <th>2739</th>\n",
       "      <td>昆山南</td>\n",
       "      <td>[昆山南, 苏州]</td>\n",
       "      <td>2016-12-21</td>\n",
       "      <td>2016-12-24 21:01:00</td>\n",
       "      <td>2016-12-24 21:31:00</td>\n",
       "      <td>21:01</td>\n",
       "      <td>G7128</td>\n",
       "      <td>0</td>\n",
       "      <td>苏州</td>\n",
       "      <td>5l000G7128A0</td>\n",
       "      <td>0</td>\n",
       "      <td>168</td>\n",
       "      <td>196</td>\n",
       "      <td>22</td>\n",
       "      <td>[上海虹桥, 昆山南, 苏州, 无锡, 常州, 镇江, 南京]</td>\n",
       "      <td>[[上海虹桥, 昆山南], [昆山南, 苏州], [苏州, 无锡], [无锡, 常州], [...</td>\n",
       "    </tr>\n",
       "  </tbody>\n",
       "</table>\n",
       "</div>"
      ],
      "text/plain": [
       "     from_station_name      from_to record_date         record_time  \\\n",
       "2733              上海虹桥  [上海虹桥, 昆山南]  2016-12-21 2016-12-24 20:40:00   \n",
       "2739               昆山南    [昆山南, 苏州]  2016-12-21 2016-12-24 21:01:00   \n",
       "\n",
       "              start_time start_time_before30m station_train_code  swz_num  \\\n",
       "2733 2016-12-24 21:10:00                20:40              G7128        0   \n",
       "2739 2016-12-24 21:31:00                21:01              G7128        0   \n",
       "\n",
       "     to_station_name      train_no  tz_num  wz_num  ze_num  zy_num  \\\n",
       "2733             昆山南  5l000G7128A0       0     168     309      29   \n",
       "2739              苏州  5l000G7128A0       0     168     196      22   \n",
       "\n",
       "                         station_name  \\\n",
       "2733  [上海虹桥, 昆山南, 苏州, 无锡, 常州, 镇江, 南京]   \n",
       "2739  [上海虹桥, 昆山南, 苏州, 无锡, 常州, 镇江, 南京]   \n",
       "\n",
       "                                       station_interval  \n",
       "2733  [[上海虹桥, 昆山南], [昆山南, 苏州], [苏州, 无锡], [无锡, 常州], [...  \n",
       "2739  [[上海虹桥, 昆山南], [昆山南, 苏州], [苏州, 无锡], [无锡, 常州], [...  "
      ]
     },
     "execution_count": 193,
     "metadata": {},
     "output_type": "execute_result"
    }
   ],
   "source": [
    "df_tickets_com2[df_tickets_com2['station_train_code'] == 'G7128'].head(2)"
   ]
  },
  {
   "cell_type": "code",
   "execution_count": 194,
   "metadata": {
    "collapsed": false
   },
   "outputs": [
    {
     "data": {
      "text/plain": [
       "851"
      ]
     },
     "execution_count": 194,
     "metadata": {},
     "output_type": "execute_result"
    }
   ],
   "source": [
    "len(df_tickets_com2)"
   ]
  },
  {
   "cell_type": "code",
   "execution_count": 199,
   "metadata": {
    "collapsed": false
   },
   "outputs": [],
   "source": [
    "df_tickets_com2.to_json('./data/tickets_to_analysi.json')"
   ]
  },
  {
   "cell_type": "code",
   "execution_count": null,
   "metadata": {
    "collapsed": true
   },
   "outputs": [],
   "source": []
  }
 ],
 "metadata": {
  "anaconda-cloud": {},
  "kernelspec": {
   "display_name": "Python [conda root]",
   "language": "python",
   "name": "conda-root-py"
  },
  "language_info": {
   "codemirror_mode": {
    "name": "ipython",
    "version": 2
   },
   "file_extension": ".py",
   "mimetype": "text/x-python",
   "name": "python",
   "nbconvert_exporter": "python",
   "pygments_lexer": "ipython2",
   "version": "2.7.12"
  }
 },
 "nbformat": 4,
 "nbformat_minor": 1
}
