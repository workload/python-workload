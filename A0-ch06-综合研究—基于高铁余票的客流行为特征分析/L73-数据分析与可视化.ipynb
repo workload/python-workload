{
 "cells": [
  {
   "cell_type": "markdown",
   "metadata": {},
   "source": [
    "# 数据分析与数据可视化"
   ]
  },
  {
   "cell_type": "code",
   "execution_count": 2,
   "metadata": {
    "collapsed": false
   },
   "outputs": [
    {
     "data": {
      "text/html": [
       "<div>\n",
       "<table border=\"1\" class=\"dataframe\">\n",
       "  <thead>\n",
       "    <tr style=\"text-align: right;\">\n",
       "      <th></th>\n",
       "      <th>from_station_name</th>\n",
       "      <th>from_to</th>\n",
       "      <th>record_date</th>\n",
       "      <th>record_time</th>\n",
       "      <th>start_time</th>\n",
       "      <th>start_time_before30m</th>\n",
       "      <th>station_interval</th>\n",
       "      <th>station_name</th>\n",
       "      <th>station_train_code</th>\n",
       "      <th>swz_num</th>\n",
       "      <th>to_station_name</th>\n",
       "      <th>train_no</th>\n",
       "      <th>tz_num</th>\n",
       "      <th>wz_num</th>\n",
       "      <th>ze_num</th>\n",
       "      <th>zy_num</th>\n",
       "    </tr>\n",
       "  </thead>\n",
       "  <tbody>\n",
       "    <tr>\n",
       "      <th>991</th>\n",
       "      <td>昆山南</td>\n",
       "      <td>[昆山南, 苏州]</td>\n",
       "      <td>2016-12-21</td>\n",
       "      <td>2016-12-24 10:56:00</td>\n",
       "      <td>2016-12-24 11:26:00</td>\n",
       "      <td>10:56</td>\n",
       "      <td>[[上海虹桥, 昆山南], [昆山南, 苏州], [苏州, 无锡], [无锡, 常州], [...</td>\n",
       "      <td>[上海虹桥, 昆山南, 苏州, 无锡, 常州, 镇江, 南京]</td>\n",
       "      <td>G7106</td>\n",
       "      <td>0</td>\n",
       "      <td>苏州</td>\n",
       "      <td>5l000G710600</td>\n",
       "      <td>0</td>\n",
       "      <td>163</td>\n",
       "      <td>2</td>\n",
       "      <td>0</td>\n",
       "    </tr>\n",
       "    <tr>\n",
       "      <th>996</th>\n",
       "      <td>苏州</td>\n",
       "      <td>[苏州, 无锡]</td>\n",
       "      <td>2016-12-21</td>\n",
       "      <td>2016-12-24 11:09:00</td>\n",
       "      <td>2016-12-24 11:39:00</td>\n",
       "      <td>11:09</td>\n",
       "      <td>[[上海虹桥, 昆山南], [昆山南, 苏州], [苏州, 无锡], [无锡, 常州], [...</td>\n",
       "      <td>[上海虹桥, 昆山南, 苏州, 无锡, 常州, 镇江, 南京]</td>\n",
       "      <td>G7106</td>\n",
       "      <td>0</td>\n",
       "      <td>无锡</td>\n",
       "      <td>5l000G710600</td>\n",
       "      <td>0</td>\n",
       "      <td>160</td>\n",
       "      <td>7</td>\n",
       "      <td>8</td>\n",
       "    </tr>\n",
       "  </tbody>\n",
       "</table>\n",
       "</div>"
      ],
      "text/plain": [
       "    from_station_name    from_to record_date         record_time  \\\n",
       "991               昆山南  [昆山南, 苏州]  2016-12-21 2016-12-24 10:56:00   \n",
       "996                苏州   [苏州, 无锡]  2016-12-21 2016-12-24 11:09:00   \n",
       "\n",
       "             start_time start_time_before30m  \\\n",
       "991 2016-12-24 11:26:00                10:56   \n",
       "996 2016-12-24 11:39:00                11:09   \n",
       "\n",
       "                                      station_interval  \\\n",
       "991  [[上海虹桥, 昆山南], [昆山南, 苏州], [苏州, 无锡], [无锡, 常州], [...   \n",
       "996  [[上海虹桥, 昆山南], [昆山南, 苏州], [苏州, 无锡], [无锡, 常州], [...   \n",
       "\n",
       "                        station_name station_train_code  swz_num  \\\n",
       "991  [上海虹桥, 昆山南, 苏州, 无锡, 常州, 镇江, 南京]              G7106        0   \n",
       "996  [上海虹桥, 昆山南, 苏州, 无锡, 常州, 镇江, 南京]              G7106        0   \n",
       "\n",
       "    to_station_name      train_no  tz_num  wz_num  ze_num  zy_num  \n",
       "991              苏州  5l000G710600       0     163       2       0  \n",
       "996              无锡  5l000G710600       0     160       7       8  "
      ]
     },
     "execution_count": 2,
     "metadata": {},
     "output_type": "execute_result"
    }
   ],
   "source": [
    "import pandas as pd\n",
    "import matplotlib.pyplot as plt\n",
    "%matplotlib inline\n",
    "dff = pd.read_json('./data/tickets_to_analysi.json')\n",
    "dff.tail(2)"
   ]
  },
  {
   "cell_type": "markdown",
   "metadata": {},
   "source": [
    "# 1. 苏州四个站点一周每日上下净客流量？"
   ]
  },
  {
   "cell_type": "code",
   "execution_count": 2,
   "metadata": {
    "collapsed": false
   },
   "outputs": [
    {
     "data": {
      "text/html": [
       "<div>\n",
       "<table border=\"1\" class=\"dataframe\">\n",
       "  <thead>\n",
       "    <tr style=\"text-align: right;\">\n",
       "      <th></th>\n",
       "      <th>from_station_name</th>\n",
       "      <th>from_to</th>\n",
       "      <th>record_date</th>\n",
       "      <th>record_time</th>\n",
       "      <th>start_time</th>\n",
       "      <th>start_time_before30m</th>\n",
       "      <th>station_interval</th>\n",
       "      <th>station_name</th>\n",
       "      <th>station_train_code</th>\n",
       "      <th>swz_num</th>\n",
       "      <th>to_station_name</th>\n",
       "      <th>train_no</th>\n",
       "      <th>tz_num</th>\n",
       "      <th>wz_num</th>\n",
       "      <th>ze_num</th>\n",
       "      <th>zy_num</th>\n",
       "    </tr>\n",
       "  </thead>\n",
       "  <tbody>\n",
       "    <tr>\n",
       "      <th>2713</th>\n",
       "      <td>昆山南</td>\n",
       "      <td>[昆山南, 苏州]</td>\n",
       "      <td>2016-12-21</td>\n",
       "      <td>2016-12-24 20:50:00</td>\n",
       "      <td>2016-12-24 21:20:00</td>\n",
       "      <td>20:50</td>\n",
       "      <td>[[上海, 昆山南], [昆山南, 苏州], [苏州, 无锡], [无锡, 常州], [常州...</td>\n",
       "      <td>[上海, 昆山南, 苏州, 无锡, 常州, 镇江, 南京]</td>\n",
       "      <td>G7030</td>\n",
       "      <td>0</td>\n",
       "      <td>苏州</td>\n",
       "      <td>55000G703050</td>\n",
       "      <td>0</td>\n",
       "      <td>168</td>\n",
       "      <td>164</td>\n",
       "      <td>7</td>\n",
       "    </tr>\n",
       "    <tr>\n",
       "      <th>2751</th>\n",
       "      <td>上海虹桥</td>\n",
       "      <td>[上海虹桥, 苏州]</td>\n",
       "      <td>2016-12-21</td>\n",
       "      <td>2016-12-24 20:53:00</td>\n",
       "      <td>2016-12-24 21:23:00</td>\n",
       "      <td>20:53</td>\n",
       "      <td>[[深圳北, 惠州南], [惠州南, 惠东], [惠东, 汕尾], [汕尾, 潮阳], [潮...</td>\n",
       "      <td>[深圳北, 惠州南, 惠东, 汕尾, 潮阳, 潮汕, 诏安, 漳浦, 漳州, 厦门北, 泉州...</td>\n",
       "      <td>D2282</td>\n",
       "      <td>0</td>\n",
       "      <td>苏州</td>\n",
       "      <td>6i000D228207</td>\n",
       "      <td>0</td>\n",
       "      <td>159</td>\n",
       "      <td>290</td>\n",
       "      <td>64</td>\n",
       "    </tr>\n",
       "    <tr>\n",
       "      <th>2739</th>\n",
       "      <td>昆山南</td>\n",
       "      <td>[昆山南, 苏州]</td>\n",
       "      <td>2016-12-21</td>\n",
       "      <td>2016-12-24 21:01:00</td>\n",
       "      <td>2016-12-24 21:31:00</td>\n",
       "      <td>21:01</td>\n",
       "      <td>[[上海虹桥, 昆山南], [昆山南, 苏州], [苏州, 无锡], [无锡, 常州], [...</td>\n",
       "      <td>[上海虹桥, 昆山南, 苏州, 无锡, 常州, 镇江, 南京]</td>\n",
       "      <td>G7128</td>\n",
       "      <td>0</td>\n",
       "      <td>苏州</td>\n",
       "      <td>5l000G7128A0</td>\n",
       "      <td>0</td>\n",
       "      <td>168</td>\n",
       "      <td>196</td>\n",
       "      <td>22</td>\n",
       "    </tr>\n",
       "    <tr>\n",
       "      <th>2764</th>\n",
       "      <td>上海虹桥</td>\n",
       "      <td>[上海虹桥, 苏州]</td>\n",
       "      <td>2016-12-21</td>\n",
       "      <td>2016-12-24 21:12:00</td>\n",
       "      <td>2016-12-24 21:42:00</td>\n",
       "      <td>21:12</td>\n",
       "      <td>[[苍南, 鳌江], [鳌江, 温州南], [温州南, 青田], [青田, 丽水], [丽水...</td>\n",
       "      <td>[苍南, 鳌江, 温州南, 青田, 丽水, 缙云西, 永康南, 武义北, 义乌, 杭州东, ...</td>\n",
       "      <td>G7350</td>\n",
       "      <td>13</td>\n",
       "      <td>苏州</td>\n",
       "      <td>5j000G735010</td>\n",
       "      <td>0</td>\n",
       "      <td>294</td>\n",
       "      <td>312</td>\n",
       "      <td>5</td>\n",
       "    </tr>\n",
       "    <tr>\n",
       "      <th>2771</th>\n",
       "      <td>上海</td>\n",
       "      <td>[上海, 苏州]</td>\n",
       "      <td>2016-12-21</td>\n",
       "      <td>2016-12-24 21:54:00</td>\n",
       "      <td>2016-12-24 22:24:00</td>\n",
       "      <td>21:54</td>\n",
       "      <td>[[上海, 苏州], [苏州, 南京], [南京, 徐州], [徐州, 郑州东], [郑州东...</td>\n",
       "      <td>[上海, 苏州, 南京, 徐州, 郑州东, 洛阳龙门, 三门峡南, 华山北, 渭南北, 西安北]</td>\n",
       "      <td>D306</td>\n",
       "      <td>0</td>\n",
       "      <td>苏州</td>\n",
       "      <td>550000D30661</td>\n",
       "      <td>0</td>\n",
       "      <td>0</td>\n",
       "      <td>77</td>\n",
       "      <td>0</td>\n",
       "    </tr>\n",
       "  </tbody>\n",
       "</table>\n",
       "</div>"
      ],
      "text/plain": [
       "     from_station_name     from_to record_date         record_time  \\\n",
       "2713               昆山南   [昆山南, 苏州]  2016-12-21 2016-12-24 20:50:00   \n",
       "2751              上海虹桥  [上海虹桥, 苏州]  2016-12-21 2016-12-24 20:53:00   \n",
       "2739               昆山南   [昆山南, 苏州]  2016-12-21 2016-12-24 21:01:00   \n",
       "2764              上海虹桥  [上海虹桥, 苏州]  2016-12-21 2016-12-24 21:12:00   \n",
       "2771                上海    [上海, 苏州]  2016-12-21 2016-12-24 21:54:00   \n",
       "\n",
       "              start_time start_time_before30m  \\\n",
       "2713 2016-12-24 21:20:00                20:50   \n",
       "2751 2016-12-24 21:23:00                20:53   \n",
       "2739 2016-12-24 21:31:00                21:01   \n",
       "2764 2016-12-24 21:42:00                21:12   \n",
       "2771 2016-12-24 22:24:00                21:54   \n",
       "\n",
       "                                       station_interval  \\\n",
       "2713  [[上海, 昆山南], [昆山南, 苏州], [苏州, 无锡], [无锡, 常州], [常州...   \n",
       "2751  [[深圳北, 惠州南], [惠州南, 惠东], [惠东, 汕尾], [汕尾, 潮阳], [潮...   \n",
       "2739  [[上海虹桥, 昆山南], [昆山南, 苏州], [苏州, 无锡], [无锡, 常州], [...   \n",
       "2764  [[苍南, 鳌江], [鳌江, 温州南], [温州南, 青田], [青田, 丽水], [丽水...   \n",
       "2771  [[上海, 苏州], [苏州, 南京], [南京, 徐州], [徐州, 郑州东], [郑州东...   \n",
       "\n",
       "                                           station_name station_train_code  \\\n",
       "2713                      [上海, 昆山南, 苏州, 无锡, 常州, 镇江, 南京]              G7030   \n",
       "2751  [深圳北, 惠州南, 惠东, 汕尾, 潮阳, 潮汕, 诏安, 漳浦, 漳州, 厦门北, 泉州...              D2282   \n",
       "2739                    [上海虹桥, 昆山南, 苏州, 无锡, 常州, 镇江, 南京]              G7128   \n",
       "2764  [苍南, 鳌江, 温州南, 青田, 丽水, 缙云西, 永康南, 武义北, 义乌, 杭州东, ...              G7350   \n",
       "2771   [上海, 苏州, 南京, 徐州, 郑州东, 洛阳龙门, 三门峡南, 华山北, 渭南北, 西安北]               D306   \n",
       "\n",
       "      swz_num to_station_name      train_no  tz_num  wz_num  ze_num  zy_num  \n",
       "2713        0              苏州  55000G703050       0     168     164       7  \n",
       "2751        0              苏州  6i000D228207       0     159     290      64  \n",
       "2739        0              苏州  5l000G7128A0       0     168     196      22  \n",
       "2764       13              苏州  5j000G735010       0     294     312       5  \n",
       "2771        0              苏州  550000D30661       0       0      77       0  "
      ]
     },
     "execution_count": 2,
     "metadata": {},
     "output_type": "execute_result"
    }
   ],
   "source": [
    "df_to_suzhou = dff[dff['to_station_name'].isin([u'苏州',u'苏州北',u'苏州园区',u'苏州新区'])]\n",
    "df_to_suzhou.sort_values(by='record_time').tail(5)"
   ]
  },
  {
   "cell_type": "code",
   "execution_count": 3,
   "metadata": {
    "collapsed": false
   },
   "outputs": [
    {
     "data": {
      "text/html": [
       "<div>\n",
       "<table border=\"1\" class=\"dataframe\">\n",
       "  <thead>\n",
       "    <tr style=\"text-align: right;\">\n",
       "      <th></th>\n",
       "      <th>from_station_name</th>\n",
       "      <th>from_to</th>\n",
       "      <th>record_date</th>\n",
       "      <th>record_time</th>\n",
       "      <th>start_time</th>\n",
       "      <th>start_time_before30m</th>\n",
       "      <th>station_interval</th>\n",
       "      <th>station_name</th>\n",
       "      <th>station_train_code</th>\n",
       "      <th>swz_num</th>\n",
       "      <th>to_station_name</th>\n",
       "      <th>train_no</th>\n",
       "      <th>tz_num</th>\n",
       "      <th>wz_num</th>\n",
       "      <th>ze_num</th>\n",
       "      <th>zy_num</th>\n",
       "    </tr>\n",
       "  </thead>\n",
       "  <tbody>\n",
       "    <tr>\n",
       "      <th>2744</th>\n",
       "      <td>苏州</td>\n",
       "      <td>[苏州, 无锡]</td>\n",
       "      <td>2016-12-21</td>\n",
       "      <td>2016-12-24 21:14:00</td>\n",
       "      <td>2016-12-24 21:44:00</td>\n",
       "      <td>21:14</td>\n",
       "      <td>[[上海虹桥, 昆山南], [昆山南, 苏州], [苏州, 无锡], [无锡, 常州], [...</td>\n",
       "      <td>[上海虹桥, 昆山南, 苏州, 无锡, 常州, 镇江, 南京]</td>\n",
       "      <td>G7128</td>\n",
       "      <td>0</td>\n",
       "      <td>无锡</td>\n",
       "      <td>5l000G7128A0</td>\n",
       "      <td>0</td>\n",
       "      <td>168</td>\n",
       "      <td>324</td>\n",
       "      <td>32</td>\n",
       "    </tr>\n",
       "    <tr>\n",
       "      <th>2755</th>\n",
       "      <td>苏州</td>\n",
       "      <td>[苏州, 无锡]</td>\n",
       "      <td>2016-12-21</td>\n",
       "      <td>2016-12-24 21:23:00</td>\n",
       "      <td>2016-12-24 21:53:00</td>\n",
       "      <td>21:23</td>\n",
       "      <td>[[深圳北, 惠州南], [惠州南, 惠东], [惠东, 汕尾], [汕尾, 潮阳], [潮...</td>\n",
       "      <td>[深圳北, 惠州南, 惠东, 汕尾, 潮阳, 潮汕, 诏安, 漳浦, 漳州, 厦门北, 泉州...</td>\n",
       "      <td>D2282</td>\n",
       "      <td>0</td>\n",
       "      <td>无锡</td>\n",
       "      <td>6i000D228207</td>\n",
       "      <td>0</td>\n",
       "      <td>160</td>\n",
       "      <td>491</td>\n",
       "      <td>74</td>\n",
       "    </tr>\n",
       "    <tr>\n",
       "      <th>2758</th>\n",
       "      <td>苏州</td>\n",
       "      <td>[苏州, 无锡]</td>\n",
       "      <td>2016-12-21</td>\n",
       "      <td>2016-12-24 21:23:00</td>\n",
       "      <td>2016-12-24 21:53:00</td>\n",
       "      <td>21:23</td>\n",
       "      <td>[[深圳北, 惠州南], [惠州南, 惠东], [惠东, 汕尾], [汕尾, 潮阳], [潮...</td>\n",
       "      <td>[深圳北, 惠州南, 惠东, 汕尾, 潮阳, 潮汕, 诏安, 漳浦, 漳州, 厦门北, 泉州...</td>\n",
       "      <td>D2282</td>\n",
       "      <td>0</td>\n",
       "      <td>无锡</td>\n",
       "      <td>6i000D228207</td>\n",
       "      <td>0</td>\n",
       "      <td>160</td>\n",
       "      <td>491</td>\n",
       "      <td>74</td>\n",
       "    </tr>\n",
       "    <tr>\n",
       "      <th>2732</th>\n",
       "      <td>苏州</td>\n",
       "      <td>[苏州, 南京]</td>\n",
       "      <td>2016-12-21</td>\n",
       "      <td>2016-12-24 21:24:00</td>\n",
       "      <td>2016-12-24 21:54:00</td>\n",
       "      <td>21:24</td>\n",
       "      <td>[[上海, 苏州], [苏州, 南京], [南京, 北京南]]</td>\n",
       "      <td>[上海, 苏州, 南京, 北京南]</td>\n",
       "      <td>D314</td>\n",
       "      <td>0</td>\n",
       "      <td>南京</td>\n",
       "      <td>550000D31490</td>\n",
       "      <td>0</td>\n",
       "      <td>0</td>\n",
       "      <td>2</td>\n",
       "      <td>0</td>\n",
       "    </tr>\n",
       "    <tr>\n",
       "      <th>2773</th>\n",
       "      <td>苏州</td>\n",
       "      <td>[苏州, 南京]</td>\n",
       "      <td>2016-12-21</td>\n",
       "      <td>2016-12-24 22:44:00</td>\n",
       "      <td>2016-12-24 23:14:00</td>\n",
       "      <td>22:44</td>\n",
       "      <td>[[上海, 苏州], [苏州, 南京], [南京, 徐州], [徐州, 郑州东], [郑州东...</td>\n",
       "      <td>[上海, 苏州, 南京, 徐州, 郑州东, 洛阳龙门, 三门峡南, 华山北, 渭南北, 西安北]</td>\n",
       "      <td>D306</td>\n",
       "      <td>0</td>\n",
       "      <td>南京</td>\n",
       "      <td>550000D30661</td>\n",
       "      <td>0</td>\n",
       "      <td>0</td>\n",
       "      <td>4</td>\n",
       "      <td>0</td>\n",
       "    </tr>\n",
       "  </tbody>\n",
       "</table>\n",
       "</div>"
      ],
      "text/plain": [
       "     from_station_name   from_to record_date         record_time  \\\n",
       "2744                苏州  [苏州, 无锡]  2016-12-21 2016-12-24 21:14:00   \n",
       "2755                苏州  [苏州, 无锡]  2016-12-21 2016-12-24 21:23:00   \n",
       "2758                苏州  [苏州, 无锡]  2016-12-21 2016-12-24 21:23:00   \n",
       "2732                苏州  [苏州, 南京]  2016-12-21 2016-12-24 21:24:00   \n",
       "2773                苏州  [苏州, 南京]  2016-12-21 2016-12-24 22:44:00   \n",
       "\n",
       "              start_time start_time_before30m  \\\n",
       "2744 2016-12-24 21:44:00                21:14   \n",
       "2755 2016-12-24 21:53:00                21:23   \n",
       "2758 2016-12-24 21:53:00                21:23   \n",
       "2732 2016-12-24 21:54:00                21:24   \n",
       "2773 2016-12-24 23:14:00                22:44   \n",
       "\n",
       "                                       station_interval  \\\n",
       "2744  [[上海虹桥, 昆山南], [昆山南, 苏州], [苏州, 无锡], [无锡, 常州], [...   \n",
       "2755  [[深圳北, 惠州南], [惠州南, 惠东], [惠东, 汕尾], [汕尾, 潮阳], [潮...   \n",
       "2758  [[深圳北, 惠州南], [惠州南, 惠东], [惠东, 汕尾], [汕尾, 潮阳], [潮...   \n",
       "2732                    [[上海, 苏州], [苏州, 南京], [南京, 北京南]]   \n",
       "2773  [[上海, 苏州], [苏州, 南京], [南京, 徐州], [徐州, 郑州东], [郑州东...   \n",
       "\n",
       "                                           station_name station_train_code  \\\n",
       "2744                    [上海虹桥, 昆山南, 苏州, 无锡, 常州, 镇江, 南京]              G7128   \n",
       "2755  [深圳北, 惠州南, 惠东, 汕尾, 潮阳, 潮汕, 诏安, 漳浦, 漳州, 厦门北, 泉州...              D2282   \n",
       "2758  [深圳北, 惠州南, 惠东, 汕尾, 潮阳, 潮汕, 诏安, 漳浦, 漳州, 厦门北, 泉州...              D2282   \n",
       "2732                                  [上海, 苏州, 南京, 北京南]               D314   \n",
       "2773   [上海, 苏州, 南京, 徐州, 郑州东, 洛阳龙门, 三门峡南, 华山北, 渭南北, 西安北]               D306   \n",
       "\n",
       "      swz_num to_station_name      train_no  tz_num  wz_num  ze_num  zy_num  \n",
       "2744        0              无锡  5l000G7128A0       0     168     324      32  \n",
       "2755        0              无锡  6i000D228207       0     160     491      74  \n",
       "2758        0              无锡  6i000D228207       0     160     491      74  \n",
       "2732        0              南京  550000D31490       0       0       2       0  \n",
       "2773        0              南京  550000D30661       0       0       4       0  "
      ]
     },
     "execution_count": 3,
     "metadata": {},
     "output_type": "execute_result"
    }
   ],
   "source": [
    "df_from_suzhou = dff[dff['from_station_name'].isin([u'苏州',u'苏州北',u'苏州园区',u'苏州新区'])]\n",
    "df_from_suzhou.sort_values(by='record_time').tail(5)"
   ]
  },
  {
   "cell_type": "markdown",
   "metadata": {},
   "source": [
    "### 添加列——计算余票数据（from，to）"
   ]
  },
  {
   "cell_type": "code",
   "execution_count": 4,
   "metadata": {
    "collapsed": false
   },
   "outputs": [
    {
     "name": "stderr",
     "output_type": "stream",
     "text": [
      "C:\\Anaconda2\\lib\\site-packages\\ipykernel\\__main__.py:1: SettingWithCopyWarning: \n",
      "A value is trying to be set on a copy of a slice from a DataFrame.\n",
      "Try using .loc[row_indexer,col_indexer] = value instead\n",
      "\n",
      "See the caveats in the documentation: http://pandas.pydata.org/pandas-docs/stable/indexing.html#indexing-view-versus-copy\n",
      "  if __name__ == '__main__':\n"
     ]
    }
   ],
   "source": [
    "df_to_suzhou['tickets_sum_to'] = df_to_suzhou['swz_num']+df_to_suzhou['tz_num']\\\n",
    "+df_to_suzhou['wz_num']+df_to_suzhou['ze_num']+df_to_suzhou['zy_num']"
   ]
  },
  {
   "cell_type": "code",
   "execution_count": 5,
   "metadata": {
    "collapsed": false
   },
   "outputs": [
    {
     "name": "stderr",
     "output_type": "stream",
     "text": [
      "C:\\Anaconda2\\lib\\site-packages\\ipykernel\\__main__.py:1: SettingWithCopyWarning: \n",
      "A value is trying to be set on a copy of a slice from a DataFrame.\n",
      "Try using .loc[row_indexer,col_indexer] = value instead\n",
      "\n",
      "See the caveats in the documentation: http://pandas.pydata.org/pandas-docs/stable/indexing.html#indexing-view-versus-copy\n",
      "  if __name__ == '__main__':\n"
     ]
    }
   ],
   "source": [
    "df_from_suzhou['tickets_sum_from'] = df_from_suzhou['swz_num']+df_from_suzhou['tz_num']\\\n",
    "+df_from_suzhou['wz_num']+df_from_suzhou['ze_num']+df_from_suzhou['zy_num']"
   ]
  },
  {
   "cell_type": "markdown",
   "metadata": {},
   "source": [
    "### 融合两个df "
   ]
  },
  {
   "cell_type": "code",
   "execution_count": 6,
   "metadata": {
    "collapsed": false
   },
   "outputs": [
    {
     "data": {
      "text/html": [
       "<div>\n",
       "<table border=\"1\" class=\"dataframe\">\n",
       "  <thead>\n",
       "    <tr style=\"text-align: right;\">\n",
       "      <th></th>\n",
       "      <th>from_station_name_x</th>\n",
       "      <th>from_to_x</th>\n",
       "      <th>record_date_x</th>\n",
       "      <th>record_time_x</th>\n",
       "      <th>start_time_x</th>\n",
       "      <th>start_time_before30m_x</th>\n",
       "      <th>station_interval_x</th>\n",
       "      <th>station_name_x</th>\n",
       "      <th>station_train_code_x</th>\n",
       "      <th>swz_num_x</th>\n",
       "      <th>...</th>\n",
       "      <th>station_interval_y</th>\n",
       "      <th>station_name_y</th>\n",
       "      <th>station_train_code_y</th>\n",
       "      <th>swz_num_y</th>\n",
       "      <th>to_station_name_y</th>\n",
       "      <th>tz_num_y</th>\n",
       "      <th>wz_num_y</th>\n",
       "      <th>ze_num_y</th>\n",
       "      <th>zy_num_y</th>\n",
       "      <th>tickets_sum_from</th>\n",
       "    </tr>\n",
       "  </thead>\n",
       "  <tbody>\n",
       "    <tr>\n",
       "      <th>0</th>\n",
       "      <td>昆山南</td>\n",
       "      <td>[昆山南, 苏州]</td>\n",
       "      <td>2016-12-21</td>\n",
       "      <td>2016-12-24 11:01:00</td>\n",
       "      <td>2016-12-24 11:31:00</td>\n",
       "      <td>11:01</td>\n",
       "      <td>[[温州南, 乐清], [乐清, 温岭], [温岭, 台州], [台州, 三门县], [三门...</td>\n",
       "      <td>[温州南, 乐清, 温岭, 台州, 三门县, 奉化, 宁波, 绍兴东, 绍兴北, 杭州东, ...</td>\n",
       "      <td>G7572</td>\n",
       "      <td>0</td>\n",
       "      <td>...</td>\n",
       "      <td>[[温州南, 乐清], [乐清, 温岭], [温岭, 台州], [台州, 三门县], [三门...</td>\n",
       "      <td>[温州南, 乐清, 温岭, 台州, 三门县, 奉化, 宁波, 绍兴东, 绍兴北, 杭州东, ...</td>\n",
       "      <td>G7572</td>\n",
       "      <td>0</td>\n",
       "      <td>无锡</td>\n",
       "      <td>0</td>\n",
       "      <td>328</td>\n",
       "      <td>306</td>\n",
       "      <td>58</td>\n",
       "      <td>692</td>\n",
       "    </tr>\n",
       "    <tr>\n",
       "      <th>1</th>\n",
       "      <td>上海虹桥</td>\n",
       "      <td>[上海虹桥, 苏州北]</td>\n",
       "      <td>2016-12-21</td>\n",
       "      <td>2016-12-24 05:47:00</td>\n",
       "      <td>2016-12-24 06:17:00</td>\n",
       "      <td>05:47</td>\n",
       "      <td>[[上海虹桥, 苏州北], [苏州北, 常州北], [常州北, 镇江南], [镇江南, 南京...</td>\n",
       "      <td>[上海虹桥, 苏州北, 常州北, 镇江南, 南京南, 蚌埠南, 徐州东, 砀山南, 商丘, ...</td>\n",
       "      <td>G1912</td>\n",
       "      <td>22</td>\n",
       "      <td>...</td>\n",
       "      <td>[[上海虹桥, 苏州北], [苏州北, 常州北], [常州北, 镇江南], [镇江南, 南京...</td>\n",
       "      <td>[上海虹桥, 苏州北, 常州北, 镇江南, 南京南, 蚌埠南, 徐州东, 砀山南, 商丘, ...</td>\n",
       "      <td>G1912</td>\n",
       "      <td>22</td>\n",
       "      <td>常州北</td>\n",
       "      <td>0</td>\n",
       "      <td>0</td>\n",
       "      <td>577</td>\n",
       "      <td>172</td>\n",
       "      <td>771</td>\n",
       "    </tr>\n",
       "  </tbody>\n",
       "</table>\n",
       "<p>2 rows × 33 columns</p>\n",
       "</div>"
      ],
      "text/plain": [
       "  from_station_name_x    from_to_x record_date_x       record_time_x  \\\n",
       "0                 昆山南    [昆山南, 苏州]    2016-12-21 2016-12-24 11:01:00   \n",
       "1                上海虹桥  [上海虹桥, 苏州北]    2016-12-21 2016-12-24 05:47:00   \n",
       "\n",
       "         start_time_x start_time_before30m_x  \\\n",
       "0 2016-12-24 11:31:00                  11:01   \n",
       "1 2016-12-24 06:17:00                  05:47   \n",
       "\n",
       "                                  station_interval_x  \\\n",
       "0  [[温州南, 乐清], [乐清, 温岭], [温岭, 台州], [台州, 三门县], [三门...   \n",
       "1  [[上海虹桥, 苏州北], [苏州北, 常州北], [常州北, 镇江南], [镇江南, 南京...   \n",
       "\n",
       "                                      station_name_x station_train_code_x  \\\n",
       "0  [温州南, 乐清, 温岭, 台州, 三门县, 奉化, 宁波, 绍兴东, 绍兴北, 杭州东, ...                G7572   \n",
       "1  [上海虹桥, 苏州北, 常州北, 镇江南, 南京南, 蚌埠南, 徐州东, 砀山南, 商丘, ...                G1912   \n",
       "\n",
       "   swz_num_x       ...         \\\n",
       "0          0       ...          \n",
       "1         22       ...          \n",
       "\n",
       "                                  station_interval_y  \\\n",
       "0  [[温州南, 乐清], [乐清, 温岭], [温岭, 台州], [台州, 三门县], [三门...   \n",
       "1  [[上海虹桥, 苏州北], [苏州北, 常州北], [常州北, 镇江南], [镇江南, 南京...   \n",
       "\n",
       "                                      station_name_y  station_train_code_y  \\\n",
       "0  [温州南, 乐清, 温岭, 台州, 三门县, 奉化, 宁波, 绍兴东, 绍兴北, 杭州东, ...                 G7572   \n",
       "1  [上海虹桥, 苏州北, 常州北, 镇江南, 南京南, 蚌埠南, 徐州东, 砀山南, 商丘, ...                 G1912   \n",
       "\n",
       "   swz_num_y  to_station_name_y  tz_num_y  wz_num_y ze_num_y zy_num_y  \\\n",
       "0          0                 无锡         0       328      306       58   \n",
       "1         22                常州北         0         0      577      172   \n",
       "\n",
       "  tickets_sum_from  \n",
       "0              692  \n",
       "1              771  \n",
       "\n",
       "[2 rows x 33 columns]"
      ]
     },
     "execution_count": 6,
     "metadata": {},
     "output_type": "execute_result"
    }
   ],
   "source": [
    "suzhou_df = pd.merge(df_to_suzhou,df_from_suzhou, on = 'train_no')\n",
    "suzhou_df.head(2)"
   ]
  },
  {
   "cell_type": "code",
   "execution_count": 7,
   "metadata": {
    "collapsed": false
   },
   "outputs": [
    {
     "data": {
      "text/plain": [
       "Index([   u'from_station_name_x',              u'from_to_x',\n",
       "                u'record_date_x',          u'record_time_x',\n",
       "                 u'start_time_x', u'start_time_before30m_x',\n",
       "           u'station_interval_x',         u'station_name_x',\n",
       "         u'station_train_code_x',              u'swz_num_x',\n",
       "            u'to_station_name_x',               u'train_no',\n",
       "                     u'tz_num_x',               u'wz_num_x',\n",
       "                     u'ze_num_x',               u'zy_num_x',\n",
       "               u'tickets_sum_to',    u'from_station_name_y',\n",
       "                    u'from_to_y',          u'record_date_y',\n",
       "                u'record_time_y',           u'start_time_y',\n",
       "       u'start_time_before30m_y',     u'station_interval_y',\n",
       "               u'station_name_y',   u'station_train_code_y',\n",
       "                    u'swz_num_y',      u'to_station_name_y',\n",
       "                     u'tz_num_y',               u'wz_num_y',\n",
       "                     u'ze_num_y',               u'zy_num_y',\n",
       "             u'tickets_sum_from'],\n",
       "      dtype='object')"
      ]
     },
     "execution_count": 7,
     "metadata": {},
     "output_type": "execute_result"
    }
   ],
   "source": [
    "suzhou_df.columns"
   ]
  },
  {
   "cell_type": "code",
   "execution_count": 8,
   "metadata": {
    "collapsed": false
   },
   "outputs": [],
   "source": [
    "suzhou_df['tickets'] = suzhou_df['tickets_sum_to'] - suzhou_df['tickets_sum_from']"
   ]
  },
  {
   "cell_type": "code",
   "execution_count": 9,
   "metadata": {
    "collapsed": false
   },
   "outputs": [
    {
     "data": {
      "text/html": [
       "<div>\n",
       "<table border=\"1\" class=\"dataframe\">\n",
       "  <thead>\n",
       "    <tr style=\"text-align: right;\">\n",
       "      <th></th>\n",
       "      <th>from_station_name_x</th>\n",
       "      <th>from_to_x</th>\n",
       "      <th>record_date_x</th>\n",
       "      <th>record_time_x</th>\n",
       "      <th>start_time_x</th>\n",
       "      <th>start_time_before30m_x</th>\n",
       "      <th>station_interval_x</th>\n",
       "      <th>station_name_x</th>\n",
       "      <th>station_train_code_x</th>\n",
       "      <th>swz_num_x</th>\n",
       "      <th>...</th>\n",
       "      <th>station_name_y</th>\n",
       "      <th>station_train_code_y</th>\n",
       "      <th>swz_num_y</th>\n",
       "      <th>to_station_name_y</th>\n",
       "      <th>tz_num_y</th>\n",
       "      <th>wz_num_y</th>\n",
       "      <th>ze_num_y</th>\n",
       "      <th>zy_num_y</th>\n",
       "      <th>tickets_sum_from</th>\n",
       "      <th>tickets</th>\n",
       "    </tr>\n",
       "  </thead>\n",
       "  <tbody>\n",
       "    <tr>\n",
       "      <th>0</th>\n",
       "      <td>昆山南</td>\n",
       "      <td>[昆山南, 苏州]</td>\n",
       "      <td>2016-12-21</td>\n",
       "      <td>2016-12-24 11:01:00</td>\n",
       "      <td>2016-12-24 11:31:00</td>\n",
       "      <td>11:01</td>\n",
       "      <td>[[温州南, 乐清], [乐清, 温岭], [温岭, 台州], [台州, 三门县], [三门...</td>\n",
       "      <td>[温州南, 乐清, 温岭, 台州, 三门县, 奉化, 宁波, 绍兴东, 绍兴北, 杭州东, ...</td>\n",
       "      <td>G7572</td>\n",
       "      <td>0</td>\n",
       "      <td>...</td>\n",
       "      <td>[温州南, 乐清, 温岭, 台州, 三门县, 奉化, 宁波, 绍兴东, 绍兴北, 杭州东, ...</td>\n",
       "      <td>G7572</td>\n",
       "      <td>0</td>\n",
       "      <td>无锡</td>\n",
       "      <td>0</td>\n",
       "      <td>328</td>\n",
       "      <td>306</td>\n",
       "      <td>58</td>\n",
       "      <td>692</td>\n",
       "      <td>-173</td>\n",
       "    </tr>\n",
       "  </tbody>\n",
       "</table>\n",
       "<p>1 rows × 34 columns</p>\n",
       "</div>"
      ],
      "text/plain": [
       "  from_station_name_x  from_to_x record_date_x       record_time_x  \\\n",
       "0                 昆山南  [昆山南, 苏州]    2016-12-21 2016-12-24 11:01:00   \n",
       "\n",
       "         start_time_x start_time_before30m_x  \\\n",
       "0 2016-12-24 11:31:00                  11:01   \n",
       "\n",
       "                                  station_interval_x  \\\n",
       "0  [[温州南, 乐清], [乐清, 温岭], [温岭, 台州], [台州, 三门县], [三门...   \n",
       "\n",
       "                                      station_name_x station_train_code_x  \\\n",
       "0  [温州南, 乐清, 温岭, 台州, 三门县, 奉化, 宁波, 绍兴东, 绍兴北, 杭州东, ...                G7572   \n",
       "\n",
       "   swz_num_x   ...                                       station_name_y  \\\n",
       "0          0   ...    [温州南, 乐清, 温岭, 台州, 三门县, 奉化, 宁波, 绍兴东, 绍兴北, 杭州东, ...   \n",
       "\n",
       "  station_train_code_y  swz_num_y  to_station_name_y  tz_num_y  wz_num_y  \\\n",
       "0                G7572          0                 无锡         0       328   \n",
       "\n",
       "   ze_num_y zy_num_y tickets_sum_from tickets  \n",
       "0       306       58              692    -173  \n",
       "\n",
       "[1 rows x 34 columns]"
      ]
     },
     "execution_count": 9,
     "metadata": {},
     "output_type": "execute_result"
    }
   ],
   "source": [
    "suzhou_df.head(1)"
   ]
  },
  {
   "cell_type": "markdown",
   "metadata": {},
   "source": [
    "### 数据可视化\n",
    "苏州地区上下客情况。"
   ]
  },
  {
   "cell_type": "markdown",
   "metadata": {},
   "source": [
    "> `['tickets','start_time_y']`"
   ]
  },
  {
   "cell_type": "code",
   "execution_count": 10,
   "metadata": {
    "collapsed": false
   },
   "outputs": [
    {
     "data": {
      "text/plain": [
       "-173"
      ]
     },
     "execution_count": 10,
     "metadata": {},
     "output_type": "execute_result"
    }
   ],
   "source": [
    "suzhou_df.tickets[0]"
   ]
  },
  {
   "cell_type": "code",
   "execution_count": 21,
   "metadata": {
    "collapsed": false
   },
   "outputs": [
    {
     "data": {
      "text/plain": [
       "Timestamp('2016-12-24 11:44:00')"
      ]
     },
     "execution_count": 21,
     "metadata": {},
     "output_type": "execute_result"
    }
   ],
   "source": [
    "suzhou_df.start_time_y[0]"
   ]
  },
  {
   "cell_type": "code",
   "execution_count": 15,
   "metadata": {
    "collapsed": false
   },
   "outputs": [
    {
     "data": {
      "text/plain": [
       "'2016-12-24 11:44:00'"
      ]
     },
     "execution_count": 15,
     "metadata": {},
     "output_type": "execute_result"
    }
   ],
   "source": [
    "str(suzhou_df['start_time_y'][0])"
   ]
  },
  {
   "cell_type": "markdown",
   "metadata": {},
   "source": [
    "#### 时间显示转换"
   ]
  },
  {
   "cell_type": "code",
   "execution_count": 11,
   "metadata": {
    "collapsed": false
   },
   "outputs": [],
   "source": [
    "import arrow\n",
    "suzhou_df['start_time_y'] = suzhou_df['start_time_y'].\\\n",
    "apply(lambda x: arrow.get(str(x),'YY-MM-DD HH:mm:ss').format('HH:mm'))"
   ]
  },
  {
   "cell_type": "code",
   "execution_count": 12,
   "metadata": {
    "collapsed": false
   },
   "outputs": [],
   "source": [
    "suzhou_df_to_plot = suzhou_df[['tickets','start_time_y']]"
   ]
  },
  {
   "cell_type": "code",
   "execution_count": 13,
   "metadata": {
    "collapsed": false
   },
   "outputs": [
    {
     "data": {
      "text/html": [
       "<div>\n",
       "<table border=\"1\" class=\"dataframe\">\n",
       "  <thead>\n",
       "    <tr style=\"text-align: right;\">\n",
       "      <th></th>\n",
       "      <th>tickets</th>\n",
       "      <th>start_time_y</th>\n",
       "    </tr>\n",
       "  </thead>\n",
       "  <tbody>\n",
       "    <tr>\n",
       "      <th>0</th>\n",
       "      <td>-173</td>\n",
       "      <td>11:44</td>\n",
       "    </tr>\n",
       "    <tr>\n",
       "      <th>1</th>\n",
       "      <td>111</td>\n",
       "      <td>06:42</td>\n",
       "    </tr>\n",
       "  </tbody>\n",
       "</table>\n",
       "</div>"
      ],
      "text/plain": [
       "   tickets start_time_y\n",
       "0     -173        11:44\n",
       "1      111        06:42"
      ]
     },
     "execution_count": 13,
     "metadata": {},
     "output_type": "execute_result"
    }
   ],
   "source": [
    "suzhou_df_to_plot.head(2)"
   ]
  },
  {
   "cell_type": "code",
   "execution_count": 14,
   "metadata": {
    "collapsed": false
   },
   "outputs": [
    {
     "data": {
      "text/html": [
       "<div>\n",
       "<table border=\"1\" class=\"dataframe\">\n",
       "  <thead>\n",
       "    <tr style=\"text-align: right;\">\n",
       "      <th></th>\n",
       "      <th>tickets</th>\n",
       "      <th>start_time_y</th>\n",
       "    </tr>\n",
       "  </thead>\n",
       "  <tbody>\n",
       "    <tr>\n",
       "      <th>1</th>\n",
       "      <td>111</td>\n",
       "      <td>06:42</td>\n",
       "    </tr>\n",
       "    <tr>\n",
       "      <th>16</th>\n",
       "      <td>233</td>\n",
       "      <td>06:43</td>\n",
       "    </tr>\n",
       "    <tr>\n",
       "      <th>34</th>\n",
       "      <td>41</td>\n",
       "      <td>06:47</td>\n",
       "    </tr>\n",
       "    <tr>\n",
       "      <th>103</th>\n",
       "      <td>-29</td>\n",
       "      <td>06:52</td>\n",
       "    </tr>\n",
       "    <tr>\n",
       "      <th>19</th>\n",
       "      <td>41</td>\n",
       "      <td>06:57</td>\n",
       "    </tr>\n",
       "  </tbody>\n",
       "</table>\n",
       "</div>"
      ],
      "text/plain": [
       "     tickets start_time_y\n",
       "1        111        06:42\n",
       "16       233        06:43\n",
       "34        41        06:47\n",
       "103      -29        06:52\n",
       "19        41        06:57"
      ]
     },
     "execution_count": 14,
     "metadata": {},
     "output_type": "execute_result"
    }
   ],
   "source": [
    "suzhou_df_to_plot.sort_values(by='start_time_y').head()"
   ]
  },
  {
   "cell_type": "markdown",
   "metadata": {},
   "source": [
    "#### 将时间设置为序号"
   ]
  },
  {
   "cell_type": "markdown",
   "metadata": {},
   "source": [
    "### 上海——>南京"
   ]
  },
  {
   "cell_type": "code",
   "execution_count": 15,
   "metadata": {
    "collapsed": false
   },
   "outputs": [
    {
     "data": {
      "text/plain": [
       "<matplotlib.text.Text at 0x95c3510>"
      ]
     },
     "execution_count": 15,
     "metadata": {},
     "output_type": "execute_result"
    },
    {
     "data": {
      "image/png": "[encoded data removed]",
      "text/plain": [
       "<matplotlib.figure.Figure at 0x957c610>"
      ]
     },
     "metadata": {},
     "output_type": "display_data"
    }
   ],
   "source": [
    "# import matplotlib.pyplot as plt\n",
    "plt.style.use('ggplot')\n",
    "# %matplotlib inline\n",
    "\n",
    "# plt.figure(figsize=(19,7))\n",
    "dmt= suzhou_df_to_plot.sort_values(by='start_time_y')\n",
    "dmt.plot(y='tickets', x ='start_time_y',kind = 'bar',figsize=(14,5), legend=False,fontsize=6)\n",
    "plt.xlabel(u'时 间(2016-12-21 06:00—23:00)',size=10)\n",
    "plt.ylabel(u'上下客流量值（单位：人）',size=10)\n",
    "plt.title(u'苏州地区站点（上海——南京）\\n',size=10)\n",
    "# plt.show()\n",
    "# plt.tight_layout()\n",
    "# plt.savefig('suzhou.png',dpi=300)"
   ]
  },
  {
   "cell_type": "markdown",
   "metadata": {
    "collapsed": true
   },
   "source": [
    "\n",
    ">$P = P_1-P_2 $ >0 正  则说明上游余票多，下游余票少；进一步说明在中间站上车人多，以上客流为主；<br>\n",
    ">$P = P_1-P_2 $ <0 负  则说明上游余票少，下游余票多；进一步说明在中间站上车人少，以下客流为主；\n",
    "\n"
   ]
  },
  {
   "cell_type": "code",
   "execution_count": null,
   "metadata": {
    "collapsed": true
   },
   "outputs": [],
   "source": []
  },
  {
   "cell_type": "markdown",
   "metadata": {
    "collapsed": true
   },
   "source": [
    "### 南京——>上海\n",
    "面向对象编程，使用类class"
   ]
  },
  {
   "cell_type": "code",
   "execution_count": 3,
   "metadata": {
    "collapsed": false
   },
   "outputs": [
    {
     "data": {
      "image/png": "[encoded data removed]",
      "text/plain": [
       "<matplotlib.figure.Figure at 0x11a4c5b0>"
      ]
     },
     "metadata": {},
     "output_type": "display_data"
    }
   ],
   "source": [
    "# -*- coding:utf-8 -*-\n",
    "import pandas as pd\n",
    "import arrow\n",
    "import matplotlib.pyplot as plt\n",
    "import numpy as np\n",
    "\n",
    "# 关掉warnnings\n",
    "import warnings\n",
    "warnings.filterwarnings(\"ignore\")\n",
    "\n",
    "\n",
    "class DataPlot(object):\n",
    "\t\n",
    "\t# 构造函数，定义所要使用的参数\n",
    "\tdef __init__(self,orginal_data,orginal_station,station_to_plot):\n",
    "\t\tself.orginal_data = orginal_data\n",
    "\t\tself.orginal_station = orginal_station\n",
    "\t\tself.station_to_plot = station_to_plot\n",
    "\n",
    "\tdef data_to_use(self):\n",
    "\t\t# 导入数据\n",
    "\t\tdf = pd.read_csv(self.orginal_data,encoding='utf-8')\n",
    "\t\tdf.columns = [u'train_no',u'station_train_code', u'from_station_name',u'to_station_name',\n",
    "\t\t                    u'start_time',\n",
    "\t\t                    u'swz_num',\n",
    "\t\t                    u'tz_num',\n",
    "\t\t                    u'zy_num',\n",
    "\t\t                    u'ze_num',\n",
    "\t\t                    u'wz_num',\n",
    "\t\t              \t\tu'record_date',\n",
    "\t\t              \t\tu'record_time',]\n",
    "\n",
    "\t\t# 筛选出发车时间在06:00-23:00的车次\n",
    "\t\tdf2 = df[(df['start_time'].str.contains(\"0[6-9]:|1[0-9]:|2[0-3]:\"))]\n",
    "\n",
    "\t\t#增加一列，记录发车前30分钟数据\n",
    "\t\tdf2['start_time_before30m'] = df2['start_time'].apply(lambda x: arrow.get(x, 'HH:mm').replace(minutes=-30).format('HH:mm'))\n",
    "\n",
    "\t\t# 筛选出：发车前30分钟时间==记录时间\n",
    "\t\tdf3 = df2[df2['start_time_before30m'] == df2['record_time']]\n",
    "\n",
    "\t\t# 增加一列，记录出发站，到达站数据，并以列表形式存储\n",
    "\t\tdf3['from_to'] = df3['from_station_name'] + ',' +df3['to_station_name']\n",
    "\t\tdf3['from_to'] = df3['from_to'].str.split(',')\n",
    "\t\treturn df3\n",
    "\n",
    "\t\t# df3为最终筛选数据\n",
    "\t\t############################\n",
    "\n",
    "\tdef get_stations(self):\n",
    "\t\t\n",
    "\t\t#获取各车次区间情况\n",
    "\t\tdata_to_use = self.data_to_use()\n",
    "\t\tdf = pd.read_csv(self.orginal_station,encoding='utf-8')\n",
    "\t\tdf.columns=['station_name','train_no']\n",
    "\t\tdf['station_name'] = df['station_name'].apply(lambda x: x.replace(u'[',u'').replace(u']',u'').replace(' ','').split(','))\n",
    "\t\tdf['station_interval'] = df['station_name'].apply(lambda x: map(list, zip(x[:-1], x[1:])))\n",
    "\n",
    "\t\t# df_SH_NJ是沪宁所有车次相邻站点信息。\n",
    "\t\tdf_tickets_com = pd.merge(data_to_use,df,on='train_no')\n",
    "\t\tdf_tickets_com = df_tickets_com[df_tickets_com.apply(lambda x: x['from_to'] in x['station_interval'], axis=1)]\n",
    "\t\treturn df_tickets_com\n",
    "\n",
    "\tdef main(self):\n",
    "\t\t\n",
    "\t\t# 主函数，输出可供可视化的df\n",
    "\n",
    "\t\tdff = self.get_stations()\n",
    "\t\t\n",
    "\t\t# 判断区间是否是相邻区间\n",
    "\t\tdf_to = dff[dff['to_station_name'].isin(self.station_to_plot)]\n",
    "\t\tdf_from = dff[dff['from_station_name'].isin(self.station_to_plot)]\n",
    "\t\t\n",
    "\n",
    "\t\t# 计算上游区间余票数据\n",
    "\t\tdf_to['tickets_sum_to'] = df_to['swz_num']+\\\n",
    "\t\tdf_to['tz_num']+df_to['wz_num']+df_to['ze_num']+\\\n",
    "\t\tdf_to['zy_num']\n",
    "\n",
    "\t\t# 计算下游区间余票数据\n",
    "\t\tdf_from['tickets_sum_from'] = df_from['swz_num']+\\\n",
    "\t\tdf_from['tz_num']+df_from['wz_num']+df_from['ze_num']+\\\n",
    "\t\tdf_from['zy_num']\n",
    "\n",
    "\t\t# 数据融合后判断上下客情况\n",
    "\t\tdf = pd.merge(df_to,df_from, on = 'train_no')\n",
    "\t\tdf['tickets'] = df['tickets_sum_to'] - df['tickets_sum_from']\n",
    "\n",
    "\t\t# df['start_time_y'] = df['start_time_y'].\\\n",
    "\t\t# apply(lambda x: arrow.get(str(x),'YY-MM-DD HH:mm:ss').format('HH:mm'))\n",
    "\t\t\n",
    "\t\t# 导出可用数据\n",
    "\t\tdf_to_plot = df[['tickets','start_time_y']]\n",
    "\t\treturn df_to_plot\n",
    "\n",
    "if __name__ == '__main__':\n",
    "\t\n",
    "\t######## 参数集中在此 #########\n",
    "\torginal_data = 'E:/TutoData/cn12306/NingHu-2016-12-21.csv'   #录入下载在原始数据\n",
    "\torginal_station ='./py/data/NJ-SH-train_names.csv'    #录入站点列表\n",
    "# \tstation_to_plot =  [u'苏州']\n",
    "\tstation_to_plot =  [u'苏州',u'苏州北',u'苏州园区',u'苏州新区']\n",
    "\t################################\n",
    "\n",
    "\t# 实例化类\n",
    "\tdata_plot = DataPlot(orginal_data,orginal_station,station_to_plot)\n",
    "\t\n",
    "\t# 传递可用数据\n",
    "\tdata_to_plot = data_plot.main()\n",
    "\t\n",
    "\t# 所要使用的plt样式\n",
    "\tplt.style.use('ggplot')\n",
    "\n",
    "\tdmt= data_to_plot.sort_values(by='start_time_y')\n",
    "\tdmt.plot(y='tickets', x ='start_time_y',kind = 'bar',figsize=(14,5), legend=False,fontsize=6)\n",
    "\tplt.xlabel(u'时 间(2016-12-21 06:00—23:00)',size=10)\n",
    "\tplt.ylabel(u'上下客流量值（单位：人）',size=10)\n",
    "\tplt.title(u'苏州地区站点（南京——上海）\\n',size=10)\n",
    "\t# plt.show()\n",
    "\tplt.tight_layout()\n",
    "# \tplt.savefig('suzhou2.png',dpi=300)\n",
    "# \tprint('finished!')"
   ]
  },
  {
   "cell_type": "code",
   "execution_count": null,
   "metadata": {
    "collapsed": true
   },
   "outputs": [],
   "source": []
  }
 ],
 "metadata": {
  "anaconda-cloud": {},
  "kernelspec": {
   "display_name": "Python [Root]",
   "language": "python",
   "name": "Python [Root]"
  },
  "language_info": {
   "codemirror_mode": {
    "name": "ipython",
    "version": 2
   },
   "file_extension": ".py",
   "mimetype": "text/x-python",
   "name": "python",
   "nbconvert_exporter": "python",
   "pygments_lexer": "ipython2",
   "version": "2.7.12"
  }
 },
 "nbformat": 4,
 "nbformat_minor": 1
}
