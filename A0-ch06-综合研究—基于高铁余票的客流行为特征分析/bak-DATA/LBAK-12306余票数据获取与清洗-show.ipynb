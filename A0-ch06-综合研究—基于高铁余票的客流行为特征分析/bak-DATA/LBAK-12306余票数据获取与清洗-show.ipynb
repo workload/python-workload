{
 "cells": [
  {
   "cell_type": "markdown",
   "metadata": {},
   "source": [
    "# 一、 数据获取余票数据"
   ]
  },
  {
   "cell_type": "markdown",
   "metadata": {},
   "source": [
    "# 1.几行简单代码获取某区间某日所有余票数据"
   ]
  },
  {
   "cell_type": "markdown",
   "metadata": {},
   "source": [
    "## 1.1读取SHANGHAI-SUZHOU单个页面数据"
   ]
  },
  {
   "cell_type": "markdown",
   "metadata": {},
   "source": [
    "首先要分析网站，怎么样才能获取数据"
   ]
  },
  {
   "cell_type": "code",
   "execution_count": 1,
   "metadata": {
    "collapsed": true
   },
   "outputs": [],
   "source": [
    "import requests\n",
    "import json"
   ]
  },
  {
   "cell_type": "code",
   "execution_count": null,
   "metadata": {
    "collapsed": true
   },
   "outputs": [],
   "source": [
    "url = 'https://kyfw.12306.cn/otn/lcxxcx/query?purpose_codes=ADULT&queryDate=2016-12-29&from_station=SHH&to_station=NJH'"
   ]
  },
  {
   "cell_type": "code",
   "execution_count": null,
   "metadata": {
    "collapsed": false
   },
   "outputs": [],
   "source": [
    "js = requests.get(url).text"
   ]
  },
  {
   "cell_type": "markdown",
   "metadata": {},
   "source": [
    "https://promotion.aliyun.com/ntms/act/globalhttps.html?spm=5176.8142029.418686.5.yBwhSy<br>\n",
    "HTTPS在HTTP的基础上加入了SSL/TLS协议，依靠SSL证书来验证服务器的身份，并为客户端和服务器端之间建立“SSL加密通道”，确保用户数据在传输过程中处于加密状态，同时防止服务器被钓鱼网站假冒。"
   ]
  },
  {
   "cell_type": "code",
   "execution_count": null,
   "metadata": {
    "collapsed": false
   },
   "outputs": [],
   "source": [
    "js = requests.get(url,verify=False).text"
   ]
  },
  {
   "cell_type": "code",
   "execution_count": null,
   "metadata": {
    "collapsed": true
   },
   "outputs": [],
   "source": [
    "import warnings\n",
    "warnings.filterwarnings(\"ignore\")"
   ]
  },
  {
   "cell_type": "code",
   "execution_count": null,
   "metadata": {
    "collapsed": true
   },
   "outputs": [],
   "source": [
    "js = requests.get(url,verify=False).text"
   ]
  },
  {
   "cell_type": "code",
   "execution_count": null,
   "metadata": {
    "collapsed": false
   },
   "outputs": [],
   "source": [
    "js2 = json.loads(js)"
   ]
  },
  {
   "cell_type": "code",
   "execution_count": null,
   "metadata": {
    "collapsed": false
   },
   "outputs": [],
   "source": [
    "data = js2['data']['datas']"
   ]
  },
  {
   "cell_type": "code",
   "execution_count": null,
   "metadata": {
    "collapsed": false
   },
   "outputs": [],
   "source": [
    "data"
   ]
  },
  {
   "cell_type": "markdown",
   "metadata": {},
   "source": [
    "## 1.2将数据读入pandas并进行处理后保存"
   ]
  },
  {
   "cell_type": "code",
   "execution_count": null,
   "metadata": {
    "collapsed": false
   },
   "outputs": [],
   "source": [
    "import pandas as pd\n",
    "import numpy as np"
   ]
  },
  {
   "cell_type": "code",
   "execution_count": null,
   "metadata": {
    "collapsed": false
   },
   "outputs": [],
   "source": [
    "df = pd.DataFrame(data)\n",
    "df.tail()"
   ]
  },
  {
   "cell_type": "code",
   "execution_count": null,
   "metadata": {
    "collapsed": false,
    "scrolled": true
   },
   "outputs": [],
   "source": [
    "df.columns"
   ]
  },
  {
   "cell_type": "code",
   "execution_count": null,
   "metadata": {
    "collapsed": false
   },
   "outputs": [],
   "source": [
    "df_use = df[[u'train_no',\n",
    "            u'station_train_code',\n",
    "             u'from_station_name',\n",
    "             u'to_station_name',\n",
    "             u'start_time',\n",
    "             u'swz_num',\n",
    "             u'tz_num',  #特等座\n",
    "             u'zy_num',\n",
    "             u'ze_num',\n",
    "             u'wz_num',\n",
    "             ]]"
   ]
  },
  {
   "cell_type": "code",
   "execution_count": null,
   "metadata": {
    "collapsed": false
   },
   "outputs": [],
   "source": [
    "df_use.tail()"
   ]
  },
  {
   "cell_type": "code",
   "execution_count": null,
   "metadata": {
    "collapsed": false
   },
   "outputs": [],
   "source": [
    "df_use = df_use[df_use[u'station_train_code'].str.startswith('G') | \\\n",
    "       df_use[u'station_train_code'].str.startswith('D')]\n",
    "df_use.tail()"
   ]
  },
  {
   "cell_type": "code",
   "execution_count": null,
   "metadata": {
    "collapsed": true
   },
   "outputs": [],
   "source": [
    "df_use.replace('--',0,inplace=True) # 注意：--是指无此席位，并非指无余票\n",
    "df_use.replace(u'无',0,inplace=True)"
   ]
  },
  {
   "cell_type": "code",
   "execution_count": null,
   "metadata": {
    "collapsed": false
   },
   "outputs": [],
   "source": [
    "# df_use.reset_index(inplace=True)\n",
    "df_use.tail()"
   ]
  },
  {
   "cell_type": "code",
   "execution_count": null,
   "metadata": {
    "collapsed": false
   },
   "outputs": [],
   "source": [
    "df_use.to_csv('./data/TEST2016-12-29-SH-NJ.csv',encoding='utf-8')"
   ]
  },
  {
   "cell_type": "markdown",
   "metadata": {},
   "source": [
    "## 1.3一个完整代码"
   ]
  },
  {
   "cell_type": "code",
   "execution_count": null,
   "metadata": {
    "collapsed": false,
    "scrolled": false
   },
   "outputs": [],
   "source": [
    "import requests\n",
    "import pandas as pd\n",
    "import json\n",
    "#import arrow\n",
    "import warnings\n",
    "warnings.filterwarnings(\"ignore\")\n",
    "\n",
    "def get_pd(para):\n",
    "    para = para\n",
    "    r = requests.get('https://kyfw.12306.cn/otn/lcxxcx/query?purpose_codes=ADULT&' + \\\n",
    "                     para, verify=False).text\n",
    "    return r\n",
    "\n",
    "def to_csv(js):\n",
    "    js2 = json.loads(js)\n",
    "    data = js2['data']['datas']\n",
    "    df = pd.DataFrame(data)\n",
    "    df_use = df[[u'train_no',\n",
    "            u'station_train_code',\n",
    "                 u'from_station_name',\n",
    "                 u'to_station_name',\n",
    "                 u'start_time',\n",
    "                 u'swz_num',\n",
    "                 u'tz_num',\n",
    "                 u'zy_num',\n",
    "                 u'ze_num',\n",
    "                 u'wz_num',\n",
    "                 ]]\n",
    "    df_use = df_use[df_use[u'station_train_code'].str.startswith('G') | \\\n",
    "    df_use[u'station_train_code'].str.startswith('D')]\n",
    "    df_use.replace('--',0,inplace=True)\n",
    "    df_use.replace(u'无',0,inplace=True)\n",
    "#     tm = arrow.now().format('HH:mm:ss')\n",
    "#     df_use['record_time'] = tm\n",
    "    df_use.to_csv('./data/TEST2016-12-29-SH-NJ.csv',index=False,encoding='utf-8')\n",
    "if __name__ == '__main__':\n",
    "    para = 'queryDate=2016-12-29&from_station=SHH&to_station=NJH'\n",
    "    js = get_pd(para)\n",
    "    to_csv(js)\n",
    "    print('finished')"
   ]
  },
  {
   "cell_type": "markdown",
   "metadata": {
    "collapsed": false
   },
   "source": [
    "#### 多sheet录入\n",
    ">writer = pd.ExcelWriter('./data/ht2016-12-10-SH-NJ.xlsx') <br>\n",
    ">df_use.to_excel(writer,'Sheet1')<br>\n",
    ">df.to_excel(writer,'Sheet2') <br>\n",
    ">writer.save()<br>"
   ]
  },
  {
   "cell_type": "markdown",
   "metadata": {},
   "source": [
    "#  2. 类-面向对象（获取沪宁、宁沪所有站点某日所有余票数据）"
   ]
  },
  {
   "cell_type": "markdown",
   "metadata": {
    "collapsed": false
   },
   "source": [
    "```\n",
    "hu_ning = ['SHH','KNH','SZH','WXH','CZH','DYH','ZJH','NJH']\n",
    "# station_ls_comb = []\n",
    "for i in range(0,len(hu_ning)-1):\n",
    "    ls = [hu_ning[i],hu_ning[i+1]]\n",
    "#     station_ls_comb.append(ls)\n",
    "    print ls\n",
    "# print station_ls_comb\n",
    "```"
   ]
  },
  {
   "cell_type": "code",
   "execution_count": null,
   "metadata": {
    "collapsed": true
   },
   "outputs": [],
   "source": [
    "hu_ning = ['SHH','KNH','SZH','WXH','CZH','DYH','ZJH','NJH']\n",
    "ning_hu = ['NJH','ZJH','DYH','CZH','WXH','SZH','KNH','SHH']"
   ]
  },
  {
   "cell_type": "markdown",
   "metadata": {},
   "source": [
    "## 2.1进行站点之间组合"
   ]
  },
  {
   "cell_type": "markdown",
   "metadata": {},
   "source": [
    "# $C^{2}_8$   "
   ]
  },
  {
   "cell_type": "code",
   "execution_count": null,
   "metadata": {
    "collapsed": false
   },
   "outputs": [],
   "source": [
    "from itertools import combinations\n",
    "hu_ning = ['SHH','KNH','SZH','WXH','CZH','DYH','ZJH','NJH']\n",
    "com = combinations(hu_ning,2)\n",
    "for i in com:\n",
    "    print i"
   ]
  },
  {
   "cell_type": "markdown",
   "metadata": {},
   "source": [
    "## 2.2抓取特定时间所有站点数据-运行一次"
   ]
  },
  {
   "cell_type": "code",
   "execution_count": null,
   "metadata": {
    "collapsed": false
   },
   "outputs": [],
   "source": [
    "import requests\n",
    "import pandas as pd\n",
    "import json\n",
    "import arrow\n",
    "from itertools import combinations\n",
    "import warnings\n",
    "warnings.filterwarnings(\"ignore\")\n",
    "\n",
    "class HighSpeed(object):\n",
    "    def __init__(self,date,from_station,to_station):\n",
    "        self.date = date\n",
    "        self.from_station = from_station    #发车站\n",
    "        self.to_station = to_station        #到达站\n",
    "\n",
    "    \n",
    "#     url = 'https://kyfw.12306.cn/otn/lcxxcx/query?purpose_codes=ADULT\n",
    "#     &queryDate=2016-12-29&from_station=SHH&to_station=SZH'\n",
    "\n",
    "    def get_pd(self):\n",
    "        para = 'queryDate=' + self.date + '&from_station=' + self.from_station \\\n",
    "               +'&to_station=' + self.to_station\n",
    "        r = requests.get('https://kyfw.12306.cn/otn/lcxxcx/query?purpose_codes=ADULT&' + \\\n",
    "                         para, verify=False).text\n",
    "        return r\n",
    "\n",
    "    def to_csv(self):\n",
    "        js = self.get_pd()\n",
    "        js2 = json.loads(js)\n",
    "        data = js2['data']['datas']\n",
    "        df = pd.DataFrame(data)\n",
    "        df_use = df[[u'train_no',\n",
    "                u'station_train_code',\n",
    "                     u'from_station_name',\n",
    "                     u'to_station_name',\n",
    "                     u'start_time',\n",
    "                     u'swz_num',\n",
    "                     u'tz_num',\n",
    "                     u'zy_num',\n",
    "                     u'ze_num',\n",
    "                     u'wz_num',\n",
    "                     ]]\n",
    "        df_use = df_use[df_use[u'station_train_code'].str.startswith('G') | \\\n",
    "        df_use[u'station_train_code'].str.startswith('D')]\n",
    "        df_use.replace('--',0,inplace=True)\n",
    "        df_use.replace(u'无',0,inplace=True)    \n",
    "        \n",
    "        tm = arrow.now().format('HH:mm')\n",
    "        df_use['record_time'] = tm\n",
    "        \n",
    "#         df_use = df_choose[df_choose['record_time'] == df_choose['start_time']]\n",
    "      \n",
    "        df_use.to_csv('./data/' + self.date + 'TEST.csv',\n",
    "                       mode = 'a', index = False, \n",
    "                      column = False,\n",
    "                      encoding='utf-8')\n",
    "         \n",
    "if __name__ == '__main__':\n",
    "    date = '2016-12-29'    \n",
    "    hu_ning = ['SHH','KNH','SZH','WXH','CZH','DYH','ZJH','NJH']\n",
    "    com = combinations(hu_ning,2)\n",
    "    for ls in com:\n",
    "        hspeed = HighSpeed(date,ls[0],ls[1])\n",
    "        hspeed.to_csv()\n",
    "    print('finished')"
   ]
  },
  {
   "cell_type": "markdown",
   "metadata": {},
   "source": [
    "# 3.按时间自动抓取余票数据"
   ]
  },
  {
   "cell_type": "markdown",
   "metadata": {},
   "source": [
    "## 3.1 时间库与流程库"
   ]
  },
  {
   "cell_type": "markdown",
   "metadata": {},
   "source": [
    "#### 流程控制库"
   ]
  },
  {
   "cell_type": "code",
   "execution_count": null,
   "metadata": {
    "collapsed": false
   },
   "outputs": [],
   "source": [
    "import schedule\n",
    "import time\n",
    "\n",
    "def job():\n",
    "    print(\"I'm working...\")\n",
    "\n",
    "schedule.every(1).minutes.do(job)\n",
    "# schedule.every().hour.do(job)\n",
    "# schedule.every().day.at(\"14:09\").do(job)\n",
    "# schedule.every().monday.do(job)\n",
    "# schedule.every().wednesday.at(\"13:15\").do(job)\n",
    "\n",
    "while True:\n",
    "    schedule.run_pending()\n",
    "    time.sleep(1)"
   ]
  },
  {
   "cell_type": "code",
   "execution_count": null,
   "metadata": {
    "collapsed": true
   },
   "outputs": [],
   "source": [
    "import threading\n",
    "import time\n",
    "import schedule\n",
    "import arrow\n",
    "\n",
    "def job():\n",
    "    date = arrow.now().format('mm:ss')\n",
    "    print(\"I'm running on job\",date)\n",
    "\n",
    "def job2():\n",
    "    date = arrow.now().format('mm:ss')\n",
    "    print(\"I'm running on job2\",date)\n",
    "\n",
    "def run_threaded(job_func):\n",
    "    job_thread = threading.Thread(target=job_func)\n",
    "    job_thread.start()\n",
    "\n",
    "\n",
    "schedule.every(10).seconds.do(run_threaded, job)\n",
    "schedule.every(10).seconds.do(run_threaded, job2)\n",
    "\n",
    "\n",
    "\n",
    "while 1:\n",
    "    schedule.run_pending()\n",
    "    time.sleep(1)"
   ]
  },
  {
   "cell_type": "markdown",
   "metadata": {},
   "source": [
    "#### 时间转换库"
   ]
  },
  {
   "cell_type": "code",
   "execution_count": null,
   "metadata": {
    "collapsed": false
   },
   "outputs": [],
   "source": [
    "import arrow\n",
    "tm = arrow.now()\n",
    "print tm.format('HH:mm:ss')\n",
    "    \n",
    "tm_debefore30m = tm.replace(minutes=-30)\n",
    "print tm_debefore30m"
   ]
  },
  {
   "cell_type": "code",
   "execution_count": null,
   "metadata": {
    "collapsed": false
   },
   "outputs": [],
   "source": [
    "tm2_debefore30m = tm.replace(minutes=-30).format('HH:mm')\n",
    "print tm2_debefore30m"
   ]
  },
  {
   "cell_type": "code",
   "execution_count": null,
   "metadata": {
    "collapsed": false
   },
   "outputs": [],
   "source": [
    "date = arrow.now().format('YYYY-MM-DD')\n",
    "date"
   ]
  },
  {
   "cell_type": "markdown",
   "metadata": {},
   "source": [
    "## 3.2 每间隔一分钟抓取一次，所有站点数据-运行一次"
   ]
  },
  {
   "cell_type": "code",
   "execution_count": null,
   "metadata": {
    "collapsed": false
   },
   "outputs": [],
   "source": [
    "# -*- coding:utf-8 -*-\n",
    "\n",
    "import requests\n",
    "import pandas as pd\n",
    "import json\n",
    "import schedule\n",
    "import threading\n",
    "import time\n",
    "import arrow\n",
    "from itertools import combinations\n",
    "import warnings\n",
    "warnings.filterwarnings(\"ignore\")\n",
    "\n",
    "class HighSpeed(object):\n",
    "    def __init__(self,date,from_station,to_station,direction):\n",
    "        self.date = date\n",
    "        self.from_station = from_station\n",
    "        self.to_station = to_station\n",
    "        self.direction = direction\n",
    "\n",
    "    def get_pd(self):\n",
    "        try:\n",
    "            para = 'queryDate=' + self.date + '&from_station=' + self.from_station \\\n",
    "                   +'&to_station=' + self.to_station\n",
    "            r = requests.get('https://kyfw.12306.cn/otn/lcxxcx/query?purpose_codes=ADULT&' + \\\n",
    "                             para, verify=False).text\n",
    "            return r\n",
    "        except:\n",
    "            fl = open('./data/log.txt','a')\n",
    "            fl.write('requests error at ' + str(arrow.now().format('HH:mm'))+ \"\\n\")\n",
    "            fl.close()\n",
    "            print(\"requests error at \"+str(arrow.now().format('HH:mm')))\n",
    "\n",
    "    def to_csv(self):\n",
    "        js = self.get_pd()\n",
    "        try:\n",
    "            js2 = json.loads(js)\n",
    "            data = js2['data']['datas']\n",
    "            df = pd.DataFrame(data)\n",
    "            df_use = df[[u'train_no',\n",
    "                     u'station_train_code',\n",
    "                         u'from_station_name',\n",
    "                         u'to_station_name',\n",
    "                         u'start_time',\n",
    "                         u'swz_num',\n",
    "                         u'tz_num',\n",
    "                         u'zy_num',\n",
    "                         u'ze_num',\n",
    "                         u'wz_num',\n",
    "                         ]]\n",
    "            df_use = df_use[df_use[u'station_train_code'].str.startswith('G') | \\\n",
    "            df_use[u'station_train_code'].str.startswith('D')]\n",
    "            df_use.replace('--',0,inplace=True)\n",
    "            df_use.replace(u'无',0,inplace=True)\n",
    "            tm = arrow.now()\n",
    "            df_use['record_date'] = tm.format('YYYY-MM-DD')\n",
    "            df_use['record_time'] = tm.format('HH:mm')\n",
    "            df_use.to_csv('./data/' + self.direction + \"-\" +self.date + '.csv',mode = 'a', index = False, header = False,encoding='utf-8')\n",
    "        except:\n",
    "            print 'no json data!'\n",
    "        print 'I am working!'\n",
    "\n",
    "    \n",
    "        \n",
    "if __name__ == '__main__':\n",
    "       \n",
    "    def process_hspeed():\n",
    "        date = arrow.now().format('YYYY-MM-DD')    \n",
    "        \n",
    "        hu_ning = ['SHH','KNH','SZH','WXH','CZH','DYH','ZJH','NJH']\n",
    "        com = combinations(hu_ning,2)\n",
    "        for ls_hu_ning in com:\n",
    "            hspeed = HighSpeed(date,ls_hu_ning[0],ls_hu_ning[1],'HuNing')\n",
    "            hspeed.to_csv()\n",
    "    \n",
    "    def process_hspeed2():   \n",
    "        date = arrow.now().format('YYYY-MM-DD')\n",
    "        ning_hu = ['NJH','ZJH','DYH','CZH','WXH','SZH','KNH','SHH']\n",
    "        com = combinations(ning_hu,2)\n",
    "        for ls_ning_hu in com:\n",
    "            hspeed = HighSpeed(date,ls_ning_hu[0],ls_ning_hu[1],'NingHu')\n",
    "            hspeed.to_csv()\n",
    "\n",
    "    def run_threaded(job_func):\n",
    "        job_thread = threading.Thread(target=job_func)\n",
    "        job_thread.start()\n",
    "\n",
    "\n",
    "#     def job():\n",
    "#         print(\"I'm working...\")\n",
    "\n",
    "    schedule.every(1).minutes.do(run_threaded,process_hspeed)\n",
    "    schedule.every(1).minutes.do(run_threaded,process_hspeed2)\n",
    "    # schedule.every().hour.do(job)\n",
    "    # schedule.every().day.at(\"14:09\").do(job)\n",
    "    # schedule.every().monday.do(job)\n",
    "    # schedule.every().wednesday.at(\"13:15\").do(job)\n",
    "\n",
    "    while True:\n",
    "        schedule.run_pending()\n",
    "        time.sleep(1)\n"
   ]
  },
  {
   "cell_type": "code",
   "execution_count": null,
   "metadata": {
    "collapsed": true
   },
   "outputs": [],
   "source": []
  },
  {
   "cell_type": "code",
   "execution_count": null,
   "metadata": {
    "collapsed": true
   },
   "outputs": [],
   "source": []
  },
  {
   "cell_type": "markdown",
   "metadata": {
    "collapsed": true
   },
   "source": [
    "# 4.判断可用数据"
   ]
  },
  {
   "cell_type": "code",
   "execution_count": null,
   "metadata": {
    "collapsed": false
   },
   "outputs": [],
   "source": [
    "import pandas as pd\n",
    "import arrow\n",
    "df_hu_ning = pd.read_csv('./data/HuNing-2016-12-21.csv',encoding='utf-8')\n",
    "df_hu_ning.tail()"
   ]
  },
  {
   "cell_type": "code",
   "execution_count": null,
   "metadata": {
    "collapsed": false
   },
   "outputs": [],
   "source": [
    "df_hu_ning.columns = [u'train_no',\n",
    "    u'station_train_code',\n",
    "                     u'from_station_name',\n",
    "                     u'to_station_name',\n",
    "                     u'start_time',\n",
    "                     u'swz_num',\n",
    "                     u'tz_num',\n",
    "                     u'zy_num',\n",
    "                     u'ze_num',\n",
    "                     u'wz_num',\n",
    "              u'record_date',\n",
    "              u'record_time',]\n",
    "df_hu_ning.tail()"
   ]
  },
  {
   "cell_type": "code",
   "execution_count": null,
   "metadata": {
    "collapsed": false
   },
   "outputs": [],
   "source": [
    "df_hu_ning[df_hu_ning['station_train_code'] == 'G1814']"
   ]
  },
  {
   "cell_type": "code",
   "execution_count": null,
   "metadata": {
    "collapsed": false
   },
   "outputs": [],
   "source": [
    "df_hu_ning[(df_hu_ning['station_train_code'] == 'G1814') & (df_hu_ning['record_time'] == '12:20')]"
   ]
  },
  {
   "cell_type": "markdown",
   "metadata": {},
   "source": [
    "## 4.1 筛选出发车时间前30分钟的余票信息"
   ]
  },
  {
   "cell_type": "markdown",
   "metadata": {},
   "source": [
    "> 上海——南京，最早发车时间为06:02，最后一个区间是\t22:43  G7128  镇江至南京，<br>\n",
    "> 南京——上海，最早发车时间为03:30，最后一个区间是\t22:43  G7128  镇江至南京，"
   ]
  },
  {
   "cell_type": "code",
   "execution_count": null,
   "metadata": {
    "collapsed": false
   },
   "outputs": [],
   "source": [
    "df_hu_ning2 = df_hu_ning[(df_hu_ning['start_time'].str.contains(\"0[6-9]:|1[0-9]:|2[0-3]:\"))]\n",
    "df_hu_ning2['start_time'].sort_values(ascending=True).head()"
   ]
  },
  {
   "cell_type": "code",
   "execution_count": null,
   "metadata": {
    "collapsed": false
   },
   "outputs": [],
   "source": [
    "df_hu_ning2.head()"
   ]
  },
  {
   "cell_type": "code",
   "execution_count": null,
   "metadata": {
    "collapsed": false
   },
   "outputs": [],
   "source": [
    "time_choose = arrow.now()\n",
    "print time_choose\n",
    "time_before_30m = time_choose.replace(minutes=-30).format('HH:mm')\n",
    "print time_before_30m"
   ]
  },
  {
   "cell_type": "markdown",
   "metadata": {},
   "source": [
    "#### 小记录：开车前30分钟(test)"
   ]
  },
  {
   "cell_type": "code",
   "execution_count": null,
   "metadata": {
    "collapsed": false
   },
   "outputs": [],
   "source": [
    "df_hu_ning2['start_time'].head()"
   ]
  },
  {
   "cell_type": "code",
   "execution_count": null,
   "metadata": {
    "collapsed": false
   },
   "outputs": [],
   "source": [
    "df_hu_ning2['start_time'].tail()"
   ]
  },
  {
   "cell_type": "code",
   "execution_count": null,
   "metadata": {
    "collapsed": false
   },
   "outputs": [],
   "source": [
    "arrow.get('08:05', 'HH:mm').replace(minutes=-30).format('HH:mm')"
   ]
  },
  {
   "cell_type": "code",
   "execution_count": null,
   "metadata": {
    "collapsed": false,
    "scrolled": true
   },
   "outputs": [],
   "source": [
    "df_hu_ning2['start_time'].apply(lambda x: arrow.get(x, 'HH:mm').replace(minutes=-30).format('HH:mm')).head()"
   ]
  },
  {
   "cell_type": "markdown",
   "metadata": {},
   "source": [
    "#### 添加列，记录开车前30分钟数据"
   ]
  },
  {
   "cell_type": "code",
   "execution_count": null,
   "metadata": {
    "collapsed": false
   },
   "outputs": [],
   "source": [
    "df_hu_ning2['start_time_before30m'] = df_hu_ning2['start_time'].apply(lambda x: arrow.get(x, 'HH:mm')\\\n",
    "                                                      .replace(minutes=-30).format('HH:mm'))\n",
    "df_hu_ning2.head()"
   ]
  },
  {
   "cell_type": "markdown",
   "metadata": {},
   "source": [
    "#### 记录时间==发车前30分钟数据，（高价值数据）"
   ]
  },
  {
   "cell_type": "code",
   "execution_count": null,
   "metadata": {
    "collapsed": false
   },
   "outputs": [],
   "source": [
    "df_hu_ning2[df_hu_ning2['start_time_before30m'] == df_hu_ning2['record_time']].tail(5)"
   ]
  },
  {
   "cell_type": "code",
   "execution_count": null,
   "metadata": {
    "collapsed": false
   },
   "outputs": [],
   "source": [
    "df_hu_ning2[(df_hu_ning2['from_station_name'] == u'无锡东') &\\\n",
    "            (df_hu_ning2['station_train_code'] == 'G130') &\\\n",
    "           (df_hu_ning2['record_time'] == '11:34')]"
   ]
  },
  {
   "cell_type": "markdown",
   "metadata": {},
   "source": [
    "#### df3为可用数据"
   ]
  },
  {
   "cell_type": "code",
   "execution_count": null,
   "metadata": {
    "collapsed": false,
    "scrolled": true
   },
   "outputs": [],
   "source": [
    "df_hu_ning3 = df_hu_ning2[df_hu_ning2['start_time_before30m'] == df_hu_ning2['record_time']]\n",
    "print len(df_hu_ning3)"
   ]
  },
  {
   "cell_type": "code",
   "execution_count": null,
   "metadata": {
    "collapsed": false
   },
   "outputs": [],
   "source": [
    "df_hu_ning3[df_hu_ning3['station_train_code'] == 'G130']"
   ]
  },
  {
   "cell_type": "markdown",
   "metadata": {},
   "source": [
    "#### 加一条列，记录起止站数据"
   ]
  },
  {
   "cell_type": "code",
   "execution_count": null,
   "metadata": {
    "collapsed": false
   },
   "outputs": [],
   "source": [
    "\n",
    "df_hu_ning3.head(2)"
   ]
  },
  {
   "cell_type": "code",
   "execution_count": null,
   "metadata": {
    "collapsed": false
   },
   "outputs": [],
   "source": [
    "type(df_hu_ning3['from_to'][934300])"
   ]
  },
  {
   "cell_type": "markdown",
   "metadata": {},
   "source": [
    "#### from_to为列表"
   ]
  },
  {
   "cell_type": "code",
   "execution_count": null,
   "metadata": {
    "collapsed": false
   },
   "outputs": [],
   "source": [
    "df_hu_ning3.from_to[934300]"
   ]
  },
  {
   "cell_type": "markdown",
   "metadata": {},
   "source": [
    "#### 导出为JSON数据"
   ]
  },
  {
   "cell_type": "code",
   "execution_count": null,
   "metadata": {
    "collapsed": false
   },
   "outputs": [],
   "source": [
    "df_hu_ning3.to_json('./data/df_hu_ning.json')"
   ]
  },
  {
   "cell_type": "code",
   "execution_count": null,
   "metadata": {
    "collapsed": false
   },
   "outputs": [],
   "source": [
    "df_test = pd.read_json('./data/df_hu_ning.json')"
   ]
  },
  {
   "cell_type": "code",
   "execution_count": null,
   "metadata": {
    "collapsed": false
   },
   "outputs": [],
   "source": [
    "df_test.head(2)"
   ]
  },
  {
   "cell_type": "code",
   "execution_count": null,
   "metadata": {
    "collapsed": false
   },
   "outputs": [],
   "source": [
    "df_test.ix[934300,'from_to']"
   ]
  },
  {
   "cell_type": "markdown",
   "metadata": {
    "collapsed": true
   },
   "source": [
    "## 2.2 汇总前一区间与下一区间的余票，并计算站点的上下客情况。"
   ]
  },
  {
   "cell_type": "markdown",
   "metadata": {},
   "source": [
    ">step1:添加一列，统计余票总数（如果有可能，可去获取上车多少人？）;<br>\n",
    ">step2:前一个数据减后一个数据，即可获得中间站的上下客情况。\n",
    "\n",
    ">中间站即为下一条数据的from_station_name"
   ]
  },
  {
   "cell_type": "markdown",
   "metadata": {},
   "source": [
    "# 二、获取各车次区间情况"
   ]
  },
  {
   "cell_type": "markdown",
   "metadata": {},
   "source": [
    "# 1. 区间站信息获取"
   ]
  },
  {
   "cell_type": "markdown",
   "metadata": {
    "collapsed": true
   },
   "source": [
    "## 1.1 获取沪宁-宁沪线车次"
   ]
  },
  {
   "cell_type": "markdown",
   "metadata": {
    "collapsed": true
   },
   "source": [
    "https://kyfw.12306.cn/otn/czxx/queryByTrainNo?train_no=5l000G191200&from_station_telecode=SHH&to_station_telecode=NJH&depart_date=2016-12-23"
   ]
  },
  {
   "cell_type": "code",
   "execution_count": null,
   "metadata": {
    "collapsed": false
   },
   "outputs": [],
   "source": [
    "import requests\n",
    "import pandas as pd\n",
    "import json\n",
    "#import arrow\n",
    "import warnings\n",
    "warnings.filterwarnings(\"ignore\")\n",
    "\n",
    "def get_pd(para):\n",
    "    para = para\n",
    "    r = requests.get('https://kyfw.12306.cn/otn/lcxxcx/query?purpose_codes=ADULT&' + \\\n",
    "                     para, verify=False).text\n",
    "    return r\n",
    "\n",
    "def to_csv(js):\n",
    "    js2 = json.loads(js)\n",
    "    data = js2['data']['datas']\n",
    "    df = pd.DataFrame(data)\n",
    "    df_use = df[[u'train_no',\n",
    "            u'station_train_code',\n",
    "                 u'from_station_name',\n",
    "                 u'to_station_name',\n",
    "                 u'start_time',\n",
    "                 u'swz_num',\n",
    "                 u'tz_num',\n",
    "                 u'zy_num',\n",
    "                 u'ze_num',\n",
    "                 u'wz_num',\n",
    "                 ]]\n",
    "    df_use = df_use[df_use[u'station_train_code'].str.startswith('G') | \\\n",
    "    df_use[u'station_train_code'].str.startswith('D')]\n",
    "    df_use.replace('--',0,inplace=True)\n",
    "    df_use.replace(u'无',0,inplace=True)\n",
    "#     tm = arrow.now().format('HH:mm:ss')\n",
    "#     df_use['record_time'] = tm\n",
    "    df_use[u'train_no'].to_csv('./data/SH-NJ-train_no.csv',index=False,encoding='utf-8')\n",
    "#     df_use[u'train_no'].to_csv('./data/NJ-SH-train_no.csv',index=False,encoding='utf-8')\n",
    "    \n",
    "if __name__ == '__main__':\n",
    "    para = 'queryDate=2016-12-29&from_station=SHH&to_station=NJH'\n",
    "#     para = 'queryDate=2016-12-29&from_station=NJH&to_station=SHH'\n",
    "    js = get_pd(para)\n",
    "    to_csv(js)\n",
    "    print('finished')"
   ]
  },
  {
   "cell_type": "markdown",
   "metadata": {
    "collapsed": true
   },
   "source": [
    "## 1.2 获取各车次，站点信息"
   ]
  },
  {
   "cell_type": "markdown",
   "metadata": {},
   "source": [
    "#### 3个参数需要调整"
   ]
  },
  {
   "cell_type": "code",
   "execution_count": null,
   "metadata": {
    "collapsed": false
   },
   "outputs": [],
   "source": [
    "import requests\n",
    "import pandas as pd\n",
    "import json\n",
    "#import arrow\n",
    "import warnings\n",
    "warnings.filterwarnings(\"ignore\")\n",
    "\n",
    "\n",
    "def get_pd(para):\n",
    "    para = para\n",
    "    r = requests.get('https://kyfw.12306.cn/otn/czxx/queryByTrainNo?train_no='+para+\\\n",
    "                     '&from_station_telecode=NJH&to_station_telecode=SHH&depart_date=2016-12-29',\n",
    "                     verify=False).text\n",
    "    return r\n",
    "\n",
    "def to_csv(para,js):\n",
    "    js2 = json.loads(js)\n",
    "    data = js2['data']['data']\n",
    "    df = pd.DataFrame(data)\n",
    "    try:\n",
    "        df = df[[\"station_name\",]]\n",
    "        df_use = pd.DataFrame({'train_no':[''],'station_name':['']})\n",
    "        df_use['train_no'] = para.strip()\n",
    "        df_use['station_name'] = df_use['station_name'].apply(lambda x: df[\"station_name\"].values)\n",
    "    #     df_use['start_time'] = df_use['start_time'].apply(lambda x: df[\"start_time\"].values)\n",
    "    #     df_use = df_use[df_use[u'station_train_code'].str.startswith('G') | \\\n",
    "    #     df_use[u'station_train_code'].str.startswith('D')]\n",
    "    #     df_use.replace('--',0,inplace=True)\n",
    "    #     df_use.replace(u'无',0,inplace=True)\n",
    "    #     tm = arrow.now().format('HH:mm:ss')\n",
    "    #     df_use['record_time'] = tm\n",
    "        df_use.to_csv('./data/NJ-SH-station.csv',mode = 'a',index=False,header=False,encoding='utf-8')\n",
    "    except:\n",
    "        pass\n",
    "if __name__ == '__main__':\n",
    "#     para = '55000G707270'\n",
    "#     js = get_pd(para)\n",
    "#     to_csv(para,js)\n",
    "#     print('finished')\n",
    "    station_no_file = open('./data/NJ-SH-train_no.csv','r')\n",
    "    station_no_data = station_no_file.readlines()\n",
    "    for station_no in station_no_data:\n",
    "#         print station_no.strip()\n",
    "#         para = '55000G707270'\n",
    "        js = get_pd(station_no.strip())\n",
    "        to_csv(station_no.strip(),js)\n",
    "    print('finished')"
   ]
  },
  {
   "cell_type": "markdown",
   "metadata": {},
   "source": [
    "#### 读取信息"
   ]
  },
  {
   "cell_type": "code",
   "execution_count": null,
   "metadata": {
    "collapsed": false
   },
   "outputs": [],
   "source": [
    "df_SH_NJ = pd.read_csv('./data/SH-NJ-station.csv',encoding='utf-8')\n",
    "df_SH_NJ.tail()"
   ]
  },
  {
   "cell_type": "code",
   "execution_count": null,
   "metadata": {
    "collapsed": false
   },
   "outputs": [],
   "source": [
    "len(df_SH_NJ)"
   ]
  },
  {
   "cell_type": "code",
   "execution_count": null,
   "metadata": {
    "collapsed": false
   },
   "outputs": [],
   "source": [
    "df_SH_NJ.columns=['station_name','train_no']\n",
    "df_SH_NJ[df_SH_NJ.train_no == '55000G701081']"
   ]
  },
  {
   "cell_type": "markdown",
   "metadata": {},
   "source": [
    "#### 添加列，进行组合"
   ]
  },
  {
   "cell_type": "code",
   "execution_count": null,
   "metadata": {
    "collapsed": false
   },
   "outputs": [],
   "source": [
    "print df_SH_NJ['station_name'][0]"
   ]
  },
  {
   "cell_type": "code",
   "execution_count": null,
   "metadata": {
    "collapsed": false
   },
   "outputs": [],
   "source": [
    "df_SH_NJ['station_name'][0]"
   ]
  },
  {
   "cell_type": "code",
   "execution_count": null,
   "metadata": {
    "collapsed": false
   },
   "outputs": [],
   "source": [
    "df_SH_NJ['station_name'] = df_SH_NJ['station_name'].apply(lambda x: \\\n",
    "                                              x.replace(u'[',u'').replace(u']',u'').replace(' ','').split(','))"
   ]
  },
  {
   "cell_type": "code",
   "execution_count": null,
   "metadata": {
    "collapsed": false
   },
   "outputs": [],
   "source": [
    "df_SH_NJ.tail()"
   ]
  },
  {
   "cell_type": "code",
   "execution_count": null,
   "metadata": {
    "collapsed": false
   },
   "outputs": [],
   "source": [
    "type(df_SH_NJ['station_name'][0])"
   ]
  },
  {
   "cell_type": "code",
   "execution_count": null,
   "metadata": {
    "collapsed": false
   },
   "outputs": [],
   "source": [
    "len(df_SH_NJ['station_name'][0])"
   ]
  },
  {
   "cell_type": "markdown",
   "metadata": {},
   "source": [
    "[上海虹桥, 无锡, 常州, 镇江, 南京南, 合肥南, 六安, 金寨, 麻城北, 汉口, 荆州, 宜昌东, 建始, 恩施, 利川, 石柱县, 涪陵北, 重庆北, 潼南, 遂宁, 成都东]"
   ]
  },
  {
   "cell_type": "markdown",
   "metadata": {},
   "source": [
    "### 示例：将2数进行组合（zip与map函数、join方法的用法）"
   ]
  },
  {
   "cell_type": "code",
   "execution_count": null,
   "metadata": {
    "collapsed": false
   },
   "outputs": [],
   "source": [
    "seq1 = ['one0', 'one1', 'one2']\n",
    "seq2 = ['two0', 'two1', 'two2']\n",
    "zip(seq1, seq2)"
   ]
  },
  {
   "cell_type": "code",
   "execution_count": null,
   "metadata": {
    "collapsed": false
   },
   "outputs": [],
   "source": [
    "seq = ['one0', 'one1', 'one2', 'two0', 'two1', 'two2']\n",
    "com= map(list,zip(seq[:-1], seq[1:]))\n",
    "com"
   ]
  },
  {
   "cell_type": "code",
   "execution_count": null,
   "metadata": {
    "collapsed": false
   },
   "outputs": [],
   "source": [
    "','.join(com[0])"
   ]
  },
  {
   "cell_type": "code",
   "execution_count": null,
   "metadata": {
    "collapsed": false
   },
   "outputs": [],
   "source": [
    "my_df['B'] = my_df.A.apply(lambda x: list(map(list, zip(x[:-1], x[1:]))))\n",
    "my_df"
   ]
  },
  {
   "cell_type": "code",
   "execution_count": null,
   "metadata": {
    "collapsed": false
   },
   "outputs": [],
   "source": [
    "dm = df_SH_NJ.copy()"
   ]
  },
  {
   "cell_type": "code",
   "execution_count": null,
   "metadata": {
    "collapsed": false
   },
   "outputs": [],
   "source": [
    "dm['station_interval'] = dm['station_name'].apply(lambda x: list(map(list, zip(x[:-1], x[1:]))))\n",
    "dm.head()"
   ]
  },
  {
   "cell_type": "code",
   "execution_count": null,
   "metadata": {
    "collapsed": false
   },
   "outputs": [],
   "source": [
    "dm.station_interval[4]"
   ]
  },
  {
   "cell_type": "code",
   "execution_count": null,
   "metadata": {
    "collapsed": false
   },
   "outputs": [],
   "source": [
    "type(dm['station_interval'][0][0])"
   ]
  },
  {
   "cell_type": "code",
   "execution_count": null,
   "metadata": {
    "collapsed": false
   },
   "outputs": [],
   "source": [
    "dm.to_json('./data/df_hu_station_modifity.json')"
   ]
  },
  {
   "cell_type": "code",
   "execution_count": null,
   "metadata": {
    "collapsed": true
   },
   "outputs": [],
   "source": []
  },
  {
   "cell_type": "code",
   "execution_count": null,
   "metadata": {
    "collapsed": true
   },
   "outputs": [],
   "source": []
  },
  {
   "cell_type": "markdown",
   "metadata": {},
   "source": [
    "# 三、余票数据与站点区间数据比对，获取是相邻站点的余票数据信息"
   ]
  },
  {
   "cell_type": "code",
   "execution_count": null,
   "metadata": {
    "collapsed": false
   },
   "outputs": [],
   "source": [
    "import pandas as pd\n",
    "import numpy as np\n",
    "df_tickets = pd.read_json('./data/df_hu_ning.json')\n",
    "df_tickets[df_tickets['train_no']=='55000G701081']"
   ]
  },
  {
   "cell_type": "code",
   "execution_count": null,
   "metadata": {
    "collapsed": false
   },
   "outputs": [],
   "source": [
    "len(df_tickets)"
   ]
  },
  {
   "cell_type": "code",
   "execution_count": null,
   "metadata": {
    "collapsed": false
   },
   "outputs": [],
   "source": [
    "df_tickets.ix[1801584,'from_to']"
   ]
  },
  {
   "cell_type": "code",
   "execution_count": null,
   "metadata": {
    "collapsed": false
   },
   "outputs": [],
   "source": [
    "df_stations = pd.read_json('./data/df_hu_station_modifity.json')\n",
    "df_stations[df_stations['train_no']=='55000G701081']"
   ]
  },
  {
   "cell_type": "code",
   "execution_count": null,
   "metadata": {
    "collapsed": false
   },
   "outputs": [],
   "source": [
    "df_stations.ix[74,'station_interval']"
   ]
  },
  {
   "cell_type": "code",
   "execution_count": null,
   "metadata": {
    "collapsed": false
   },
   "outputs": [],
   "source": [
    "len(df_stations)"
   ]
  },
  {
   "cell_type": "code",
   "execution_count": null,
   "metadata": {
    "collapsed": false
   },
   "outputs": [],
   "source": [
    "df_tickets_com = pd.merge(df_tickets,df_stations,on='train_no')\n",
    "df_tickets_com[df_tickets_com['train_no']=='5l000G192400'].head(2)"
   ]
  },
  {
   "cell_type": "code",
   "execution_count": null,
   "metadata": {
    "collapsed": false
   },
   "outputs": [],
   "source": [
    "len(df_tickets_com)"
   ]
  },
  {
   "cell_type": "code",
   "execution_count": null,
   "metadata": {
    "collapsed": true
   },
   "outputs": [],
   "source": [
    "df_tickets_com.to_json('./data/df_tickets_com.json')"
   ]
  },
  {
   "cell_type": "code",
   "execution_count": null,
   "metadata": {
    "collapsed": false
   },
   "outputs": [],
   "source": [
    "type(df_tickets_com['station_interval'][3][0])"
   ]
  },
  {
   "cell_type": "code",
   "execution_count": null,
   "metadata": {
    "collapsed": false
   },
   "outputs": [],
   "source": [
    "df_tickets_com.ix[1,'from_to']"
   ]
  },
  {
   "cell_type": "markdown",
   "metadata": {},
   "source": [
    "```\n",
    "print (my_df.apply(lambda x: x.A in x.B, axis=1))\n",
    "0     True\n",
    "1    False\n",
    "2     True\n",
    "dtype: bool\n",
    "print (my_df[my_df.apply(lambda x: x.A in x.B, axis=1)])\n",
    "          A                               B\n",
    "0  [aa, ab]  [[aa, ab], [ba, bb], [bc, bd]]\n",
    "2  [bc, bd]            [[aa, ab], [bc, bd]]\n",
    "```"
   ]
  },
  {
   "cell_type": "code",
   "execution_count": null,
   "metadata": {
    "collapsed": true
   },
   "outputs": [],
   "source": [
    "del df_tickets_com['in']"
   ]
  },
  {
   "cell_type": "code",
   "execution_count": null,
   "metadata": {
    "collapsed": false
   },
   "outputs": [],
   "source": [
    "df_tickets_com2 = df_tickets_com[df_tickets_com.apply(lambda x: x['from_to'] in x['station_interval'], axis=1)]\n",
    "df_tickets_com2.head(2)"
   ]
  },
  {
   "cell_type": "code",
   "execution_count": null,
   "metadata": {
    "collapsed": false
   },
   "outputs": [],
   "source": [
    "len(df_tickets_com2)"
   ]
  },
  {
   "cell_type": "code",
   "execution_count": null,
   "metadata": {
    "collapsed": false
   },
   "outputs": [],
   "source": [
    "df_tickets_com2.to_json('./df_tickets_to_analysi.json')"
   ]
  },
  {
   "cell_type": "code",
   "execution_count": null,
   "metadata": {
    "collapsed": true
   },
   "outputs": [],
   "source": []
  },
  {
   "cell_type": "markdown",
   "metadata": {},
   "source": [
    "# 三、数据分析与数据可视化——以苏州为例"
   ]
  },
  {
   "cell_type": "code",
   "execution_count": null,
   "metadata": {
    "collapsed": false
   },
   "outputs": [],
   "source": [
    "dff = pd.read_json('./df_tickets_to_analysi.json')\n",
    "dff.head(2)"
   ]
  },
  {
   "cell_type": "code",
   "execution_count": null,
   "metadata": {
    "collapsed": false
   },
   "outputs": [],
   "source": [
    "df_to_suzhou = dff[dff['to_station_name'].isin([u'苏州',u'苏州北',u'苏州园区',u'苏州新区'])]\n",
    "df_to_suzhou.sort_values(by='station_train_code').head(2)"
   ]
  },
  {
   "cell_type": "code",
   "execution_count": null,
   "metadata": {
    "collapsed": false
   },
   "outputs": [],
   "source": [
    "df_from_suzhou = dff[dff['from_station_name'].isin([u'苏州',u'苏州北',u'苏州园区',u'苏州新区'])]\n",
    "df_from_suzhou.sort_values(by='station_train_code').head(2)"
   ]
  },
  {
   "cell_type": "code",
   "execution_count": null,
   "metadata": {
    "collapsed": false
   },
   "outputs": [],
   "source": [
    "df_to_suzhou['tickets_sum_to'] = df_to_suzhou['swz_num']+df_to_suzhou['tz_num']\\\n",
    "+df_to_suzhou['wz_num']+df_to_suzhou['ze_num']+df_to_suzhou['zy_num']\n",
    "df_to_suzhou.sort_values(by='station_train_code').head(2)"
   ]
  },
  {
   "cell_type": "code",
   "execution_count": null,
   "metadata": {
    "collapsed": false
   },
   "outputs": [],
   "source": [
    "df_from_suzhou['tickets_sum_from'] = df_from_suzhou['swz_num']+df_from_suzhou['tz_num']\\\n",
    "+df_from_suzhou['wz_num']+df_from_suzhou['ze_num']+df_from_suzhou['zy_num']\n",
    "df_from_suzhou.sort_values(by='station_train_code').head(2)"
   ]
  },
  {
   "cell_type": "code",
   "execution_count": null,
   "metadata": {
    "collapsed": true
   },
   "outputs": [],
   "source": [
    "suzhou_df = pd.merge(df_to_suzhou,df_from_suzhou, on = 'train_no')"
   ]
  },
  {
   "cell_type": "code",
   "execution_count": null,
   "metadata": {
    "collapsed": false
   },
   "outputs": [],
   "source": [
    "suzhou_df.sort_values(by='station_train_code_x').head(2)"
   ]
  },
  {
   "cell_type": "code",
   "execution_count": null,
   "metadata": {
    "collapsed": false
   },
   "outputs": [],
   "source": [
    "suzhou_df.columns"
   ]
  },
  {
   "cell_type": "code",
   "execution_count": null,
   "metadata": {
    "collapsed": false
   },
   "outputs": [],
   "source": [
    "suzhou_df['tickets'] = suzhou_df['tickets_sum_to'] - suzhou_df['tickets_sum_from']"
   ]
  },
  {
   "cell_type": "code",
   "execution_count": null,
   "metadata": {
    "collapsed": false
   },
   "outputs": [],
   "source": [
    "str(suzhou_df['start_time_y'][0])"
   ]
  },
  {
   "cell_type": "markdown",
   "metadata": {},
   "source": [
    "#### 时间显示转换"
   ]
  },
  {
   "cell_type": "code",
   "execution_count": null,
   "metadata": {
    "collapsed": false
   },
   "outputs": [],
   "source": [
    "import arrow\n",
    "suzhou_df['start_time_y'] = suzhou_df['start_time_y'].\\\n",
    "apply(lambda x: arrow.get(str(x),'YY-MM-DD HH:mm:ss').format('HH:mm'))"
   ]
  },
  {
   "cell_type": "code",
   "execution_count": null,
   "metadata": {
    "collapsed": false
   },
   "outputs": [],
   "source": [
    "suzhou_df_to_plot = suzhou_df[['tickets','start_time_y','train_no','station_train_code_x','station_train_code_y']]"
   ]
  },
  {
   "cell_type": "code",
   "execution_count": null,
   "metadata": {
    "collapsed": false
   },
   "outputs": [],
   "source": [
    "suzhou_df_to_plot.head(2)"
   ]
  },
  {
   "cell_type": "code",
   "execution_count": null,
   "metadata": {
    "collapsed": true
   },
   "outputs": [],
   "source": [
    "suzhou_df_to_plot.sort_values(by='start_time_y')"
   ]
  },
  {
   "cell_type": "markdown",
   "metadata": {},
   "source": [
    "#### 将时间设置为序号"
   ]
  },
  {
   "cell_type": "code",
   "execution_count": null,
   "metadata": {
    "collapsed": false
   },
   "outputs": [],
   "source": [
    "suzhou_df_to_plot2 = suzhou_df_to_plot.copy()\n",
    "suzhou_df_to_plot2.head(2)"
   ]
  },
  {
   "cell_type": "code",
   "execution_count": null,
   "metadata": {
    "collapsed": false
   },
   "outputs": [],
   "source": [
    "suzhou_df_to_plot2.sort_values(by='start_time_y').head(2)"
   ]
  },
  {
   "cell_type": "code",
   "execution_count": null,
   "metadata": {
    "collapsed": false
   },
   "outputs": [],
   "source": [
    "import matplotlib.pyplot as plt\n",
    "plt.style.use('ggplot')\n",
    "%matplotlib inline\n",
    "\n",
    "# plt.figure(figsize=(19,7))\n",
    "dmt= suzhou_df_to_plot2.sort_values(by='start_time_y')\n",
    "dmt.plot(y='tickets', x ='start_time_y',kind = 'bar',figsize=(14,5), legend=False,fontsize=6)\n",
    "plt.xlabel(u'时 间(2016-12-21 06:00—23:00)',size=10)\n",
    "plt.ylabel(u'上下客流量值（单位：人）',size=10)\n",
    "plt.title(u'苏州地区站点（上海——南京）\\n',size=10)\n",
    "# plt.show()\n",
    "# plt.tight_layout()\n",
    "plt.savefig('suzhou.png',dpi=300)"
   ]
  },
  {
   "cell_type": "code",
   "execution_count": null,
   "metadata": {
    "collapsed": true
   },
   "outputs": [],
   "source": []
  },
  {
   "cell_type": "code",
   "execution_count": null,
   "metadata": {
    "collapsed": true
   },
   "outputs": [],
   "source": []
  },
  {
   "cell_type": "code",
   "execution_count": null,
   "metadata": {
    "collapsed": true
   },
   "outputs": [],
   "source": []
  },
  {
   "cell_type": "code",
   "execution_count": null,
   "metadata": {
    "collapsed": true
   },
   "outputs": [],
   "source": []
  },
  {
   "cell_type": "code",
   "execution_count": null,
   "metadata": {
    "collapsed": false
   },
   "outputs": [],
   "source": [
    "import arrow\n",
    "arrow.get('2016-12-19 08:05', 'YY-MM-DD HH:mm').format('HH:mm')"
   ]
  },
  {
   "cell_type": "code",
   "execution_count": null,
   "metadata": {
    "collapsed": false
   },
   "outputs": [],
   "source": [
    "import arrow\n",
    "suzhou_df_top_plot.index = suzhou_df_top_plot.index.\\\n",
    "apply(lambda x: arrow.get(x,'YY-MM-DD HH:mm').format('HH:mm'))"
   ]
  }
 ],
 "metadata": {
  "anaconda-cloud": {},
  "kernelspec": {
   "display_name": "Python 2",
   "language": "python",
   "name": "python2"
  },
  "language_info": {
   "codemirror_mode": {
    "name": "ipython",
    "version": 2
   },
   "file_extension": ".py",
   "mimetype": "text/x-python",
   "name": "python",
   "nbconvert_exporter": "python",
   "pygments_lexer": "ipython2",
   "version": "2.7.6"
  }
 },
 "nbformat": 4,
 "nbformat_minor": 1
}
