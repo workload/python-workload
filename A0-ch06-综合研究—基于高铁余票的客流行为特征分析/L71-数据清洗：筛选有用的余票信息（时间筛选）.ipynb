{
 "cells": [
  {
   "cell_type": "markdown",
   "metadata": {
    "collapsed": true,
    "nbpresent": {
     "id": "728bfe36-dd46-43a5-91b8-fba3f9125f3c"
    }
   },
   "source": [
    "# 筛选可用数据"
   ]
  },
  {
   "cell_type": "code",
   "execution_count": 7,
   "metadata": {
    "collapsed": false,
    "nbpresent": {
     "id": "96c19991-3cb3-4d5e-8d65-f0e71e17527b"
    }
   },
   "outputs": [
    {
     "ename": "CParserError",
     "evalue": "Error tokenizing data. C error: out of memory",
     "output_type": "error",
     "traceback": [
      "\u001b[1;31m---------------------------------------------------------------------------\u001b[0m",
      "\u001b[1;31mCParserError\u001b[0m                              Traceback (most recent call last)",
      "\u001b[1;32m<ipython-input-7-6d779c927894>\u001b[0m in \u001b[0;36m<module>\u001b[1;34m()\u001b[0m\n\u001b[0;32m      1\u001b[0m \u001b[1;32mimport\u001b[0m \u001b[0mpandas\u001b[0m \u001b[1;32mas\u001b[0m \u001b[0mpd\u001b[0m\u001b[1;33m\u001b[0m\u001b[0m\n\u001b[0;32m      2\u001b[0m \u001b[1;32mimport\u001b[0m \u001b[0marrow\u001b[0m\u001b[1;33m\u001b[0m\u001b[0m\n\u001b[1;32m----> 3\u001b[1;33m \u001b[0mdf_hu_ning\u001b[0m \u001b[1;33m=\u001b[0m \u001b[0mpd\u001b[0m\u001b[1;33m.\u001b[0m\u001b[0mread_csv\u001b[0m\u001b[1;33m(\u001b[0m\u001b[1;34m'./data/HuNing-2016-12-21.csv'\u001b[0m\u001b[1;33m,\u001b[0m\u001b[0mencoding\u001b[0m\u001b[1;33m=\u001b[0m\u001b[1;34m'utf-8'\u001b[0m\u001b[1;33m)\u001b[0m\u001b[1;33m\u001b[0m\u001b[0m\n\u001b[0m\u001b[0;32m      4\u001b[0m \u001b[0mdf_hu_ning\u001b[0m\u001b[1;33m.\u001b[0m\u001b[0mtail\u001b[0m\u001b[1;33m(\u001b[0m\u001b[1;33m)\u001b[0m\u001b[1;33m\u001b[0m\u001b[0m\n",
      "\u001b[1;32mC:\\Anaconda2\\lib\\site-packages\\pandas\\io\\parsers.pyc\u001b[0m in \u001b[0;36mparser_f\u001b[1;34m(filepath_or_buffer, sep, delimiter, header, names, index_col, usecols, squeeze, prefix, mangle_dupe_cols, dtype, engine, converters, true_values, false_values, skipinitialspace, skiprows, skipfooter, nrows, na_values, keep_default_na, na_filter, verbose, skip_blank_lines, parse_dates, infer_datetime_format, keep_date_col, date_parser, dayfirst, iterator, chunksize, compression, thousands, decimal, lineterminator, quotechar, quoting, escapechar, comment, encoding, dialect, tupleize_cols, error_bad_lines, warn_bad_lines, skip_footer, doublequote, delim_whitespace, as_recarray, compact_ints, use_unsigned, low_memory, buffer_lines, memory_map, float_precision)\u001b[0m\n\u001b[0;32m    560\u001b[0m                     skip_blank_lines=skip_blank_lines)\n\u001b[0;32m    561\u001b[0m \u001b[1;33m\u001b[0m\u001b[0m\n\u001b[1;32m--> 562\u001b[1;33m         \u001b[1;32mreturn\u001b[0m \u001b[0m_read\u001b[0m\u001b[1;33m(\u001b[0m\u001b[0mfilepath_or_buffer\u001b[0m\u001b[1;33m,\u001b[0m \u001b[0mkwds\u001b[0m\u001b[1;33m)\u001b[0m\u001b[1;33m\u001b[0m\u001b[0m\n\u001b[0m\u001b[0;32m    563\u001b[0m \u001b[1;33m\u001b[0m\u001b[0m\n\u001b[0;32m    564\u001b[0m     \u001b[0mparser_f\u001b[0m\u001b[1;33m.\u001b[0m\u001b[0m__name__\u001b[0m \u001b[1;33m=\u001b[0m \u001b[0mname\u001b[0m\u001b[1;33m\u001b[0m\u001b[0m\n",
      "\u001b[1;32mC:\\Anaconda2\\lib\\site-packages\\pandas\\io\\parsers.pyc\u001b[0m in \u001b[0;36m_read\u001b[1;34m(filepath_or_buffer, kwds)\u001b[0m\n\u001b[0;32m    313\u001b[0m \u001b[1;33m\u001b[0m\u001b[0m\n\u001b[0;32m    314\u001b[0m     \u001b[1;31m# Create the parser.\u001b[0m\u001b[1;33m\u001b[0m\u001b[1;33m\u001b[0m\u001b[0m\n\u001b[1;32m--> 315\u001b[1;33m     \u001b[0mparser\u001b[0m \u001b[1;33m=\u001b[0m \u001b[0mTextFileReader\u001b[0m\u001b[1;33m(\u001b[0m\u001b[0mfilepath_or_buffer\u001b[0m\u001b[1;33m,\u001b[0m \u001b[1;33m**\u001b[0m\u001b[0mkwds\u001b[0m\u001b[1;33m)\u001b[0m\u001b[1;33m\u001b[0m\u001b[0m\n\u001b[0m\u001b[0;32m    316\u001b[0m \u001b[1;33m\u001b[0m\u001b[0m\n\u001b[0;32m    317\u001b[0m     \u001b[1;32mif\u001b[0m \u001b[1;33m(\u001b[0m\u001b[0mnrows\u001b[0m \u001b[1;32mis\u001b[0m \u001b[1;32mnot\u001b[0m \u001b[0mNone\u001b[0m\u001b[1;33m)\u001b[0m \u001b[1;32mand\u001b[0m \u001b[1;33m(\u001b[0m\u001b[0mchunksize\u001b[0m \u001b[1;32mis\u001b[0m \u001b[1;32mnot\u001b[0m \u001b[0mNone\u001b[0m\u001b[1;33m)\u001b[0m\u001b[1;33m:\u001b[0m\u001b[1;33m\u001b[0m\u001b[0m\n",
      "\u001b[1;32mC:\\Anaconda2\\lib\\site-packages\\pandas\\io\\parsers.pyc\u001b[0m in \u001b[0;36m__init__\u001b[1;34m(self, f, engine, **kwds)\u001b[0m\n\u001b[0;32m    643\u001b[0m             \u001b[0mself\u001b[0m\u001b[1;33m.\u001b[0m\u001b[0moptions\u001b[0m\u001b[1;33m[\u001b[0m\u001b[1;34m'has_index_names'\u001b[0m\u001b[1;33m]\u001b[0m \u001b[1;33m=\u001b[0m \u001b[0mkwds\u001b[0m\u001b[1;33m[\u001b[0m\u001b[1;34m'has_index_names'\u001b[0m\u001b[1;33m]\u001b[0m\u001b[1;33m\u001b[0m\u001b[0m\n\u001b[0;32m    644\u001b[0m \u001b[1;33m\u001b[0m\u001b[0m\n\u001b[1;32m--> 645\u001b[1;33m         \u001b[0mself\u001b[0m\u001b[1;33m.\u001b[0m\u001b[0m_make_engine\u001b[0m\u001b[1;33m(\u001b[0m\u001b[0mself\u001b[0m\u001b[1;33m.\u001b[0m\u001b[0mengine\u001b[0m\u001b[1;33m)\u001b[0m\u001b[1;33m\u001b[0m\u001b[0m\n\u001b[0m\u001b[0;32m    646\u001b[0m \u001b[1;33m\u001b[0m\u001b[0m\n\u001b[0;32m    647\u001b[0m     \u001b[1;32mdef\u001b[0m \u001b[0mclose\u001b[0m\u001b[1;33m(\u001b[0m\u001b[0mself\u001b[0m\u001b[1;33m)\u001b[0m\u001b[1;33m:\u001b[0m\u001b[1;33m\u001b[0m\u001b[0m\n",
      "\u001b[1;32mC:\\Anaconda2\\lib\\site-packages\\pandas\\io\\parsers.pyc\u001b[0m in \u001b[0;36m_make_engine\u001b[1;34m(self, engine)\u001b[0m\n\u001b[0;32m    797\u001b[0m     \u001b[1;32mdef\u001b[0m \u001b[0m_make_engine\u001b[0m\u001b[1;33m(\u001b[0m\u001b[0mself\u001b[0m\u001b[1;33m,\u001b[0m \u001b[0mengine\u001b[0m\u001b[1;33m=\u001b[0m\u001b[1;34m'c'\u001b[0m\u001b[1;33m)\u001b[0m\u001b[1;33m:\u001b[0m\u001b[1;33m\u001b[0m\u001b[0m\n\u001b[0;32m    798\u001b[0m         \u001b[1;32mif\u001b[0m \u001b[0mengine\u001b[0m \u001b[1;33m==\u001b[0m \u001b[1;34m'c'\u001b[0m\u001b[1;33m:\u001b[0m\u001b[1;33m\u001b[0m\u001b[0m\n\u001b[1;32m--> 799\u001b[1;33m             \u001b[0mself\u001b[0m\u001b[1;33m.\u001b[0m\u001b[0m_engine\u001b[0m \u001b[1;33m=\u001b[0m \u001b[0mCParserWrapper\u001b[0m\u001b[1;33m(\u001b[0m\u001b[0mself\u001b[0m\u001b[1;33m.\u001b[0m\u001b[0mf\u001b[0m\u001b[1;33m,\u001b[0m \u001b[1;33m**\u001b[0m\u001b[0mself\u001b[0m\u001b[1;33m.\u001b[0m\u001b[0moptions\u001b[0m\u001b[1;33m)\u001b[0m\u001b[1;33m\u001b[0m\u001b[0m\n\u001b[0m\u001b[0;32m    800\u001b[0m         \u001b[1;32melse\u001b[0m\u001b[1;33m:\u001b[0m\u001b[1;33m\u001b[0m\u001b[0m\n\u001b[0;32m    801\u001b[0m             \u001b[1;32mif\u001b[0m \u001b[0mengine\u001b[0m \u001b[1;33m==\u001b[0m \u001b[1;34m'python'\u001b[0m\u001b[1;33m:\u001b[0m\u001b[1;33m\u001b[0m\u001b[0m\n",
      "\u001b[1;32mC:\\Anaconda2\\lib\\site-packages\\pandas\\io\\parsers.pyc\u001b[0m in \u001b[0;36m__init__\u001b[1;34m(self, src, **kwds)\u001b[0m\n\u001b[0;32m   1211\u001b[0m         \u001b[0mkwds\u001b[0m\u001b[1;33m[\u001b[0m\u001b[1;34m'allow_leading_cols'\u001b[0m\u001b[1;33m]\u001b[0m \u001b[1;33m=\u001b[0m \u001b[0mself\u001b[0m\u001b[1;33m.\u001b[0m\u001b[0mindex_col\u001b[0m \u001b[1;32mis\u001b[0m \u001b[1;32mnot\u001b[0m \u001b[0mFalse\u001b[0m\u001b[1;33m\u001b[0m\u001b[0m\n\u001b[0;32m   1212\u001b[0m \u001b[1;33m\u001b[0m\u001b[0m\n\u001b[1;32m-> 1213\u001b[1;33m         \u001b[0mself\u001b[0m\u001b[1;33m.\u001b[0m\u001b[0m_reader\u001b[0m \u001b[1;33m=\u001b[0m \u001b[0m_parser\u001b[0m\u001b[1;33m.\u001b[0m\u001b[0mTextReader\u001b[0m\u001b[1;33m(\u001b[0m\u001b[0msrc\u001b[0m\u001b[1;33m,\u001b[0m \u001b[1;33m**\u001b[0m\u001b[0mkwds\u001b[0m\u001b[1;33m)\u001b[0m\u001b[1;33m\u001b[0m\u001b[0m\n\u001b[0m\u001b[0;32m   1214\u001b[0m \u001b[1;33m\u001b[0m\u001b[0m\n\u001b[0;32m   1215\u001b[0m         \u001b[1;31m# XXX\u001b[0m\u001b[1;33m\u001b[0m\u001b[1;33m\u001b[0m\u001b[0m\n",
      "\u001b[1;32mpandas\\parser.pyx\u001b[0m in \u001b[0;36mpandas.parser.TextReader.__cinit__ (pandas\\parser.c:5129)\u001b[1;34m()\u001b[0m\n",
      "\u001b[1;32mpandas\\parser.pyx\u001b[0m in \u001b[0;36mpandas.parser.TextReader._get_header (pandas\\parser.c:7259)\u001b[1;34m()\u001b[0m\n",
      "\u001b[1;32mpandas\\parser.pyx\u001b[0m in \u001b[0;36mpandas.parser.TextReader._tokenize_rows (pandas\\parser.c:9602)\u001b[1;34m()\u001b[0m\n",
      "\u001b[1;32mpandas\\parser.pyx\u001b[0m in \u001b[0;36mpandas.parser.raise_parser_error (pandas\\parser.c:23325)\u001b[1;34m()\u001b[0m\n",
      "\u001b[1;31mCParserError\u001b[0m: Error tokenizing data. C error: out of memory"
     ]
    }
   ],
   "source": [
    "import pandas as pd\n",
    "import arrow\n",
    "df_hu_ning = pd.read_csv('./data/HuNing-2016-12-21.csv',encoding='utf-8')\n",
    "df_hu_ning.tail()"
   ]
  },
  {
   "cell_type": "code",
   "execution_count": 2,
   "metadata": {
    "collapsed": false,
    "nbpresent": {
     "id": "bf882bc2-4274-4633-b81d-a6c639894ff5"
    }
   },
   "outputs": [
    {
     "data": {
      "text/html": [
       "<div>\n",
       "<table border=\"1\" class=\"dataframe\">\n",
       "  <thead>\n",
       "    <tr style=\"text-align: right;\">\n",
       "      <th></th>\n",
       "      <th>train_no</th>\n",
       "      <th>station_train_code</th>\n",
       "      <th>from_station_name</th>\n",
       "      <th>to_station_name</th>\n",
       "      <th>start_time</th>\n",
       "      <th>swz_num</th>\n",
       "      <th>tz_num</th>\n",
       "      <th>zy_num</th>\n",
       "      <th>ze_num</th>\n",
       "      <th>wz_num</th>\n",
       "      <th>record_date</th>\n",
       "      <th>record_time</th>\n",
       "    </tr>\n",
       "  </thead>\n",
       "  <tbody>\n",
       "    <tr>\n",
       "      <th>2412835</th>\n",
       "      <td>550000D30661</td>\n",
       "      <td>D306</td>\n",
       "      <td>苏州</td>\n",
       "      <td>南京</td>\n",
       "      <td>23:14</td>\n",
       "      <td>0</td>\n",
       "      <td>0</td>\n",
       "      <td>0</td>\n",
       "      <td>3</td>\n",
       "      <td>0</td>\n",
       "      <td>2016-12-21</td>\n",
       "      <td>23:20</td>\n",
       "    </tr>\n",
       "    <tr>\n",
       "      <th>2412836</th>\n",
       "      <td>550000D30661</td>\n",
       "      <td>D306</td>\n",
       "      <td>苏州</td>\n",
       "      <td>南京</td>\n",
       "      <td>23:14</td>\n",
       "      <td>0</td>\n",
       "      <td>0</td>\n",
       "      <td>0</td>\n",
       "      <td>3</td>\n",
       "      <td>0</td>\n",
       "      <td>2016-12-21</td>\n",
       "      <td>23:21</td>\n",
       "    </tr>\n",
       "    <tr>\n",
       "      <th>2412837</th>\n",
       "      <td>550000D30661</td>\n",
       "      <td>D306</td>\n",
       "      <td>苏州</td>\n",
       "      <td>南京</td>\n",
       "      <td>23:14</td>\n",
       "      <td>0</td>\n",
       "      <td>0</td>\n",
       "      <td>0</td>\n",
       "      <td>3</td>\n",
       "      <td>0</td>\n",
       "      <td>2016-12-21</td>\n",
       "      <td>23:24</td>\n",
       "    </tr>\n",
       "    <tr>\n",
       "      <th>2412838</th>\n",
       "      <td>550000D30661</td>\n",
       "      <td>D306</td>\n",
       "      <td>苏州</td>\n",
       "      <td>南京</td>\n",
       "      <td>23:14</td>\n",
       "      <td>0</td>\n",
       "      <td>0</td>\n",
       "      <td>0</td>\n",
       "      <td>3</td>\n",
       "      <td>0</td>\n",
       "      <td>2016-12-21</td>\n",
       "      <td>23:24</td>\n",
       "    </tr>\n",
       "    <tr>\n",
       "      <th>2412839</th>\n",
       "      <td>550000D30661</td>\n",
       "      <td>D306</td>\n",
       "      <td>苏州</td>\n",
       "      <td>南京</td>\n",
       "      <td>23:14</td>\n",
       "      <td>0</td>\n",
       "      <td>0</td>\n",
       "      <td>0</td>\n",
       "      <td>3</td>\n",
       "      <td>0</td>\n",
       "      <td>2016-12-21</td>\n",
       "      <td>23:25</td>\n",
       "    </tr>\n",
       "  </tbody>\n",
       "</table>\n",
       "</div>"
      ],
      "text/plain": [
       "             train_no station_train_code from_station_name to_station_name  \\\n",
       "2412835  550000D30661               D306                苏州              南京   \n",
       "2412836  550000D30661               D306                苏州              南京   \n",
       "2412837  550000D30661               D306                苏州              南京   \n",
       "2412838  550000D30661               D306                苏州              南京   \n",
       "2412839  550000D30661               D306                苏州              南京   \n",
       "\n",
       "        start_time  swz_num  tz_num  zy_num  ze_num  wz_num record_date  \\\n",
       "2412835      23:14        0       0       0       3       0  2016-12-21   \n",
       "2412836      23:14        0       0       0       3       0  2016-12-21   \n",
       "2412837      23:14        0       0       0       3       0  2016-12-21   \n",
       "2412838      23:14        0       0       0       3       0  2016-12-21   \n",
       "2412839      23:14        0       0       0       3       0  2016-12-21   \n",
       "\n",
       "        record_time  \n",
       "2412835       23:20  \n",
       "2412836       23:21  \n",
       "2412837       23:24  \n",
       "2412838       23:24  \n",
       "2412839       23:25  "
      ]
     },
     "execution_count": 2,
     "metadata": {},
     "output_type": "execute_result"
    }
   ],
   "source": [
    "df_hu_ning = pd.read_csv('./data/HuNing-2016-12-21.csv',names=[u'train_no',\n",
    "                                                               u'station_train_code',\n",
    "                                                               u'from_station_name',\n",
    "                                                               u'to_station_name',\n",
    "                                                               u'start_time',\n",
    "                                                               u'swz_num',\n",
    "                                                               u'tz_num',\n",
    "                                                               u'zy_num',\n",
    "                                                               u'ze_num',\n",
    "                                                               u'wz_num',\n",
    "                                                               u'record_date',\n",
    "                                                               u'record_time',]\n",
    "                         ,encoding='utf-8')\n",
    "df_hu_ning.tail()"
   ]
  },
  {
   "cell_type": "markdown",
   "metadata": {},
   "source": [
    "## 上海至南京一天内的余票数据"
   ]
  },
  {
   "cell_type": "code",
   "execution_count": 3,
   "metadata": {
    "collapsed": false
   },
   "outputs": [],
   "source": [
    "df_SH_NJ = df_hu_ning.copy()\n",
    "df_SH_NJ = df_SH_NJ[(df_SH_NJ['from_station_name'] == u'上海') & (df_SH_NJ['to_station_name'] == u'南京')]\n",
    "df_SH_NJ['all_tickets'] = df_SH_NJ['swz_num'] + df_SH_NJ[u'tz_num'] +\\\n",
    "df_SH_NJ[u'zy_num']  + df_SH_NJ[u'ze_num'] + df_SH_NJ[u'wz_num'] "
   ]
  },
  {
   "cell_type": "code",
   "execution_count": 6,
   "metadata": {
    "collapsed": false
   },
   "outputs": [
    {
     "data": {
      "text/html": [
       "<div>\n",
       "<table border=\"1\" class=\"dataframe\">\n",
       "  <thead>\n",
       "    <tr style=\"text-align: right;\">\n",
       "      <th></th>\n",
       "      <th>train_no</th>\n",
       "      <th>station_train_code</th>\n",
       "      <th>from_station_name</th>\n",
       "      <th>to_station_name</th>\n",
       "      <th>start_time</th>\n",
       "      <th>swz_num</th>\n",
       "      <th>tz_num</th>\n",
       "      <th>zy_num</th>\n",
       "      <th>ze_num</th>\n",
       "      <th>wz_num</th>\n",
       "      <th>record_date</th>\n",
       "      <th>record_time</th>\n",
       "      <th>all_tickets</th>\n",
       "    </tr>\n",
       "  </thead>\n",
       "  <tbody>\n",
       "    <tr>\n",
       "      <th>740</th>\n",
       "      <td>55000G703240</td>\n",
       "      <td>G7032</td>\n",
       "      <td>上海</td>\n",
       "      <td>南京</td>\n",
       "      <td>06:18</td>\n",
       "      <td>0</td>\n",
       "      <td>0</td>\n",
       "      <td>26</td>\n",
       "      <td>0</td>\n",
       "      <td>116</td>\n",
       "      <td>2016-12-21</td>\n",
       "      <td>00:00</td>\n",
       "      <td>142</td>\n",
       "    </tr>\n",
       "    <tr>\n",
       "      <th>748</th>\n",
       "      <td>55000G700261</td>\n",
       "      <td>G7002</td>\n",
       "      <td>上海</td>\n",
       "      <td>南京</td>\n",
       "      <td>07:00</td>\n",
       "      <td>0</td>\n",
       "      <td>17</td>\n",
       "      <td>8</td>\n",
       "      <td>3</td>\n",
       "      <td>292</td>\n",
       "      <td>2016-12-21</td>\n",
       "      <td>00:00</td>\n",
       "      <td>320</td>\n",
       "    </tr>\n",
       "    <tr>\n",
       "      <th>751</th>\n",
       "      <td>55000G703450</td>\n",
       "      <td>G7034</td>\n",
       "      <td>上海</td>\n",
       "      <td>南京</td>\n",
       "      <td>07:05</td>\n",
       "      <td>0</td>\n",
       "      <td>0</td>\n",
       "      <td>39</td>\n",
       "      <td>106</td>\n",
       "      <td>168</td>\n",
       "      <td>2016-12-21</td>\n",
       "      <td>00:00</td>\n",
       "      <td>313</td>\n",
       "    </tr>\n",
       "    <tr>\n",
       "      <th>764</th>\n",
       "      <td>55000G700482</td>\n",
       "      <td>G7004</td>\n",
       "      <td>上海</td>\n",
       "      <td>南京</td>\n",
       "      <td>08:00</td>\n",
       "      <td>0</td>\n",
       "      <td>0</td>\n",
       "      <td>0</td>\n",
       "      <td>0</td>\n",
       "      <td>217</td>\n",
       "      <td>2016-12-21</td>\n",
       "      <td>00:00</td>\n",
       "      <td>217</td>\n",
       "    </tr>\n",
       "    <tr>\n",
       "      <th>767</th>\n",
       "      <td>55000G703670</td>\n",
       "      <td>G7036</td>\n",
       "      <td>上海</td>\n",
       "      <td>南京</td>\n",
       "      <td>08:10</td>\n",
       "      <td>9</td>\n",
       "      <td>0</td>\n",
       "      <td>0</td>\n",
       "      <td>0</td>\n",
       "      <td>135</td>\n",
       "      <td>2016-12-21</td>\n",
       "      <td>00:00</td>\n",
       "      <td>144</td>\n",
       "    </tr>\n",
       "    <tr>\n",
       "      <th>780</th>\n",
       "      <td>55000G700651</td>\n",
       "      <td>G7006</td>\n",
       "      <td>上海</td>\n",
       "      <td>南京</td>\n",
       "      <td>09:00</td>\n",
       "      <td>0</td>\n",
       "      <td>0</td>\n",
       "      <td>1</td>\n",
       "      <td>40</td>\n",
       "      <td>294</td>\n",
       "      <td>2016-12-21</td>\n",
       "      <td>00:00</td>\n",
       "      <td>335</td>\n",
       "    </tr>\n",
       "    <tr>\n",
       "      <th>782</th>\n",
       "      <td>55000G703850</td>\n",
       "      <td>G7038</td>\n",
       "      <td>上海</td>\n",
       "      <td>南京</td>\n",
       "      <td>09:05</td>\n",
       "      <td>0</td>\n",
       "      <td>0</td>\n",
       "      <td>24</td>\n",
       "      <td>237</td>\n",
       "      <td>168</td>\n",
       "      <td>2016-12-21</td>\n",
       "      <td>00:00</td>\n",
       "      <td>429</td>\n",
       "    </tr>\n",
       "    <tr>\n",
       "      <th>793</th>\n",
       "      <td>55000G704080</td>\n",
       "      <td>G7040</td>\n",
       "      <td>上海</td>\n",
       "      <td>南京</td>\n",
       "      <td>09:48</td>\n",
       "      <td>0</td>\n",
       "      <td>0</td>\n",
       "      <td>30</td>\n",
       "      <td>362</td>\n",
       "      <td>168</td>\n",
       "      <td>2016-12-21</td>\n",
       "      <td>00:00</td>\n",
       "      <td>560</td>\n",
       "    </tr>\n",
       "    <tr>\n",
       "      <th>795</th>\n",
       "      <td>55000G700865</td>\n",
       "      <td>G7008</td>\n",
       "      <td>上海</td>\n",
       "      <td>南京</td>\n",
       "      <td>10:00</td>\n",
       "      <td>0</td>\n",
       "      <td>10</td>\n",
       "      <td>0</td>\n",
       "      <td>430</td>\n",
       "      <td>294</td>\n",
       "      <td>2016-12-21</td>\n",
       "      <td>00:00</td>\n",
       "      <td>734</td>\n",
       "    </tr>\n",
       "    <tr>\n",
       "      <th>797</th>\n",
       "      <td>55000G704290</td>\n",
       "      <td>G7042</td>\n",
       "      <td>上海</td>\n",
       "      <td>南京</td>\n",
       "      <td>10:09</td>\n",
       "      <td>7</td>\n",
       "      <td>0</td>\n",
       "      <td>6</td>\n",
       "      <td>332</td>\n",
       "      <td>147</td>\n",
       "      <td>2016-12-21</td>\n",
       "      <td>00:00</td>\n",
       "      <td>492</td>\n",
       "    </tr>\n",
       "    <tr>\n",
       "      <th>806</th>\n",
       "      <td>55000G704480</td>\n",
       "      <td>G7044</td>\n",
       "      <td>上海</td>\n",
       "      <td>南京</td>\n",
       "      <td>10:46</td>\n",
       "      <td>0</td>\n",
       "      <td>0</td>\n",
       "      <td>44</td>\n",
       "      <td>459</td>\n",
       "      <td>168</td>\n",
       "      <td>2016-12-21</td>\n",
       "      <td>00:00</td>\n",
       "      <td>671</td>\n",
       "    </tr>\n",
       "    <tr>\n",
       "      <th>809</th>\n",
       "      <td>55000G701081</td>\n",
       "      <td>G7010</td>\n",
       "      <td>上海</td>\n",
       "      <td>南京</td>\n",
       "      <td>11:00</td>\n",
       "      <td>0</td>\n",
       "      <td>24</td>\n",
       "      <td>41</td>\n",
       "      <td>836</td>\n",
       "      <td>294</td>\n",
       "      <td>2016-12-21</td>\n",
       "      <td>00:00</td>\n",
       "      <td>1195</td>\n",
       "    </tr>\n",
       "    <tr>\n",
       "      <th>822</th>\n",
       "      <td>55000G701281</td>\n",
       "      <td>G7012</td>\n",
       "      <td>上海</td>\n",
       "      <td>南京</td>\n",
       "      <td>12:00</td>\n",
       "      <td>0</td>\n",
       "      <td>22</td>\n",
       "      <td>45</td>\n",
       "      <td>840</td>\n",
       "      <td>294</td>\n",
       "      <td>2016-12-21</td>\n",
       "      <td>00:00</td>\n",
       "      <td>1201</td>\n",
       "    </tr>\n",
       "    <tr>\n",
       "      <th>827</th>\n",
       "      <td>55000G704680</td>\n",
       "      <td>G7046</td>\n",
       "      <td>上海</td>\n",
       "      <td>南京</td>\n",
       "      <td>12:20</td>\n",
       "      <td>0</td>\n",
       "      <td>0</td>\n",
       "      <td>29</td>\n",
       "      <td>448</td>\n",
       "      <td>168</td>\n",
       "      <td>2016-12-21</td>\n",
       "      <td>00:00</td>\n",
       "      <td>645</td>\n",
       "    </tr>\n",
       "    <tr>\n",
       "      <th>829</th>\n",
       "      <td>55000G704870</td>\n",
       "      <td>G7048</td>\n",
       "      <td>上海</td>\n",
       "      <td>南京</td>\n",
       "      <td>12:25</td>\n",
       "      <td>0</td>\n",
       "      <td>0</td>\n",
       "      <td>43</td>\n",
       "      <td>468</td>\n",
       "      <td>168</td>\n",
       "      <td>2016-12-21</td>\n",
       "      <td>00:00</td>\n",
       "      <td>679</td>\n",
       "    </tr>\n",
       "    <tr>\n",
       "      <th>835</th>\n",
       "      <td>55000G701491</td>\n",
       "      <td>G7014</td>\n",
       "      <td>上海</td>\n",
       "      <td>南京</td>\n",
       "      <td>13:00</td>\n",
       "      <td>0</td>\n",
       "      <td>24</td>\n",
       "      <td>36</td>\n",
       "      <td>850</td>\n",
       "      <td>294</td>\n",
       "      <td>2016-12-21</td>\n",
       "      <td>00:00</td>\n",
       "      <td>1204</td>\n",
       "    </tr>\n",
       "    <tr>\n",
       "      <th>846</th>\n",
       "      <td>55000G701665</td>\n",
       "      <td>G7016</td>\n",
       "      <td>上海</td>\n",
       "      <td>南京</td>\n",
       "      <td>14:00</td>\n",
       "      <td>0</td>\n",
       "      <td>24</td>\n",
       "      <td>43</td>\n",
       "      <td>879</td>\n",
       "      <td>294</td>\n",
       "      <td>2016-12-21</td>\n",
       "      <td>00:00</td>\n",
       "      <td>1240</td>\n",
       "    </tr>\n",
       "    <tr>\n",
       "      <th>853</th>\n",
       "      <td>55000G705080</td>\n",
       "      <td>G7050</td>\n",
       "      <td>上海</td>\n",
       "      <td>南京</td>\n",
       "      <td>14:30</td>\n",
       "      <td>0</td>\n",
       "      <td>0</td>\n",
       "      <td>43</td>\n",
       "      <td>448</td>\n",
       "      <td>168</td>\n",
       "      <td>2016-12-21</td>\n",
       "      <td>00:00</td>\n",
       "      <td>659</td>\n",
       "    </tr>\n",
       "    <tr>\n",
       "      <th>857</th>\n",
       "      <td>55000G7018B2</td>\n",
       "      <td>G7018</td>\n",
       "      <td>上海</td>\n",
       "      <td>南京</td>\n",
       "      <td>15:00</td>\n",
       "      <td>0</td>\n",
       "      <td>21</td>\n",
       "      <td>26</td>\n",
       "      <td>760</td>\n",
       "      <td>294</td>\n",
       "      <td>2016-12-21</td>\n",
       "      <td>00:00</td>\n",
       "      <td>1101</td>\n",
       "    </tr>\n",
       "    <tr>\n",
       "      <th>864</th>\n",
       "      <td>55000G705270</td>\n",
       "      <td>G7052</td>\n",
       "      <td>上海</td>\n",
       "      <td>南京</td>\n",
       "      <td>15:39</td>\n",
       "      <td>0</td>\n",
       "      <td>0</td>\n",
       "      <td>39</td>\n",
       "      <td>393</td>\n",
       "      <td>168</td>\n",
       "      <td>2016-12-21</td>\n",
       "      <td>00:00</td>\n",
       "      <td>600</td>\n",
       "    </tr>\n",
       "    <tr>\n",
       "      <th>869</th>\n",
       "      <td>55000G702081</td>\n",
       "      <td>G7020</td>\n",
       "      <td>上海</td>\n",
       "      <td>南京</td>\n",
       "      <td>16:00</td>\n",
       "      <td>0</td>\n",
       "      <td>24</td>\n",
       "      <td>53</td>\n",
       "      <td>807</td>\n",
       "      <td>294</td>\n",
       "      <td>2016-12-21</td>\n",
       "      <td>00:00</td>\n",
       "      <td>1178</td>\n",
       "    </tr>\n",
       "    <tr>\n",
       "      <th>875</th>\n",
       "      <td>55000G705471</td>\n",
       "      <td>G7054</td>\n",
       "      <td>上海</td>\n",
       "      <td>南京</td>\n",
       "      <td>16:20</td>\n",
       "      <td>0</td>\n",
       "      <td>0</td>\n",
       "      <td>38</td>\n",
       "      <td>421</td>\n",
       "      <td>168</td>\n",
       "      <td>2016-12-21</td>\n",
       "      <td>00:00</td>\n",
       "      <td>627</td>\n",
       "    </tr>\n",
       "    <tr>\n",
       "      <th>885</th>\n",
       "      <td>55000G702281</td>\n",
       "      <td>G7022</td>\n",
       "      <td>上海</td>\n",
       "      <td>南京</td>\n",
       "      <td>17:00</td>\n",
       "      <td>0</td>\n",
       "      <td>23</td>\n",
       "      <td>49</td>\n",
       "      <td>852</td>\n",
       "      <td>294</td>\n",
       "      <td>2016-12-21</td>\n",
       "      <td>00:00</td>\n",
       "      <td>1218</td>\n",
       "    </tr>\n",
       "    <tr>\n",
       "      <th>891</th>\n",
       "      <td>55000G705660</td>\n",
       "      <td>G7056</td>\n",
       "      <td>上海</td>\n",
       "      <td>南京</td>\n",
       "      <td>17:28</td>\n",
       "      <td>0</td>\n",
       "      <td>0</td>\n",
       "      <td>41</td>\n",
       "      <td>405</td>\n",
       "      <td>168</td>\n",
       "      <td>2016-12-21</td>\n",
       "      <td>00:00</td>\n",
       "      <td>614</td>\n",
       "    </tr>\n",
       "    <tr>\n",
       "      <th>899</th>\n",
       "      <td>55000G702471</td>\n",
       "      <td>G7024</td>\n",
       "      <td>上海</td>\n",
       "      <td>南京</td>\n",
       "      <td>18:00</td>\n",
       "      <td>0</td>\n",
       "      <td>24</td>\n",
       "      <td>52</td>\n",
       "      <td>783</td>\n",
       "      <td>294</td>\n",
       "      <td>2016-12-21</td>\n",
       "      <td>00:00</td>\n",
       "      <td>1153</td>\n",
       "    </tr>\n",
       "    <tr>\n",
       "      <th>902</th>\n",
       "      <td>55000G705880</td>\n",
       "      <td>G7058</td>\n",
       "      <td>上海</td>\n",
       "      <td>南京</td>\n",
       "      <td>18:13</td>\n",
       "      <td>0</td>\n",
       "      <td>0</td>\n",
       "      <td>48</td>\n",
       "      <td>441</td>\n",
       "      <td>168</td>\n",
       "      <td>2016-12-21</td>\n",
       "      <td>00:00</td>\n",
       "      <td>657</td>\n",
       "    </tr>\n",
       "    <tr>\n",
       "      <th>910</th>\n",
       "      <td>55000G702662</td>\n",
       "      <td>G7026</td>\n",
       "      <td>上海</td>\n",
       "      <td>南京</td>\n",
       "      <td>19:00</td>\n",
       "      <td>0</td>\n",
       "      <td>19</td>\n",
       "      <td>61</td>\n",
       "      <td>846</td>\n",
       "      <td>294</td>\n",
       "      <td>2016-12-21</td>\n",
       "      <td>00:00</td>\n",
       "      <td>1220</td>\n",
       "    </tr>\n",
       "    <tr>\n",
       "      <th>914</th>\n",
       "      <td>550000D31260</td>\n",
       "      <td>D312</td>\n",
       "      <td>上海</td>\n",
       "      <td>南京</td>\n",
       "      <td>24:00</td>\n",
       "      <td>0</td>\n",
       "      <td>0</td>\n",
       "      <td>0</td>\n",
       "      <td>0</td>\n",
       "      <td>0</td>\n",
       "      <td>2016-12-21</td>\n",
       "      <td>00:00</td>\n",
       "      <td>0</td>\n",
       "    </tr>\n",
       "    <tr>\n",
       "      <th>919</th>\n",
       "      <td>55000G706280</td>\n",
       "      <td>G7062</td>\n",
       "      <td>上海</td>\n",
       "      <td>南京</td>\n",
       "      <td>19:32</td>\n",
       "      <td>0</td>\n",
       "      <td>0</td>\n",
       "      <td>44</td>\n",
       "      <td>474</td>\n",
       "      <td>168</td>\n",
       "      <td>2016-12-21</td>\n",
       "      <td>00:00</td>\n",
       "      <td>686</td>\n",
       "    </tr>\n",
       "    <tr>\n",
       "      <th>922</th>\n",
       "      <td>550000D32250</td>\n",
       "      <td>D322</td>\n",
       "      <td>上海</td>\n",
       "      <td>南京</td>\n",
       "      <td>24:00</td>\n",
       "      <td>0</td>\n",
       "      <td>0</td>\n",
       "      <td>0</td>\n",
       "      <td>0</td>\n",
       "      <td>0</td>\n",
       "      <td>2016-12-21</td>\n",
       "      <td>00:00</td>\n",
       "      <td>0</td>\n",
       "    </tr>\n",
       "    <tr>\n",
       "      <th>...</th>\n",
       "      <td>...</td>\n",
       "      <td>...</td>\n",
       "      <td>...</td>\n",
       "      <td>...</td>\n",
       "      <td>...</td>\n",
       "      <td>...</td>\n",
       "      <td>...</td>\n",
       "      <td>...</td>\n",
       "      <td>...</td>\n",
       "      <td>...</td>\n",
       "      <td>...</td>\n",
       "      <td>...</td>\n",
       "      <td>...</td>\n",
       "    </tr>\n",
       "    <tr>\n",
       "      <th>2411902</th>\n",
       "      <td>550000D30661</td>\n",
       "      <td>D306</td>\n",
       "      <td>上海</td>\n",
       "      <td>南京</td>\n",
       "      <td>22:24</td>\n",
       "      <td>0</td>\n",
       "      <td>0</td>\n",
       "      <td>0</td>\n",
       "      <td>0</td>\n",
       "      <td>0</td>\n",
       "      <td>2016-12-21</td>\n",
       "      <td>22:01</td>\n",
       "      <td>0</td>\n",
       "    </tr>\n",
       "    <tr>\n",
       "      <th>2411938</th>\n",
       "      <td>550000D30661</td>\n",
       "      <td>D306</td>\n",
       "      <td>上海</td>\n",
       "      <td>南京</td>\n",
       "      <td>22:24</td>\n",
       "      <td>0</td>\n",
       "      <td>0</td>\n",
       "      <td>0</td>\n",
       "      <td>2</td>\n",
       "      <td>0</td>\n",
       "      <td>2016-12-21</td>\n",
       "      <td>22:02</td>\n",
       "      <td>2</td>\n",
       "    </tr>\n",
       "    <tr>\n",
       "      <th>2411974</th>\n",
       "      <td>550000D30661</td>\n",
       "      <td>D306</td>\n",
       "      <td>上海</td>\n",
       "      <td>南京</td>\n",
       "      <td>22:24</td>\n",
       "      <td>0</td>\n",
       "      <td>0</td>\n",
       "      <td>0</td>\n",
       "      <td>0</td>\n",
       "      <td>0</td>\n",
       "      <td>2016-12-21</td>\n",
       "      <td>22:03</td>\n",
       "      <td>0</td>\n",
       "    </tr>\n",
       "    <tr>\n",
       "      <th>2412009</th>\n",
       "      <td>550000D30661</td>\n",
       "      <td>D306</td>\n",
       "      <td>上海</td>\n",
       "      <td>南京</td>\n",
       "      <td>22:24</td>\n",
       "      <td>0</td>\n",
       "      <td>0</td>\n",
       "      <td>0</td>\n",
       "      <td>0</td>\n",
       "      <td>0</td>\n",
       "      <td>2016-12-21</td>\n",
       "      <td>22:04</td>\n",
       "      <td>0</td>\n",
       "    </tr>\n",
       "    <tr>\n",
       "      <th>2412043</th>\n",
       "      <td>550000D30661</td>\n",
       "      <td>D306</td>\n",
       "      <td>上海</td>\n",
       "      <td>南京</td>\n",
       "      <td>22:24</td>\n",
       "      <td>0</td>\n",
       "      <td>0</td>\n",
       "      <td>0</td>\n",
       "      <td>2</td>\n",
       "      <td>0</td>\n",
       "      <td>2016-12-21</td>\n",
       "      <td>22:05</td>\n",
       "      <td>2</td>\n",
       "    </tr>\n",
       "    <tr>\n",
       "      <th>2412074</th>\n",
       "      <td>550000D30661</td>\n",
       "      <td>D306</td>\n",
       "      <td>上海</td>\n",
       "      <td>南京</td>\n",
       "      <td>22:24</td>\n",
       "      <td>0</td>\n",
       "      <td>0</td>\n",
       "      <td>0</td>\n",
       "      <td>0</td>\n",
       "      <td>0</td>\n",
       "      <td>2016-12-21</td>\n",
       "      <td>22:06</td>\n",
       "      <td>0</td>\n",
       "    </tr>\n",
       "    <tr>\n",
       "      <th>2412107</th>\n",
       "      <td>550000D30661</td>\n",
       "      <td>D306</td>\n",
       "      <td>上海</td>\n",
       "      <td>南京</td>\n",
       "      <td>22:24</td>\n",
       "      <td>0</td>\n",
       "      <td>0</td>\n",
       "      <td>0</td>\n",
       "      <td>2</td>\n",
       "      <td>0</td>\n",
       "      <td>2016-12-21</td>\n",
       "      <td>22:07</td>\n",
       "      <td>2</td>\n",
       "    </tr>\n",
       "    <tr>\n",
       "      <th>2412140</th>\n",
       "      <td>550000D30661</td>\n",
       "      <td>D306</td>\n",
       "      <td>上海</td>\n",
       "      <td>南京</td>\n",
       "      <td>22:24</td>\n",
       "      <td>0</td>\n",
       "      <td>0</td>\n",
       "      <td>0</td>\n",
       "      <td>0</td>\n",
       "      <td>0</td>\n",
       "      <td>2016-12-21</td>\n",
       "      <td>22:08</td>\n",
       "      <td>0</td>\n",
       "    </tr>\n",
       "    <tr>\n",
       "      <th>2412171</th>\n",
       "      <td>550000D30661</td>\n",
       "      <td>D306</td>\n",
       "      <td>上海</td>\n",
       "      <td>南京</td>\n",
       "      <td>22:24</td>\n",
       "      <td>0</td>\n",
       "      <td>0</td>\n",
       "      <td>0</td>\n",
       "      <td>0</td>\n",
       "      <td>0</td>\n",
       "      <td>2016-12-21</td>\n",
       "      <td>22:09</td>\n",
       "      <td>0</td>\n",
       "    </tr>\n",
       "    <tr>\n",
       "      <th>2412201</th>\n",
       "      <td>550000D30661</td>\n",
       "      <td>D306</td>\n",
       "      <td>上海</td>\n",
       "      <td>南京</td>\n",
       "      <td>22:24</td>\n",
       "      <td>0</td>\n",
       "      <td>0</td>\n",
       "      <td>0</td>\n",
       "      <td>0</td>\n",
       "      <td>0</td>\n",
       "      <td>2016-12-21</td>\n",
       "      <td>22:10</td>\n",
       "      <td>0</td>\n",
       "    </tr>\n",
       "    <tr>\n",
       "      <th>2412229</th>\n",
       "      <td>550000D30661</td>\n",
       "      <td>D306</td>\n",
       "      <td>上海</td>\n",
       "      <td>南京</td>\n",
       "      <td>22:24</td>\n",
       "      <td>0</td>\n",
       "      <td>0</td>\n",
       "      <td>0</td>\n",
       "      <td>1</td>\n",
       "      <td>0</td>\n",
       "      <td>2016-12-21</td>\n",
       "      <td>22:11</td>\n",
       "      <td>1</td>\n",
       "    </tr>\n",
       "    <tr>\n",
       "      <th>2412257</th>\n",
       "      <td>550000D30661</td>\n",
       "      <td>D306</td>\n",
       "      <td>上海</td>\n",
       "      <td>南京</td>\n",
       "      <td>22:24</td>\n",
       "      <td>0</td>\n",
       "      <td>0</td>\n",
       "      <td>0</td>\n",
       "      <td>1</td>\n",
       "      <td>0</td>\n",
       "      <td>2016-12-21</td>\n",
       "      <td>22:12</td>\n",
       "      <td>1</td>\n",
       "    </tr>\n",
       "    <tr>\n",
       "      <th>2412286</th>\n",
       "      <td>550000D30661</td>\n",
       "      <td>D306</td>\n",
       "      <td>上海</td>\n",
       "      <td>南京</td>\n",
       "      <td>22:24</td>\n",
       "      <td>0</td>\n",
       "      <td>0</td>\n",
       "      <td>0</td>\n",
       "      <td>1</td>\n",
       "      <td>0</td>\n",
       "      <td>2016-12-21</td>\n",
       "      <td>22:13</td>\n",
       "      <td>1</td>\n",
       "    </tr>\n",
       "    <tr>\n",
       "      <th>2412313</th>\n",
       "      <td>550000D30661</td>\n",
       "      <td>D306</td>\n",
       "      <td>上海</td>\n",
       "      <td>南京</td>\n",
       "      <td>22:24</td>\n",
       "      <td>0</td>\n",
       "      <td>0</td>\n",
       "      <td>0</td>\n",
       "      <td>1</td>\n",
       "      <td>0</td>\n",
       "      <td>2016-12-21</td>\n",
       "      <td>22:14</td>\n",
       "      <td>1</td>\n",
       "    </tr>\n",
       "    <tr>\n",
       "      <th>2412340</th>\n",
       "      <td>550000D30661</td>\n",
       "      <td>D306</td>\n",
       "      <td>上海</td>\n",
       "      <td>南京</td>\n",
       "      <td>22:24</td>\n",
       "      <td>0</td>\n",
       "      <td>0</td>\n",
       "      <td>0</td>\n",
       "      <td>1</td>\n",
       "      <td>0</td>\n",
       "      <td>2016-12-21</td>\n",
       "      <td>22:15</td>\n",
       "      <td>1</td>\n",
       "    </tr>\n",
       "    <tr>\n",
       "      <th>2412365</th>\n",
       "      <td>550000D30661</td>\n",
       "      <td>D306</td>\n",
       "      <td>上海</td>\n",
       "      <td>南京</td>\n",
       "      <td>22:24</td>\n",
       "      <td>0</td>\n",
       "      <td>0</td>\n",
       "      <td>0</td>\n",
       "      <td>1</td>\n",
       "      <td>0</td>\n",
       "      <td>2016-12-21</td>\n",
       "      <td>22:16</td>\n",
       "      <td>1</td>\n",
       "    </tr>\n",
       "    <tr>\n",
       "      <th>2412390</th>\n",
       "      <td>550000D30661</td>\n",
       "      <td>D306</td>\n",
       "      <td>上海</td>\n",
       "      <td>南京</td>\n",
       "      <td>22:24</td>\n",
       "      <td>0</td>\n",
       "      <td>0</td>\n",
       "      <td>0</td>\n",
       "      <td>1</td>\n",
       "      <td>0</td>\n",
       "      <td>2016-12-21</td>\n",
       "      <td>22:17</td>\n",
       "      <td>1</td>\n",
       "    </tr>\n",
       "    <tr>\n",
       "      <th>2412417</th>\n",
       "      <td>550000D30661</td>\n",
       "      <td>D306</td>\n",
       "      <td>上海</td>\n",
       "      <td>南京</td>\n",
       "      <td>22:24</td>\n",
       "      <td>0</td>\n",
       "      <td>0</td>\n",
       "      <td>0</td>\n",
       "      <td>1</td>\n",
       "      <td>0</td>\n",
       "      <td>2016-12-21</td>\n",
       "      <td>22:18</td>\n",
       "      <td>1</td>\n",
       "    </tr>\n",
       "    <tr>\n",
       "      <th>2412437</th>\n",
       "      <td>550000D30661</td>\n",
       "      <td>D306</td>\n",
       "      <td>上海</td>\n",
       "      <td>南京</td>\n",
       "      <td>22:24</td>\n",
       "      <td>0</td>\n",
       "      <td>0</td>\n",
       "      <td>0</td>\n",
       "      <td>1</td>\n",
       "      <td>0</td>\n",
       "      <td>2016-12-21</td>\n",
       "      <td>22:19</td>\n",
       "      <td>1</td>\n",
       "    </tr>\n",
       "    <tr>\n",
       "      <th>2412457</th>\n",
       "      <td>550000D30661</td>\n",
       "      <td>D306</td>\n",
       "      <td>上海</td>\n",
       "      <td>南京</td>\n",
       "      <td>22:24</td>\n",
       "      <td>0</td>\n",
       "      <td>0</td>\n",
       "      <td>0</td>\n",
       "      <td>0</td>\n",
       "      <td>0</td>\n",
       "      <td>2016-12-21</td>\n",
       "      <td>22:20</td>\n",
       "      <td>0</td>\n",
       "    </tr>\n",
       "    <tr>\n",
       "      <th>2412481</th>\n",
       "      <td>550000D30661</td>\n",
       "      <td>D306</td>\n",
       "      <td>上海</td>\n",
       "      <td>南京</td>\n",
       "      <td>22:24</td>\n",
       "      <td>0</td>\n",
       "      <td>0</td>\n",
       "      <td>0</td>\n",
       "      <td>0</td>\n",
       "      <td>0</td>\n",
       "      <td>2016-12-21</td>\n",
       "      <td>22:21</td>\n",
       "      <td>0</td>\n",
       "    </tr>\n",
       "    <tr>\n",
       "      <th>2412498</th>\n",
       "      <td>550000D30661</td>\n",
       "      <td>D306</td>\n",
       "      <td>上海</td>\n",
       "      <td>南京</td>\n",
       "      <td>22:24</td>\n",
       "      <td>0</td>\n",
       "      <td>0</td>\n",
       "      <td>0</td>\n",
       "      <td>0</td>\n",
       "      <td>0</td>\n",
       "      <td>2016-12-21</td>\n",
       "      <td>22:22</td>\n",
       "      <td>0</td>\n",
       "    </tr>\n",
       "    <tr>\n",
       "      <th>2412514</th>\n",
       "      <td>550000D30661</td>\n",
       "      <td>D306</td>\n",
       "      <td>上海</td>\n",
       "      <td>南京</td>\n",
       "      <td>22:24</td>\n",
       "      <td>0</td>\n",
       "      <td>0</td>\n",
       "      <td>0</td>\n",
       "      <td>0</td>\n",
       "      <td>0</td>\n",
       "      <td>2016-12-21</td>\n",
       "      <td>22:23</td>\n",
       "      <td>0</td>\n",
       "    </tr>\n",
       "    <tr>\n",
       "      <th>2412529</th>\n",
       "      <td>550000D30661</td>\n",
       "      <td>D306</td>\n",
       "      <td>上海</td>\n",
       "      <td>南京</td>\n",
       "      <td>22:24</td>\n",
       "      <td>0</td>\n",
       "      <td>0</td>\n",
       "      <td>0</td>\n",
       "      <td>0</td>\n",
       "      <td>0</td>\n",
       "      <td>2016-12-21</td>\n",
       "      <td>22:24</td>\n",
       "      <td>0</td>\n",
       "    </tr>\n",
       "    <tr>\n",
       "      <th>2412544</th>\n",
       "      <td>550000D30661</td>\n",
       "      <td>D306</td>\n",
       "      <td>上海</td>\n",
       "      <td>南京</td>\n",
       "      <td>22:24</td>\n",
       "      <td>0</td>\n",
       "      <td>0</td>\n",
       "      <td>0</td>\n",
       "      <td>0</td>\n",
       "      <td>0</td>\n",
       "      <td>2016-12-21</td>\n",
       "      <td>22:25</td>\n",
       "      <td>0</td>\n",
       "    </tr>\n",
       "    <tr>\n",
       "      <th>2412559</th>\n",
       "      <td>550000D30661</td>\n",
       "      <td>D306</td>\n",
       "      <td>上海</td>\n",
       "      <td>南京</td>\n",
       "      <td>22:24</td>\n",
       "      <td>0</td>\n",
       "      <td>0</td>\n",
       "      <td>0</td>\n",
       "      <td>0</td>\n",
       "      <td>0</td>\n",
       "      <td>2016-12-21</td>\n",
       "      <td>22:26</td>\n",
       "      <td>0</td>\n",
       "    </tr>\n",
       "    <tr>\n",
       "      <th>2412574</th>\n",
       "      <td>550000D30661</td>\n",
       "      <td>D306</td>\n",
       "      <td>上海</td>\n",
       "      <td>南京</td>\n",
       "      <td>22:24</td>\n",
       "      <td>0</td>\n",
       "      <td>0</td>\n",
       "      <td>0</td>\n",
       "      <td>0</td>\n",
       "      <td>0</td>\n",
       "      <td>2016-12-21</td>\n",
       "      <td>22:27</td>\n",
       "      <td>0</td>\n",
       "    </tr>\n",
       "    <tr>\n",
       "      <th>2412587</th>\n",
       "      <td>550000D30661</td>\n",
       "      <td>D306</td>\n",
       "      <td>上海</td>\n",
       "      <td>南京</td>\n",
       "      <td>22:24</td>\n",
       "      <td>0</td>\n",
       "      <td>0</td>\n",
       "      <td>0</td>\n",
       "      <td>0</td>\n",
       "      <td>0</td>\n",
       "      <td>2016-12-21</td>\n",
       "      <td>22:28</td>\n",
       "      <td>0</td>\n",
       "    </tr>\n",
       "    <tr>\n",
       "      <th>2412601</th>\n",
       "      <td>550000D30661</td>\n",
       "      <td>D306</td>\n",
       "      <td>上海</td>\n",
       "      <td>南京</td>\n",
       "      <td>22:24</td>\n",
       "      <td>0</td>\n",
       "      <td>0</td>\n",
       "      <td>0</td>\n",
       "      <td>0</td>\n",
       "      <td>0</td>\n",
       "      <td>2016-12-21</td>\n",
       "      <td>22:29</td>\n",
       "      <td>0</td>\n",
       "    </tr>\n",
       "    <tr>\n",
       "      <th>2412613</th>\n",
       "      <td>550000D30661</td>\n",
       "      <td>D306</td>\n",
       "      <td>上海</td>\n",
       "      <td>南京</td>\n",
       "      <td>22:24</td>\n",
       "      <td>0</td>\n",
       "      <td>0</td>\n",
       "      <td>0</td>\n",
       "      <td>0</td>\n",
       "      <td>0</td>\n",
       "      <td>2016-12-21</td>\n",
       "      <td>22:30</td>\n",
       "      <td>0</td>\n",
       "    </tr>\n",
       "  </tbody>\n",
       "</table>\n",
       "<p>31219 rows × 13 columns</p>\n",
       "</div>"
      ],
      "text/plain": [
       "             train_no station_train_code from_station_name to_station_name  \\\n",
       "740      55000G703240              G7032                上海              南京   \n",
       "748      55000G700261              G7002                上海              南京   \n",
       "751      55000G703450              G7034                上海              南京   \n",
       "764      55000G700482              G7004                上海              南京   \n",
       "767      55000G703670              G7036                上海              南京   \n",
       "780      55000G700651              G7006                上海              南京   \n",
       "782      55000G703850              G7038                上海              南京   \n",
       "793      55000G704080              G7040                上海              南京   \n",
       "795      55000G700865              G7008                上海              南京   \n",
       "797      55000G704290              G7042                上海              南京   \n",
       "806      55000G704480              G7044                上海              南京   \n",
       "809      55000G701081              G7010                上海              南京   \n",
       "822      55000G701281              G7012                上海              南京   \n",
       "827      55000G704680              G7046                上海              南京   \n",
       "829      55000G704870              G7048                上海              南京   \n",
       "835      55000G701491              G7014                上海              南京   \n",
       "846      55000G701665              G7016                上海              南京   \n",
       "853      55000G705080              G7050                上海              南京   \n",
       "857      55000G7018B2              G7018                上海              南京   \n",
       "864      55000G705270              G7052                上海              南京   \n",
       "869      55000G702081              G7020                上海              南京   \n",
       "875      55000G705471              G7054                上海              南京   \n",
       "885      55000G702281              G7022                上海              南京   \n",
       "891      55000G705660              G7056                上海              南京   \n",
       "899      55000G702471              G7024                上海              南京   \n",
       "902      55000G705880              G7058                上海              南京   \n",
       "910      55000G702662              G7026                上海              南京   \n",
       "914      550000D31260               D312                上海              南京   \n",
       "919      55000G706280              G7062                上海              南京   \n",
       "922      550000D32250               D322                上海              南京   \n",
       "...               ...                ...               ...             ...   \n",
       "2411902  550000D30661               D306                上海              南京   \n",
       "2411938  550000D30661               D306                上海              南京   \n",
       "2411974  550000D30661               D306                上海              南京   \n",
       "2412009  550000D30661               D306                上海              南京   \n",
       "2412043  550000D30661               D306                上海              南京   \n",
       "2412074  550000D30661               D306                上海              南京   \n",
       "2412107  550000D30661               D306                上海              南京   \n",
       "2412140  550000D30661               D306                上海              南京   \n",
       "2412171  550000D30661               D306                上海              南京   \n",
       "2412201  550000D30661               D306                上海              南京   \n",
       "2412229  550000D30661               D306                上海              南京   \n",
       "2412257  550000D30661               D306                上海              南京   \n",
       "2412286  550000D30661               D306                上海              南京   \n",
       "2412313  550000D30661               D306                上海              南京   \n",
       "2412340  550000D30661               D306                上海              南京   \n",
       "2412365  550000D30661               D306                上海              南京   \n",
       "2412390  550000D30661               D306                上海              南京   \n",
       "2412417  550000D30661               D306                上海              南京   \n",
       "2412437  550000D30661               D306                上海              南京   \n",
       "2412457  550000D30661               D306                上海              南京   \n",
       "2412481  550000D30661               D306                上海              南京   \n",
       "2412498  550000D30661               D306                上海              南京   \n",
       "2412514  550000D30661               D306                上海              南京   \n",
       "2412529  550000D30661               D306                上海              南京   \n",
       "2412544  550000D30661               D306                上海              南京   \n",
       "2412559  550000D30661               D306                上海              南京   \n",
       "2412574  550000D30661               D306                上海              南京   \n",
       "2412587  550000D30661               D306                上海              南京   \n",
       "2412601  550000D30661               D306                上海              南京   \n",
       "2412613  550000D30661               D306                上海              南京   \n",
       "\n",
       "        start_time  swz_num  tz_num  zy_num  ze_num  wz_num record_date  \\\n",
       "740          06:18        0       0      26       0     116  2016-12-21   \n",
       "748          07:00        0      17       8       3     292  2016-12-21   \n",
       "751          07:05        0       0      39     106     168  2016-12-21   \n",
       "764          08:00        0       0       0       0     217  2016-12-21   \n",
       "767          08:10        9       0       0       0     135  2016-12-21   \n",
       "780          09:00        0       0       1      40     294  2016-12-21   \n",
       "782          09:05        0       0      24     237     168  2016-12-21   \n",
       "793          09:48        0       0      30     362     168  2016-12-21   \n",
       "795          10:00        0      10       0     430     294  2016-12-21   \n",
       "797          10:09        7       0       6     332     147  2016-12-21   \n",
       "806          10:46        0       0      44     459     168  2016-12-21   \n",
       "809          11:00        0      24      41     836     294  2016-12-21   \n",
       "822          12:00        0      22      45     840     294  2016-12-21   \n",
       "827          12:20        0       0      29     448     168  2016-12-21   \n",
       "829          12:25        0       0      43     468     168  2016-12-21   \n",
       "835          13:00        0      24      36     850     294  2016-12-21   \n",
       "846          14:00        0      24      43     879     294  2016-12-21   \n",
       "853          14:30        0       0      43     448     168  2016-12-21   \n",
       "857          15:00        0      21      26     760     294  2016-12-21   \n",
       "864          15:39        0       0      39     393     168  2016-12-21   \n",
       "869          16:00        0      24      53     807     294  2016-12-21   \n",
       "875          16:20        0       0      38     421     168  2016-12-21   \n",
       "885          17:00        0      23      49     852     294  2016-12-21   \n",
       "891          17:28        0       0      41     405     168  2016-12-21   \n",
       "899          18:00        0      24      52     783     294  2016-12-21   \n",
       "902          18:13        0       0      48     441     168  2016-12-21   \n",
       "910          19:00        0      19      61     846     294  2016-12-21   \n",
       "914          24:00        0       0       0       0       0  2016-12-21   \n",
       "919          19:32        0       0      44     474     168  2016-12-21   \n",
       "922          24:00        0       0       0       0       0  2016-12-21   \n",
       "...            ...      ...     ...     ...     ...     ...         ...   \n",
       "2411902      22:24        0       0       0       0       0  2016-12-21   \n",
       "2411938      22:24        0       0       0       2       0  2016-12-21   \n",
       "2411974      22:24        0       0       0       0       0  2016-12-21   \n",
       "2412009      22:24        0       0       0       0       0  2016-12-21   \n",
       "2412043      22:24        0       0       0       2       0  2016-12-21   \n",
       "2412074      22:24        0       0       0       0       0  2016-12-21   \n",
       "2412107      22:24        0       0       0       2       0  2016-12-21   \n",
       "2412140      22:24        0       0       0       0       0  2016-12-21   \n",
       "2412171      22:24        0       0       0       0       0  2016-12-21   \n",
       "2412201      22:24        0       0       0       0       0  2016-12-21   \n",
       "2412229      22:24        0       0       0       1       0  2016-12-21   \n",
       "2412257      22:24        0       0       0       1       0  2016-12-21   \n",
       "2412286      22:24        0       0       0       1       0  2016-12-21   \n",
       "2412313      22:24        0       0       0       1       0  2016-12-21   \n",
       "2412340      22:24        0       0       0       1       0  2016-12-21   \n",
       "2412365      22:24        0       0       0       1       0  2016-12-21   \n",
       "2412390      22:24        0       0       0       1       0  2016-12-21   \n",
       "2412417      22:24        0       0       0       1       0  2016-12-21   \n",
       "2412437      22:24        0       0       0       1       0  2016-12-21   \n",
       "2412457      22:24        0       0       0       0       0  2016-12-21   \n",
       "2412481      22:24        0       0       0       0       0  2016-12-21   \n",
       "2412498      22:24        0       0       0       0       0  2016-12-21   \n",
       "2412514      22:24        0       0       0       0       0  2016-12-21   \n",
       "2412529      22:24        0       0       0       0       0  2016-12-21   \n",
       "2412544      22:24        0       0       0       0       0  2016-12-21   \n",
       "2412559      22:24        0       0       0       0       0  2016-12-21   \n",
       "2412574      22:24        0       0       0       0       0  2016-12-21   \n",
       "2412587      22:24        0       0       0       0       0  2016-12-21   \n",
       "2412601      22:24        0       0       0       0       0  2016-12-21   \n",
       "2412613      22:24        0       0       0       0       0  2016-12-21   \n",
       "\n",
       "        record_time  all_tickets  \n",
       "740           00:00          142  \n",
       "748           00:00          320  \n",
       "751           00:00          313  \n",
       "764           00:00          217  \n",
       "767           00:00          144  \n",
       "780           00:00          335  \n",
       "782           00:00          429  \n",
       "793           00:00          560  \n",
       "795           00:00          734  \n",
       "797           00:00          492  \n",
       "806           00:00          671  \n",
       "809           00:00         1195  \n",
       "822           00:00         1201  \n",
       "827           00:00          645  \n",
       "829           00:00          679  \n",
       "835           00:00         1204  \n",
       "846           00:00         1240  \n",
       "853           00:00          659  \n",
       "857           00:00         1101  \n",
       "864           00:00          600  \n",
       "869           00:00         1178  \n",
       "875           00:00          627  \n",
       "885           00:00         1218  \n",
       "891           00:00          614  \n",
       "899           00:00         1153  \n",
       "902           00:00          657  \n",
       "910           00:00         1220  \n",
       "914           00:00            0  \n",
       "919           00:00          686  \n",
       "922           00:00            0  \n",
       "...             ...          ...  \n",
       "2411902       22:01            0  \n",
       "2411938       22:02            2  \n",
       "2411974       22:03            0  \n",
       "2412009       22:04            0  \n",
       "2412043       22:05            2  \n",
       "2412074       22:06            0  \n",
       "2412107       22:07            2  \n",
       "2412140       22:08            0  \n",
       "2412171       22:09            0  \n",
       "2412201       22:10            0  \n",
       "2412229       22:11            1  \n",
       "2412257       22:12            1  \n",
       "2412286       22:13            1  \n",
       "2412313       22:14            1  \n",
       "2412340       22:15            1  \n",
       "2412365       22:16            1  \n",
       "2412390       22:17            1  \n",
       "2412417       22:18            1  \n",
       "2412437       22:19            1  \n",
       "2412457       22:20            0  \n",
       "2412481       22:21            0  \n",
       "2412498       22:22            0  \n",
       "2412514       22:23            0  \n",
       "2412529       22:24            0  \n",
       "2412544       22:25            0  \n",
       "2412559       22:26            0  \n",
       "2412574       22:27            0  \n",
       "2412587       22:28            0  \n",
       "2412601       22:29            0  \n",
       "2412613       22:30            0  \n",
       "\n",
       "[31219 rows x 13 columns]"
      ]
     },
     "execution_count": 6,
     "metadata": {},
     "output_type": "execute_result"
    }
   ],
   "source": [
    "df_SH_NJ"
   ]
  },
  {
   "cell_type": "code",
   "execution_count": 5,
   "metadata": {
    "collapsed": false
   },
   "outputs": [
    {
     "ename": "MemoryError",
     "evalue": "",
     "output_type": "error",
     "traceback": [
      "\u001b[1;31m---------------------------------------------------------------------------\u001b[0m",
      "\u001b[1;31mMemoryError\u001b[0m                               Traceback (most recent call last)",
      "\u001b[1;32m<ipython-input-5-d29fa774136a>\u001b[0m in \u001b[0;36m<module>\u001b[1;34m()\u001b[0m\n\u001b[0;32m      2\u001b[0m \u001b[1;32mimport\u001b[0m \u001b[0mmatplotlib\u001b[0m\u001b[1;33m.\u001b[0m\u001b[0mpyplot\u001b[0m \u001b[1;32mas\u001b[0m \u001b[0mplt\u001b[0m\u001b[1;33m\u001b[0m\u001b[0m\n\u001b[0;32m      3\u001b[0m \u001b[0mplt\u001b[0m\u001b[1;33m.\u001b[0m\u001b[0mstyle\u001b[0m\u001b[1;33m.\u001b[0m\u001b[0muse\u001b[0m\u001b[1;33m(\u001b[0m\u001b[1;34m'ggplot'\u001b[0m\u001b[1;33m)\u001b[0m\u001b[1;33m\u001b[0m\u001b[0m\n\u001b[1;32m----> 4\u001b[1;33m \u001b[0mdf_SH_NJ\u001b[0m\u001b[1;33m.\u001b[0m\u001b[0mplot\u001b[0m\u001b[1;33m(\u001b[0m\u001b[0mkind\u001b[0m\u001b[1;33m=\u001b[0m\u001b[1;34m'bar'\u001b[0m\u001b[1;33m,\u001b[0m\u001b[0my\u001b[0m\u001b[1;33m=\u001b[0m\u001b[1;34m'all_tickets'\u001b[0m\u001b[1;33m,\u001b[0m \u001b[0mx\u001b[0m \u001b[1;33m=\u001b[0m\u001b[1;34m'start_time'\u001b[0m\u001b[1;33m,\u001b[0m\u001b[0mfigsize\u001b[0m\u001b[1;33m=\u001b[0m\u001b[1;33m(\u001b[0m\u001b[1;36m14\u001b[0m\u001b[1;33m,\u001b[0m\u001b[1;36m5\u001b[0m\u001b[1;33m)\u001b[0m\u001b[1;33m,\u001b[0m \u001b[0mlegend\u001b[0m\u001b[1;33m=\u001b[0m\u001b[0mFalse\u001b[0m\u001b[1;33m,\u001b[0m\u001b[0mfontsize\u001b[0m\u001b[1;33m=\u001b[0m\u001b[1;36m6\u001b[0m\u001b[1;33m)\u001b[0m\u001b[1;33m\u001b[0m\u001b[0m\n\u001b[0m\u001b[0;32m      5\u001b[0m \u001b[0mplt\u001b[0m\u001b[1;33m.\u001b[0m\u001b[0mxlabel\u001b[0m\u001b[1;33m(\u001b[0m\u001b[1;34mu'时 间(2016-12-21 06:00—23:00)'\u001b[0m\u001b[1;33m,\u001b[0m\u001b[0msize\u001b[0m\u001b[1;33m=\u001b[0m\u001b[1;36m10\u001b[0m\u001b[1;33m)\u001b[0m\u001b[1;33m\u001b[0m\u001b[0m\n\u001b[0;32m      6\u001b[0m \u001b[0mplt\u001b[0m\u001b[1;33m.\u001b[0m\u001b[0mylabel\u001b[0m\u001b[1;33m(\u001b[0m\u001b[1;34mu'上下客流量值（单位：人）'\u001b[0m\u001b[1;33m,\u001b[0m\u001b[0msize\u001b[0m\u001b[1;33m=\u001b[0m\u001b[1;36m10\u001b[0m\u001b[1;33m)\u001b[0m\u001b[1;33m\u001b[0m\u001b[0m\n",
      "\u001b[1;32mC:\\Anaconda2\\lib\\site-packages\\pandas\\tools\\plotting.pyc\u001b[0m in \u001b[0;36m__call__\u001b[1;34m(self, x, y, kind, ax, subplots, sharex, sharey, layout, figsize, use_index, title, grid, legend, style, logx, logy, loglog, xticks, yticks, xlim, ylim, rot, fontsize, colormap, table, yerr, xerr, secondary_y, sort_columns, **kwds)\u001b[0m\n\u001b[0;32m   3738\u001b[0m                           \u001b[0mfontsize\u001b[0m\u001b[1;33m=\u001b[0m\u001b[0mfontsize\u001b[0m\u001b[1;33m,\u001b[0m \u001b[0mcolormap\u001b[0m\u001b[1;33m=\u001b[0m\u001b[0mcolormap\u001b[0m\u001b[1;33m,\u001b[0m \u001b[0mtable\u001b[0m\u001b[1;33m=\u001b[0m\u001b[0mtable\u001b[0m\u001b[1;33m,\u001b[0m\u001b[1;33m\u001b[0m\u001b[0m\n\u001b[0;32m   3739\u001b[0m                           \u001b[0myerr\u001b[0m\u001b[1;33m=\u001b[0m\u001b[0myerr\u001b[0m\u001b[1;33m,\u001b[0m \u001b[0mxerr\u001b[0m\u001b[1;33m=\u001b[0m\u001b[0mxerr\u001b[0m\u001b[1;33m,\u001b[0m \u001b[0msecondary_y\u001b[0m\u001b[1;33m=\u001b[0m\u001b[0msecondary_y\u001b[0m\u001b[1;33m,\u001b[0m\u001b[1;33m\u001b[0m\u001b[0m\n\u001b[1;32m-> 3740\u001b[1;33m                           sort_columns=sort_columns, **kwds)\n\u001b[0m\u001b[0;32m   3741\u001b[0m     \u001b[0m__call__\u001b[0m\u001b[1;33m.\u001b[0m\u001b[0m__doc__\u001b[0m \u001b[1;33m=\u001b[0m \u001b[0mplot_frame\u001b[0m\u001b[1;33m.\u001b[0m\u001b[0m__doc__\u001b[0m\u001b[1;33m\u001b[0m\u001b[0m\n\u001b[0;32m   3742\u001b[0m \u001b[1;33m\u001b[0m\u001b[0m\n",
      "\u001b[1;32mC:\\Anaconda2\\lib\\site-packages\\pandas\\tools\\plotting.pyc\u001b[0m in \u001b[0;36mplot_frame\u001b[1;34m(data, x, y, kind, ax, subplots, sharex, sharey, layout, figsize, use_index, title, grid, legend, style, logx, logy, loglog, xticks, yticks, xlim, ylim, rot, fontsize, colormap, table, yerr, xerr, secondary_y, sort_columns, **kwds)\u001b[0m\n\u001b[0;32m   2612\u001b[0m                  \u001b[0myerr\u001b[0m\u001b[1;33m=\u001b[0m\u001b[0myerr\u001b[0m\u001b[1;33m,\u001b[0m \u001b[0mxerr\u001b[0m\u001b[1;33m=\u001b[0m\u001b[0mxerr\u001b[0m\u001b[1;33m,\u001b[0m\u001b[1;33m\u001b[0m\u001b[0m\n\u001b[0;32m   2613\u001b[0m                  \u001b[0msecondary_y\u001b[0m\u001b[1;33m=\u001b[0m\u001b[0msecondary_y\u001b[0m\u001b[1;33m,\u001b[0m \u001b[0msort_columns\u001b[0m\u001b[1;33m=\u001b[0m\u001b[0msort_columns\u001b[0m\u001b[1;33m,\u001b[0m\u001b[1;33m\u001b[0m\u001b[0m\n\u001b[1;32m-> 2614\u001b[1;33m                  **kwds)\n\u001b[0m\u001b[0;32m   2615\u001b[0m \u001b[1;33m\u001b[0m\u001b[0m\n\u001b[0;32m   2616\u001b[0m \u001b[1;33m\u001b[0m\u001b[0m\n",
      "\u001b[1;32mC:\\Anaconda2\\lib\\site-packages\\pandas\\tools\\plotting.pyc\u001b[0m in \u001b[0;36m_plot\u001b[1;34m(data, x, y, subplots, ax, kind, **kwds)\u001b[0m\n\u001b[0;32m   2419\u001b[0m                 \u001b[1;32mif\u001b[0m \u001b[0mcom\u001b[0m\u001b[1;33m.\u001b[0m\u001b[0mis_integer\u001b[0m\u001b[1;33m(\u001b[0m\u001b[0mx\u001b[0m\u001b[1;33m)\u001b[0m \u001b[1;32mand\u001b[0m \u001b[1;32mnot\u001b[0m \u001b[0mdata\u001b[0m\u001b[1;33m.\u001b[0m\u001b[0mcolumns\u001b[0m\u001b[1;33m.\u001b[0m\u001b[0mholds_integer\u001b[0m\u001b[1;33m(\u001b[0m\u001b[1;33m)\u001b[0m\u001b[1;33m:\u001b[0m\u001b[1;33m\u001b[0m\u001b[0m\n\u001b[0;32m   2420\u001b[0m                     \u001b[0mx\u001b[0m \u001b[1;33m=\u001b[0m \u001b[0mdata\u001b[0m\u001b[1;33m.\u001b[0m\u001b[0mcolumns\u001b[0m\u001b[1;33m[\u001b[0m\u001b[0mx\u001b[0m\u001b[1;33m]\u001b[0m\u001b[1;33m\u001b[0m\u001b[0m\n\u001b[1;32m-> 2421\u001b[1;33m                 \u001b[0mdata\u001b[0m \u001b[1;33m=\u001b[0m \u001b[0mdata\u001b[0m\u001b[1;33m.\u001b[0m\u001b[0mset_index\u001b[0m\u001b[1;33m(\u001b[0m\u001b[0mx\u001b[0m\u001b[1;33m)\u001b[0m\u001b[1;33m\u001b[0m\u001b[0m\n\u001b[0m\u001b[0;32m   2422\u001b[0m \u001b[1;33m\u001b[0m\u001b[0m\n\u001b[0;32m   2423\u001b[0m             \u001b[1;32mif\u001b[0m \u001b[0my\u001b[0m \u001b[1;32mis\u001b[0m \u001b[1;32mnot\u001b[0m \u001b[0mNone\u001b[0m\u001b[1;33m:\u001b[0m\u001b[1;33m\u001b[0m\u001b[0m\n",
      "\u001b[1;32mC:\\Anaconda2\\lib\\site-packages\\pandas\\core\\frame.pyc\u001b[0m in \u001b[0;36mset_index\u001b[1;34m(self, keys, drop, append, inplace, verify_integrity)\u001b[0m\n\u001b[0;32m   2803\u001b[0m             \u001b[0mframe\u001b[0m \u001b[1;33m=\u001b[0m \u001b[0mself\u001b[0m\u001b[1;33m\u001b[0m\u001b[0m\n\u001b[0;32m   2804\u001b[0m         \u001b[1;32melse\u001b[0m\u001b[1;33m:\u001b[0m\u001b[1;33m\u001b[0m\u001b[0m\n\u001b[1;32m-> 2805\u001b[1;33m             \u001b[0mframe\u001b[0m \u001b[1;33m=\u001b[0m \u001b[0mself\u001b[0m\u001b[1;33m.\u001b[0m\u001b[0mcopy\u001b[0m\u001b[1;33m(\u001b[0m\u001b[1;33m)\u001b[0m\u001b[1;33m\u001b[0m\u001b[0m\n\u001b[0m\u001b[0;32m   2806\u001b[0m \u001b[1;33m\u001b[0m\u001b[0m\n\u001b[0;32m   2807\u001b[0m         \u001b[0marrays\u001b[0m \u001b[1;33m=\u001b[0m \u001b[1;33m[\u001b[0m\u001b[1;33m]\u001b[0m\u001b[1;33m\u001b[0m\u001b[0m\n",
      "\u001b[1;32mC:\\Anaconda2\\lib\\site-packages\\pandas\\core\\generic.pyc\u001b[0m in \u001b[0;36mcopy\u001b[1;34m(self, deep)\u001b[0m\n\u001b[0;32m   2970\u001b[0m         \u001b[0mcopy\u001b[0m \u001b[1;33m:\u001b[0m \u001b[0mtype\u001b[0m \u001b[0mof\u001b[0m \u001b[0mcaller\u001b[0m\u001b[1;33m\u001b[0m\u001b[0m\n\u001b[0;32m   2971\u001b[0m         \"\"\"\n\u001b[1;32m-> 2972\u001b[1;33m         \u001b[0mdata\u001b[0m \u001b[1;33m=\u001b[0m \u001b[0mself\u001b[0m\u001b[1;33m.\u001b[0m\u001b[0m_data\u001b[0m\u001b[1;33m.\u001b[0m\u001b[0mcopy\u001b[0m\u001b[1;33m(\u001b[0m\u001b[0mdeep\u001b[0m\u001b[1;33m=\u001b[0m\u001b[0mdeep\u001b[0m\u001b[1;33m)\u001b[0m\u001b[1;33m\u001b[0m\u001b[0m\n\u001b[0m\u001b[0;32m   2973\u001b[0m         \u001b[1;32mreturn\u001b[0m \u001b[0mself\u001b[0m\u001b[1;33m.\u001b[0m\u001b[0m_constructor\u001b[0m\u001b[1;33m(\u001b[0m\u001b[0mdata\u001b[0m\u001b[1;33m)\u001b[0m\u001b[1;33m.\u001b[0m\u001b[0m__finalize__\u001b[0m\u001b[1;33m(\u001b[0m\u001b[0mself\u001b[0m\u001b[1;33m)\u001b[0m\u001b[1;33m\u001b[0m\u001b[0m\n\u001b[0;32m   2974\u001b[0m \u001b[1;33m\u001b[0m\u001b[0m\n",
      "\u001b[1;32mC:\\Anaconda2\\lib\\site-packages\\pandas\\core\\internals.pyc\u001b[0m in \u001b[0;36mcopy\u001b[1;34m(self, deep, mgr)\u001b[0m\n\u001b[0;32m   3134\u001b[0m             \u001b[0mnew_axes\u001b[0m \u001b[1;33m=\u001b[0m \u001b[0mlist\u001b[0m\u001b[1;33m(\u001b[0m\u001b[0mself\u001b[0m\u001b[1;33m.\u001b[0m\u001b[0maxes\u001b[0m\u001b[1;33m)\u001b[0m\u001b[1;33m\u001b[0m\u001b[0m\n\u001b[0;32m   3135\u001b[0m         return self.apply('copy', axes=new_axes, deep=deep,\n\u001b[1;32m-> 3136\u001b[1;33m                           do_integrity_check=False)\n\u001b[0m\u001b[0;32m   3137\u001b[0m \u001b[1;33m\u001b[0m\u001b[0m\n\u001b[0;32m   3138\u001b[0m     \u001b[1;32mdef\u001b[0m \u001b[0mas_matrix\u001b[0m\u001b[1;33m(\u001b[0m\u001b[0mself\u001b[0m\u001b[1;33m,\u001b[0m \u001b[0mitems\u001b[0m\u001b[1;33m=\u001b[0m\u001b[0mNone\u001b[0m\u001b[1;33m)\u001b[0m\u001b[1;33m:\u001b[0m\u001b[1;33m\u001b[0m\u001b[0m\n",
      "\u001b[1;32mC:\\Anaconda2\\lib\\site-packages\\pandas\\core\\internals.pyc\u001b[0m in \u001b[0;36mapply\u001b[1;34m(self, f, axes, filter, do_integrity_check, consolidate, raw, **kwargs)\u001b[0m\n\u001b[0;32m   2888\u001b[0m \u001b[1;33m\u001b[0m\u001b[0m\n\u001b[0;32m   2889\u001b[0m             \u001b[0mkwargs\u001b[0m\u001b[1;33m[\u001b[0m\u001b[1;34m'mgr'\u001b[0m\u001b[1;33m]\u001b[0m \u001b[1;33m=\u001b[0m \u001b[0mself\u001b[0m\u001b[1;33m\u001b[0m\u001b[0m\n\u001b[1;32m-> 2890\u001b[1;33m             \u001b[0mapplied\u001b[0m \u001b[1;33m=\u001b[0m \u001b[0mgetattr\u001b[0m\u001b[1;33m(\u001b[0m\u001b[0mb\u001b[0m\u001b[1;33m,\u001b[0m \u001b[0mf\u001b[0m\u001b[1;33m)\u001b[0m\u001b[1;33m(\u001b[0m\u001b[1;33m**\u001b[0m\u001b[0mkwargs\u001b[0m\u001b[1;33m)\u001b[0m\u001b[1;33m\u001b[0m\u001b[0m\n\u001b[0m\u001b[0;32m   2891\u001b[0m             \u001b[0mresult_blocks\u001b[0m \u001b[1;33m=\u001b[0m \u001b[0m_extend_blocks\u001b[0m\u001b[1;33m(\u001b[0m\u001b[0mapplied\u001b[0m\u001b[1;33m,\u001b[0m \u001b[0mresult_blocks\u001b[0m\u001b[1;33m)\u001b[0m\u001b[1;33m\u001b[0m\u001b[0m\n\u001b[0;32m   2892\u001b[0m \u001b[1;33m\u001b[0m\u001b[0m\n",
      "\u001b[1;32mC:\\Anaconda2\\lib\\site-packages\\pandas\\core\\internals.pyc\u001b[0m in \u001b[0;36mcopy\u001b[1;34m(self, deep, mgr)\u001b[0m\n\u001b[0;32m    583\u001b[0m         \u001b[0mvalues\u001b[0m \u001b[1;33m=\u001b[0m \u001b[0mself\u001b[0m\u001b[1;33m.\u001b[0m\u001b[0mvalues\u001b[0m\u001b[1;33m\u001b[0m\u001b[0m\n\u001b[0;32m    584\u001b[0m         \u001b[1;32mif\u001b[0m \u001b[0mdeep\u001b[0m\u001b[1;33m:\u001b[0m\u001b[1;33m\u001b[0m\u001b[0m\n\u001b[1;32m--> 585\u001b[1;33m             \u001b[0mvalues\u001b[0m \u001b[1;33m=\u001b[0m \u001b[0mvalues\u001b[0m\u001b[1;33m.\u001b[0m\u001b[0mcopy\u001b[0m\u001b[1;33m(\u001b[0m\u001b[1;33m)\u001b[0m\u001b[1;33m\u001b[0m\u001b[0m\n\u001b[0m\u001b[0;32m    586\u001b[0m         \u001b[1;32mreturn\u001b[0m \u001b[0mself\u001b[0m\u001b[1;33m.\u001b[0m\u001b[0mmake_block_same_class\u001b[0m\u001b[1;33m(\u001b[0m\u001b[0mvalues\u001b[0m\u001b[1;33m)\u001b[0m\u001b[1;33m\u001b[0m\u001b[0m\n\u001b[0;32m    587\u001b[0m \u001b[1;33m\u001b[0m\u001b[0m\n",
      "\u001b[1;31mMemoryError\u001b[0m: "
     ]
    }
   ],
   "source": [
    "%matplotlib inline\n",
    "import matplotlib.pyplot as plt\n",
    "plt.style.use('ggplot')\n",
    "df_SH_NJ.plot(kind='bar',y='all_tickets', x ='start_time',figsize=(14,5), legend=False,fontsize=6)\n",
    "plt.xlabel(u'时 间(2016-12-21 06:00—23:00)',size=10)\n",
    "plt.ylabel(u'上下客流量值（单位：人）',size=10)\n",
    "plt.title(u'苏州地区站点（上海——南京）\\n',size=10)\n",
    "plt.show()"
   ]
  },
  {
   "cell_type": "markdown",
   "metadata": {
    "nbpresent": {
     "id": "20c36fa8-d932-42df-b8c5-5a9534202771"
    }
   },
   "source": [
    "## 1. 筛选列出运行时间段数据"
   ]
  },
  {
   "cell_type": "markdown",
   "metadata": {
    "nbpresent": {
     "id": "0237b6be-1a6d-4850-96df-fbc8f3c485e1"
    }
   },
   "source": [
    "> 上海——南京，最早发车时间为06:02，最后一个区间是\t22:43  G7128  镇江至南京，<br>\n",
    "> 南京——上海，最早发车时间为03:30，最后一个区间是\t22:43  G7128  镇江至南京，"
   ]
  },
  {
   "cell_type": "code",
   "execution_count": 5,
   "metadata": {
    "collapsed": false,
    "nbpresent": {
     "id": "3e388b14-0ffb-4d50-9e19-f0fe8320a1bc"
    }
   },
   "outputs": [],
   "source": [
    "df_hu_ning2 = df_hu_ning[(df_hu_ning['start_time'].str.contains(\"0[6-9]:|1[0-9]:|2[0-3]:\"))]"
   ]
  },
  {
   "cell_type": "code",
   "execution_count": 6,
   "metadata": {
    "collapsed": false,
    "nbpresent": {
     "id": "a5528a36-d689-40c6-bdb2-5832b0f1e8ac"
    }
   },
   "outputs": [
    {
     "name": "stdout",
     "output_type": "stream",
     "text": [
      "       station_train_code from_station_name start_time\n",
      "626800              G7072                上海      06:02\n",
      "        station_train_code from_station_name start_time\n",
      "2412839               D306                苏州      23:14\n"
     ]
    }
   ],
   "source": [
    "print df_hu_ning2[['station_train_code','from_station_name','start_time']].sort_values(by='start_time',ascending=True).head(1)\n",
    "print df_hu_ning2[['station_train_code','from_station_name','start_time']].sort_values(by='start_time',ascending=True).tail(1)"
   ]
  },
  {
   "cell_type": "markdown",
   "metadata": {
    "nbpresent": {
     "id": "62ce03b5-c3ac-4947-a8aa-eeb1d9fb8e91"
    }
   },
   "source": [
    "## 2. 筛选出发车时间前30分钟的余票信息"
   ]
  },
  {
   "cell_type": "markdown",
   "metadata": {
    "nbpresent": {
     "id": "08931dad-843a-4129-983c-9aa423f077f5"
    }
   },
   "source": [
    "#### 小记录：开车前30分钟(test)"
   ]
  },
  {
   "cell_type": "code",
   "execution_count": 7,
   "metadata": {
    "collapsed": true,
    "nbpresent": {
     "id": "6c7d8e29-8858-4615-896f-e13ae356102a"
    }
   },
   "outputs": [],
   "source": [
    "import arrow"
   ]
  },
  {
   "cell_type": "code",
   "execution_count": 8,
   "metadata": {
    "collapsed": false,
    "nbpresent": {
     "id": "0a55c6a0-8a89-40c5-a79e-e7034960bdeb"
    }
   },
   "outputs": [
    {
     "data": {
      "text/html": [
       "<div>\n",
       "<table border=\"1\" class=\"dataframe\">\n",
       "  <thead>\n",
       "    <tr style=\"text-align: right;\">\n",
       "      <th></th>\n",
       "      <th>train_no</th>\n",
       "      <th>station_train_code</th>\n",
       "      <th>from_station_name</th>\n",
       "      <th>to_station_name</th>\n",
       "      <th>start_time</th>\n",
       "      <th>swz_num</th>\n",
       "      <th>tz_num</th>\n",
       "      <th>zy_num</th>\n",
       "      <th>ze_num</th>\n",
       "      <th>wz_num</th>\n",
       "      <th>record_date</th>\n",
       "      <th>record_time</th>\n",
       "    </tr>\n",
       "  </thead>\n",
       "  <tbody>\n",
       "    <tr>\n",
       "      <th>0</th>\n",
       "      <td>55000G703240</td>\n",
       "      <td>G7032</td>\n",
       "      <td>上海</td>\n",
       "      <td>昆山南</td>\n",
       "      <td>06:18</td>\n",
       "      <td>0</td>\n",
       "      <td>0</td>\n",
       "      <td>35</td>\n",
       "      <td>358</td>\n",
       "      <td>164</td>\n",
       "      <td>2016-12-21</td>\n",
       "      <td>00:00</td>\n",
       "    </tr>\n",
       "    <tr>\n",
       "      <th>1</th>\n",
       "      <td>55000G7076A0</td>\n",
       "      <td>G7076</td>\n",
       "      <td>上海</td>\n",
       "      <td>昆山南</td>\n",
       "      <td>06:23</td>\n",
       "      <td>0</td>\n",
       "      <td>0</td>\n",
       "      <td>10</td>\n",
       "      <td>124</td>\n",
       "      <td>166</td>\n",
       "      <td>2016-12-21</td>\n",
       "      <td>00:00</td>\n",
       "    </tr>\n",
       "    <tr>\n",
       "      <th>2</th>\n",
       "      <td>5l000D300220</td>\n",
       "      <td>D3002</td>\n",
       "      <td>上海虹桥</td>\n",
       "      <td>昆山南</td>\n",
       "      <td>06:32</td>\n",
       "      <td>0</td>\n",
       "      <td>0</td>\n",
       "      <td>189</td>\n",
       "      <td>990</td>\n",
       "      <td>156</td>\n",
       "      <td>2016-12-21</td>\n",
       "      <td>00:00</td>\n",
       "    </tr>\n",
       "    <tr>\n",
       "      <th>3</th>\n",
       "      <td>5l000D220651</td>\n",
       "      <td>D2206</td>\n",
       "      <td>上海虹桥</td>\n",
       "      <td>昆山南</td>\n",
       "      <td>06:38</td>\n",
       "      <td>0</td>\n",
       "      <td>0</td>\n",
       "      <td>196</td>\n",
       "      <td>963</td>\n",
       "      <td>156</td>\n",
       "      <td>2016-12-21</td>\n",
       "      <td>00:00</td>\n",
       "    </tr>\n",
       "    <tr>\n",
       "      <th>4</th>\n",
       "      <td>5l000D307230</td>\n",
       "      <td>D3072</td>\n",
       "      <td>上海虹桥</td>\n",
       "      <td>昆山南</td>\n",
       "      <td>06:50</td>\n",
       "      <td>0</td>\n",
       "      <td>0</td>\n",
       "      <td>176</td>\n",
       "      <td>851</td>\n",
       "      <td>156</td>\n",
       "      <td>2016-12-21</td>\n",
       "      <td>00:00</td>\n",
       "    </tr>\n",
       "  </tbody>\n",
       "</table>\n",
       "</div>"
      ],
      "text/plain": [
       "       train_no station_train_code from_station_name to_station_name  \\\n",
       "0  55000G703240              G7032                上海             昆山南   \n",
       "1  55000G7076A0              G7076                上海             昆山南   \n",
       "2  5l000D300220              D3002              上海虹桥             昆山南   \n",
       "3  5l000D220651              D2206              上海虹桥             昆山南   \n",
       "4  5l000D307230              D3072              上海虹桥             昆山南   \n",
       "\n",
       "  start_time  swz_num  tz_num  zy_num  ze_num  wz_num record_date record_time  \n",
       "0      06:18        0       0      35     358     164  2016-12-21       00:00  \n",
       "1      06:23        0       0      10     124     166  2016-12-21       00:00  \n",
       "2      06:32        0       0     189     990     156  2016-12-21       00:00  \n",
       "3      06:38        0       0     196     963     156  2016-12-21       00:00  \n",
       "4      06:50        0       0     176     851     156  2016-12-21       00:00  "
      ]
     },
     "execution_count": 8,
     "metadata": {},
     "output_type": "execute_result"
    }
   ],
   "source": [
    "df_hu_ning2.head()"
   ]
  },
  {
   "cell_type": "code",
   "execution_count": 24,
   "metadata": {
    "collapsed": false,
    "nbpresent": {
     "id": "b2e01dfd-f279-4377-8573-ad476c1d39c0"
    }
   },
   "outputs": [
    {
     "name": "stdout",
     "output_type": "stream",
     "text": [
      "06:32\n",
      "06:02\n"
     ]
    }
   ],
   "source": [
    "time_choose = '06:32'\n",
    "print time_choose\n",
    "\n",
    "time_before_30m = arrow.get(time_choose,'HH:mm').replace(minutes=-30).format('HH:mm')\n",
    "print time_before_30m"
   ]
  },
  {
   "cell_type": "code",
   "execution_count": null,
   "metadata": {
    "collapsed": false,
    "nbpresent": {
     "id": "52a9ac1a-6172-4c2d-8716-10b22207f09e"
    },
    "scrolled": true
   },
   "outputs": [],
   "source": [
    "df_hu_ning2['start_time'].apply(lambda x: arrow.get(x, 'HH:mm').replace(minutes=-30).format('HH:mm')).head()"
   ]
  },
  {
   "cell_type": "markdown",
   "metadata": {
    "nbpresent": {
     "id": "8b02c8ee-391d-4176-9d92-c0e185fe505b"
    }
   },
   "source": [
    "#### 添加列，记录开车前30分钟数据"
   ]
  },
  {
   "cell_type": "code",
   "execution_count": 10,
   "metadata": {
    "collapsed": false,
    "nbpresent": {
     "id": "afe8af9f-c123-48f9-aa6d-622e0f44765a"
    }
   },
   "outputs": [
    {
     "name": "stderr",
     "output_type": "stream",
     "text": [
      "C:\\Anaconda2\\lib\\site-packages\\ipykernel\\__main__.py:1: SettingWithCopyWarning: \n",
      "A value is trying to be set on a copy of a slice from a DataFrame.\n",
      "Try using .loc[row_indexer,col_indexer] = value instead\n",
      "\n",
      "See the caveats in the documentation: http://pandas.pydata.org/pandas-docs/stable/indexing.html#indexing-view-versus-copy\n",
      "  if __name__ == '__main__':\n"
     ]
    },
    {
     "data": {
      "text/html": [
       "<div>\n",
       "<table border=\"1\" class=\"dataframe\">\n",
       "  <thead>\n",
       "    <tr style=\"text-align: right;\">\n",
       "      <th></th>\n",
       "      <th>train_no</th>\n",
       "      <th>station_train_code</th>\n",
       "      <th>from_station_name</th>\n",
       "      <th>to_station_name</th>\n",
       "      <th>start_time</th>\n",
       "      <th>swz_num</th>\n",
       "      <th>tz_num</th>\n",
       "      <th>zy_num</th>\n",
       "      <th>ze_num</th>\n",
       "      <th>wz_num</th>\n",
       "      <th>record_date</th>\n",
       "      <th>record_time</th>\n",
       "      <th>start_time_before30m</th>\n",
       "    </tr>\n",
       "  </thead>\n",
       "  <tbody>\n",
       "    <tr>\n",
       "      <th>0</th>\n",
       "      <td>55000G703240</td>\n",
       "      <td>G7032</td>\n",
       "      <td>上海</td>\n",
       "      <td>昆山南</td>\n",
       "      <td>06:18</td>\n",
       "      <td>0</td>\n",
       "      <td>0</td>\n",
       "      <td>35</td>\n",
       "      <td>358</td>\n",
       "      <td>164</td>\n",
       "      <td>2016-12-21</td>\n",
       "      <td>00:00</td>\n",
       "      <td>05:48</td>\n",
       "    </tr>\n",
       "    <tr>\n",
       "      <th>1</th>\n",
       "      <td>55000G7076A0</td>\n",
       "      <td>G7076</td>\n",
       "      <td>上海</td>\n",
       "      <td>昆山南</td>\n",
       "      <td>06:23</td>\n",
       "      <td>0</td>\n",
       "      <td>0</td>\n",
       "      <td>10</td>\n",
       "      <td>124</td>\n",
       "      <td>166</td>\n",
       "      <td>2016-12-21</td>\n",
       "      <td>00:00</td>\n",
       "      <td>05:53</td>\n",
       "    </tr>\n",
       "    <tr>\n",
       "      <th>2</th>\n",
       "      <td>5l000D300220</td>\n",
       "      <td>D3002</td>\n",
       "      <td>上海虹桥</td>\n",
       "      <td>昆山南</td>\n",
       "      <td>06:32</td>\n",
       "      <td>0</td>\n",
       "      <td>0</td>\n",
       "      <td>189</td>\n",
       "      <td>990</td>\n",
       "      <td>156</td>\n",
       "      <td>2016-12-21</td>\n",
       "      <td>00:00</td>\n",
       "      <td>06:02</td>\n",
       "    </tr>\n",
       "    <tr>\n",
       "      <th>3</th>\n",
       "      <td>5l000D220651</td>\n",
       "      <td>D2206</td>\n",
       "      <td>上海虹桥</td>\n",
       "      <td>昆山南</td>\n",
       "      <td>06:38</td>\n",
       "      <td>0</td>\n",
       "      <td>0</td>\n",
       "      <td>196</td>\n",
       "      <td>963</td>\n",
       "      <td>156</td>\n",
       "      <td>2016-12-21</td>\n",
       "      <td>00:00</td>\n",
       "      <td>06:08</td>\n",
       "    </tr>\n",
       "    <tr>\n",
       "      <th>4</th>\n",
       "      <td>5l000D307230</td>\n",
       "      <td>D3072</td>\n",
       "      <td>上海虹桥</td>\n",
       "      <td>昆山南</td>\n",
       "      <td>06:50</td>\n",
       "      <td>0</td>\n",
       "      <td>0</td>\n",
       "      <td>176</td>\n",
       "      <td>851</td>\n",
       "      <td>156</td>\n",
       "      <td>2016-12-21</td>\n",
       "      <td>00:00</td>\n",
       "      <td>06:20</td>\n",
       "    </tr>\n",
       "  </tbody>\n",
       "</table>\n",
       "</div>"
      ],
      "text/plain": [
       "       train_no station_train_code from_station_name to_station_name  \\\n",
       "0  55000G703240              G7032                上海             昆山南   \n",
       "1  55000G7076A0              G7076                上海             昆山南   \n",
       "2  5l000D300220              D3002              上海虹桥             昆山南   \n",
       "3  5l000D220651              D2206              上海虹桥             昆山南   \n",
       "4  5l000D307230              D3072              上海虹桥             昆山南   \n",
       "\n",
       "  start_time  swz_num  tz_num  zy_num  ze_num  wz_num record_date record_time  \\\n",
       "0      06:18        0       0      35     358     164  2016-12-21       00:00   \n",
       "1      06:23        0       0      10     124     166  2016-12-21       00:00   \n",
       "2      06:32        0       0     189     990     156  2016-12-21       00:00   \n",
       "3      06:38        0       0     196     963     156  2016-12-21       00:00   \n",
       "4      06:50        0       0     176     851     156  2016-12-21       00:00   \n",
       "\n",
       "  start_time_before30m  \n",
       "0                05:48  \n",
       "1                05:53  \n",
       "2                06:02  \n",
       "3                06:08  \n",
       "4                06:20  "
      ]
     },
     "execution_count": 10,
     "metadata": {},
     "output_type": "execute_result"
    }
   ],
   "source": [
    "df_hu_ning2['start_time_before30m'] = df_hu_ning2['start_time'].apply(lambda x: arrow.get(x, 'HH:mm')\\\n",
    "                                                      .replace(minutes=-30).format('HH:mm'))\n",
    "df_hu_ning2.head()"
   ]
  },
  {
   "cell_type": "markdown",
   "metadata": {
    "nbpresent": {
     "id": "8e5499ac-cafb-4522-8a22-62447a9d879e"
    }
   },
   "source": [
    "#### 记录时间==发车前30分钟数据，（高价值数据）"
   ]
  },
  {
   "cell_type": "code",
   "execution_count": 11,
   "metadata": {
    "collapsed": false,
    "nbpresent": {
     "id": "db2d738e-c26e-4753-a41a-b8dc960e28dd"
    },
    "scrolled": true
   },
   "outputs": [
    {
     "name": "stdout",
     "output_type": "stream",
     "text": [
      "2814\n"
     ]
    }
   ],
   "source": [
    "df_hu_ning3 = df_hu_ning2[df_hu_ning2['start_time_before30m'] == df_hu_ning2['record_time']]\n",
    "print len(df_hu_ning3)"
   ]
  },
  {
   "cell_type": "code",
   "execution_count": 12,
   "metadata": {
    "collapsed": false,
    "nbpresent": {
     "id": "01882ff8-66eb-4cc0-8023-a02efe94c543"
    }
   },
   "outputs": [
    {
     "data": {
      "text/html": [
       "<div>\n",
       "<table border=\"1\" class=\"dataframe\">\n",
       "  <thead>\n",
       "    <tr style=\"text-align: right;\">\n",
       "      <th></th>\n",
       "      <th>train_no</th>\n",
       "      <th>station_train_code</th>\n",
       "      <th>from_station_name</th>\n",
       "      <th>to_station_name</th>\n",
       "      <th>start_time</th>\n",
       "      <th>swz_num</th>\n",
       "      <th>tz_num</th>\n",
       "      <th>zy_num</th>\n",
       "      <th>ze_num</th>\n",
       "      <th>wz_num</th>\n",
       "      <th>record_date</th>\n",
       "      <th>record_time</th>\n",
       "      <th>start_time_before30m</th>\n",
       "    </tr>\n",
       "  </thead>\n",
       "  <tbody>\n",
       "    <tr>\n",
       "      <th>934301</th>\n",
       "      <td>55000G707270</td>\n",
       "      <td>G7072</td>\n",
       "      <td>上海</td>\n",
       "      <td>无锡</td>\n",
       "      <td>06:02</td>\n",
       "      <td>19</td>\n",
       "      <td>0</td>\n",
       "      <td>44</td>\n",
       "      <td>222</td>\n",
       "      <td>294</td>\n",
       "      <td>2016-12-21</td>\n",
       "      <td>05:32</td>\n",
       "      <td>05:32</td>\n",
       "    </tr>\n",
       "    <tr>\n",
       "      <th>934459</th>\n",
       "      <td>55000G707270</td>\n",
       "      <td>G7072</td>\n",
       "      <td>上海</td>\n",
       "      <td>常州</td>\n",
       "      <td>06:02</td>\n",
       "      <td>19</td>\n",
       "      <td>0</td>\n",
       "      <td>44</td>\n",
       "      <td>192</td>\n",
       "      <td>294</td>\n",
       "      <td>2016-12-21</td>\n",
       "      <td>05:32</td>\n",
       "      <td>05:32</td>\n",
       "    </tr>\n",
       "    <tr>\n",
       "      <th>934598</th>\n",
       "      <td>55000G707270</td>\n",
       "      <td>G7072</td>\n",
       "      <td>上海</td>\n",
       "      <td>丹阳</td>\n",
       "      <td>06:02</td>\n",
       "      <td>19</td>\n",
       "      <td>0</td>\n",
       "      <td>44</td>\n",
       "      <td>181</td>\n",
       "      <td>294</td>\n",
       "      <td>2016-12-21</td>\n",
       "      <td>05:32</td>\n",
       "      <td>05:32</td>\n",
       "    </tr>\n",
       "    <tr>\n",
       "      <th>934662</th>\n",
       "      <td>55000G707270</td>\n",
       "      <td>G7072</td>\n",
       "      <td>上海</td>\n",
       "      <td>镇江</td>\n",
       "      <td>06:02</td>\n",
       "      <td>19</td>\n",
       "      <td>0</td>\n",
       "      <td>44</td>\n",
       "      <td>128</td>\n",
       "      <td>294</td>\n",
       "      <td>2016-12-21</td>\n",
       "      <td>05:32</td>\n",
       "      <td>05:32</td>\n",
       "    </tr>\n",
       "    <tr>\n",
       "      <th>934768</th>\n",
       "      <td>55000G707270</td>\n",
       "      <td>G7072</td>\n",
       "      <td>上海</td>\n",
       "      <td>南京南</td>\n",
       "      <td>06:02</td>\n",
       "      <td>19</td>\n",
       "      <td>0</td>\n",
       "      <td>47</td>\n",
       "      <td>121</td>\n",
       "      <td>294</td>\n",
       "      <td>2016-12-21</td>\n",
       "      <td>05:32</td>\n",
       "      <td>05:32</td>\n",
       "    </tr>\n",
       "    <tr>\n",
       "      <th>1041391</th>\n",
       "      <td>55000G707270</td>\n",
       "      <td>G7072</td>\n",
       "      <td>无锡</td>\n",
       "      <td>常州</td>\n",
       "      <td>06:40</td>\n",
       "      <td>19</td>\n",
       "      <td>0</td>\n",
       "      <td>45</td>\n",
       "      <td>189</td>\n",
       "      <td>294</td>\n",
       "      <td>2016-12-21</td>\n",
       "      <td>06:10</td>\n",
       "      <td>06:10</td>\n",
       "    </tr>\n",
       "    <tr>\n",
       "      <th>1041509</th>\n",
       "      <td>55000G707270</td>\n",
       "      <td>G7072</td>\n",
       "      <td>无锡</td>\n",
       "      <td>丹阳</td>\n",
       "      <td>06:40</td>\n",
       "      <td>19</td>\n",
       "      <td>0</td>\n",
       "      <td>45</td>\n",
       "      <td>179</td>\n",
       "      <td>294</td>\n",
       "      <td>2016-12-21</td>\n",
       "      <td>06:10</td>\n",
       "      <td>06:10</td>\n",
       "    </tr>\n",
       "    <tr>\n",
       "      <th>1041567</th>\n",
       "      <td>55000G707270</td>\n",
       "      <td>G7072</td>\n",
       "      <td>无锡</td>\n",
       "      <td>镇江</td>\n",
       "      <td>06:40</td>\n",
       "      <td>19</td>\n",
       "      <td>0</td>\n",
       "      <td>45</td>\n",
       "      <td>129</td>\n",
       "      <td>294</td>\n",
       "      <td>2016-12-21</td>\n",
       "      <td>06:10</td>\n",
       "      <td>06:10</td>\n",
       "    </tr>\n",
       "    <tr>\n",
       "      <th>1041658</th>\n",
       "      <td>55000G707270</td>\n",
       "      <td>G7072</td>\n",
       "      <td>无锡</td>\n",
       "      <td>南京南</td>\n",
       "      <td>06:40</td>\n",
       "      <td>19</td>\n",
       "      <td>0</td>\n",
       "      <td>48</td>\n",
       "      <td>119</td>\n",
       "      <td>294</td>\n",
       "      <td>2016-12-21</td>\n",
       "      <td>06:10</td>\n",
       "      <td>06:10</td>\n",
       "    </tr>\n",
       "    <tr>\n",
       "      <th>1087206</th>\n",
       "      <td>55000G707270</td>\n",
       "      <td>G7072</td>\n",
       "      <td>常州</td>\n",
       "      <td>丹阳</td>\n",
       "      <td>06:56</td>\n",
       "      <td>19</td>\n",
       "      <td>0</td>\n",
       "      <td>45</td>\n",
       "      <td>179</td>\n",
       "      <td>294</td>\n",
       "      <td>2016-12-21</td>\n",
       "      <td>06:26</td>\n",
       "      <td>06:26</td>\n",
       "    </tr>\n",
       "    <tr>\n",
       "      <th>1087251</th>\n",
       "      <td>55000G707270</td>\n",
       "      <td>G7072</td>\n",
       "      <td>常州</td>\n",
       "      <td>镇江</td>\n",
       "      <td>06:56</td>\n",
       "      <td>19</td>\n",
       "      <td>0</td>\n",
       "      <td>45</td>\n",
       "      <td>124</td>\n",
       "      <td>294</td>\n",
       "      <td>2016-12-21</td>\n",
       "      <td>06:26</td>\n",
       "      <td>06:26</td>\n",
       "    </tr>\n",
       "    <tr>\n",
       "      <th>1087331</th>\n",
       "      <td>55000G707270</td>\n",
       "      <td>G7072</td>\n",
       "      <td>常州</td>\n",
       "      <td>南京南</td>\n",
       "      <td>06:56</td>\n",
       "      <td>19</td>\n",
       "      <td>0</td>\n",
       "      <td>49</td>\n",
       "      <td>120</td>\n",
       "      <td>294</td>\n",
       "      <td>2016-12-21</td>\n",
       "      <td>06:26</td>\n",
       "      <td>06:26</td>\n",
       "    </tr>\n",
       "    <tr>\n",
       "      <th>1138078</th>\n",
       "      <td>55000G707270</td>\n",
       "      <td>G7072</td>\n",
       "      <td>丹阳</td>\n",
       "      <td>镇江</td>\n",
       "      <td>07:14</td>\n",
       "      <td>20</td>\n",
       "      <td>0</td>\n",
       "      <td>45</td>\n",
       "      <td>134</td>\n",
       "      <td>294</td>\n",
       "      <td>2016-12-21</td>\n",
       "      <td>06:44</td>\n",
       "      <td>06:44</td>\n",
       "    </tr>\n",
       "    <tr>\n",
       "      <th>1138118</th>\n",
       "      <td>55000G707270</td>\n",
       "      <td>G7072</td>\n",
       "      <td>丹阳</td>\n",
       "      <td>南京南</td>\n",
       "      <td>07:14</td>\n",
       "      <td>20</td>\n",
       "      <td>0</td>\n",
       "      <td>49</td>\n",
       "      <td>128</td>\n",
       "      <td>294</td>\n",
       "      <td>2016-12-21</td>\n",
       "      <td>06:44</td>\n",
       "      <td>06:44</td>\n",
       "    </tr>\n",
       "    <tr>\n",
       "      <th>1177120</th>\n",
       "      <td>55000G707270</td>\n",
       "      <td>G7072</td>\n",
       "      <td>镇江</td>\n",
       "      <td>南京南</td>\n",
       "      <td>07:28</td>\n",
       "      <td>20</td>\n",
       "      <td>0</td>\n",
       "      <td>49</td>\n",
       "      <td>132</td>\n",
       "      <td>294</td>\n",
       "      <td>2016-12-21</td>\n",
       "      <td>06:58</td>\n",
       "      <td>06:58</td>\n",
       "    </tr>\n",
       "  </tbody>\n",
       "</table>\n",
       "</div>"
      ],
      "text/plain": [
       "             train_no station_train_code from_station_name to_station_name  \\\n",
       "934301   55000G707270              G7072                上海              无锡   \n",
       "934459   55000G707270              G7072                上海              常州   \n",
       "934598   55000G707270              G7072                上海              丹阳   \n",
       "934662   55000G707270              G7072                上海              镇江   \n",
       "934768   55000G707270              G7072                上海             南京南   \n",
       "1041391  55000G707270              G7072                无锡              常州   \n",
       "1041509  55000G707270              G7072                无锡              丹阳   \n",
       "1041567  55000G707270              G7072                无锡              镇江   \n",
       "1041658  55000G707270              G7072                无锡             南京南   \n",
       "1087206  55000G707270              G7072                常州              丹阳   \n",
       "1087251  55000G707270              G7072                常州              镇江   \n",
       "1087331  55000G707270              G7072                常州             南京南   \n",
       "1138078  55000G707270              G7072                丹阳              镇江   \n",
       "1138118  55000G707270              G7072                丹阳             南京南   \n",
       "1177120  55000G707270              G7072                镇江             南京南   \n",
       "\n",
       "        start_time  swz_num  tz_num  zy_num  ze_num  wz_num record_date  \\\n",
       "934301       06:02       19       0      44     222     294  2016-12-21   \n",
       "934459       06:02       19       0      44     192     294  2016-12-21   \n",
       "934598       06:02       19       0      44     181     294  2016-12-21   \n",
       "934662       06:02       19       0      44     128     294  2016-12-21   \n",
       "934768       06:02       19       0      47     121     294  2016-12-21   \n",
       "1041391      06:40       19       0      45     189     294  2016-12-21   \n",
       "1041509      06:40       19       0      45     179     294  2016-12-21   \n",
       "1041567      06:40       19       0      45     129     294  2016-12-21   \n",
       "1041658      06:40       19       0      48     119     294  2016-12-21   \n",
       "1087206      06:56       19       0      45     179     294  2016-12-21   \n",
       "1087251      06:56       19       0      45     124     294  2016-12-21   \n",
       "1087331      06:56       19       0      49     120     294  2016-12-21   \n",
       "1138078      07:14       20       0      45     134     294  2016-12-21   \n",
       "1138118      07:14       20       0      49     128     294  2016-12-21   \n",
       "1177120      07:28       20       0      49     132     294  2016-12-21   \n",
       "\n",
       "        record_time start_time_before30m  \n",
       "934301        05:32                05:32  \n",
       "934459        05:32                05:32  \n",
       "934598        05:32                05:32  \n",
       "934662        05:32                05:32  \n",
       "934768        05:32                05:32  \n",
       "1041391       06:10                06:10  \n",
       "1041509       06:10                06:10  \n",
       "1041567       06:10                06:10  \n",
       "1041658       06:10                06:10  \n",
       "1087206       06:26                06:26  \n",
       "1087251       06:26                06:26  \n",
       "1087331       06:26                06:26  \n",
       "1138078       06:44                06:44  \n",
       "1138118       06:44                06:44  \n",
       "1177120       06:58                06:58  "
      ]
     },
     "execution_count": 12,
     "metadata": {},
     "output_type": "execute_result"
    }
   ],
   "source": [
    "df_hu_ning3[df_hu_ning3['station_train_code'] == 'G7072']"
   ]
  },
  {
   "cell_type": "code",
   "execution_count": null,
   "metadata": {
    "collapsed": true,
    "nbpresent": {
     "id": "fa8e0ba2-0d2f-4333-a09a-019174472076"
    }
   },
   "outputs": [],
   "source": []
  },
  {
   "cell_type": "markdown",
   "metadata": {
    "nbpresent": {
     "id": "2d4ddee0-d075-4e82-bfff-bcba0546341b"
    }
   },
   "source": [
    "## 3. 加一条列，记录起止站数据，便于后续区间判断"
   ]
  },
  {
   "cell_type": "code",
   "execution_count": 13,
   "metadata": {
    "collapsed": false,
    "nbpresent": {
     "id": "4887f6e3-5de0-4d6f-bed5-cdef258b9660"
    }
   },
   "outputs": [
    {
     "name": "stderr",
     "output_type": "stream",
     "text": [
      "C:\\Anaconda2\\lib\\site-packages\\ipykernel\\__main__.py:1: SettingWithCopyWarning: \n",
      "A value is trying to be set on a copy of a slice from a DataFrame.\n",
      "Try using .loc[row_indexer,col_indexer] = value instead\n",
      "\n",
      "See the caveats in the documentation: http://pandas.pydata.org/pandas-docs/stable/indexing.html#indexing-view-versus-copy\n",
      "  if __name__ == '__main__':\n",
      "C:\\Anaconda2\\lib\\site-packages\\ipykernel\\__main__.py:2: SettingWithCopyWarning: \n",
      "A value is trying to be set on a copy of a slice from a DataFrame.\n",
      "Try using .loc[row_indexer,col_indexer] = value instead\n",
      "\n",
      "See the caveats in the documentation: http://pandas.pydata.org/pandas-docs/stable/indexing.html#indexing-view-versus-copy\n",
      "  from ipykernel import kernelapp as app\n"
     ]
    }
   ],
   "source": [
    "df_hu_ning3['from_to'] = df_hu_ning3['from_station_name'] + ',' +df_hu_ning3['to_station_name']\n",
    "df_hu_ning3['from_to'] = df_hu_ning3['from_to'].str.split(',')"
   ]
  },
  {
   "cell_type": "code",
   "execution_count": 16,
   "metadata": {
    "collapsed": false,
    "nbpresent": {
     "id": "5009f646-02a0-468b-b781-f241b00c349f"
    },
    "scrolled": true
   },
   "outputs": [
    {
     "data": {
      "text/plain": [
       "list"
      ]
     },
     "execution_count": 16,
     "metadata": {},
     "output_type": "execute_result"
    }
   ],
   "source": [
    "type(df_hu_ning3['from_to'][1087331])"
   ]
  },
  {
   "cell_type": "code",
   "execution_count": null,
   "metadata": {
    "collapsed": true
   },
   "outputs": [],
   "source": []
  },
  {
   "cell_type": "code",
   "execution_count": 18,
   "metadata": {
    "collapsed": false
   },
   "outputs": [
    {
     "data": {
      "text/plain": [
       "Index([            u'train_no',   u'station_train_code',\n",
       "          u'from_station_name',      u'to_station_name',\n",
       "                 u'start_time',              u'swz_num',\n",
       "                     u'tz_num',               u'zy_num',\n",
       "                     u'ze_num',               u'wz_num',\n",
       "                u'record_date',          u'record_time',\n",
       "       u'start_time_before30m',              u'from_to'],\n",
       "      dtype='object')"
      ]
     },
     "execution_count": 18,
     "metadata": {},
     "output_type": "execute_result"
    }
   ],
   "source": [
    "df_hu_ning3.columns"
   ]
  },
  {
   "cell_type": "code",
   "execution_count": 23,
   "metadata": {
    "collapsed": false
   },
   "outputs": [],
   "source": [
    "df_SH_NJ = df_hu_ning3[(df_hu_ning3['from_station_name'] == u'上海') & (df_hu_ning3['to_station_name'] == u'南京')]"
   ]
  },
  {
   "cell_type": "code",
   "execution_count": 24,
   "metadata": {
    "collapsed": false
   },
   "outputs": [
    {
     "name": "stderr",
     "output_type": "stream",
     "text": [
      "C:\\Anaconda2\\lib\\site-packages\\ipykernel\\__main__.py:1: SettingWithCopyWarning: \n",
      "A value is trying to be set on a copy of a slice from a DataFrame.\n",
      "Try using .loc[row_indexer,col_indexer] = value instead\n",
      "\n",
      "See the caveats in the documentation: http://pandas.pydata.org/pandas-docs/stable/indexing.html#indexing-view-versus-copy\n",
      "  if __name__ == '__main__':\n"
     ]
    }
   ],
   "source": [
    "df_SH_NJ['all_tickets'] = df_SH_NJ['swz_num'] + df_SH_NJ[u'tz_num'] +\\\n",
    "df_SH_NJ[u'zy_num']  + df_SH_NJ[u'ze_num'] + df_SH_NJ[u'wz_num'] "
   ]
  },
  {
   "cell_type": "code",
   "execution_count": null,
   "metadata": {
    "collapsed": true
   },
   "outputs": [],
   "source": [
    "df_SH_NJ"
   ]
  },
  {
   "cell_type": "code",
   "execution_count": 32,
   "metadata": {
    "collapsed": false
   },
   "outputs": [
    {
     "data": {
      "text/plain": [
       "<matplotlib.axes._subplots.AxesSubplot at 0x87eb970>"
      ]
     },
     "execution_count": 32,
     "metadata": {},
     "output_type": "execute_result"
    },
    {
     "data": {
      "image/png": "[encoded data removed]",
      "text/plain": [
       "<matplotlib.figure.Figure at 0x87f6570>"
      ]
     },
     "metadata": {},
     "output_type": "display_data"
    }
   ],
   "source": [
    "%matplotlib inline\n",
    "import matplotlib.pyplot as plt\n",
    "df_SH_NJ.plot(kind='bar',y='all_tickets', x ='start_time')"
   ]
  },
  {
   "cell_type": "code",
   "execution_count": null,
   "metadata": {
    "collapsed": true
   },
   "outputs": [],
   "source": []
  },
  {
   "cell_type": "code",
   "execution_count": null,
   "metadata": {
    "collapsed": true
   },
   "outputs": [],
   "source": []
  },
  {
   "cell_type": "markdown",
   "metadata": {
    "nbpresent": {
     "id": "14fcdc15-6c26-4589-9347-86a1342b5bfe"
    }
   },
   "source": [
    "## 4. 导出数据（建议导出为JSON)"
   ]
  },
  {
   "cell_type": "code",
   "execution_count": 43,
   "metadata": {
    "collapsed": true,
    "nbpresent": {
     "id": "60d16dca-a620-46f6-9ec5-9c021ddfbadf"
    }
   },
   "outputs": [],
   "source": [
    "df_hu_ning3.to_json('./data/hu_ning_ft1.json')"
   ]
  },
  {
   "cell_type": "code",
   "execution_count": null,
   "metadata": {
    "collapsed": true,
    "nbpresent": {
     "id": "05e3514c-455f-4797-9d6f-e19c9e3c8c53"
    }
   },
   "outputs": [],
   "source": []
  }
 ],
 "metadata": {
  "anaconda-cloud": {},
  "kernelspec": {
   "display_name": "Python [Root]",
   "language": "python",
   "name": "Python [Root]"
  },
  "language_info": {
   "codemirror_mode": {
    "name": "ipython",
    "version": 2
   },
   "file_extension": ".py",
   "mimetype": "text/x-python",
   "name": "python",
   "nbconvert_exporter": "python",
   "pygments_lexer": "ipython2",
   "version": "2.7.12"
  },
  "nbpresent": {
   "slides": {
    "1e69adf2-48b5-41e0-93ed-7c8f403810f4": {
     "id": "1e69adf2-48b5-41e0-93ed-7c8f403810f4",
     "prev": "61fc051c-aaf9-4f46-a193-eb222c9a373c",
     "regions": {
      "67b06884-5e74-420b-a6c5-f7a1c74c69e0": {
       "attrs": {
        "height": 0.8,
        "width": 0.8,
        "x": 0.1,
        "y": 0.1
       },
       "content": {
        "cell": "52a9ac1a-6172-4c2d-8716-10b22207f09e",
        "part": "whole"
       },
       "id": "67b06884-5e74-420b-a6c5-f7a1c74c69e0"
      }
     }
    },
    "24b89be7-8222-4faf-b8e4-54c3fc5bd941": {
     "id": "24b89be7-8222-4faf-b8e4-54c3fc5bd941",
     "prev": "4564c470-cb45-446d-b6de-b75f183565e7",
     "regions": {
      "56f1b925-092d-4af2-a734-6674385bd3e4": {
       "attrs": {
        "height": 0.8,
        "width": 0.8,
        "x": 0.1,
        "y": 0.1
       },
       "content": {
        "cell": "62ce03b5-c3ac-4947-a8aa-eeb1d9fb8e91",
        "part": "whole"
       },
       "id": "56f1b925-092d-4af2-a734-6674385bd3e4"
      }
     }
    },
    "3b6d0db2-fea3-4802-b5ae-7123de93326b": {
     "id": "3b6d0db2-fea3-4802-b5ae-7123de93326b",
     "prev": "4a72a192-deb0-43a9-bf6b-b16b0ddc3666",
     "regions": {
      "512503a8-9450-40c1-90af-ef3ba6699f48": {
       "attrs": {
        "height": 0.8,
        "width": 0.8,
        "x": 0.1,
        "y": 0.1
       },
       "content": {
        "cell": "afe8af9f-c123-48f9-aa6d-622e0f44765a",
        "part": "whole"
       },
       "id": "512503a8-9450-40c1-90af-ef3ba6699f48"
      }
     }
    },
    "439078b1-1c72-435c-98cf-1a67229dade5": {
     "id": "439078b1-1c72-435c-98cf-1a67229dade5",
     "prev": "d9dc6b1b-e76c-4163-b8a1-ae38c542c92e",
     "regions": {
      "733b11ad-7d75-4d67-a606-2ba1478951fc": {
       "attrs": {
        "height": 0.8,
        "width": 0.8,
        "x": 0.1,
        "y": 0.1
       },
       "content": {
        "cell": "96c19991-3cb3-4d5e-8d65-f0e71e17527b",
        "part": "whole"
       },
       "id": "733b11ad-7d75-4d67-a606-2ba1478951fc"
      }
     }
    },
    "4564c470-cb45-446d-b6de-b75f183565e7": {
     "id": "4564c470-cb45-446d-b6de-b75f183565e7",
     "prev": "5f0aff4a-4b9c-409c-801b-fe205e934626",
     "regions": {
      "90b3497f-5ff1-4df9-8854-589fd98558b6": {
       "attrs": {
        "height": 0.8,
        "width": 0.8,
        "x": 0.1,
        "y": 0.1
       },
       "content": {
        "cell": "a5528a36-d689-40c6-bdb2-5832b0f1e8ac",
        "part": "whole"
       },
       "id": "90b3497f-5ff1-4df9-8854-589fd98558b6"
      }
     }
    },
    "4a72a192-deb0-43a9-bf6b-b16b0ddc3666": {
     "id": "4a72a192-deb0-43a9-bf6b-b16b0ddc3666",
     "prev": "1e69adf2-48b5-41e0-93ed-7c8f403810f4",
     "regions": {
      "6f36da53-e501-42f6-8e85-2698d7c51adb": {
       "attrs": {
        "height": 0.8,
        "width": 0.8,
        "x": 0.1,
        "y": 0.1
       },
       "content": {
        "cell": "8b02c8ee-391d-4176-9d92-c0e185fe505b",
        "part": "whole"
       },
       "id": "6f36da53-e501-42f6-8e85-2698d7c51adb"
      }
     }
    },
    "524bc750-1c15-41cc-955d-1f5a04ca8f12": {
     "id": "524bc750-1c15-41cc-955d-1f5a04ca8f12",
     "prev": "439078b1-1c72-435c-98cf-1a67229dade5",
     "regions": {
      "6ad0916d-35f3-4bd1-b235-c05a57b1602a": {
       "attrs": {
        "height": 0.8,
        "width": 0.8,
        "x": 0.1,
        "y": 0.1
       },
       "content": {
        "cell": "bf882bc2-4274-4633-b81d-a6c639894ff5",
        "part": "whole"
       },
       "id": "6ad0916d-35f3-4bd1-b235-c05a57b1602a"
      }
     }
    },
    "5471e9f3-e32e-4cee-9b58-496e1879a753": {
     "id": "5471e9f3-e32e-4cee-9b58-496e1879a753",
     "prev": "3b6d0db2-fea3-4802-b5ae-7123de93326b",
     "regions": {
      "136f3818-c8e9-4d97-8c4e-92916e9206b4": {
       "attrs": {
        "height": 0.8,
        "width": 0.8,
        "x": 0.1,
        "y": 0.1
       },
       "content": {
        "cell": "8e5499ac-cafb-4522-8a22-62447a9d879e",
        "part": "whole"
       },
       "id": "136f3818-c8e9-4d97-8c4e-92916e9206b4"
      }
     }
    },
    "54fe96a7-3a2f-47b1-8770-3c2fc9b4ce89": {
     "id": "54fe96a7-3a2f-47b1-8770-3c2fc9b4ce89",
     "prev": "5921f32c-105e-4d0c-8375-65590bda3742",
     "regions": {
      "d3765353-03f7-46e4-9e40-d9d847f8e1c8": {
       "attrs": {
        "height": 0.8,
        "width": 0.8,
        "x": 0.1,
        "y": 0.1
       },
       "content": {
        "cell": "01882ff8-66eb-4cc0-8023-a02efe94c543",
        "part": "whole"
       },
       "id": "d3765353-03f7-46e4-9e40-d9d847f8e1c8"
      }
     }
    },
    "5921f32c-105e-4d0c-8375-65590bda3742": {
     "id": "5921f32c-105e-4d0c-8375-65590bda3742",
     "prev": "5471e9f3-e32e-4cee-9b58-496e1879a753",
     "regions": {
      "20dca0e1-bb51-497e-93ea-a89513b6d54d": {
       "attrs": {
        "height": 0.8,
        "width": 0.8,
        "x": 0.1,
        "y": 0.1
       },
       "content": {
        "cell": "db2d738e-c26e-4753-a41a-b8dc960e28dd",
        "part": "whole"
       },
       "id": "20dca0e1-bb51-497e-93ea-a89513b6d54d"
      }
     }
    },
    "5f0aff4a-4b9c-409c-801b-fe205e934626": {
     "id": "5f0aff4a-4b9c-409c-801b-fe205e934626",
     "prev": "80adf696-f039-472f-8701-81b8fd4c3ce0",
     "regions": {
      "39dee5f9-d2a2-4e07-8c4c-024fd0f34817": {
       "attrs": {
        "height": 0.8,
        "width": 0.8,
        "x": 0.1,
        "y": 0.1
       },
       "content": {
        "cell": "3e388b14-0ffb-4d50-9e19-f0fe8320a1bc",
        "part": "whole"
       },
       "id": "39dee5f9-d2a2-4e07-8c4c-024fd0f34817"
      }
     }
    },
    "61fc051c-aaf9-4f46-a193-eb222c9a373c": {
     "id": "61fc051c-aaf9-4f46-a193-eb222c9a373c",
     "prev": "910a93d5-ceb0-4781-873f-07b7aed27385",
     "regions": {
      "7f5cea26-c5bb-4f54-b573-142ea46ae305": {
       "attrs": {
        "height": 0.8,
        "width": 0.8,
        "x": 0.1,
        "y": 0.1
       },
       "content": {
        "cell": "b2e01dfd-f279-4377-8573-ad476c1d39c0",
        "part": "whole"
       },
       "id": "7f5cea26-c5bb-4f54-b573-142ea46ae305"
      }
     }
    },
    "68b52596-c9a6-4480-8eda-148f0f9e6fad": {
     "id": "68b52596-c9a6-4480-8eda-148f0f9e6fad",
     "prev": "fb9564b8-66b3-42aa-8038-f32d1301902f",
     "regions": {
      "c555715a-26b6-421e-a45d-47890496008e": {
       "attrs": {
        "height": 0.8,
        "width": 0.8,
        "x": 0.1,
        "y": 0.1
       },
       "content": {
        "cell": "5009f646-02a0-468b-b781-f241b00c349f",
        "part": "whole"
       },
       "id": "c555715a-26b6-421e-a45d-47890496008e"
      }
     }
    },
    "6975ffb8-5270-48ce-ac90-78e909a043b7": {
     "id": "6975ffb8-5270-48ce-ac90-78e909a043b7",
     "prev": "ca0e0f31-f366-4cc2-9c9e-b3931215c851",
     "regions": {
      "2c04596d-49a2-4d0c-a5fb-8364966e84d5": {
       "attrs": {
        "height": 0.8,
        "width": 0.8,
        "x": 0.1,
        "y": 0.1
       },
       "content": {
        "cell": "2d4ddee0-d075-4e82-bfff-bcba0546341b",
        "part": "whole"
       },
       "id": "2c04596d-49a2-4d0c-a5fb-8364966e84d5"
      }
     }
    },
    "76b686b4-e7f5-4f01-b018-2da5d2cf5085": {
     "id": "76b686b4-e7f5-4f01-b018-2da5d2cf5085",
     "prev": "fb644632-485b-4df5-a22a-37e17418c623",
     "regions": {
      "30ba513d-ad1d-449c-9f18-a48b413c4925": {
       "attrs": {
        "height": 0.8,
        "width": 0.8,
        "x": 0.1,
        "y": 0.1
       },
       "content": {
        "cell": "6c7d8e29-8858-4615-896f-e13ae356102a",
        "part": "whole"
       },
       "id": "30ba513d-ad1d-449c-9f18-a48b413c4925"
      }
     }
    },
    "78e4b7a7-039d-45cf-bb8b-dd8a37ae3fc1": {
     "id": "78e4b7a7-039d-45cf-bb8b-dd8a37ae3fc1",
     "prev": "f9838b08-e422-4458-bb44-a56c95eedc93",
     "regions": {
      "f3883475-2752-42ae-a80a-c39d756c3786": {
       "attrs": {
        "height": 0.8,
        "width": 0.8,
        "x": 0.1,
        "y": 0.1
       },
       "content": {
        "cell": "20c36fa8-d932-42df-b8c5-5a9534202771",
        "part": "whole"
       },
       "id": "f3883475-2752-42ae-a80a-c39d756c3786"
      }
     }
    },
    "80adf696-f039-472f-8701-81b8fd4c3ce0": {
     "id": "80adf696-f039-472f-8701-81b8fd4c3ce0",
     "prev": "78e4b7a7-039d-45cf-bb8b-dd8a37ae3fc1",
     "regions": {
      "a4135548-f6c3-4184-aedc-9418f6afd9a1": {
       "attrs": {
        "height": 0.8,
        "width": 0.8,
        "x": 0.1,
        "y": 0.1
       },
       "content": {
        "cell": "0237b6be-1a6d-4850-96df-fbc8f3c485e1",
        "part": "whole"
       },
       "id": "a4135548-f6c3-4184-aedc-9418f6afd9a1"
      }
     }
    },
    "910a93d5-ceb0-4781-873f-07b7aed27385": {
     "id": "910a93d5-ceb0-4781-873f-07b7aed27385",
     "prev": "76b686b4-e7f5-4f01-b018-2da5d2cf5085",
     "regions": {
      "472ca4d7-ffbc-4300-b236-79240bedfaf7": {
       "attrs": {
        "height": 0.8,
        "width": 0.8,
        "x": 0.1,
        "y": 0.1
       },
       "content": {
        "cell": "0a55c6a0-8a89-40c5-a79e-e7034960bdeb",
        "part": "whole"
       },
       "id": "472ca4d7-ffbc-4300-b236-79240bedfaf7"
      }
     }
    },
    "a5395e5b-8874-4df5-bce3-9cde7602e548": {
     "id": "a5395e5b-8874-4df5-bce3-9cde7602e548",
     "prev": "fe2e8182-4ae5-42e9-966e-6bac0c796078",
     "regions": {
      "1a7d3918-2e97-4a8a-b386-01a5bc8a60ea": {
       "attrs": {
        "height": 0.8,
        "width": 0.8,
        "x": 0.1,
        "y": 0.1
       },
       "content": {
        "cell": "05e3514c-455f-4797-9d6f-e19c9e3c8c53",
        "part": "whole"
       },
       "id": "1a7d3918-2e97-4a8a-b386-01a5bc8a60ea"
      }
     }
    },
    "ca0e0f31-f366-4cc2-9c9e-b3931215c851": {
     "id": "ca0e0f31-f366-4cc2-9c9e-b3931215c851",
     "prev": "54fe96a7-3a2f-47b1-8770-3c2fc9b4ce89",
     "regions": {
      "d0b3e1f5-8c41-436a-ad8b-fbfd1fd50d63": {
       "attrs": {
        "height": 0.8,
        "width": 0.8,
        "x": 0.1,
        "y": 0.1
       },
       "content": {
        "cell": "fa8e0ba2-0d2f-4333-a09a-019174472076",
        "part": "whole"
       },
       "id": "d0b3e1f5-8c41-436a-ad8b-fbfd1fd50d63"
      }
     }
    },
    "d43f795f-346c-4b39-b8c0-d77c73867833": {
     "id": "d43f795f-346c-4b39-b8c0-d77c73867833",
     "prev": "68b52596-c9a6-4480-8eda-148f0f9e6fad",
     "regions": {
      "7214d905-aa3f-49ff-8c0a-8a371b3f859c": {
       "attrs": {
        "height": 0.8,
        "width": 0.8,
        "x": 0.1,
        "y": 0.1
       },
       "content": {
        "cell": "14fcdc15-6c26-4589-9347-86a1342b5bfe",
        "part": "whole"
       },
       "id": "7214d905-aa3f-49ff-8c0a-8a371b3f859c"
      }
     }
    },
    "d9dc6b1b-e76c-4163-b8a1-ae38c542c92e": {
     "id": "d9dc6b1b-e76c-4163-b8a1-ae38c542c92e",
     "prev": null,
     "regions": {
      "b9f90492-deab-4531-ae66-2e8742dcb199": {
       "attrs": {
        "height": 0.8,
        "width": 0.8,
        "x": 0.1,
        "y": 0.1
       },
       "content": {
        "cell": "728bfe36-dd46-43a5-91b8-fba3f9125f3c",
        "part": "whole"
       },
       "id": "b9f90492-deab-4531-ae66-2e8742dcb199"
      }
     }
    },
    "f9838b08-e422-4458-bb44-a56c95eedc93": {
     "id": "f9838b08-e422-4458-bb44-a56c95eedc93",
     "prev": "524bc750-1c15-41cc-955d-1f5a04ca8f12",
     "regions": {
      "8bd829af-77da-4a57-99fd-31f66eccb963": {
       "attrs": {
        "height": 0.8,
        "width": 0.8,
        "x": 0.1,
        "y": 0.1
       },
       "content": {
        "cell": "a1552997-d64b-4455-8119-f695833b010e",
        "part": "whole"
       },
       "id": "8bd829af-77da-4a57-99fd-31f66eccb963"
      }
     }
    },
    "fb644632-485b-4df5-a22a-37e17418c623": {
     "id": "fb644632-485b-4df5-a22a-37e17418c623",
     "prev": "24b89be7-8222-4faf-b8e4-54c3fc5bd941",
     "regions": {
      "1b43d6be-7e69-4bd5-8e62-65729cb03592": {
       "attrs": {
        "height": 0.8,
        "width": 0.8,
        "x": 0.1,
        "y": 0.1
       },
       "content": {
        "cell": "08931dad-843a-4129-983c-9aa423f077f5",
        "part": "whole"
       },
       "id": "1b43d6be-7e69-4bd5-8e62-65729cb03592"
      }
     }
    },
    "fb9564b8-66b3-42aa-8038-f32d1301902f": {
     "id": "fb9564b8-66b3-42aa-8038-f32d1301902f",
     "prev": "6975ffb8-5270-48ce-ac90-78e909a043b7",
     "regions": {
      "4338bb91-5263-4fe7-a15f-9385b87e12c6": {
       "attrs": {
        "height": 0.8,
        "width": 0.8,
        "x": 0.1,
        "y": 0.1
       },
       "content": {
        "cell": "4887f6e3-5de0-4d6f-bed5-cdef258b9660",
        "part": "whole"
       },
       "id": "4338bb91-5263-4fe7-a15f-9385b87e12c6"
      }
     }
    },
    "fe2e8182-4ae5-42e9-966e-6bac0c796078": {
     "id": "fe2e8182-4ae5-42e9-966e-6bac0c796078",
     "prev": "d43f795f-346c-4b39-b8c0-d77c73867833",
     "regions": {
      "f58ce7b8-3107-4363-a1e5-9ee5759c524e": {
       "attrs": {
        "height": 0.8,
        "width": 0.8,
        "x": 0.1,
        "y": 0.1
       },
       "content": {
        "cell": "60d16dca-a620-46f6-9ec5-9c021ddfbadf",
        "part": "whole"
       },
       "id": "f58ce7b8-3107-4363-a1e5-9ee5759c524e"
      }
     }
    }
   },
   "themes": {}
  }
 },
 "nbformat": 4,
 "nbformat_minor": 1
}
