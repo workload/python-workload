{
 "cells": [
  {
   "cell_type": "markdown",
   "metadata": {},
   "source": [
    "# 按时间自动抓取余票数据"
   ]
  },
  {
   "cell_type": "markdown",
   "metadata": {},
   "source": [
    "## 1. 时间库与流程库"
   ]
  },
  {
   "cell_type": "markdown",
   "metadata": {},
   "source": [
    "#### 流程控制库"
   ]
  },
  {
   "cell_type": "code",
   "execution_count": null,
   "metadata": {
    "collapsed": false
   },
   "outputs": [],
   "source": [
    "import schedule\n",
    "import time\n",
    "\n",
    "def job():\n",
    "    print(\"I'm working...\")\n",
    "\n",
    "schedule.every(1).minutes.do(job)\n",
    "# schedule.every().hour.do(job)\n",
    "# schedule.every().day.at(\"14:09\").do(job)\n",
    "# schedule.every().monday.do(job)\n",
    "# schedule.every().wednesday.at(\"13:15\").do(job)\n",
    "\n",
    "while True:\n",
    "    schedule.run_pending()\n",
    "    time.sleep(1)"
   ]
  },
  {
   "cell_type": "code",
   "execution_count": null,
   "metadata": {
    "collapsed": true
   },
   "outputs": [],
   "source": [
    "import threading\n",
    "import time\n",
    "import schedule\n",
    "import arrow\n",
    "\n",
    "def job():\n",
    "    date = arrow.now().format('mm:ss')\n",
    "    print(\"I'm running on job\",date)\n",
    "\n",
    "def job2():\n",
    "    date = arrow.now().format('mm:ss')\n",
    "    print(\"I'm running on job2\",date)\n",
    "\n",
    "def run_threaded(job_func):\n",
    "    job_thread = threading.Thread(target=job_func)\n",
    "    job_thread.start()\n",
    "\n",
    "\n",
    "schedule.every(10).seconds.do(run_threaded, job)\n",
    "schedule.every(10).seconds.do(run_threaded, job2)\n",
    "\n",
    "\n",
    "\n",
    "while 1:\n",
    "    schedule.run_pending()\n",
    "    time.sleep(1)"
   ]
  },
  {
   "cell_type": "markdown",
   "metadata": {},
   "source": [
    "#### 时间转换库"
   ]
  },
  {
   "cell_type": "code",
   "execution_count": null,
   "metadata": {
    "collapsed": false
   },
   "outputs": [],
   "source": [
    "import arrow\n",
    "tm = arrow.now()\n",
    "print tm.format('HH:mm:ss')\n",
    "    \n",
    "tm_debefore30m = tm.replace(minutes=-30)\n",
    "print tm_debefore30m"
   ]
  },
  {
   "cell_type": "code",
   "execution_count": null,
   "metadata": {
    "collapsed": false
   },
   "outputs": [],
   "source": [
    "tm2_debefore30m = tm.replace(minutes=-30).format('HH:mm')\n",
    "print tm2_debefore30m"
   ]
  },
  {
   "cell_type": "code",
   "execution_count": null,
   "metadata": {
    "collapsed": false
   },
   "outputs": [],
   "source": [
    "date = arrow.now().format('YYYY-MM-DD')\n",
    "date"
   ]
  },
  {
   "cell_type": "markdown",
   "metadata": {},
   "source": [
    "## 2 每间隔一分钟抓取一次，所有站点数据-运行一次"
   ]
  },
  {
   "cell_type": "code",
   "execution_count": null,
   "metadata": {
    "collapsed": false
   },
   "outputs": [],
   "source": [
    "# -*- coding:utf-8 -*-\n",
    "\n",
    "import requests\n",
    "import pandas as pd\n",
    "import json\n",
    "import schedule\n",
    "import threading\n",
    "import time\n",
    "import arrow\n",
    "from itertools import combinations\n",
    "import warnings\n",
    "warnings.filterwarnings(\"ignore\")\n",
    "\n",
    "class HighSpeed(object):\n",
    "    def __init__(self,date,from_station,to_station,direction):\n",
    "        self.date = date\n",
    "        self.from_station = from_station\n",
    "        self.to_station = to_station\n",
    "        self.direction = direction\n",
    "\n",
    "    def get_pd(self):\n",
    "        try:\n",
    "            para = 'queryDate=' + self.date + '&from_station=' + self.from_station \\\n",
    "                   +'&to_station=' + self.to_station\n",
    "            r = requests.get('https://kyfw.12306.cn/otn/lcxxcx/query?purpose_codes=ADULT&' + \\\n",
    "                             para, verify=False).text\n",
    "            return r\n",
    "        except:\n",
    "            fl = open('./data/log.txt','a')\n",
    "            fl.write('requests error at ' + str(arrow.now().format('HH:mm'))+ \"\\n\")\n",
    "            fl.close()\n",
    "            print(\"requests error at \"+str(arrow.now().format('HH:mm')))\n",
    "\n",
    "    def to_csv(self):\n",
    "        js = self.get_pd()\n",
    "        try:\n",
    "            js2 = json.loads(js)\n",
    "            data = js2['data']['datas']\n",
    "            df = pd.DataFrame(data)\n",
    "            df_use = df[[u'train_no',\n",
    "                     u'station_train_code',\n",
    "                         u'from_station_name',\n",
    "                         u'to_station_name',\n",
    "                         u'start_time',\n",
    "                         u'swz_num',\n",
    "                         u'tz_num',\n",
    "                         u'zy_num',\n",
    "                         u'ze_num',\n",
    "                         u'wz_num',\n",
    "                         ]]\n",
    "            df_use = df_use[df_use[u'station_train_code'].str.startswith('G') | \\\n",
    "            df_use[u'station_train_code'].str.startswith('D')]\n",
    "            df_use.replace('--',0,inplace=True)\n",
    "            df_use.replace(u'无',0,inplace=True)\n",
    "            tm = arrow.now()\n",
    "            df_use['record_date'] = tm.format('YYYY-MM-DD')\n",
    "            df_use['record_time'] = tm.format('HH:mm')\n",
    "            df_use.to_csv('./data/' + self.direction + \"-\" +self.date + '.csv',mode = 'a', index = False, header = False,encoding='utf-8')\n",
    "        except:\n",
    "            print 'no json data!'\n",
    "        print 'I am working!'\n",
    "\n",
    "    \n",
    "        \n",
    "if __name__ == '__main__':\n",
    "       \n",
    "    def process_hspeed():\n",
    "        date = arrow.now().format('YYYY-MM-DD')    \n",
    "        \n",
    "        hu_ning = ['SHH','KNH','SZH','WXH','CZH','DYH','ZJH','NJH']\n",
    "        com = combinations(hu_ning,2)\n",
    "        for ls_hu_ning in com:\n",
    "            hspeed = HighSpeed(date,ls_hu_ning[0],ls_hu_ning[1],'HuNing')\n",
    "            hspeed.to_csv()\n",
    "    \n",
    "    def process_hspeed2():   \n",
    "        date = arrow.now().format('YYYY-MM-DD')\n",
    "        ning_hu = ['NJH','ZJH','DYH','CZH','WXH','SZH','KNH','SHH']\n",
    "        com = combinations(ning_hu,2)\n",
    "        for ls_ning_hu in com:\n",
    "            hspeed = HighSpeed(date,ls_ning_hu[0],ls_ning_hu[1],'NingHu')\n",
    "            hspeed.to_csv()\n",
    "\n",
    "    def run_threaded(job_func):\n",
    "        job_thread = threading.Thread(target=job_func)\n",
    "        job_thread.start()\n",
    "\n",
    "\n",
    "#     def job():\n",
    "#         print(\"I'm working...\")\n",
    "\n",
    "    schedule.every(1).minutes.do(run_threaded,process_hspeed)\n",
    "    schedule.every(1).minutes.do(run_threaded,process_hspeed2)\n",
    "    # schedule.every().hour.do(job)\n",
    "    # schedule.every().day.at(\"14:09\").do(job)\n",
    "    # schedule.every().monday.do(job)\n",
    "    # schedule.every().wednesday.at(\"13:15\").do(job)\n",
    "\n",
    "    while True:\n",
    "        schedule.run_pending()\n",
    "        time.sleep(1)\n"
   ]
  },
  {
   "cell_type": "code",
   "execution_count": null,
   "metadata": {
    "collapsed": true
   },
   "outputs": [],
   "source": []
  },
  {
   "cell_type": "code",
   "execution_count": null,
   "metadata": {
    "collapsed": true
   },
   "outputs": [],
   "source": []
  }
 ],
 "metadata": {
  "anaconda-cloud": {},
  "kernelspec": {
   "display_name": "Python [Root]",
   "language": "python",
   "name": "Python [Root]"
  },
  "language_info": {
   "codemirror_mode": {
    "name": "ipython",
    "version": 2
   },
   "file_extension": ".py",
   "mimetype": "text/x-python",
   "name": "python",
   "nbconvert_exporter": "python",
   "pygments_lexer": "ipython2",
   "version": "2.7.12"
  }
 },
 "nbformat": 4,
 "nbformat_minor": 1
}
