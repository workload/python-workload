{
 "cells": [
  {
   "cell_type": "markdown",
   "metadata": {},
   "source": [
    "# L06-Jupyter Notebook:LATEX"
   ]
  },
  {
   "cell_type": "code",
   "execution_count": null,
   "metadata": {
    "collapsed": true
   },
   "outputs": [],
   "source": [
    "https://peak5390.wordpress.com/2012/12/08/matplotlib-basemap-tutorial-installing-matplotlib-and-basemap/"
   ]
  },
  {
   "cell_type": "markdown",
   "metadata": {},
   "source": [
    "> __数学公式:__\n",
    "\n",
    "> # $f(x) = \\frac{(x ^ 2a + 2x)}{(1-\\epsilon)}$"
   ]
  },
  {
   "cell_type": "code",
   "execution_count": 9,
   "metadata": {
    "collapsed": false
   },
   "outputs": [
    {
     "data": {
      "text/plain": [
       "0.65698659871878906"
      ]
     },
     "execution_count": 9,
     "metadata": {},
     "output_type": "execute_result"
    }
   ],
   "source": [
    "np.sin(7)"
   ]
  },
  {
   "cell_type": "code",
   "execution_count": 1,
   "metadata": {
    "collapsed": false
   },
   "outputs": [
    {
     "data": {
      "image/png": "[encoded data removed]",
      "text/plain": [
       "<matplotlib.figure.Figure at 0x841d1b0>"
      ]
     },
     "metadata": {},
     "output_type": "display_data"
    }
   ],
   "source": [
    "import matplotlib.pyplot as plt\n",
    "import numpy as np\n",
    "% matplotlib inline\n",
    "plt.figure(figsize=(8,6))\n",
    "plt.plot()\n",
    "plt.xlabel('X axies  $y = x^2 $',fontsize=20)\n",
    "plt.ylabel('some numbers',fontsize=20)\n",
    "plt.grid(True)"
   ]
  },
  {
   "cell_type": "markdown",
   "metadata": {
    "collapsed": true
   },
   "source": [
    "<p style=\"text-align:justify\">LaTeX（LATEX，音译“拉泰赫”）是一种基于ΤΕΧ的排版系统，由美国计算机学家莱斯利·兰伯特（Leslie Lamport）在20世纪80年代初期开发，利用这种格式，即使使用者没有排版和程序设计的知识也可以充分发挥由TeX所提供的强大功能，能在几天，甚至几小时内生成很多具有书籍质量的印刷品。对于生成复杂表格和数学公式，这一点表现得尤为突出。因此它非常适用于生成高印刷质量的科技和数学类文档。这个系统同样适用于生成从简单的信件到完整书籍的所有其他种类的文档。</p>"
   ]
  },
  {
   "cell_type": "markdown",
   "metadata": {},
   "source": [
    "https://stat.duke.edu/resources/computing/latex"
   ]
  },
  {
   "cell_type": "markdown",
   "metadata": {},
   "source": [
    "> __语法简单:__<br>\n",
    "> \n",
    "`$<code>$`"
   ]
  },
  {
   "cell_type": "markdown",
   "metadata": {},
   "source": [
    "普通：$y = x^2$<br>\n",
    "$$y = x^2$$\n",
    "\n",
    "---\n",
    "**Code:**\n",
    "```markdown\n",
    " $y = x^2$ \n",
    " $$y = x^2$$\n",
    "```"
   ]
  },
  {
   "cell_type": "markdown",
   "metadata": {},
   "source": [
    "## （1）基本操作\n",
    "\n",
    "- 加：\n",
    " - $x + y$\n",
    "- 减:\n",
    " - $x - y$\n",
    "- 乘：\n",
    " - $x * y$\n",
    " - $x \\times y$ \n",
    " - $x.y$ \n",
    "- 除：\n",
    " - $x / y$\n",
    " - $x \\div y$\n",
    " - $\\frac{x}{y}$\n",
    "\n",
    "**Code:**\n",
    "\n",
    "```markdown\n",
    "- 加:\n",
    " - $x + y$\n",
    "- 减:\n",
    " - $x - y$\n",
    "- 乘\n",
    " - $x * y$\n",
    " - $x \\times y$ \n",
    " - $x . y$ \n",
    "- 除\n",
    " - $x / y$\n",
    " - $x \\div y$\n",
    " - $\\frac{x}{y}$\n",
    "```"
   ]
  },
  {
   "cell_type": "markdown",
   "metadata": {},
   "source": [
    "## （2）关系符号\n",
    "\n",
    "- $\\pi \\approx 3.14159$\n",
    "- $\\frac{1}{2} \\neq 1$\n",
    "- $0 < x > 1$\n",
    "- $0 \\leq x \\geq 1$\n",
    "\n",
    "**Code:**\n",
    "```\n",
    "- $\\pi \\approx 3.14159$\n",
    "- $\\frac{1}{2} \\neq \\1$\n",
    "- $0 < x > 1$\n",
    "- $0 \\leq x \\geq 1$\n",
    "```"
   ]
  },
  {
   "cell_type": "markdown",
   "metadata": {},
   "source": [
    "## （3）分数\n",
    "\n",
    "- $^1/_2$\n",
    "- $\\frac{1}{2x}$\n",
    "- ${3 \\over 4}$\n",
    "\n",
    "\n",
    "**Code:**\n",
    "```\n",
    "- $^1/_2$\n",
    "- $\\frac{1}{2x}$\n",
    "- ${3 \\over 4}$\n",
    "```"
   ]
  },
  {
   "cell_type": "markdown",
   "metadata": {},
   "source": [
    "## （4）希腊字母\n",
    "\n",
    "| 小写                  | 大写       |                   |\n",
    "| --------------------- | -------------------- | --------------------------- |\n",
    "| $\\alpha$   `\\alpha`   | $A$ `A`              |                             |\n",
    "| $\\beta$   `\\beta`     | $B$ `B`              |                             |\n",
    "| $\\gamma$   `\\gamma`   | $\\Gamma$ `\\Gamma`    |                             |\n",
    "| $\\delta$   `\\delta`   | $\\Delta$ `\\Delta`    |                             |\n",
    "| $\\epsilon$ `\\epsilon` | $E$ `E`              | $\\varepsilon$ `\\varepsilon` |\n",
    "| $\\zeta$   `\\zeta`     | $Z$ `Z`              |                             |\n",
    "| $\\eta$   `\\eta`       | $H$ `H`              |                             |\n",
    "| $\\theta$ `\\theta`     | $\\Theta$ `\\Theta`    | $\\vartheta$ `\\vartheta`     |\n",
    "| $\\iota$   `\\iota`     | $I$ `I`              |                             |\n",
    "| $\\kappa$ `\\kappa`     | $K$ `K`              | $\\varkappa$ `\\varkappa`     |\n",
    "| $\\lambda$   `\\lambda` | $\\Lambda$ `\\Lambda`  |                             |\n",
    "| $\\mu$   `\\mu`         | $M$ `M`              |                             |\n",
    "| $\\nu$   `\\nu`         | $N$ `N`              |                             |\n",
    "| $\\xi$   `\\xi`         | $Xi$ `\\Xi`           |                             |\n",
    "| $\\omicron$ `\\omicron` | $O$ `O`              |                             |\n",
    "| $\\pi$ `\\pi`           | $\\Pi$ `\\Pi`          | $\\varpi$ `\\varpi`           |\n",
    "| $\\rho$ `\\rho`         | $P$ `P`              | $\\varrho$ `\\varrho`         |\n",
    "| $\\sigma$ `\\sigma`     | $\\Sigma$ `\\Sigma`    | $\\varsigma$ `\\varsigma`     |\n",
    "| $\\tau$   `\\tau`       | $T$ `T`              |                             |\n",
    "| $\\upsilon$ `\\upsilon` | $\\Upsilon$ `\\Upsilon`|                             |\n",
    "| $\\phi$ `\\phi`         | $\\Phi$ `\\Phi`        | $\\varphi$ `\\varphi`         |\n",
    "| $\\chi$   `\\chi`       | $X$ `X`              |                             |\n",
    "| $\\psi$ `\\psi`         | $\\Psi$ `\\Psi`        |                             |\n",
    "| $\\omega$   `\\omega`   | $\\Omega$ `\\Omega`    |                             |"
   ]
  },
  {
   "cell_type": "markdown",
   "metadata": {},
   "source": [
    "## （5）上标与下标\n",
    "\n",
    "次方 `^` 符号.如果有多个，需要用 `{}`.\n",
    "\n",
    "> $f(x) = x^2 - x^{1 \\over \\pi}$\n",
    "\n",
    "下标，直接用 `_` :\n",
    "\n",
    "> $f(X,n) = X_n + X_{n-1}$\n",
    "\n",
    "**Code:**\n",
    "```markdown\n",
    "$f(x) = x^2 - x^{1 \\over \\pi}$\n",
    "$f(X,n) = X_n + X_{n-1}$\n",
    "\n",
    "```"
   ]
  },
  {
   "cell_type": "markdown",
   "metadata": {},
   "source": [
    "## （6）根号与log\n",
    "\n",
    "使用 `\\sqrt`，开 `n` 次根用 `\\sqrt[n]` \n",
    "\n",
    "> $f(x) = \\sqrt[3]{2x} + \\sqrt{x-2}$\n",
    "\n",
    "**Code:**\n",
    "```markdown\n",
    "$f(x) = \\sqrt[3]{2x} + \\sqrt{x-2}$\n",
    "```\n",
    "使用`log_a`.\n",
    "\n",
    "> $ log_ax = 1$\n",
    "\n",
    "**Code:**\n",
    "```markdown\n",
    "$ log_ax = 1$\n",
    "```"
   ]
  },
  {
   "cell_type": "markdown",
   "metadata": {},
   "source": [
    "## （7）求和与求积运算（Sums & Products）\n",
    "\n",
    "求和： `\\sum\\limits_{a}^{b}`,`sigma`.\n",
    "\n",
    "> $\\sum\\limits_{x=1}^{\\infty} {1 \\over x} = 2$\n",
    "\n",
    "求积： `\\prod\\limits_{a}^{a}`,`Pi`.\n",
    "\n",
    "> $\\prod\\limits_{i=1}^{n} x_i - 1$\n",
    "\n",
    "**Code:**\n",
    "```\n",
    "$\\sum\\limits_{x=1}^{\\infty} {1 \\over x} = 2$\n",
    "$\\sum\\limits_{x=1}^{\\infty} \\frac{1} {x} = 2$\n",
    "\n",
    "$\\prod\\limits_{i=1}^{n} x_i - 1$\n",
    "```"
   ]
  },
  {
   "cell_type": "markdown",
   "metadata": {},
   "source": [
    "## （8）统计\n",
    "\n",
    "表示最大值:\n",
    "\n",
    "> $max(S) = \\max\\limits_{i: S_i \\in S} S_i$\n",
    "\n",
    "最小值:\n",
    "\n",
    "> $min(S) = \\min\\limits_{i: S_i \\in S} S_i$\n",
    "\n",
    "二项式分布:\n",
    "\n",
    "> $\\frac{n!}{k!(n-k)!} = {n \\choose k}$\n",
    "\n",
    "\n",
    "**Code:**\n",
    "```\n",
    "$max(S) = \\max\\limits_{i: S_i \\in S} S_i$\n",
    "$min(S) = \\min\\limits_{i: S_i \\in S} S_i$\n",
    "$\\frac{n!}{k!(n-k)!} = {n \\choose k}$\n",
    "```"
   ]
  },
  {
   "cell_type": "markdown",
   "metadata": {},
   "source": [
    "$max(S) = \\max\\limits_{i: S_i \\in S} S_i$"
   ]
  },
  {
   "cell_type": "markdown",
   "metadata": {},
   "source": [
    "## （8）极限与积分\n",
    "\n",
    "极限： `\\lim\\limits_{x \\to a}` .\n",
    "\n",
    "> $\\lim\\limits_{x \\to 0^+} {1 \\over 0} = \\infty$\n",
    "\n",
    "积分（`integral`）： `\\int\\limits_{a}^{b}`。实数区间，`[a,b]`.\n",
    "\n",
    "$$\\int\\limits_a^b 2x \\, dx$$\n",
    "\n",
    "\n",
    "**Code:**\n",
    "```markdown\n",
    "$\\lim\\limits_{x \\to 0^+} {1 \\over 0} = \\inf$\n",
    "$\\int\\limits_a^b 2x \\, dx$\n",
    "```"
   ]
  },
  {
   "cell_type": "code",
   "execution_count": null,
   "metadata": {
    "collapsed": true
   },
   "outputs": [],
   "source": []
  }
 ],
 "metadata": {
  "anaconda-cloud": {},
  "kernelspec": {
   "display_name": "Python [Root]",
   "language": "python",
   "name": "Python [Root]"
  },
  "language_info": {
   "codemirror_mode": {
    "name": "ipython",
    "version": 2
   },
   "file_extension": ".py",
   "mimetype": "text/x-python",
   "name": "python",
   "nbconvert_exporter": "python",
   "pygments_lexer": "ipython2",
   "version": "2.7.12"
  }
 },
 "nbformat": 4,
 "nbformat_minor": 1
}
