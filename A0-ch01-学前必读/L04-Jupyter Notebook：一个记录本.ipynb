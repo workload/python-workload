{
 "cells": [
  {
   "cell_type": "markdown",
   "metadata": {},
   "source": [
    "# L04-Jupyter Notebook:基本操作"
   ]
  },
  {
   "cell_type": "markdown",
   "metadata": {},
   "source": [
    "## 1. notebook 界面由以下部分组成：\n",
    "\n",
    "- 1.notebook 的名称\n",
    "- 2.主工具栏，提供了保存、导出、重载 notebook，以及重启内核等选项\n",
    "- 3.快捷键\n",
    "- 4.notebook 主要区域，包含了 notebook 的内容编辑区"
   ]
  },
  {
   "cell_type": "markdown",
   "metadata": {},
   "source": [
    " - 下方的主要区域，由被称为单元格的部分组成。每个 notebook 由多个单元格构成，而每个单元格又可以有不同的用途。\n",
    "\n",
    " - 下方截图中看到的是一个代码单元格（code cell），以 [ ] 开头。在这种类型的单元格中，可以输入任意代码并执行。例如，输入 1 + 2 并按下 Shift + Enter 。之后，单元格中的代码就会被计算，光标也会被移动动一个新的单元格中。你会得到如下结果："
   ]
  },
  {
   "cell_type": "code",
   "execution_count": null,
   "metadata": {
    "collapsed": true
   },
   "outputs": [],
   "source": []
  }
 ],
 "metadata": {
  "anaconda-cloud": {},
  "kernelspec": {
   "display_name": "Python [Root]",
   "language": "python",
   "name": "Python [Root]"
  },
  "language_info": {
   "codemirror_mode": {
    "name": "ipython",
    "version": 2
   },
   "file_extension": ".py",
   "mimetype": "text/x-python",
   "name": "python",
   "nbconvert_exporter": "python",
   "pygments_lexer": "ipython2",
   "version": "2.7.12"
  }
 },
 "nbformat": 4,
 "nbformat_minor": 1
}
