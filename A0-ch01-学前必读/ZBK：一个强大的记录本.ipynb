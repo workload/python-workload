{
 "cells": [
  {
   "cell_type": "code",
   "execution_count": 1,
   "metadata": {
    "collapsed": false
   },
   "outputs": [
    {
     "data": {
      "text/plain": [
       "u'JSONP_LOADER&&JSONP_LOADER([[\"\\u91cd\\u5e86\",220497,0.000,0.280,0.720],[\"\\u4e0a\\u6d77\",218489,0.140,0.430,0.430],[\"\\u5eca\\u574a\",109464,0.550,0.450,0.000],[\"\\u957f\\u6c99\",105294,0.000,0.580,0.420],[\"\\u6b66\\u6c49\",95669,0.120,0.660,0.220],[\"\\u676d\\u5dde\",92648,0.140,0.480,0.380],[\"\\u5357\\u4eac\",59889,0.110,0.790,0.100],[\"\\u4fdd\\u5b9a\",56816,0.380,0.620,0.000],[\"\\u5929\\u6d25\",50732,0.310,0.690,0.000],[\"\\u54c8\\u5c14\\u6ee8\",48184,0.130,0.390,0.480],])'"
      ]
     },
     "execution_count": 1,
     "metadata": {},
     "output_type": "execute_result"
    }
   ],
   "source": [
    "import requests\n",
    "\n",
    "url = 'https://lbs.gtimg.com/maplbs/qianxi/00000000/11000016.js?callback=JSONP_LOADER&_='\n",
    "res = requests.get(url).text\n",
    "res"
   ]
  },
  {
   "cell_type": "code",
   "execution_count": 4,
   "metadata": {
    "collapsed": false
   },
   "outputs": [
    {
     "ename": "ValueError",
     "evalue": "Unmatched ''\"' when when decoding 'string'",
     "output_type": "error",
     "traceback": [
      "\u001b[0;31m---------------------------------------------------------------------------\u001b[0m",
      "\u001b[0;31mValueError\u001b[0m                                Traceback (most recent call last)",
      "\u001b[0;32m<ipython-input-4-2a73a738b8c2>\u001b[0m in \u001b[0;36m<module>\u001b[0;34m()\u001b[0m\n\u001b[0;32m----> 1\u001b[0;31m \u001b[0mpd\u001b[0m\u001b[1;33m.\u001b[0m\u001b[0mread_json\u001b[0m\u001b[1;33m(\u001b[0m\u001b[1;34m'C:/gis-data/fang_all.json'\u001b[0m\u001b[1;33m)\u001b[0m\u001b[1;33m\u001b[0m\u001b[0m\n\u001b[0m",
      "\u001b[0;32mC:\\Users\\workload\\Anaconda2\\lib\\site-packages\\pandas\\io\\json.py\u001b[0m in \u001b[0;36mread_json\u001b[0;34m(path_or_buf, orient, typ, dtype, convert_axes, convert_dates, keep_default_dates, numpy, precise_float, date_unit)\u001b[0m\n\u001b[1;32m    209\u001b[0m         obj = FrameParser(json, orient, dtype, convert_axes, convert_dates,\n\u001b[1;32m    210\u001b[0m                           \u001b[0mkeep_default_dates\u001b[0m\u001b[1;33m,\u001b[0m \u001b[0mnumpy\u001b[0m\u001b[1;33m,\u001b[0m \u001b[0mprecise_float\u001b[0m\u001b[1;33m,\u001b[0m\u001b[1;33m\u001b[0m\u001b[0m\n\u001b[0;32m--> 211\u001b[0;31m                           date_unit).parse()\n\u001b[0m\u001b[1;32m    212\u001b[0m \u001b[1;33m\u001b[0m\u001b[0m\n\u001b[1;32m    213\u001b[0m     \u001b[1;32mif\u001b[0m \u001b[0mtyp\u001b[0m \u001b[1;33m==\u001b[0m \u001b[1;34m'series'\u001b[0m \u001b[1;32mor\u001b[0m \u001b[0mobj\u001b[0m \u001b[1;32mis\u001b[0m \u001b[0mNone\u001b[0m\u001b[1;33m:\u001b[0m\u001b[1;33m\u001b[0m\u001b[0m\n",
      "\u001b[0;32mC:\\Users\\workload\\Anaconda2\\lib\\site-packages\\pandas\\io\\json.py\u001b[0m in \u001b[0;36mparse\u001b[0;34m(self)\u001b[0m\n\u001b[1;32m    277\u001b[0m \u001b[1;33m\u001b[0m\u001b[0m\n\u001b[1;32m    278\u001b[0m         \u001b[1;32melse\u001b[0m\u001b[1;33m:\u001b[0m\u001b[1;33m\u001b[0m\u001b[0m\n\u001b[0;32m--> 279\u001b[0;31m             \u001b[0mself\u001b[0m\u001b[1;33m.\u001b[0m\u001b[0m_parse_no_numpy\u001b[0m\u001b[1;33m(\u001b[0m\u001b[1;33m)\u001b[0m\u001b[1;33m\u001b[0m\u001b[0m\n\u001b[0m\u001b[1;32m    280\u001b[0m \u001b[1;33m\u001b[0m\u001b[0m\n\u001b[1;32m    281\u001b[0m         \u001b[1;32mif\u001b[0m \u001b[0mself\u001b[0m\u001b[1;33m.\u001b[0m\u001b[0mobj\u001b[0m \u001b[1;32mis\u001b[0m \u001b[0mNone\u001b[0m\u001b[1;33m:\u001b[0m\u001b[1;33m\u001b[0m\u001b[0m\n",
      "\u001b[0;32mC:\\Users\\workload\\Anaconda2\\lib\\site-packages\\pandas\\io\\json.py\u001b[0m in \u001b[0;36m_parse_no_numpy\u001b[0;34m(self)\u001b[0m\n\u001b[1;32m    494\u001b[0m         \u001b[1;32mif\u001b[0m \u001b[0morient\u001b[0m \u001b[1;33m==\u001b[0m \u001b[1;34m\"columns\"\u001b[0m\u001b[1;33m:\u001b[0m\u001b[1;33m\u001b[0m\u001b[0m\n\u001b[1;32m    495\u001b[0m             self.obj = DataFrame(\n\u001b[0;32m--> 496\u001b[0;31m                 loads(json, precise_float=self.precise_float), dtype=None)\n\u001b[0m\u001b[1;32m    497\u001b[0m         \u001b[1;32melif\u001b[0m \u001b[0morient\u001b[0m \u001b[1;33m==\u001b[0m \u001b[1;34m\"split\"\u001b[0m\u001b[1;33m:\u001b[0m\u001b[1;33m\u001b[0m\u001b[0m\n\u001b[1;32m    498\u001b[0m             decoded = dict((str(k), v)\n",
      "\u001b[0;31mValueError\u001b[0m: Unmatched ''\"' when when decoding 'string'"
     ]
    }
   ],
   "source": [
    "pd.read_json('C:/gis-data/fang_all.json')"
   ]
  },
  {
   "cell_type": "code",
   "execution_count": null,
   "metadata": {
    "collapsed": true
   },
   "outputs": [],
   "source": []
  },
  {
   "cell_type": "code",
   "execution_count": null,
   "metadata": {
    "collapsed": true
   },
   "outputs": [],
   "source": []
  },
  {
   "cell_type": "code",
   "execution_count": null,
   "metadata": {
    "collapsed": true
   },
   "outputs": [],
   "source": []
  },
  {
   "cell_type": "markdown",
   "metadata": {},
   "source": [
    "# L04-Jupyter Notebook:基本操作"
   ]
  },
  {
   "cell_type": "markdown",
   "metadata": {},
   "source": [
    "## 1. notebook 界面由以下部分组成：\n",
    "\n",
    "- 1.notebook 的名称\n",
    "- 2.主工具栏，提供了保存、导出、重载 notebook，以及重启内核等选项\n",
    "- 3.快捷键\n",
    "- 4.notebook 主要区域，包含了 notebook 的内容编辑区"
   ]
  },
  {
   "cell_type": "markdown",
   "metadata": {},
   "source": [
    " - 下方的主要区域，由被称为单元格的部分组成。每个 notebook 由多个单元格构成，而每个单元格又可以有不同的用途。\n",
    "\n",
    " - 下方截图中看到的是一个代码单元格（code cell），以 [ ] 开头。在这种类型的单元格中，可以输入任意代码并执行。例如，输入 1 + 2 并按下 Shift + Enter 。之后，单元格中的代码就会被计算，光标也会被移动动一个新的单元格中。你会得到如下结果："
   ]
  },
  {
   "cell_type": "markdown",
   "metadata": {},
   "source": [
    "# L05-Jupyter Notebook:Markdown\n",
    "Markdown是一种可以使用普通文本编辑器编写的标记语言，通过简单的标记语法，它可以使普通文本内容具有一定的格式。\n",
    "\n",
    "\n",
    ">用途：Markdown的语法简洁明了、学习容易，而且功能比纯文本更强，因此有很多人用它写博客。世界上最流行的博客平台WordPress和大型CMS如Joomla、Drupal都能很好的支持Markdown。完全采用Markdown编辑器的博客平台有Ghost和Typecho。\n",
    "\n",
    ">用于编写说明文档，并且以“README.MD”的文件名保存在软件的目录下面。\n",
    "\n",
    ">除此之外，现在由于我们有了RStudio这样的神级编辑器，我们还可以快速将Markdown转化为演讲PPT、Word产品文档、LaTex论文甚至是用非常少量的代码完成最小可用原型。在数据科学领域，Markdown已经被确立为科学研究规范，极大地推进了动态可重复性研究的历史进程。\n",
    "\n",
    "\n",
    "介绍Markdown语法：<br>\n",
    "http://blog.leanote.com/post/freewalk/Markdown-%E8%AF%AD%E6%B3%95%E6%89%8B%E5%86%8C"
   ]
  },
  {
   "cell_type": "markdown",
   "metadata": {},
   "source": [
    "## （1）标题字号\n",
    "##Headings 支持6种字号"
   ]
  },
  {
   "cell_type": "markdown",
   "metadata": {},
   "source": [
    "# H1\n",
    "## H2\n",
    "### H3\n",
    "#### H4\n",
    "##### H5\n",
    "###### H6"
   ]
  },
  {
   "cell_type": "markdown",
   "metadata": {},
   "source": [
    "## （2）字体样式\n",
    "\n",
    "### 加粗\n",
    "\n",
    "**Bold Font** or __Bold Font__\n",
    "\n",
    "```markdown\n",
    "**Bold Font** or __Bold Font__\n",
    "```\n",
    "\n",
    "\n",
    "### 倾斜\n",
    "\n",
    "*Italic* or _Italic Font_\n",
    "\n",
    "```markdown\n",
    "*Italic* or _Italic Font_\n",
    "```\n",
    "\n",
    "\n",
    "### 删除\n",
    "\n",
    "~~Scratched Text~~\n",
    "```markdown\n",
    "~~Scratched Text~~\n",
    "```\n",
    "\n",
    "Markdown doesn't support underline. but you can do that using HTML <u>Text</u>\n",
    "\n",
    "```markdown\n",
    "Markdown doesn't support underline. but you can do that using HTML <u>Text</u>\n",
    "```"
   ]
  },
  {
   "cell_type": "markdown",
   "metadata": {},
   "source": [
    "## （3）项目符合于项目编号"
   ]
  },
  {
   "cell_type": "markdown",
   "metadata": {},
   "source": [
    "- ** 章节1 学前准备 **\n",
    " - 课时1\t效率利器：一个演示\n",
    " - 课时2\t课程介绍：这门课你将学到什么？\n",
    " - 课时3\t环境搭配：三分钟搭建定量城市研究环境\n",
    " - 课时4\tJupyter Notebook：一个强大的记录本\n",
    "- ** 章节2 python基础 **\n",
    " - 课时5\t内容提要：Python基础学习框架\n",
    " - 课时6\t基本规则：Python代码编写规则\n",
    " - 课时7\t组成框架：Python代码都由那些内容组成？\n",
    "   - dfdsf"
   ]
  },
  {
   "cell_type": "markdown",
   "metadata": {},
   "source": [
    "1. ** 章节1\t学前准备 **\n",
    " 1. 课时1\t效率利器：一个演示\n",
    " 2. 课时2\t课程介绍：这门课你将学到什么？\n",
    " 3. 课时3\t环境搭配：三分钟搭建定量城市研究环境\n",
    " 4. 课时4\tJupyter Notebook：一个强大的记录本\n",
    "2. ** 章节2\tpython基础 **\n",
    " 1. 课时5\t内容提要：Python基础学习框架\n",
    " 2. 课时6\t基本规则：Python代码编写规则\n",
    " 3. 课时7\t组成框架：Python代码都由那些内容组成？"
   ]
  },
  {
   "cell_type": "markdown",
   "metadata": {},
   "source": [
    "**Code:**\n",
    "```markdown\n",
    "- item\n",
    "- item\n",
    " - subitem\n",
    " - subitem\n",
    "- item\n",
    "\n",
    "\n",
    "1. item\n",
    "2. item\n",
    " 1. sub item\n",
    " 2. sub item\n",
    "3. item\n",
    "```"
   ]
  },
  {
   "cell_type": "markdown",
   "metadata": {},
   "source": [
    "## （4）网页链接\n",
    "\n",
    "http://www.qq.com/\n",
    "\n",
    "[腾讯](http://www.qq.com/)\n",
    "\n",
    "\n",
    "**Code:**\n",
    "```\n",
    "http://www.qq.com/\n",
    "\n",
    "[腾讯](http://www.qq.com/)\n",
    "```"
   ]
  },
  {
   "cell_type": "markdown",
   "metadata": {},
   "source": [
    "## （5）图片\n",
    "\n",
    "![](http://www.planning.org.cn/2016anpc/images/tici_1.jpg \"中国城市规划学会\")\n",
    "\n",
    "**Code:**\n",
    "```markdown\n",
    "![](http://www.planning.org.cn/2016anpc/images/tici_1.jpg \"中国城市规划学会\")\n",
    "```"
   ]
  },
  {
   "cell_type": "markdown",
   "metadata": {},
   "source": [
    "## （6）引用\n",
    "\n",
    "> ## 南宁市城市总体规划\n",
    "\n",
    "> 所在地区：广西 南宁市<br>\n",
    "> 编制单位：福州规划院、清华同衡<br>\n",
    "> 编制时间：2011-10<br>\n",
    "> 委托单位：南宁市规划管理局<br>\n",
    "> 获奖信息：2013年度全国优秀城乡规划设计奖（城市规划类）三等奖<br>\n",
    "\n",
    "**Code:**\n",
    "```markdown\n",
    "> ##南宁市城市总体规划\n",
    "> 所在地区：广西 南宁市<br>\n",
    "> 编制单位：福州规划院、清华同衡<br>\n",
    "> 编制时间：2011-10<br>\n",
    "> 委托单位：南宁市规划管理局<br>\n",
    "> 获奖信息：2013年度全国优秀城乡规划设计奖（城市规划类）三等奖<br>\n",
    "```"
   ]
  },
  {
   "cell_type": "markdown",
   "metadata": {},
   "source": [
    "## （7）水平线\n",
    "\n",
    "---\n",
    "\n",
    "**Code:**\n",
    "```markdown\n",
    "---\n",
    "```"
   ]
  },
  {
   "cell_type": "markdown",
   "metadata": {},
   "source": [
    "## （8）表格\n",
    "\n",
    "| 城市   | 2014年常住人口（万人） | 2014年城区面积（平方千米） |\n",
    "| -----------|:-------------:|:-----:|\n",
    "| 北京          | 2000 |  1600 |\n",
    "| 上海      | 2000      |    1002 |\n",
    "| 成都      | 200      |     100 |\n",
    "| 南京      | 200     |     2000 |\n",
    "\n",
    "**Code:**\n",
    "\n",
    "```\n",
    "| 城市   | 2014年常住人口（万人） | 2014年城区面积（平方千米） |\n",
    "| -----------|:-------------:|:-----:|\n",
    "| 北京          | 2000 |  1600 |\n",
    "| 上海      | 2000      |    1002 |\n",
    "| 成都      | 200      |     100 |\n",
    "| 南京      | 200     |     2000 |\n",
    "\n",
    "```"
   ]
  },
  {
   "cell_type": "markdown",
   "metadata": {},
   "source": [
    "## （9）HTML\n",
    "\n",
    "\n",
    "\n",
    "<b>《江苏省城镇体系规划（2001－2020）》</b>获得了<b><span style=\"color:red;\">2001年全国优秀城乡规划设计一等奖、第十届全国优秀工程设计银奖</span></b>。规划提出的城镇发展方针，城镇空间布局等，成为过去十年全省城镇化总体方针政策和省域空间基本政策。规划实施以来，<u>有效促进了城镇布局优化和资源集约利用，指导了江苏都市圈规划编制和全省城镇总体规划修编，在重大区域设施布局、解决“市县同城”问题、全省乡镇布局调整等方面也发挥了积极促进作用</u>。\n",
    "\n",
    "**Code:**\n",
    "\n",
    "```\n",
    "<b>《江苏省城镇体系规划（2001－2020）》</b>获得了<b><span style=\"color:red;\">2001年全国优秀城乡规划设计一等奖、第十届全国优秀工程设计银奖</span></b>。规划提出的城镇发展方针，城镇空间布局等，成为过去十年全省城镇化总体方针政策和省域空间基本政策。规划实施以来，<u>有效促进了城镇布局优化和资源集约利用，指导了江苏都市圈规划编制和全省城镇总体规划修编，在重大区域设施布局、解决“市县同城”问题、全省乡镇布局调整等方面也发挥了积极促进作用</u>。\n",
    "```\n",
    "\n"
   ]
  },
  {
   "cell_type": "markdown",
   "metadata": {},
   "source": [
    "## （10）编写代码\n",
    "\n",
    "你需要导入  `numpy`  模块，使用代码 `import numpy as np`\n",
    "\n",
    "```\n",
    "你需要导入  `numpy`  模块，使用代码 `import numpy as np`\n",
    "```\n",
    "\n",
    "---\n",
    "\n",
    "代码如下:\n",
    "```python\n",
    "x = 5\n",
    "print \"%.2f\" % x\n",
    "```\n",
    "**Code:**\n",
    "\n",
    "代码如下:\n",
    "```python\n",
    "x = 5\n",
    "print \"%.2f\" % x\n",
    "```\n",
    "\n"
   ]
  },
  {
   "cell_type": "markdown",
   "metadata": {},
   "source": [
    "# L06-Jupyter Notebook:LATEX"
   ]
  },
  {
   "cell_type": "markdown",
   "metadata": {},
   "source": [
    "> __数学公式:__\n",
    "\n",
    "> # $f(x) = \\frac{(x ^ 2 + 2x)}{(1-\\epsilon)}$"
   ]
  },
  {
   "cell_type": "markdown",
   "metadata": {},
   "source": [
    "![Turing's Device](http://photocdn.sohu.com/20151215/mp48533385_1450146377790_1_th.jpeg)"
   ]
  },
  {
   "cell_type": "code",
   "execution_count": null,
   "metadata": {
    "collapsed": true
   },
   "outputs": [],
   "source": [
    "ipython nbconvert your_slides.ipynb --to slides"
   ]
  },
  {
   "cell_type": "code",
   "execution_count": 3,
   "metadata": {
    "collapsed": false
   },
   "outputs": [
    {
     "data": {
      "image/png": "[encoded data removed]",
      "text/plain": [
       "<matplotlib.figure.Figure at 0x6569e10>"
      ]
     },
     "metadata": {},
     "output_type": "display_data"
    }
   ],
   "source": [
    "import matplotlib.pyplot as plt\n",
    "% matplotlib inline\n",
    "plt.plot([0,1,4,9,16,25,36,49])\n",
    "plt.xlabel('X axies  $f(x) = x^2 $')\n",
    "plt.ylabel('some numbers')\n",
    "plt.grid(True)"
   ]
  },
  {
   "cell_type": "markdown",
   "metadata": {
    "collapsed": true
   },
   "source": [
    "LaTeX（LATEX，音译“拉泰赫”）是一种基于ΤΕΧ的排版系统，由美国计算机学家莱斯利·兰伯特（Leslie Lamport）在20世纪80年代初期开发，利用这种格式，即使使用者没有排版和程序设计的知识也可以充分发挥由TeX所提供的强大功能，能在几天，甚至几小时内生成很多具有书籍质量的印刷品。对于生成复杂表格和数学公式，这一点表现得尤为突出。因此它非常适用于生成高印刷质量的科技和数学类文档。这个系统同样适用于生成从简单的信件到完整书籍的所有其他种类的文档。"
   ]
  },
  {
   "cell_type": "markdown",
   "metadata": {},
   "source": [
    "\\begin{figure} \n",
    "  \\captionstyle{flushleft} \n",
    "　\\onelinecaptionsfalse\n",
    "  \\centering \n",
    "  \\includegraphics[width=2.5in]{graphic.eps} \n",
    "  \\caption{Second Caption}\n",
    "\\end{figure}"
   ]
  },
  {
   "cell_type": "markdown",
   "metadata": {},
   "source": [
    "https://stat.duke.edu/resources/computing/latex"
   ]
  },
  {
   "cell_type": "markdown",
   "metadata": {},
   "source": [
    "> __语法简单:__<br>\n",
    "> \n",
    "`$<code>$`"
   ]
  },
  {
   "cell_type": "markdown",
   "metadata": {},
   "source": [
    "普通：$y = x^2$<br>\n",
    "$$y = x^2$$\n",
    "\n",
    "---\n",
    "**Code:**\n",
    "```markdown\n",
    " $y = x^2$ \n",
    " $$y = x^2$$\n",
    "```"
   ]
  },
  {
   "cell_type": "markdown",
   "metadata": {},
   "source": [
    "## （1）基本操作\n",
    "\n",
    "- 加：\n",
    " - $x + y$\n",
    "- 减:\n",
    " - $x - y$\n",
    "- 乘：\n",
    " - $x * y$\n",
    " - $x \\times y$ \n",
    " - $x.y$ \n",
    "- 除：\n",
    " - $x / y$\n",
    " - $x \\div y$\n",
    " - $\\frac{x}{y}$\n",
    "\n",
    "**Code:**\n",
    "\n",
    "```markdown\n",
    "- 加:\n",
    " - $x + y$\n",
    "- 减:\n",
    " - $x - y$\n",
    "- 乘\n",
    " - $x * y$\n",
    " - $x \\times y$ \n",
    " - $x . y$ \n",
    "- 除\n",
    " - $x / y$\n",
    " - $x \\div y$\n",
    " - $\\frac{x}{y}$\n",
    "```"
   ]
  },
  {
   "cell_type": "markdown",
   "metadata": {},
   "source": [
    "## （2）关系符号\n",
    "\n",
    "- $\\pi \\approx 3.14159$\n",
    "- $\\frac{1}{2} \\neq 1$\n",
    "- $0 < x > 1$\n",
    "- $0 \\leq x \\geq 1$\n",
    "\n",
    "**Code:**\n",
    "```\n",
    "- $\\pi \\approx 3.14159$\n",
    "- $\\frac{1}{2} \\neq \\1$\n",
    "- $0 < x > 1$\n",
    "- $0 \\leq x \\geq 1$\n",
    "```"
   ]
  },
  {
   "cell_type": "markdown",
   "metadata": {},
   "source": [
    "## （3）分数\n",
    "\n",
    "- $^1/_2$\n",
    "- $\\frac{1}{2x}$\n",
    "- ${3 \\over 4}$\n",
    "\n",
    "\n",
    "**Code:**\n",
    "```\n",
    "- $^1/_2$\n",
    "- $\\frac{1}{2x}$\n",
    "- ${3 \\over 4}$\n",
    "```"
   ]
  },
  {
   "cell_type": "markdown",
   "metadata": {},
   "source": [
    "## （4）希腊字母\n",
    "\n",
    "| 小写                  | 大写       |                   |\n",
    "| --------------------- | -------------------- | --------------------------- |\n",
    "| $\\alpha$   `\\alpha`   | $A$ `A`              |                             |\n",
    "| $\\beta$   `\\beta`     | $B$ `B`              |                             |\n",
    "| $\\gamma$   `\\gamma`   | $\\Gamma$ `\\Gamma`    |                             |\n",
    "| $\\delta$   `\\delta`   | $\\Delta$ `\\Delta`    |                             |\n",
    "| $\\epsilon$ `\\epsilon` | $E$ `E`              | $\\varepsilon$ `\\varepsilon` |\n",
    "| $\\zeta$   `\\zeta`     | $Z$ `Z`              |                             |\n",
    "| $\\eta$   `\\eta`       | $H$ `H`              |                             |\n",
    "| $\\theta$ `\\theta`     | $\\Theta$ `\\Theta`    | $\\vartheta$ `\\vartheta`     |\n",
    "| $\\iota$   `\\zeta`     | $I$ `I`              |                             |\n",
    "| $\\kappa$ `\\kappa`     | $K$ `K`              | $\\varkappa$ `\\varkappa`     |\n",
    "| $\\lambda$   `\\lambda` | $\\Lambda$ `\\Lambda`  |                             |\n",
    "| $\\mu$   `\\mu`         | $M$ `M`              |                             |\n",
    "| $\\nu$   `\\nu`         | $N$ `N`              |                             |\n",
    "| $\\xi$   `\\xi`         | $Xi$ `\\Xi`           |                             |\n",
    "| $\\omicron$ `\\omicron` | $O$ `O`              |                             |\n",
    "| $\\pi$ `\\pi`           | $\\Pi$ `\\Pi`          | $\\varpi$ `\\varpi`           |\n",
    "| $\\rho$ `\\rho`         | $P$ `P`              | $\\varrho$ `\\varrho`         |\n",
    "| $\\sigma$ `\\sigma`     | $\\Sigma$ `\\Sigma`    | $\\varsigma$ `\\varsigma`     |\n",
    "| $\\tau$   `\\tau`       | $T$ `T`              |                             |\n",
    "| $\\upsilon$ `\\upsilon` | $\\Upsilon$ `\\Upsilon`|                             |\n",
    "| $\\phi$ `\\phi`         | $\\Phi$ `\\Phi`        | $\\varphi$ `\\varphi`         |\n",
    "| $\\chi$   `\\chi`       | $X$ `X`              |                             |\n",
    "| $\\psi$ `\\psi`         | $\\Psi$ `\\Psi`        |                             |\n",
    "| $\\omega$   `\\omega`   | $\\Omega$ `\\Omega`    |                             |"
   ]
  },
  {
   "cell_type": "markdown",
   "metadata": {},
   "source": [
    "## （5）上标与下标\n",
    "\n",
    "次方 `^` 符号.如果有多个，需要用 `{}`.\n",
    "\n",
    "> $f(x) = x^2 - x^{1 \\over \\pi}$\n",
    "\n",
    "下标，直接用 `_` :\n",
    "\n",
    "> $f(X,n) = X_n + X_{n-1}$\n",
    "\n",
    "**Code:**\n",
    "```markdown\n",
    "$f(x) = x^2 - x^{1 \\over \\pi}$\n",
    "$f(X,n) = X_n + X_{n-1}$\n",
    "\n",
    "```"
   ]
  },
  {
   "cell_type": "markdown",
   "metadata": {},
   "source": [
    "## （6）根号与log\n",
    "\n",
    "使用 `\\sqrt`，开 `n` 次根用 `\\sqrt[n]` \n",
    "\n",
    "> $f(x) = \\sqrt[3]{2x} + \\sqrt{x-2}$\n",
    "\n",
    "**Code:**\n",
    "```markdown\n",
    "$f(x) = \\sqrt[3]{2x} + \\sqrt{x-2}$\n",
    "```\n",
    "使用`log_a`.\n",
    "\n",
    "> $ log_ax = 1$\n",
    "\n",
    "**Code:**\n",
    "```markdown\n",
    "$ log_ax = 1$\n",
    "```"
   ]
  },
  {
   "cell_type": "markdown",
   "metadata": {},
   "source": [
    "## （7）求和与求积运算（Sums & Products）\n",
    "\n",
    "求和： `\\sum\\limits_{a}^{b}`,`sigma`.\n",
    "\n",
    "> $\\sum\\limits_{x=1}^{\\infty} {1 \\over x} = 2$\n",
    "\n",
    "求积： `\\prod\\limits_{a}^{a}`,`Pi`.\n",
    "\n",
    "> $\\prod\\limits_{i=1}^{n} x_i - 1$\n",
    "\n",
    "**Code:**\n",
    "```\n",
    "$\\sum\\limits_{x=1}^{\\infty} {1 \\over x} = 2$\n",
    "$\\sum\\limits_{x=1}^{\\infty} \\frac{1} {x} = 2$\n",
    "\n",
    "$\\prod\\limits_{i=1}^{n} x_i - 1$\n",
    "```"
   ]
  },
  {
   "cell_type": "markdown",
   "metadata": {},
   "source": [
    "## （8）统计\n",
    "\n",
    "表示最大值:\n",
    "\n",
    "> $max(S) = \\max\\limits_{i: S_i \\in S} S_i$\n",
    "\n",
    "最小值:\n",
    "\n",
    "> $min(S) = \\min\\limits_{i: S_i \\in S} S_i$\n",
    "\n",
    "二项式分布:\n",
    "\n",
    "> # $\\frac{n!}{k!(n-k)!} = {n \\choose k}$\n",
    "\n",
    "\n",
    "**Code:**\n",
    "```\n",
    "$max(S) = \\max\\limits_{i: x_i \\in \\{S\\}} x_i$\n",
    "$min(S) = \\min\\limits_{i: x_i \\in \\{S\\}} x_i$\n",
    "$\\frac{n!}{k!(n-k)!} = {n \\choose k}$\n",
    "```"
   ]
  },
  {
   "cell_type": "markdown",
   "metadata": {},
   "source": [
    "## （8）极限与积分\n",
    "\n",
    "极限： `\\lim\\limits_{x \\to a}` .\n",
    "\n",
    "> $\\lim\\limits_{x \\to 0^+} {1 \\over 0} = \\infty$\n",
    "\n",
    "积分（`integral`）： `\\int\\limits_{a}^{b}`。实数区间，`[a,b]`.\n",
    "\n",
    "$$\\int\\limits_a^b 2x \\, dx$$\n",
    "\n",
    "\n",
    "**Code:**\n",
    "```markdown\n",
    "$\\lim\\limits_{x \\to 0^+} {1 \\over 0} = \\inf$\n",
    "$\\int\\limits_a^b 2x \\, dx$\n",
    "```"
   ]
  },
  {
   "cell_type": "markdown",
   "metadata": {
    "collapsed": true
   },
   "source": [
    "# 3. The cell magics in IPython\n",
    "\n",
    ">`%lsmagic`\n",
    "\n",
    "> Ipython有一个命令系统，称之为 __`magic`__ ，能提供有效的迷你命令语言，功能比较强大。\n",
    "\n",
    "> __`Line magics,  cell magics`__"
   ]
  },
  {
   "cell_type": "code",
   "execution_count": 14,
   "metadata": {
    "collapsed": false,
    "scrolled": true
   },
   "outputs": [
    {
     "data": {
      "application/json": {
       "cell": {
        "!": "OSMagics",
        "HTML": "Other",
        "SVG": "Other",
        "bash": "Other",
        "capture": "ExecutionMagics",
        "cmd": "Other",
        "debug": "ExecutionMagics",
        "file": "Other",
        "html": "DisplayMagics",
        "javascript": "DisplayMagics",
        "js": "DisplayMagics",
        "latex": "DisplayMagics",
        "perl": "Other",
        "prun": "ExecutionMagics",
        "pypy": "Other",
        "python": "Other",
        "python2": "Other",
        "python3": "Other",
        "ruby": "Other",
        "script": "ScriptMagics",
        "sh": "Other",
        "svg": "DisplayMagics",
        "sx": "OSMagics",
        "system": "OSMagics",
        "time": "ExecutionMagics",
        "timeit": "ExecutionMagics",
        "writefile": "OSMagics"
       },
       "line": {
        "alias": "OSMagics",
        "alias_magic": "BasicMagics",
        "autocall": "AutoMagics",
        "automagic": "AutoMagics",
        "autosave": "KernelMagics",
        "bookmark": "OSMagics",
        "cd": "OSMagics",
        "clear": "KernelMagics",
        "cls": "KernelMagics",
        "colors": "BasicMagics",
        "config": "ConfigMagics",
        "connect_info": "KernelMagics",
        "copy": "Other",
        "ddir": "Other",
        "debug": "ExecutionMagics",
        "dhist": "OSMagics",
        "dirs": "OSMagics",
        "doctest_mode": "BasicMagics",
        "echo": "Other",
        "ed": "Other",
        "edit": "KernelMagics",
        "env": "OSMagics",
        "gui": "BasicMagics",
        "hist": "Other",
        "history": "HistoryMagics",
        "killbgscripts": "ScriptMagics",
        "ldir": "Other",
        "less": "KernelMagics",
        "load": "CodeMagics",
        "load_ext": "ExtensionMagics",
        "loadpy": "CodeMagics",
        "logoff": "LoggingMagics",
        "logon": "LoggingMagics",
        "logstart": "LoggingMagics",
        "logstate": "LoggingMagics",
        "logstop": "LoggingMagics",
        "ls": "Other",
        "lsmagic": "BasicMagics",
        "macro": "ExecutionMagics",
        "magic": "BasicMagics",
        "matplotlib": "PylabMagics",
        "mkdir": "Other",
        "more": "KernelMagics",
        "notebook": "BasicMagics",
        "page": "BasicMagics",
        "pastebin": "CodeMagics",
        "pdb": "ExecutionMagics",
        "pdef": "NamespaceMagics",
        "pdoc": "NamespaceMagics",
        "pfile": "NamespaceMagics",
        "pinfo": "NamespaceMagics",
        "pinfo2": "NamespaceMagics",
        "popd": "OSMagics",
        "pprint": "BasicMagics",
        "precision": "BasicMagics",
        "profile": "BasicMagics",
        "prun": "ExecutionMagics",
        "psearch": "NamespaceMagics",
        "psource": "NamespaceMagics",
        "pushd": "OSMagics",
        "pwd": "OSMagics",
        "pycat": "OSMagics",
        "pylab": "PylabMagics",
        "qtconsole": "KernelMagics",
        "quickref": "BasicMagics",
        "recall": "HistoryMagics",
        "rehashx": "OSMagics",
        "reload_ext": "ExtensionMagics",
        "ren": "Other",
        "rep": "Other",
        "rerun": "HistoryMagics",
        "reset": "NamespaceMagics",
        "reset_selective": "NamespaceMagics",
        "rmdir": "Other",
        "run": "ExecutionMagics",
        "save": "CodeMagics",
        "sc": "OSMagics",
        "set_env": "OSMagics",
        "store": "StoreMagics",
        "sx": "OSMagics",
        "system": "OSMagics",
        "tb": "ExecutionMagics",
        "time": "ExecutionMagics",
        "timeit": "ExecutionMagics",
        "unalias": "OSMagics",
        "unload_ext": "ExtensionMagics",
        "who": "NamespaceMagics",
        "who_ls": "NamespaceMagics",
        "whos": "NamespaceMagics",
        "xdel": "NamespaceMagics",
        "xmode": "BasicMagics"
       }
      },
      "text/plain": [
       "Available line magics:\n",
       "%alias  %alias_magic  %autocall  %automagic  %autosave  %bookmark  %cd  %clear  %cls  %colors  %config  %connect_info  %copy  %ddir  %debug  %dhist  %dirs  %doctest_mode  %echo  %ed  %edit  %env  %gui  %hist  %history  %killbgscripts  %ldir  %less  %load  %load_ext  %loadpy  %logoff  %logon  %logstart  %logstate  %logstop  %ls  %lsmagic  %macro  %magic  %matplotlib  %mkdir  %more  %notebook  %page  %pastebin  %pdb  %pdef  %pdoc  %pfile  %pinfo  %pinfo2  %popd  %pprint  %precision  %profile  %prun  %psearch  %psource  %pushd  %pwd  %pycat  %pylab  %qtconsole  %quickref  %recall  %rehashx  %reload_ext  %ren  %rep  %rerun  %reset  %reset_selective  %rmdir  %run  %save  %sc  %set_env  %store  %sx  %system  %tb  %time  %timeit  %unalias  %unload_ext  %who  %who_ls  %whos  %xdel  %xmode\n",
       "\n",
       "Available cell magics:\n",
       "%%!  %%HTML  %%SVG  %%bash  %%capture  %%cmd  %%debug  %%file  %%html  %%javascript  %%js  %%latex  %%perl  %%prun  %%pypy  %%python  %%python2  %%python3  %%ruby  %%script  %%sh  %%svg  %%sx  %%system  %%time  %%timeit  %%writefile\n",
       "\n",
       "Automagic is ON, % prefix IS NOT needed for line magics."
      ]
     },
     "execution_count": 14,
     "metadata": {},
     "output_type": "execute_result"
    }
   ],
   "source": [
    "%lsmagic"
   ]
  },
  {
   "cell_type": "code",
   "execution_count": 7,
   "metadata": {
    "collapsed": false
   },
   "outputs": [
    {
     "name": "stderr",
     "output_type": "stream",
     "text": [
      "UsageError: Missing module name.\n"
     ]
    }
   ],
   "source": [
    "%load_ext"
   ]
  },
  {
   "cell_type": "markdown",
   "metadata": {},
   "source": [
    " __`Line magics`__"
   ]
  },
  {
   "cell_type": "code",
   "execution_count": null,
   "metadata": {
    "collapsed": true
   },
   "outputs": [],
   "source": [
    "%lsmagic"
   ]
  },
  {
   "cell_type": "code",
   "execution_count": 7,
   "metadata": {
    "collapsed": true
   },
   "outputs": [],
   "source": [
    "%matplotlib inline\n",
    "import numpy as np\n",
    "import matplotlib.pyplot as plt"
   ]
  },
  {
   "cell_type": "code",
   "execution_count": 8,
   "metadata": {
    "collapsed": false
   },
   "outputs": [
    {
     "name": "stdout",
     "output_type": "stream",
     "text": [
      "The slowest run took 8.21 times longer than the fastest. This could mean that an intermediate result is being cached.\n",
      "100 loops, best of 3: 8.4 ms per loop\n"
     ]
    }
   ],
   "source": [
    "%timeit np.linalg.eigvals(np.random.rand(100,100))"
   ]
  },
  {
   "cell_type": "code",
   "execution_count": null,
   "metadata": {
    "collapsed": false,
    "scrolled": true
   },
   "outputs": [],
   "source": [
    "%run foo"
   ]
  },
  {
   "cell_type": "markdown",
   "metadata": {},
   "source": [
    " __`cell magics`__"
   ]
  },
  {
   "cell_type": "code",
   "execution_count": null,
   "metadata": {
    "collapsed": false
   },
   "outputs": [],
   "source": [
    "%%writefile foo.py\n",
    "print('Hello world')"
   ]
  },
  {
   "cell_type": "markdown",
   "metadata": {},
   "source": [
    "## 其他参见官方文档\n",
    "- http://ipython.readthedocs.io/en/stable/interactive/magics.html\n",
    "- `%quickref`"
   ]
  },
  {
   "cell_type": "code",
   "execution_count": null,
   "metadata": {
    "collapsed": true
   },
   "outputs": [],
   "source": []
  }
 ],
 "metadata": {
  "anaconda-cloud": {},
  "kernelspec": {
   "display_name": "Python [conda root]",
   "language": "python",
   "name": "conda-root-py"
  },
  "language_info": {
   "codemirror_mode": {
    "name": "ipython",
    "version": 2
   },
   "file_extension": ".py",
   "mimetype": "text/x-python",
   "name": "python",
   "nbconvert_exporter": "python",
   "pygments_lexer": "ipython2",
   "version": "2.7.12"
  }
 },
 "nbformat": 4,
 "nbformat_minor": 1
}
