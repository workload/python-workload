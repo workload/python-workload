{
 "cells": [
  {
   "cell_type": "markdown",
   "metadata": {},
   "source": [
    "# L05-Jupyter Notebook:Markdown\n",
    "Markdown是一种可以使用普通文本编辑器编写的标记语言，通过简单的标记语法，它可以使普通文本内容具有一定的格式。\n",
    "\n",
    "\n",
    ">用途：Markdown的语法简洁明了、学习容易，而且功能比纯文本更强，因此有很多人用它写博客。世界上最流行的博客平台WordPress和大型CMS如Joomla、Drupal都能很好的支持Markdown。完全采用Markdown编辑器的博客平台有Ghost和Typecho。\n",
    "\n",
    ">用于编写说明文档，并且以“README.MD”的文件名保存在软件的目录下面。\n",
    "\n",
    ">除此之外，现在由于我们有了RStudio这样的神级编辑器，我们还可以快速将Markdown转化为演讲PPT、Word产品文档、LaTex论文甚至是用非常少量的代码完成最小可用原型。在数据科学领域，Markdown已经被确立为科学研究规范，极大地推进了动态可重复性研究的历史进程。\n",
    "\n",
    "\n",
    "介绍Markdown语法：<br>\n",
    "http://blog.leanote.com/post/freewalk/Markdown-%E8%AF%AD%E6%B3%95%E6%89%8B%E5%86%8C"
   ]
  },
  {
   "cell_type": "markdown",
   "metadata": {},
   "source": [
    "## （1）标题字号\n",
    "##Headings 支持6种字号"
   ]
  },
  {
   "cell_type": "markdown",
   "metadata": {},
   "source": [
    "# H1\n",
    "## H2\n",
    "### H3\n",
    "#### H4\n",
    "##### H5\n",
    "###### H6"
   ]
  },
  {
   "cell_type": "markdown",
   "metadata": {},
   "source": [
    "## （2）字体样式\n",
    "\n",
    "### 加粗\n",
    "\n",
    "**Bold Font** or __Bold Font__\n",
    "\n",
    "```markdown\n",
    "**Bold Font** or __Bold Font__\n",
    "```\n",
    "\n",
    "\n",
    "### 倾斜\n",
    "\n",
    "*Italic* or _Italic Font_\n",
    "\n",
    "```markdown\n",
    "*Italic* or _Italic Font_\n",
    "```\n",
    "\n",
    "\n",
    "### 删除\n",
    "\n",
    "~~Scratched Text~~\n",
    "```markdown\n",
    "~~Scratched Text~~\n",
    "```\n",
    "\n",
    "\n",
    "Markdown doesn't support underline. but you can do that using HTML <u>Text</u>\n",
    "\n",
    "```markdown\n",
    "Markdown doesn't support underline. but you can do that using HTML <u>Text</u>\n",
    "```"
   ]
  },
  {
   "cell_type": "markdown",
   "metadata": {},
   "source": [
    "## （3）项目符合于项目编号"
   ]
  },
  {
   "cell_type": "markdown",
   "metadata": {},
   "source": [
    "- ** 章节1\t学前准备 **\n",
    " - 课时1\t效率利器：一个演示\n",
    " - 课时2\t课程介绍：这门课你将学到什么？\n",
    " - 课时3\t环境搭配：三分钟搭建定量城市研究环境\n",
    " - 课时4\tJupyter Notebook：一个强大的记录本\n",
    "- ** 章节2\tpython基础 **\n",
    " - 课时5\t内容提要：Python基础学习框架\n",
    " - 课时6\t基本规则：Python代码编写规则\n",
    " - 课时7\t组成框架：Python代码都由那些内容组成？"
   ]
  },
  {
   "cell_type": "markdown",
   "metadata": {},
   "source": [
    "1. ** 章节1\t学前准备 **\n",
    " 1. 课时1\t效率利器：一个演示\n",
    " 2. 课时2\t课程介绍：这门课你将学到什么？\n",
    " 3. 课时3\t环境搭配：三分钟搭建定量城市研究环境\n",
    " 4. 课时4\tJupyter Notebook：一个强大的记录本\n",
    "2. ** 章节2\tpython基础 **\n",
    " 1. 课时5\t内容提要：Python基础学习框架\n",
    " 2. 课时6\t基本规则：Python代码编写规则\n",
    " 3. 课时7\t组成框架：Python代码都由那些内容组成？"
   ]
  },
  {
   "cell_type": "markdown",
   "metadata": {},
   "source": [
    "**Code:**\n",
    "```markdown\n",
    "- item\n",
    "- item\n",
    " - subitem\n",
    " - subitem\n",
    "- item\n",
    "\n",
    "\n",
    "1. item\n",
    "2. item\n",
    " 1. sub item\n",
    " 2. sub item\n",
    "3. item\n",
    "```"
   ]
  },
  {
   "cell_type": "markdown",
   "metadata": {},
   "source": [
    "## （4）网页链接\n",
    "\n",
    "http://www.qq.com/\n",
    "\n",
    "[腾讯](http://www.qq.com/)\n",
    "\n",
    "\n",
    "**Code:**\n",
    "```\n",
    "http://www.qq.com/\n",
    "\n",
    "[腾讯](http://www.qq.com/)\n",
    "```"
   ]
  },
  {
   "cell_type": "markdown",
   "metadata": {},
   "source": [
    "## （5）图片\n",
    "\n",
    "![](http://www.planning.org.cn/2016anpc/images/tici_1.jpg \"中国城市规划学会\")\n",
    "\n",
    "**Code:**\n",
    "```markdown\n",
    "![](http://www.planning.org.cn/2016anpc/images/tici_1.jpg \"中国城市规划学会\")\n",
    "```"
   ]
  },
  {
   "cell_type": "markdown",
   "metadata": {},
   "source": [
    "## （6）引用\n",
    "\n",
    "> ## 南宁市城市总体规划\n",
    "\n",
    "> 所在地区：广西 南宁市<br>\n",
    "> 编制单位：福州规划院、清华同衡<br>\n",
    "> 编制时间：2011-10<br>\n",
    "> 委托单位：南宁市规划管理局<br>\n",
    "> 获奖信息：2013年度全国优秀城乡规划设计奖（城市规划类）三等奖<br>\n",
    "\n",
    "**Code:**\n",
    "```markdown\n",
    "> ##南宁市城市总体规划\n",
    "\n",
    "> 所在地区：广西 南宁市<br>\n",
    "> 编制单位：福州规划院、清华同衡<br>\n",
    "> 编制时间：2011-10<br>\n",
    "> 委托单位：南宁市规划管理局<br>\n",
    "> 获奖信息：2013年度全国优秀城乡规划设计奖（城市规划类）三等奖<br>\n",
    "```"
   ]
  },
  {
   "cell_type": "markdown",
   "metadata": {},
   "source": [
    "## （7）水平线\n",
    "\n",
    "---\n",
    "\n",
    "**Code:**\n",
    "```markdown\n",
    "---\n",
    "```"
   ]
  },
  {
   "cell_type": "markdown",
   "metadata": {},
   "source": [
    "## （8）表格\n",
    "\n",
    "| 城市   | 2014年常住人口（万人） | 2014年城区面积（平方千米） |\n",
    "| -----------|:-------------:|:-----:|\n",
    "| 北京          | 2000 |  1600 |\n",
    "| 上海      | 2000      |    1002 |\n",
    "| 成都      | 200      |     100 |\n",
    "| 南京      | 200     |     2000 |\n",
    "\n",
    "**Code:**\n",
    "\n",
    "```\n",
    "| 城市   | 2014年常住人口（万人） | 2014年城区面积（平方千米） |\n",
    "| -----------|:-------------:|:-----:|\n",
    "| 北京          | 2000 |  1600 |\n",
    "| 上海      | 2000      |    1002 |\n",
    "| 成都      | 200      |     100 |\n",
    "| 南京      | 200     |     2000 |\n",
    "\n",
    "```\n",
    "\n",
    "http://www.tablesgenerator.com/markdown_tables#"
   ]
  },
  {
   "cell_type": "markdown",
   "metadata": {},
   "source": [
    "## （9）HTML\n",
    "\n",
    "\n",
    "\n",
    "<b>《江苏省城镇体系规划（2001－2020）》</b>获得了<b><span style=\"color:red;\">2001年全国优秀城乡规划设计一等奖、第十届全国优秀工程设计银奖</span></b>。规划提出的城镇发展方针，城镇空间布局等，成为过去十年全省城镇化总体方针政策和省域空间基本政策。规划实施以来，<u>有效促进了城镇布局优化和资源集约利用，指导了江苏都市圈规划编制和全省城镇总体规划修编，在重大区域设施布局、解决“市县同城”问题、全省乡镇布局调整等方面也发挥了积极促进作用</u>。\n",
    "\n",
    "**Code:**\n",
    "\n",
    "```\n",
    "<b>《江苏省城镇体系规划（2001－2020）》</b>获得了<b><span style=\"color:red;\">2001年全国优秀城乡规划设计一等奖、第十届全国优秀工程设计银奖</span></b>。规划提出的城镇发展方针，城镇空间布局等，成为过去十年全省城镇化总体方针政策和省域空间基本政策。规划实施以来，<u>有效促进了城镇布局优化和资源集约利用，指导了江苏都市圈规划编制和全省城镇总体规划修编，在重大区域设施布局、解决“市县同城”问题、全省乡镇布局调整等方面也发挥了积极促进作用</u>。\n",
    "```\n",
    "\n"
   ]
  },
  {
   "cell_type": "markdown",
   "metadata": {},
   "source": [
    "## （10）编写代码\n",
    "\n",
    "你需要导入  `numpy`  模块，使用代码 `import numpy as np`\n",
    "\n",
    "```\n",
    "你需要导入  `numpy`  模块，使用代码 `import numpy as np`\n",
    "```\n",
    "\n",
    "---\n",
    "\n",
    "代码如下:\n",
    "```python\n",
    "x = 5\n",
    "print \"%.2f\" % x\n",
    "```\n",
    "**Code:**\n",
    "\n",
    "代码如下:\n",
    "```python\n",
    "x = 5\n",
    "print \"%.2f\" % x\n",
    "```\n",
    "\n"
   ]
  }
 ],
 "metadata": {
  "anaconda-cloud": {},
  "kernelspec": {
   "display_name": "Python [Root]",
   "language": "python",
   "name": "Python [Root]"
  },
  "language_info": {
   "codemirror_mode": {
    "name": "ipython",
    "version": 2
   },
   "file_extension": ".py",
   "mimetype": "text/x-python",
   "name": "python",
   "nbconvert_exporter": "python",
   "pygments_lexer": "ipython2",
   "version": "2.7.12"
  }
 },
 "nbformat": 4,
 "nbformat_minor": 1
}
